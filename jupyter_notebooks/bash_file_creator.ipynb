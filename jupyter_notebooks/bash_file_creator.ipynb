{
 "cells": [
  {
   "cell_type": "code",
   "execution_count": null,
   "metadata": {},
   "outputs": [],
   "source": [
    "import click \n",
    "from pathlib import Path\n",
    "\n",
    "thispath = Path.cwd().resolve()\n"
   ]
  },
  {
   "cell_type": "code",
   "execution_count": null,
   "metadata": {},
   "outputs": [],
   "source": [
    "def transformix_batch_file(name_experiment):\n",
    "    \"\"\"\n",
    "    Function to create a .txt file ready to be run as elastix file in the console to perform the registration of\n",
    "    a set of landmarks using the transformation used to perform the registration using transformix command.\n",
    "    Parameters\n",
    "    ----------\n",
    "    name_experiment: Name of the experiment to save transformix results and get results coming from elastix\n",
    "    registration.\n",
    "    parameter: Name of the folder with the parameters in elastix/parameters\n",
    "    dataset_option: set to train if you use any dataset of train images (train, train_Normalized_CLAHE, etc), set to\n",
    "    test if you use any test dataset.\n",
    "\n",
    "    Returns\n",
    "    -------\n",
    "    A .txt file in elastix/bat_files with name transformix_name_experiment to run in the console the transformix\n",
    "    transformation of a set of landmarks. The new landmarks results are saved in the path\n",
    "    elastix/Outputs_experiments_transformix/name_experiment\n",
    "    \"\"\"\n",
    "    Path(thispath.parent / f'bat_files').mkdir(exist_ok=True, parents=True)\n",
    "\n",
    "    datadir = Path(\"/mnt/nas4/datasets/ToReadme/ExaMode_Dataset1/AOEC\")\n",
    "\n",
    "    svs_files = [i for i in datadir.rglob(\"*.svs\") if \"LungAOEC\" in str(i)]\n",
    "\n",
    "    with open(\n",
    "            Path(thispath / Path(\n",
    "                f\"bat_files/bash_{name_experiment}.sh\")), 'w') as f:\n",
    "        f.write(\n",
    "            f\"#!/bin/bash\"\n",
    "        )\n",
    "        for file in svs_files:\n",
    "            bash_line = f'python pyhist.py --content-threshold 0.05 --patch-size 64 --output-downsample 16 --info \"verbose\" --save-mask {file}'\n",
    "\n",
    "            f.write(\n",
    "                f\"ECHO Patient: {file} \\n\\n\")\n",
    "            f.write(bash_line)\n",
    "        f.write(f\"ECHO End Preprocessing for: {name_experiment} \\n\")\n",
    "        f.write(\"PAUSE\")\n",
    "\n",
    "\n",
    "@click.command()\n",
    "@click.option(\n",
    "    \"--name_experiment\",\n",
    "    default=\"Example\",\n",
    "    help=\n",
    "    \"Chose to create an elastix or transformix system file. If elastix the following parameters are needed:\"\n",
    "    \"name_experiment, parameter, dataset_option and optionally mask and mask_name\"\n",
    "    \"If transformix the following parameters are meeded:\"\n",
    "    \"name_experiment, parameters, dataset_option\",\n",
    ")\n",
    "def main(batch_type, name_experiment, parameter, dataset_option, mask,\n",
    "         mask_name):\n",
    "    if batch_type == 'elastix':\n",
    "        elastix_batch_file(name_experiment, parameter, dataset_option, mask,\n",
    "                           mask_name)\n",
    "\n",
    "    elif batch_type == 'transformix':\n",
    "        transformix_batch_file(name_experiment, parameter, dataset_option)\n",
    "\n",
    "\n",
    "if __name__ == \"__main__\":\n",
    "    main()"
   ]
  }
 ],
 "metadata": {
  "kernelspec": {
   "display_name": "Python 3",
   "language": "python",
   "name": "python3"
  },
  "language_info": {
   "name": "python",
   "version": "3.8.10"
  },
  "orig_nbformat": 4,
  "vscode": {
   "interpreter": {
    "hash": "916dbcbb3f70747c44a77c7bcd40155683ae19c65e1c03b4aa3499c5328201f1"
   }
  }
 },
 "nbformat": 4,
 "nbformat_minor": 2
}

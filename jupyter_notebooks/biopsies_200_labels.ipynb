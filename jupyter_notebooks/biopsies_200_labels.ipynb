{
 "cells": [
  {
   "cell_type": "code",
   "execution_count": 1,
   "metadata": {},
   "outputs": [
    {
     "name": "stdout",
     "output_type": "stream",
     "text": [
      "326\n",
      "106\n",
      "10\n",
      "58\n",
      "30\n",
      "8\n"
     ]
    }
   ],
   "source": [
    "from pathlib import Path\n",
    "import pandas as pd\n",
    "import numpy as np\n",
    "from natsort import natsorted\n",
    "\n",
    "thispath = Path.cwd().resolve()\n",
    "\n",
    "datadir = Path(thispath.parent / \"data\")\n",
    "reportsdir = Path(datadir / \"csv_folder\" / \"reports\")\n",
    "\n",
    "reports = natsorted([i for i in reportsdir.rglob(\"*.xls\") if \"lista\" in str(i)])\n",
    "wsi_biopsia = {}\n",
    "for report in reports:\n",
    "    excel = pd.read_excel(report, index_col=0)\n",
    "    for index, row in excel.iterrows():\n",
    "        if \"biop\" in row[\"MATERIALE\"].lower():\n",
    "            wsi_biopsia[index] = row[\"MATERIALE\"].lower()\n",
    "print(len(wsi_biopsia))\n",
    "labels = pd.read_csv(Path(datadir / \"labels.csv\"), index_col=0)\n",
    "wsi_biopsia_df = pd.DataFrame.from_dict(wsi_biopsia, orient=\"index\")\n",
    "\n",
    "labels_biopsia = labels.copy()\n",
    "labels_biopsia[\"Set\"] = labels.index.isin(wsi_biopsia_df.index)\n",
    "labels_biopsia = labels_biopsia.loc[labels_biopsia[\"Set\"]]\n",
    "labels_biopsia.drop(\"Set\", axis=1, inplace=True)\n",
    "print(len(labels_biopsia))\n",
    "\n",
    "scc = 0\n",
    "adeno = 0\n",
    "squam = 0\n",
    "normal = 0\n",
    "for index, row in labels_biopsia.iterrows():\n",
    "    if np.argmax(row.values) == 0:\n",
    "        scc += 1\n",
    "    elif np.argmax(row.values) == 1:\n",
    "        adeno += 1\n",
    "    elif np.argmax(row.values) == 2:\n",
    "        squam += 1\n",
    "    elif np.argmax(row.values) == 3:\n",
    "        normal += 1\n",
    "\n",
    "print(scc)\n",
    "print(adeno)\n",
    "print(squam)\n",
    "print(normal)"
   ]
  }
 ],
 "metadata": {
  "kernelspec": {
   "display_name": "hlung",
   "language": "python",
   "name": "python3"
  },
  "language_info": {
   "codemirror_mode": {
    "name": "ipython",
    "version": 3
   },
   "file_extension": ".py",
   "mimetype": "text/x-python",
   "name": "python",
   "nbconvert_exporter": "python",
   "pygments_lexer": "ipython3",
   "version": "3.9.16"
  },
  "orig_nbformat": 4
 },
 "nbformat": 4,
 "nbformat_minor": 2
}

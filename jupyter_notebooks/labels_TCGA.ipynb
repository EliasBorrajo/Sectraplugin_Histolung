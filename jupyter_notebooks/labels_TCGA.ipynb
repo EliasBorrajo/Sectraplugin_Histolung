{
 "cells": [
  {
   "cell_type": "code",
   "execution_count": 18,
   "metadata": {},
   "outputs": [
    {
     "name": "stdout",
     "output_type": "stream",
     "text": [
      "A\n"
     ]
    },
    {
     "name": "stderr",
     "output_type": "stream",
     "text": [
      "100%|██████████| 100/100 [00:00<00:00, 294130.72it/s]\n"
     ]
    }
   ],
   "source": [
    "from pathlib import Path\n",
    "import pandas as pd\n",
    "from tqdm import tqdm\n",
    "\n",
    "\n",
    "datadir = Path(\"/mnt/nas6/data/lung_tcga/data\")\n",
    "print(\"A\")\n",
    "svs_files = [i for i in datadir.rglob(\"*.tif\")]\n",
    "labels = {}\n",
    "for file in tqdm(svs_files):\n",
    "    cancer_type = file.parent.stem\n",
    "    if cancer_type == \"tcga_lusc\":\n",
    "        label = [0, 0, 1, 0]\n",
    "    elif cancer_type == \"tcga_luad\":\n",
    "        label = [0, 1, 0, 0]\n",
    "    patient = file.stem\n",
    "    labels[patient] = label\n",
    "\n",
    "columns = [\"cancer_scc\", \"cancer_nscc_adeno\", \"cancer_nscc_squamous\", \"no_cancer\"]\n",
    "labels_tcga = pd.DataFrame.from_dict(labels, orient='index', columns=columns)\n",
    "labels_tcga.to_csv(Path(datadir.parent / \"labels_tcga_all.csv\"))"
   ]
  },
  {
   "cell_type": "code",
   "execution_count": 1,
   "metadata": {},
   "outputs": [
    {
     "name": "stdout",
     "output_type": "stream",
     "text": [
      "A\n"
     ]
    },
    {
     "name": "stderr",
     "output_type": "stream",
     "text": [
      "100%|██████████| 2112/2112 [00:00<00:00, 206908.42it/s]\n"
     ]
    }
   ],
   "source": [
    "from pathlib import Path\n",
    "import pandas as pd\n",
    "from tqdm import tqdm\n",
    "\n",
    "\n",
    "datadir = Path(\"/mnt/nas6/data/cptac\")\n",
    "svs_files = [i for i in datadir.rglob(\"*.svs\")]\n",
    "labels = {}\n",
    "for file in tqdm(svs_files):\n",
    "    cancer_type = file.parent.stem\n",
    "    if cancer_type == \"cptac_lscc\":\n",
    "        label = [1, 0, 0, 0]\n",
    "    elif cancer_type == \"cptac_luad\":\n",
    "        label = [0, 1, 0, 0]\n",
    "    patient = file.stem\n",
    "    labels[patient] = label\n",
    "\n",
    "columns = [\"cancer_scc\", \"cancer_nscc_adeno\", \"cancer_nscc_squamous\", \"no_cancer\"]\n",
    "labels_tcga = pd.DataFrame.from_dict(labels, orient='index', columns=columns)\n",
    "labels_tcga.to_csv(Path(datadir / \"labels_cptac.csv\"))"
   ]
  }
 ],
 "metadata": {
  "kernelspec": {
   "display_name": "hlung",
   "language": "python",
   "name": "python3"
  },
  "language_info": {
   "codemirror_mode": {
    "name": "ipython",
    "version": 3
   },
   "file_extension": ".py",
   "mimetype": "text/x-python",
   "name": "python",
   "nbconvert_exporter": "python",
   "pygments_lexer": "ipython3",
   "version": "3.9.16"
  },
  "orig_nbformat": 4
 },
 "nbformat": 4,
 "nbformat_minor": 2
}

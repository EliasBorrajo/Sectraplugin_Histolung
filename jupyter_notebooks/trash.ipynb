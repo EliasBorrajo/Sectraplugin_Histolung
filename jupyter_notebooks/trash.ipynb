{
 "cells": [
  {
   "cell_type": "code",
   "execution_count": 7,
   "metadata": {},
   "outputs": [
    {
     "name": "stdout",
     "output_type": "stream",
     "text": [
      "['000029269500258388.svs' '000029389200263815.svs'\n",
      " '000029488200270022.svs' ... '000036434500773566.svs'\n",
      " '000036434500773567.svs' '000036434900773056.svs']\n"
     ]
    }
   ],
   "source": [
    "from pathlib import Path\n",
    "import numpy as np\n",
    "import pandas as pd\n",
    "from natsort import natsorted\n",
    "\n",
    "thispath = Path.cwd().resolve()\n",
    "\n",
    "datadir = Path(\"/mnt/nas4/datasets/ToReadme/ExaMode_Dataset1/AOEC\")\n",
    "maskdir = Path(thispath.parent / \"data\" / \"Mask_PyHIST_v2\")\n",
    "\n",
    "he_csv = np.squeeze(pd.read_csv(Path(maskdir.parent / \"lung_data\" / \"he_images.csv\")).to_numpy())\n",
    "print(he_csv)\n",
    "\n",
    "svs_files = natsorted([i for i in datadir.rglob(\"*.svs\") if \"LungAOEC\" in str(i)], key=str)\n",
    "\n",
    "he_svs_files = []\n",
    "for name in he_csv:\n",
    "    for file in svs_files:\n",
    "        if file.stem in name:\n",
    "            he_svs_files.append(file)\n"
   ]
  },
  {
   "cell_type": "code",
   "execution_count": 11,
   "metadata": {},
   "outputs": [
    {
     "name": "stdout",
     "output_type": "stream",
     "text": [
      "597\n",
      "643\n",
      "80\n"
     ]
    }
   ],
   "source": [
    "list1 = []\n",
    "list2 = []\n",
    "list3 = []\n",
    "for file in he_svs_files:\n",
    "    if \"LungAOEC_List1\" in str(file):\n",
    "        list1.append(file)\n",
    "    elif \"LungAOEC_List2\" in str(file):\n",
    "        list2.append(file)\n",
    "    elif \"LungAOEC_List3\" in str(file):\n",
    "        list3.append(file)\n",
    "\n",
    "print(len(list1))\n",
    "print(len(list2))\n",
    "print(len(list3))"
   ]
  }
 ],
 "metadata": {
  "kernelspec": {
   "display_name": "lung_env",
   "language": "python",
   "name": "python3"
  },
  "language_info": {
   "codemirror_mode": {
    "name": "ipython",
    "version": 3
   },
   "file_extension": ".py",
   "mimetype": "text/x-python",
   "name": "python",
   "nbconvert_exporter": "python",
   "pygments_lexer": "ipython3",
   "version": "3.8.16"
  },
  "orig_nbformat": 4,
  "vscode": {
   "interpreter": {
    "hash": "6158f16043df0ed03e0f0bf66374ee44ce8098f515735805958080d32960790b"
   }
  }
 },
 "nbformat": 4,
 "nbformat_minor": 2
}

{
 "cells": [
  {
   "cell_type": "code",
   "execution_count": 15,
   "metadata": {},
   "outputs": [
    {
     "name": "stdout",
     "output_type": "stream",
     "text": [
      "<U18\n",
      "/home/lluis/histo_lung/data/Mask_PyHIST/LungAOEC_List2/000031068400351370/segmented_000031068400351370.ppm\n",
      "000029269500258388.svs\n",
      "<U22\n",
      "000032373100417522\n",
      "000032373100417523\n",
      "000032524100428267\n",
      "000033377800475730\n",
      "000033377800482043\n",
      "000033985600532765\n"
     ]
    }
   ],
   "source": [
    "from pathlib import Path\n",
    "import pandas as pd\n",
    "import numpy as np\n",
    "\n",
    "thispath = Path.cwd().resolve()\n",
    "    \n",
    "maskdir = Path(thispath.parent / \"data\" / \"Mask_PyHIST\")\n",
    "\n",
    "colorful_masks = [i for i in maskdir.rglob(\"*.ppm\")]\n",
    "\n",
    "names_mask = []\n",
    "for mask in colorful_masks:\n",
    "    names_mask.append((mask.stem.split(\".\")[0]).split(\"_\")[1])\n",
    "\n",
    "names_mask = np.array(names_mask, dtype=str)\n",
    "print(names_mask.dtype)\n",
    "\n",
    "print(colorful_masks[0])\n",
    "\n",
    "labels = pd.read_csv(Path(thispath.parent / \"data\" / \"lung_data\" / \"he_images.csv\"))\n",
    "names = labels[\"file_name\"].values\n",
    "\n",
    "names = names.astype(str)\n",
    "print(names[0])\n",
    "print(names.dtype)\n",
    "\n",
    "# m = np.zeros_like(he_json, dtype=bool)\n",
    "# m[np.unique(he_json, return_index=True)[1]] = True\n",
    "\n",
    "# header = [\"This images are repeated in JSON files\"]\n",
    "# csv_writer(datadir, \"repeated_in_json.csv\", \"w\", header)\n",
    "for name in names:\n",
    "    name = name.split(\".\")[0]\n",
    "    if name not in names_mask:\n",
    "        print(name)\n"
   ]
  }
 ],
 "metadata": {
  "kernelspec": {
   "display_name": "lung_env",
   "language": "python",
   "name": "python3"
  },
  "language_info": {
   "codemirror_mode": {
    "name": "ipython",
    "version": 3
   },
   "file_extension": ".py",
   "mimetype": "text/x-python",
   "name": "python",
   "nbconvert_exporter": "python",
   "pygments_lexer": "ipython3",
   "version": "3.8.16"
  },
  "orig_nbformat": 4,
  "vscode": {
   "interpreter": {
    "hash": "6158f16043df0ed03e0f0bf66374ee44ce8098f515735805958080d32960790b"
   }
  }
 },
 "nbformat": 4,
 "nbformat_minor": 2
}

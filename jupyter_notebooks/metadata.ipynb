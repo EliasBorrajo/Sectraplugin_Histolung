{
 "cells": [
  {
   "cell_type": "code",
   "execution_count": 11,
   "metadata": {},
   "outputs": [
    {
     "name": "stdout",
     "output_type": "stream",
     "text": [
      "1323\n"
     ]
    },
    {
     "name": "stderr",
     "output_type": "stream",
     "text": [
      "Metadata .csv file in progress:   0%|          | 3/1323 [00:00<00:58, 22.65it/s]"
     ]
    },
    {
     "name": "stdout",
     "output_type": "stream",
     "text": [
      "000029269500258388\n",
      "000029389200263815\n",
      "000029488200270022\n",
      "000029488200270027\n",
      "000029488200270028\n",
      "000029488200270029\n"
     ]
    },
    {
     "name": "stderr",
     "output_type": "stream",
     "text": [
      "Metadata .csv file in progress:   1%|          | 9/1323 [00:00<00:58, 22.38it/s]"
     ]
    },
    {
     "name": "stdout",
     "output_type": "stream",
     "text": [
      "000029488200270030\n",
      "000029496800270407\n",
      "000029496800270408\n",
      "000029496800270409\n"
     ]
    },
    {
     "name": "stderr",
     "output_type": "stream",
     "text": [
      "Metadata .csv file in progress:   1%|          | 15/1323 [00:00<00:58, 22.35it/s]"
     ]
    },
    {
     "name": "stdout",
     "output_type": "stream",
     "text": [
      "000029496800270410\n",
      "000029496800270411\n",
      "000029496800270412\n",
      "000029496800270413\n",
      "000029496800270414\n",
      "000029496800270415\n"
     ]
    },
    {
     "name": "stderr",
     "output_type": "stream",
     "text": [
      "Metadata .csv file in progress:   2%|▏         | 21/1323 [00:00<00:55, 23.49it/s]"
     ]
    },
    {
     "name": "stdout",
     "output_type": "stream",
     "text": [
      "000029496800270416\n",
      "000029496800270417\n",
      "000029496800270418\n",
      "000029536100271824\n",
      "000029709100281888\n"
     ]
    },
    {
     "name": "stderr",
     "output_type": "stream",
     "text": [
      "Metadata .csv file in progress:   2%|▏         | 24/1323 [00:01<00:55, 23.46it/s]"
     ]
    },
    {
     "name": "stdout",
     "output_type": "stream",
     "text": [
      "000029832000288268\n",
      "000029919100292999\n",
      "000030069800299917\n",
      "000030075400300796\n"
     ]
    },
    {
     "name": "stderr",
     "output_type": "stream",
     "text": [
      "Metadata .csv file in progress:   2%|▏         | 30/1323 [00:01<00:56, 22.76it/s]"
     ]
    },
    {
     "name": "stdout",
     "output_type": "stream",
     "text": [
      "000030274100310453\n",
      "000030303300314205\n",
      "000030303300314206\n",
      "000030303300314207\n",
      "000030303300314209\n"
     ]
    },
    {
     "name": "stderr",
     "output_type": "stream",
     "text": [
      "Metadata .csv file in progress:   2%|▏         | 33/1323 [00:01<01:02, 20.67it/s]"
     ]
    },
    {
     "name": "stdout",
     "output_type": "stream",
     "text": [
      "000030303300314210\n",
      "000030397000318685\n",
      "000030397000318686\n",
      "000030397000318688\n"
     ]
    },
    {
     "name": "stderr",
     "output_type": "stream",
     "text": [
      "Metadata .csv file in progress:   3%|▎         | 36/1323 [00:01<01:01, 20.96it/s]"
     ]
    },
    {
     "name": "stdout",
     "output_type": "stream",
     "text": [
      "000030397000318689\n",
      "000030399700317760\n",
      "000030399700317761\n",
      "000030399700317762\n",
      "000030399700317763\n"
     ]
    },
    {
     "name": "stderr",
     "output_type": "stream",
     "text": [
      "Metadata .csv file in progress:   3%|▎         | 42/1323 [00:01<01:07, 18.96it/s]"
     ]
    },
    {
     "name": "stdout",
     "output_type": "stream",
     "text": [
      "000030412700319317\n",
      "000030412700319318\n",
      "000030412700319319\n",
      "000030412700319320\n",
      "000030412700319321\n"
     ]
    },
    {
     "name": "stderr",
     "output_type": "stream",
     "text": [
      "Metadata .csv file in progress:   4%|▎         | 48/1323 [00:02<01:04, 19.64it/s]"
     ]
    },
    {
     "name": "stdout",
     "output_type": "stream",
     "text": [
      "000030412700319322\n",
      "000030412700319323\n",
      "000030438500320102\n",
      "000030438500320103\n"
     ]
    },
    {
     "name": "stderr",
     "output_type": "stream",
     "text": [
      "Metadata .csv file in progress:   4%|▍         | 51/1323 [00:02<01:04, 19.71it/s]"
     ]
    },
    {
     "name": "stdout",
     "output_type": "stream",
     "text": [
      "000030438500320108\n",
      "000030438500320109\n",
      "000030438500320110\n",
      "000030438500320111\n",
      "000030438500320112\n"
     ]
    },
    {
     "name": "stderr",
     "output_type": "stream",
     "text": [
      "Metadata .csv file in progress:   4%|▍         | 57/1323 [00:02<01:00, 21.10it/s]"
     ]
    },
    {
     "name": "stdout",
     "output_type": "stream",
     "text": [
      "000030443200320380\n",
      "000030466600322332\n",
      "000030467500322347\n",
      "000030473100323233\n",
      "000030487200323363\n"
     ]
    },
    {
     "name": "stderr",
     "output_type": "stream",
     "text": [
      "Metadata .csv file in progress:   5%|▍         | 60/1323 [00:02<01:05, 19.41it/s]"
     ]
    },
    {
     "name": "stdout",
     "output_type": "stream",
     "text": [
      "000030487200323364\n",
      "000030487200323365\n",
      "000030487200323369\n",
      "000030487200323370\n"
     ]
    },
    {
     "name": "stderr",
     "output_type": "stream",
     "text": [
      "Metadata .csv file in progress:   5%|▍         | 65/1323 [00:03<01:06, 18.96it/s]"
     ]
    },
    {
     "name": "stdout",
     "output_type": "stream",
     "text": [
      "000030487200323371\n",
      "000030487200323372\n",
      "000030487200323373\n",
      "000030487200323374\n"
     ]
    },
    {
     "name": "stderr",
     "output_type": "stream",
     "text": [
      "Metadata .csv file in progress:   5%|▌         | 68/1323 [00:03<01:03, 19.80it/s]"
     ]
    },
    {
     "name": "stdout",
     "output_type": "stream",
     "text": [
      "000030490000322446\n",
      "000030490000322447\n",
      "000030490000322448\n"
     ]
    },
    {
     "name": "stderr",
     "output_type": "stream",
     "text": [
      "Metadata .csv file in progress:   5%|▌         | 72/1323 [00:03<01:01, 20.50it/s]"
     ]
    },
    {
     "name": "stdout",
     "output_type": "stream",
     "text": [
      "000030490100322318\n",
      "000030490100322319\n",
      "000030494900323684\n"
     ]
    },
    {
     "name": "stderr",
     "output_type": "stream",
     "text": [
      "\n"
     ]
    },
    {
     "ename": "KeyboardInterrupt",
     "evalue": "",
     "output_type": "error",
     "traceback": [
      "\u001b[0;31m---------------------------------------------------------------------------\u001b[0m",
      "\u001b[0;31mKeyboardInterrupt\u001b[0m                         Traceback (most recent call last)",
      "Cell \u001b[0;32mIn[11], line 52\u001b[0m\n\u001b[1;32m     48\u001b[0m metadata \u001b[39m=\u001b[39m pd\u001b[39m.\u001b[39mDataFrame(columns\u001b[39m=\u001b[39mheader)\n\u001b[1;32m     50\u001b[0m \u001b[39mfor\u001b[39;00m svs_file \u001b[39min\u001b[39;00m tqdm(he_svs_files, desc\u001b[39m=\u001b[39m\u001b[39m\"\u001b[39m\u001b[39mMetadata .csv file in progress\u001b[39m\u001b[39m\"\u001b[39m):\n\u001b[0;32m---> 52\u001b[0m     number_patches \u001b[39m=\u001b[39m \u001b[39mlen\u001b[39m(os\u001b[39m.\u001b[39;49mlistdir(Path(maskdir \u001b[39m/\u001b[39;49m svs_file\u001b[39m.\u001b[39;49mparent\u001b[39m.\u001b[39;49mstem \u001b[39m/\u001b[39;49m svs_file\u001b[39m.\u001b[39;49mstem \u001b[39m/\u001b[39;49m \u001b[39mf\u001b[39;49m\u001b[39m\"\u001b[39;49m\u001b[39m{\u001b[39;49;00msvs_file\u001b[39m.\u001b[39;49mstem\u001b[39m}\u001b[39;49;00m\u001b[39m_tiles\u001b[39;49m\u001b[39m\"\u001b[39;49m)))\n\u001b[1;32m     54\u001b[0m     slide \u001b[39m=\u001b[39m openslide\u001b[39m.\u001b[39mOpenSlide(\u001b[39mstr\u001b[39m(svs_file))\n\u001b[1;32m     56\u001b[0m     level_dimensions \u001b[39m=\u001b[39m slide\u001b[39m.\u001b[39mlevel_dimensions\n",
      "\u001b[0;31mKeyboardInterrupt\u001b[0m: "
     ]
    }
   ],
   "source": [
    "from pathlib import Path\n",
    "import os\n",
    "import pandas as pd\n",
    "import numpy as np\n",
    "import openslide\n",
    "from tqdm import tqdm\n",
    "import cv2 as cv\n",
    "from natsort import natsorted\n",
    "\n",
    "thispath = Path.cwd().resolve()\n",
    "\n",
    "\n",
    "def available_magnifications(mpp, level_downsamples):\n",
    "\tmpp = float(mpp)\n",
    "\tif (mpp<0.26):\n",
    "\t\tmagnification = 40\n",
    "\telse:\n",
    "\t\tmagnification = 20\n",
    "\t\n",
    "\tmags = []\n",
    "\tfor l in level_downsamples:\n",
    "\t\tmags.append(magnification/l)\n",
    "\t\n",
    "\treturn mags\n",
    "\n",
    "datadir = Path(\"/mnt/nas4/datasets/ToReadme/ExaMode_Dataset1/AOEC\")\n",
    "maskdir = Path(thispath.parent / \"data\" / \"Mask_PyHIST\")\n",
    "\n",
    "svs_files = natsorted([i for i in datadir.rglob(\"*.svs\") if \"LungAOEC\" in str(i)], key=str)\n",
    "\n",
    "labels = pd.read_csv(Path(thispath.parent / \"data\" / \"lung_data\" / \"he_images.csv\"))\n",
    "names = natsorted(labels[\"file_name\"].values, key=str)\n",
    "\n",
    "he_svs_files = []\n",
    "for name in names:\n",
    "    for file in svs_files:\n",
    "        if file.stem in name:\n",
    "            he_svs_files.append(file)\n",
    "\n",
    "# for mask, file in natsorted(zip(binary_masks, he_svs_files), key=str):\n",
    "#      print(file)\n",
    "#      print(mask)\n",
    "\n",
    "print(len(he_svs_files))\n",
    "\n",
    "header = [\"level_dimensions\", \"level_downsamples\", \"magnifications\", \"mpp\", \"number_patches_PyHist\"]\n",
    "\n",
    "metadata = pd.DataFrame(columns=header)\n",
    "\n",
    "for svs_file in tqdm(he_svs_files, desc=\"Metadata .csv file in progress\"):\n",
    "    \n",
    "    number_patches = len(os.listdir(Path(maskdir / svs_file.parent.stem / svs_file.stem / f\"{svs_file.stem}_tiles\")))\n",
    "\n",
    "    slide = openslide.OpenSlide(str(svs_file))\n",
    "\n",
    "    level_dimensions = slide.level_dimensions\n",
    "    mpp = slide.properties['openslide.mpp-x']\n",
    "    level_downsamples = slide.level_downsamples\n",
    "    mags = available_magnifications(mpp, level_downsamples)\n",
    "    metadata.loc[svs_file.stem] = [level_dimensions, level_downsamples, mags, mpp, number_patches]\n",
    "\n",
    "metadata.to_csv(f\"{maskdir.parent}/metadata_slides.csv\")\n"
   ]
  }
 ],
 "metadata": {
  "kernelspec": {
   "display_name": "lung_env",
   "language": "python",
   "name": "python3"
  },
  "language_info": {
   "codemirror_mode": {
    "name": "ipython",
    "version": 3
   },
   "file_extension": ".py",
   "mimetype": "text/x-python",
   "name": "python",
   "nbconvert_exporter": "python",
   "pygments_lexer": "ipython3",
   "version": "3.8.16"
  },
  "orig_nbformat": 4,
  "vscode": {
   "interpreter": {
    "hash": "6158f16043df0ed03e0f0bf66374ee44ce8098f515735805958080d32960790b"
   }
  }
 },
 "nbformat": 4,
 "nbformat_minor": 2
}

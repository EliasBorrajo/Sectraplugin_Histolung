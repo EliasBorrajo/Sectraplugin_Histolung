{
 "cells": [
  {
   "cell_type": "code",
   "execution_count": 6,
   "metadata": {},
   "outputs": [
    {
     "name": "stdout",
     "output_type": "stream",
     "text": [
      "1336\n",
      "Not repeated values found on the JSON files\n",
      "1336\n",
      "Labels from JSON files created in /home/lluis/histo_lung/data for HE ink\n"
     ]
    }
   ],
   "source": [
    "from pathlib import Path\n",
    "import json\n",
    "import pandas as pd\n",
    "import numpy as np\n",
    "# from utils import csv_writer\n",
    "\n",
    "thispath = Path.cwd().resolve()\n",
    "\n",
    "datadir = Path(thispath.parent / \"data\")\n",
    "\n",
    "\n",
    "# Opening JSON file\n",
    "json_files = [i for i in datadir.rglob(\"*.json\") if \"lung_data\" in str(i)]\n",
    "\n",
    "he_csv = np.squeeze(pd.read_csv(Path(datadir / \"lung_data\" / \"he_images.csv\")).to_numpy())\n",
    "\n",
    "clean_he_csv = [i[4:-4] for i in he_csv]\n",
    "print(len(clean_he_csv))\n",
    "\n",
    "he_json = []\n",
    "for file in json_files:\n",
    "    f = open(file)\n",
    "    data =json.load(f)\n",
    "    matches = [i for i in data.keys() if i.split(\"_\")[0] in clean_he_csv]\n",
    "    he_json.extend(matches)\n",
    "    f.close()\n",
    "\n",
    "if len(he_json) > len(clean_he_csv):\n",
    "    he_json = np.array(he_json)\n",
    "    m = np.zeros_like(he_json, dtype=bool)\n",
    "    m[np.unique(he_json, return_index=True)[1]] = True\n",
    "\n",
    "    header = [\"This images are repeated in JSON files\"]\n",
    "    # csv_writer(datadir, \"repeated_in_json.csv\", \"w\", header)\n",
    "    for a, num in zip(m, he_json):\n",
    "        if a == False:\n",
    "            a = a\n",
    "            # csv_writer(datadir, \"repeated_in_json.csv\", \"a\", [num])\n",
    "    print(f\"Found repeated values in JSON files. Saved in .csv file in {datadir}\")\n",
    "\n",
    "else:\n",
    "    print(\"Not repeated values found on the JSON files\")\n",
    "\n",
    "    # Eliminate images repeated between JSON files\n",
    "    he_json = np.unique(he_json)\n",
    "    print(len(he_json))\n",
    "\n",
    "    # Obtain levels from JSON files from images contained in the he_images.csv\n",
    "    labels_he = {}\n",
    "    for file in json_files:\n",
    "        f = open(file)\n",
    "        data =json.load(f)\n",
    "        for num, labels in zip(data, data.values()):\n",
    "            if num in he_json:\n",
    "                labels_he[num] = labels\n",
    "                    \n",
    "        f.close()\n",
    "\n",
    "\n",
    "    labels_df = pd.DataFrame.from_dict(labels_he, orient=\"index\") \n",
    "    # labels_df.to_csv(Path(datadir / \"labels.csv\"), header=True, index_label=\"image_num\")\n",
    "\n",
    "    print(f\"Labels from JSON files created in {datadir} for HE ink\")"
   ]
  }
 ],
 "metadata": {
  "kernelspec": {
   "display_name": "lung_env",
   "language": "python",
   "name": "python3"
  },
  "language_info": {
   "codemirror_mode": {
    "name": "ipython",
    "version": 3
   },
   "file_extension": ".py",
   "mimetype": "text/x-python",
   "name": "python",
   "nbconvert_exporter": "python",
   "pygments_lexer": "ipython3",
   "version": "3.8.16"
  },
  "orig_nbformat": 4,
  "vscode": {
   "interpreter": {
    "hash": "6158f16043df0ed03e0f0bf66374ee44ce8098f515735805958080d32960790b"
   }
  }
 },
 "nbformat": 4,
 "nbformat_minor": 2
}

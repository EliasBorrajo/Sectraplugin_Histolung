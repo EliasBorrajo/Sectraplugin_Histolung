{
 "cells": [
  {
   "cell_type": "code",
   "execution_count": 6,
   "metadata": {},
   "outputs": [
    {
     "name": "stdout",
     "output_type": "stream",
     "text": [
      "1336\n",
      "Not repeated values found on the JSON files\n",
      "1336\n",
      "Labels from JSON files created in /home/lluis/histo_lung/data for HE ink\n"
     ]
    }
   ],
   "source": [
    "from pathlib import Path\n",
    "import pandas as pd\n",
    "import numpy as np\n",
    "import openslide\n",
    "\n",
    "thispath = Path.cwd().resolve()\n",
    "\n",
    "\n",
    "def available_magnifications(mpp, level_downsamples):\n",
    "\tmpp = float(mpp)\n",
    "\tif (mpp<0.26):\n",
    "\t\tmagnification = 40\n",
    "\telse:\n",
    "\t\tmagnification = 20\n",
    "\t\n",
    "\tmags = []\n",
    "\tfor l in level_downsamples:\n",
    "\t\tmags.append(magnification/l)\n",
    "\t\n",
    "\treturn mags\n",
    "\n",
    "datadir = Path(\"/mnt/nas4/datasets/ToReadme/ExaMode_Dataset1/AOEC\")\n",
    "\n",
    "svs_files = [i for i in datadir.rglob(\"*.svs\") if \"LungAOEC\" in str(i)]\n",
    "\n",
    "labels = pd.read_csv(Path(thispath.parent.parent / \"data\" / \"lung_data\" / \"he_images.csv\"))\n",
    "names = labels[\"file_name\"].values\n",
    "\n",
    "he_svs_files = []\n",
    "for name in names:\n",
    "    for file in svs_files:\n",
    "        if file.stem in name:\n",
    "            he_svs_files.append(file)\n",
    "\n",
    "for svs_file in he_svs_files:\n",
    "    slide = openslide.OpenSlide(str(svs_file))\n",
    "    print(slide.level_dimensions)\n",
    "    mpp = slide.properties['openslide.mpp-x']\n",
    "    print(mpp)\n",
    "\n",
    "    level_downsamples = slide.level_downsamples\n",
    "    mags = available_magnifications(mpp, level_downsamples)\n",
    "    print(mags)\n"
   ]
  }
 ],
 "metadata": {
  "kernelspec": {
   "display_name": "lung_env",
   "language": "python",
   "name": "python3"
  },
  "language_info": {
   "codemirror_mode": {
    "name": "ipython",
    "version": 3
   },
   "file_extension": ".py",
   "mimetype": "text/x-python",
   "name": "python",
   "nbconvert_exporter": "python",
   "pygments_lexer": "ipython3",
   "version": "3.8.16"
  },
  "orig_nbformat": 4,
  "vscode": {
   "interpreter": {
    "hash": "6158f16043df0ed03e0f0bf66374ee44ce8098f515735805958080d32960790b"
   }
  }
 },
 "nbformat": 4,
 "nbformat_minor": 2
}

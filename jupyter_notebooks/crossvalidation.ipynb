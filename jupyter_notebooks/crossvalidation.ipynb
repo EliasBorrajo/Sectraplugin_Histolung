{
 "cells": [
  {
   "cell_type": "code",
   "execution_count": 3,
   "metadata": {},
   "outputs": [
    {
     "name": "stdout",
     "output_type": "stream",
     "text": [
      "TRAIN: [209 622 226 1 305] TEST: [23 70 25 1 34]\n",
      "TRAIN: [209 623 226 2 305] TEST: [23 69 25 0 34]\n",
      "TRAIN: [208 623 226 2 305] TEST: [24 69 25 0 34]\n",
      "TRAIN: [209 623 226 2 305] TEST: [23 69 25 0 34]\n",
      "TRAIN: [209 623 226 2 305] TEST: [23 69 25 0 34]\n",
      "TRAIN: [209 623 225 2 305] TEST: [23 69 26 0 34]\n",
      "TRAIN: [209 623 226 1 306] TEST: [23 69 25 1 33]\n",
      "TRAIN: [208 623 226 2 305] TEST: [24 69 25 0 34]\n",
      "TRAIN: [209 622 226 2 305] TEST: [23 70 25 0 34]\n",
      "TRAIN: [209 623 226 2 305] TEST: [23 69 25 0 34]\n"
     ]
    }
   ],
   "source": [
    "import pandas as pd\n",
    "import numpy as np\n",
    "import os\n",
    "from pathlib import Path\n",
    "from iterstrat.ml_stratifiers import MultilabelStratifiedKFold\n",
    "\n",
    "thispath = Path.cwd().resolve()\n",
    "\n",
    "\n",
    "k = 10\n",
    "\n",
    "datadir = Path(thispath.parent / \"data\")\n",
    "\n",
    "csv_filename_training_AOEC = Path(datadir / \"labels.csv\")\n",
    "\n",
    "#read data\n",
    "train_dataset_AOEC = pd.read_csv(csv_filename_training_AOEC, sep=',', header=0).values\n",
    "\n",
    "valid_fnames = train_dataset_AOEC[:,0]\n",
    "\n",
    "\n",
    "mskf = MultilabelStratifiedKFold(n_splits=k, shuffle=True, random_state=33)\n",
    "\n",
    "X = train_dataset_AOEC[:, 0]\n",
    "\n",
    "y = train_dataset_AOEC[:, 1:]\n",
    "\n",
    "dicts = {}\n",
    "for train_index, test_index in mskf.split(X, y):\n",
    "   X_train, X_test = X[train_index], X[test_index]\n",
    "   y_train, y_test = y[train_index], y[test_index]\n",
    "   print(\"TRAIN:\", np.sum(y_train, axis=0), \"TEST:\", np.sum(y_test, axis=0))\n",
    "\n"
   ]
  }
 ],
 "metadata": {
  "kernelspec": {
   "display_name": "lung_env",
   "language": "python",
   "name": "python3"
  },
  "language_info": {
   "codemirror_mode": {
    "name": "ipython",
    "version": 3
   },
   "file_extension": ".py",
   "mimetype": "text/x-python",
   "name": "python",
   "nbconvert_exporter": "python",
   "pygments_lexer": "ipython3",
   "version": "3.9.16"
  },
  "orig_nbformat": 4
 },
 "nbformat": 4,
 "nbformat_minor": 2
}

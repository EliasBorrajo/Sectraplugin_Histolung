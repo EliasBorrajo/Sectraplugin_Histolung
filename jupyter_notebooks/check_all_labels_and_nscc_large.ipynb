{
 "cells": [
  {
   "cell_type": "code",
   "execution_count": 18,
   "metadata": {},
   "outputs": [
    {
     "name": "stdout",
     "output_type": "stream",
     "text": [
      "<class 'pandas.core.frame.DataFrame'>\n",
      "Index: 2027 entries, 30274100310453_1 to 36434900773056_1\n",
      "Data columns (total 5 columns):\n",
      " #   Column                Non-Null Count  Dtype\n",
      "---  ------                --------------  -----\n",
      " 0   cancer_scc            2027 non-null   int64\n",
      " 1   cancer_nscc_adeno     2027 non-null   int64\n",
      " 2   cancer_nscc_squamous  2027 non-null   int64\n",
      " 3   cancer_nscc_large     2027 non-null   int64\n",
      " 4   no_cancer             2027 non-null   int64\n",
      "dtypes: int64(5)\n",
      "memory usage: 95.0+ KB\n",
      "Weak labels\n",
      "Total labels cancer_nscc_large: 2\n",
      "Total labels cancer_scc: 414\n",
      "Total labels cancer_nscc_adeno: 1064\n",
      "Total labels cancer_nscc_squamous: 375\n",
      "Total labels no_cancer: 483\n",
      "<class 'pandas.core.frame.DataFrame'>\n",
      "Index: 50 entries, 18/2381 to 19/10946\n",
      "Data columns (total 5 columns):\n",
      " #   Column                Non-Null Count  Dtype\n",
      "---  ------                --------------  -----\n",
      " 0   cancer_scc            50 non-null     int64\n",
      " 1   cancer_nscc_adeno     50 non-null     int64\n",
      " 2   cancer_nscc_squamous  50 non-null     int64\n",
      " 3   cancer_nscc_large     50 non-null     int64\n",
      " 4   no_cancer             50 non-null     int64\n",
      "dtypes: int64(5)\n",
      "memory usage: 2.3+ KB\n",
      "strong labels\n",
      "Total labels cancer_nscc_large: 0\n",
      "Total labels cancer_scc: 17\n",
      "Total labels cancer_nscc_adeno: 17\n",
      "Total labels cancer_nscc_squamous: 9\n",
      "Total labels no_cancer: 15\n"
     ]
    }
   ],
   "source": [
    "from pathlib import Path\n",
    "import json\n",
    "import pandas as pd\n",
    "import numpy as np\n",
    "\n",
    "thispath = Path.cwd().resolve()\n",
    "\n",
    "datadir = Path(thispath.parent / \"data\")\n",
    "\n",
    "json_files_weak = [i for i in datadir.rglob(\"*.json\") if \"lung_data\" in str(i) and \"SubjectsAnonymized\" in str(i)]\n",
    "\n",
    "labels_all_weak = {}\n",
    "for file in json_files_weak:\n",
    "    f = open(file)\n",
    "    data =json.load(f)\n",
    "    for num, labels in zip(data, data.values()):\n",
    "        labels_all_weak[num] = labels\n",
    "                \n",
    "    f.close()\n",
    "\n",
    "json_files_strong = [i for i in datadir.rglob(\"*.json\") if \"lung_data\" in str(i) and \"0thDS\" in str(i)]\n",
    "\n",
    "labels_all_strong = {}\n",
    "for file in json_files_strong:\n",
    "    f = open(file)\n",
    "    data =json.load(f)\n",
    "    for num, labels in zip(data, data.values()):\n",
    "        labels_all_strong[num] = labels\n",
    "                \n",
    "    f.close()\n",
    "\n",
    "labels_weak_df = pd.DataFrame.from_dict(labels_all_weak, orient=\"index\")\n",
    "labels_weak_df.info()\n",
    "count_cancer_nscc_large_weak = (labels_weak_df[\"cancer_nscc_large\"]==1).sum()\n",
    "count_cancer_scc_weak = (labels_weak_df[\"cancer_scc\"]==1).sum()\n",
    "count_cancer_nscc_adeno_weak = (labels_weak_df[\"cancer_nscc_adeno\"]==1).sum()\n",
    "count_cancer_nscc_squamous_weak = (labels_weak_df[\"cancer_nscc_squamous\"]==1).sum()\n",
    "count_no_cancer_weak = (labels_weak_df[\"no_cancer\"]==1).sum()\n",
    "print(\"Weak labels\")\n",
    "print(f\"Total labels cancer_nscc_large: {count_cancer_nscc_large_weak}\")\n",
    "print(f\"Total labels cancer_scc: {count_cancer_scc_weak}\")\n",
    "print(f\"Total labels cancer_nscc_adeno: {count_cancer_nscc_adeno_weak}\")\n",
    "print(f\"Total labels cancer_nscc_squamous: {count_cancer_nscc_squamous_weak}\")\n",
    "print(f\"Total labels no_cancer: {count_no_cancer_weak}\")\n",
    "\n",
    "labels_strong_df = pd.DataFrame.from_dict(labels_all_strong, orient=\"index\")\n",
    "labels_strong_df.info()\n",
    "count_cancer_nscc_large_strong = (labels_strong_df[\"cancer_nscc_large\"]==1).sum()\n",
    "count_cancer_scc_strong = (labels_strong_df[\"cancer_scc\"]==1).sum()\n",
    "count_cancer_nscc_adeno_strong = (labels_strong_df[\"cancer_nscc_adeno\"]==1).sum()\n",
    "count_cancer_nscc_squamous_strong = (labels_strong_df[\"cancer_nscc_squamous\"]==1).sum()\n",
    "count_no_cancer_strong = (labels_strong_df[\"no_cancer\"]==1).sum()\n",
    "print(\"strong labels\")\n",
    "print(f\"Total labels cancer_nscc_large: {count_cancer_nscc_large_strong}\")\n",
    "print(f\"Total labels cancer_scc: {count_cancer_scc_strong}\")\n",
    "print(f\"Total labels cancer_nscc_adeno: {count_cancer_nscc_adeno_strong}\")\n",
    "print(f\"Total labels cancer_nscc_squamous: {count_cancer_nscc_squamous_strong}\")\n",
    "print(f\"Total labels no_cancer: {count_no_cancer_strong}\")"
   ]
  },
  {
   "cell_type": "code",
   "execution_count": 25,
   "metadata": {},
   "outputs": [
    {
     "name": "stdout",
     "output_type": "stream",
     "text": [
      "['32176700411205_1', '32176700411204_1']\n"
     ]
    }
   ],
   "source": [
    "images_large = labels_weak_df.index[labels_weak_df[\"cancer_nscc_large\"]==1].to_list()\n",
    "print(images_large)"
   ]
  }
 ],
 "metadata": {
  "kernelspec": {
   "display_name": "hlung",
   "language": "python",
   "name": "python3"
  },
  "language_info": {
   "codemirror_mode": {
    "name": "ipython",
    "version": 3
   },
   "file_extension": ".py",
   "mimetype": "text/x-python",
   "name": "python",
   "nbconvert_exporter": "python",
   "pygments_lexer": "ipython3",
   "version": "3.9.16"
  },
  "orig_nbformat": 4
 },
 "nbformat": 4,
 "nbformat_minor": 2
}

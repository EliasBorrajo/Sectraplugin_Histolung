{
 "cells": [
  {
   "cell_type": "code",
   "execution_count": 4,
   "metadata": {},
   "outputs": [
    {
     "name": "stdout",
     "output_type": "stream",
     "text": [
      "\n",
      "All attributes:\n",
      "\n",
      "All model data:\n"
     ]
    }
   ],
   "source": [
    "from pathlib import Path\n",
    "from xml.dom import minidom\n",
    "\n",
    "thispath = Path.cwd().resolve()\n",
    "\n",
    "datadir = Path(thispath.parent / \"data\" / \"csv_folder\" / \"Annotations\" / \"batch_1\")\n",
    "\n",
    "file = minidom.parse(f\"{datadir}/18-2381.xml\")\n",
    "\n",
    "#use getElementsByTagName() to get tag\n",
    "models = file.getElementsByTagName('model')\n",
    "\n",
    "# one specific item attribute\n",
    "# print('model #2 attribute:')\n",
    "# print(models[1].attributes['name'].value)\n",
    "\n",
    "# all item attributes\n",
    "print('\\nAll attributes:')\n",
    "for elem in models:\n",
    "  print(elem.attributes['name'].value)\n",
    "\n",
    "# one specific item's data\n",
    "# print('\\nmodel #2 data:')\n",
    "# print(models[1].firstChild.data)\n",
    "# print(models[1].childNodes[0].data)\n",
    "\n",
    "# all items data\n",
    "print('\\nAll model data:')\n",
    "for elem in models:\n",
    "  print(elem)\n",
    "  print(elem.firstChild.data)"
   ]
  }
 ],
 "metadata": {
  "kernelspec": {
   "display_name": "hlung",
   "language": "python",
   "name": "python3"
  },
  "language_info": {
   "codemirror_mode": {
    "name": "ipython",
    "version": 3
   },
   "file_extension": ".py",
   "mimetype": "text/x-python",
   "name": "python",
   "nbconvert_exporter": "python",
   "pygments_lexer": "ipython3",
   "version": "3.9.16"
  },
  "orig_nbformat": 4
 },
 "nbformat": 4,
 "nbformat_minor": 2
}

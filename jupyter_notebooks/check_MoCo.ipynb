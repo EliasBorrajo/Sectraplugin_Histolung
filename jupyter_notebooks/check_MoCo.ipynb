{
 "cells": [
  {
   "cell_type": "code",
   "execution_count": 1,
   "metadata": {},
   "outputs": [
    {
     "name": "stderr",
     "output_type": "stream",
     "text": [
      "/home/lluis/miniconda3/envs/hlung/lib/python3.9/site-packages/tqdm/auto.py:21: TqdmWarning: IProgress not found. Please update jupyter and ipywidgets. See https://ipywidgets.readthedocs.io/en/stable/user_install.html\n",
      "  from .autonotebook import tqdm as notebook_tqdm\n"
     ]
    },
    {
     "ename": "ModuleNotFoundError",
     "evalue": "No module named 'training'",
     "output_type": "error",
     "traceback": [
      "\u001b[0;31m---------------------------------------------------------------------------\u001b[0m",
      "\u001b[0;31mModuleNotFoundError\u001b[0m                       Traceback (most recent call last)",
      "Cell \u001b[0;32mIn[1], line 3\u001b[0m\n\u001b[1;32m      1\u001b[0m \u001b[39mfrom\u001b[39;00m \u001b[39mpathlib\u001b[39;00m \u001b[39mimport\u001b[39;00m Path\n\u001b[1;32m      2\u001b[0m \u001b[39mimport\u001b[39;00m \u001b[39mtorch\u001b[39;00m\n\u001b[0;32m----> 3\u001b[0m \u001b[39mfrom\u001b[39;00m \u001b[39mtraining\u001b[39;00m \u001b[39mimport\u001b[39;00m Encoder, ModelOption, yaml_load\n\u001b[1;32m      5\u001b[0m thispath \u001b[39m=\u001b[39m Path\u001b[39m.\u001b[39mcwd()\u001b[39m.\u001b[39mresolve()\n\u001b[1;32m      7\u001b[0m device \u001b[39m=\u001b[39m torch\u001b[39m.\u001b[39mdevice(\u001b[39m'\u001b[39m\u001b[39mcuda\u001b[39m\u001b[39m'\u001b[39m \u001b[39mif\u001b[39;00m torch\u001b[39m.\u001b[39mcuda\u001b[39m.\u001b[39mis_available() \u001b[39melse\u001b[39;00m \u001b[39m'\u001b[39m\u001b[39mcpu\u001b[39m\u001b[39m'\u001b[39m)\n",
      "\u001b[0;31mModuleNotFoundError\u001b[0m: No module named 'training'"
     ]
    }
   ],
   "source": [
    "from pathlib import Path\n",
    "import torch\n",
    "from training import Encoder, ModelOption, yaml_load\n",
    "\n",
    "thispath = Path.cwd().resolve()\n",
    "\n",
    "device = torch.device('cuda' if torch.cuda.is_available() else 'cpu')\n",
    "\n",
    "\n",
    "modeldir = Path(thispath.parent / \"trained models\" / \"MoCo_try_Adam\")\n",
    "\n",
    "cfg = yaml_load(modeldir / \"config_MoCo_try_Adam.yml\")\n",
    "\n",
    "model = ModelOption(cfg.model.model_name,\n",
    "                cfg.model.num_classes,\n",
    "                freeze=cfg.model.freeze_weights,\n",
    "                num_freezed_layers=cfg.model.num_frozen_layers,\n",
    "                dropout=cfg.model.dropout,\n",
    "                embedding_bool=cfg.model.embedding_bool\n",
    "                )    \n",
    "\n",
    "    \n",
    "# Encoder and momentum encoder\n",
    "moco_dim = cfg.training.moco_dim\n",
    "\n",
    "encoder = Encoder(model, dim=moco_dim).to(device)\n",
    "\n",
    "checkpoint = torch.load(modeldir / cfg.dataset.magnification / cfg.model.model_name / \"MoCo.pt\")\n",
    "encoder.load_state_dict(checkpoint[\"encoder_state_dict\"])\n",
    "loss = checkpoint[\"loss\"]\n",
    "epoch = checkpoint[\"epoch\"] + 1\n",
    "\n",
    "print(f\"Loaded encoder using as backbone {cfg.model.model_name} with a best loss of {loss} at Epoch {epoch}\")"
   ]
  }
 ],
 "metadata": {
  "kernelspec": {
   "display_name": "hlung",
   "language": "python",
   "name": "python3"
  },
  "language_info": {
   "codemirror_mode": {
    "name": "ipython",
    "version": 3
   },
   "file_extension": ".py",
   "mimetype": "text/x-python",
   "name": "python",
   "nbconvert_exporter": "python",
   "pygments_lexer": "ipython3",
   "version": "3.9.16"
  },
  "orig_nbformat": 4
 },
 "nbformat": 4,
 "nbformat_minor": 2
}

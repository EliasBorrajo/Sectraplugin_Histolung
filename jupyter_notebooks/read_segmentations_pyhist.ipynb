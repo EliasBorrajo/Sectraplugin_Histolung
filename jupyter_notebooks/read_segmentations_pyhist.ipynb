{
 "cells": [
  {
   "cell_type": "code",
   "execution_count": 1,
   "metadata": {},
   "outputs": [
    {
     "name": "stdout",
     "output_type": "stream",
     "text": [
      "Unexpected exception formatting exception. Falling back to standard exception\n"
     ]
    },
    {
     "name": "stderr",
     "output_type": "stream",
     "text": [
      "Traceback (most recent call last):\n",
      "  File \"/home/lluis/miniconda3/envs/lung_env/lib/python3.10/site-packages/IPython/core/interactiveshell.py\", line 3442, in run_code\n",
      "  File \"/tmp/ipykernel_4107455/496957773.py\", line 2, in <module>\n",
      "    import cv2 as cv\n",
      "ModuleNotFoundError: No module named 'cv2'\n",
      "\n",
      "During handling of the above exception, another exception occurred:\n",
      "\n",
      "Traceback (most recent call last):\n",
      "  File \"/home/lluis/miniconda3/envs/lung_env/lib/python3.10/site-packages/pygments/styles/__init__.py\", line 82, in get_style_by_name\n",
      "ModuleNotFoundError: No module named 'pygments.styles.default'\n",
      "\n",
      "During handling of the above exception, another exception occurred:\n",
      "\n",
      "Traceback (most recent call last):\n",
      "  File \"/home/lluis/miniconda3/envs/lung_env/lib/python3.10/site-packages/IPython/core/interactiveshell.py\", line 2057, in showtraceback\n",
      "  File \"/home/lluis/miniconda3/envs/lung_env/lib/python3.10/site-packages/IPython/core/ultratb.py\", line 1118, in structured_traceback\n",
      "  File \"/home/lluis/miniconda3/envs/lung_env/lib/python3.10/site-packages/IPython/core/ultratb.py\", line 1012, in structured_traceback\n",
      "  File \"/home/lluis/miniconda3/envs/lung_env/lib/python3.10/site-packages/IPython/core/ultratb.py\", line 865, in structured_traceback\n",
      "  File \"/home/lluis/miniconda3/envs/lung_env/lib/python3.10/site-packages/IPython/core/ultratb.py\", line 799, in format_exception_as_a_whole\n",
      "  File \"/home/lluis/miniconda3/envs/lung_env/lib/python3.10/site-packages/IPython/core/ultratb.py\", line 844, in get_records\n",
      "  File \"/home/lluis/miniconda3/envs/lung_env/lib/python3.10/site-packages/pygments/styles/__init__.py\", line 84, in get_style_by_name\n",
      "pygments.util.ClassNotFound: Could not find style module 'default', though it should be builtin.\n"
     ]
    }
   ],
   "source": [
    "from pathlib import Path\n",
    "import cv2 as cv\n",
    "from matplotlib import pyplot as plt\n",
    "import openslide\n",
    "\n",
    "thispath = Path.cwd().resolve()\n",
    "\n",
    "maskdir = Path(thispath.parent / \"PyHIST\" / \"output\")\n",
    "datadir = Path(\"/mnt/nas4/datasets/ToReadme/ExaMode_Dataset1/AOEC\")\n",
    "\n",
    "svs_files = [i for i in datadir.rglob(\"*.svs\") if \"LungAOEC\" in str(i) and \"000036434500773567\" in str(i)]\n",
    "\n",
    "histo_mask = cv.imread(str(Path(maskdir / \"000036434500773567\" / \"segmented_000036434500773567.ppm\")))\n",
    "# print(histo_mask)\n",
    "slide = openslide.OpenSlide(svs_files)\n",
    "print(slide.shape)\n",
    "hist_gray = cv.cvtColor(histo_mask, cv.COLOR_BGR2GRAY)\n",
    "print(hist_gray[1, 1])\n",
    "print(hist_gray.shape)\n",
    "for pixel in hist_gray:\n",
    "    print(hist_gray[pixel])\n",
    "    if hist_gray[pixel]==[hist_gray[1, 1]]:\n",
    "        hist_gray[pixel] = 0\n",
    "    else:\n",
    "        hist_gray[pixel] = 1\n",
    "\n",
    "\n",
    "plt.imshow(hist_gray)\n",
    "plt.title(\"mask\")\n",
    "plt.show()"
   ]
  }
 ],
 "metadata": {
  "kernelspec": {
   "display_name": "lung_env",
   "language": "python",
   "name": "python3"
  },
  "language_info": {
   "codemirror_mode": {
    "name": "ipython",
    "version": 3
   },
   "file_extension": ".py",
   "mimetype": "text/x-python",
   "name": "python",
   "nbconvert_exporter": "python",
   "pygments_lexer": "ipython3",
   "version": "3.10.8"
  },
  "orig_nbformat": 4,
  "vscode": {
   "interpreter": {
    "hash": "6158f16043df0ed03e0f0bf66374ee44ce8098f515735805958080d32960790b"
   }
  }
 },
 "nbformat": 4,
 "nbformat_minor": 2
}

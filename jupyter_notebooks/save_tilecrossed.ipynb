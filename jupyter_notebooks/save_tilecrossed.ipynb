{
 "cells": [
  {
   "cell_type": "code",
   "execution_count": null,
   "metadata": {},
   "outputs": [],
   "source": [
    "from pathlib import Path\n",
    "import cv2 as cv\n",
    "from tqdm import tqdm\n",
    "\n",
    "thispath = Path.cwd().resolve()\n",
    "\n",
    "maskdir = Path(thispath.parent / \"data\" / \"Mask_PyHIST_v2\")\n",
    "\n",
    "colorful_masks = [i for i in maskdir.rglob(\"*.png\") if \"tilecrossed\" in str(i)]\n",
    "print(len(colorful_masks))\n",
    "\n",
    "for mask in tqdm(colorful_masks):\n",
    "\n",
    "    color_mask = cv.imread(str(mask))\n",
    "\n",
    "    resultdir = Path(maskdir / \"tilecrossed\")\n",
    "    Path(resultdir).mkdir(exist_ok=True, parents=True)\n",
    "    cv.imwrite(f\"{resultdir}/{mask.stem}.png\", color_mask)\n",
    "    "
   ]
  }
 ],
 "metadata": {
  "language_info": {
   "name": "python"
  },
  "orig_nbformat": 4
 },
 "nbformat": 4,
 "nbformat_minor": 2
}

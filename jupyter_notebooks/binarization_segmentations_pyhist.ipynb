{
 "cells": [
  {
   "cell_type": "code",
   "execution_count": 14,
   "metadata": {},
   "outputs": [],
   "source": [
    "from pathlib import Path\n",
    "import cv2 as cv\n",
    "from matplotlib import pyplot as plt\n",
    "from tqdm import tqdm\n",
    "import numpy as np\n",
    "import os\n",
    "import openslide\n",
    "\n",
    "thispath = Path.cwd().resolve()"
   ]
  },
  {
   "cell_type": "code",
   "execution_count": 15,
   "metadata": {},
   "outputs": [],
   "source": [
    "def check_corners(img):\n",
    "    \"\"\"\n",
    "    This function checks the corner pixels of an image and returns the BGR values for the background.\n",
    "\n",
    "    Parameters\n",
    "    ----------\n",
    "    img (numpy.ndarray): Image data\n",
    "\n",
    "    Returns\n",
    "    -------\n",
    "    background_pixel (numpy.ndarray): BGR values for the background\n",
    "    \"\"\"\n",
    "    copy = img.copy()\n",
    "    width, height, _ = copy.shape\n",
    "    if width > 15000 or height > 15000:\n",
    "        cropped_image = copy[600:width-600, 600:height-600]\n",
    "    else:\n",
    "        cropped_image = copy[300:width-300, 300:height-300]\n",
    "    width, height, _ = cropped_image.shape\n",
    "    print(cropped_image.shape)\n",
    "    print(width-1)\n",
    "    print(height-1)\n",
    "    top_left = img[0, 0, :]\n",
    "    top_right = img[width-1, 0, :]\n",
    "    bottom_left = img[0, height-1, :]\n",
    "    bottom_right = img[width-1, height-1, :]\n",
    "    most_frequent = np.argmax(np.bincount([np.sum(top_left), np.sum(top_right), np.sum(bottom_left), np.sum(bottom_right)]))\n",
    "\n",
    "    if most_frequent == np.sum(top_left):\n",
    "        return top_left\n",
    "    \n",
    "    elif most_frequent == np.sum(top_right):\n",
    "        return top_right\n",
    "\n",
    "    elif most_frequent == np.sum(bottom_left):\n",
    "        return bottom_left\n",
    "    \n",
    "    elif most_frequent == np.sum(bottom_right):\n",
    "        return bottom_right\n",
    "\n",
    "\n",
    "def available_magnifications(mpp, level_downsamples):\n",
    "\tmpp = float(mpp)\n",
    "\tif (mpp<0.26):\n",
    "\t\tmagnification = 40\n",
    "\telse:\n",
    "\t\tmagnification = 20\n",
    "\t\n",
    "\tmags = []\n",
    "\tfor l in level_downsamples:\n",
    "\t\tmags.append(magnification/l)\n",
    "\t\n",
    "\treturn mags"
   ]
  },
  {
   "cell_type": "code",
   "execution_count": 20,
   "metadata": {},
   "outputs": [
    {
     "name": "stdout",
     "output_type": "stream",
     "text": [
      "1318\n"
     ]
    },
    {
     "name": "stderr",
     "output_type": "stream",
     "text": [
      "  0%|          | 0/1318 [00:00<?, ?it/s]"
     ]
    },
    {
     "name": "stdout",
     "output_type": "stream",
     "text": [
      "/home/lluis/histo_lung/data/Mask_PyHIST_v2/LungAOEC_List2/000031068400351370/tilecrossed_000031068400351370.png\n"
     ]
    },
    {
     "name": "stderr",
     "output_type": "stream",
     "text": [
      "  0%|          | 1/1318 [00:00<12:40,  1.73it/s]"
     ]
    },
    {
     "name": "stdout",
     "output_type": "stream",
     "text": [
      "/home/lluis/histo_lung/data/Mask_PyHIST_v2/LungAOEC_List2/000035601500689055/tilecrossed_000035601500689055.png\n"
     ]
    },
    {
     "name": "stderr",
     "output_type": "stream",
     "text": [
      "  0%|          | 2/1318 [00:01<13:37,  1.61it/s]"
     ]
    },
    {
     "name": "stdout",
     "output_type": "stream",
     "text": [
      "/home/lluis/histo_lung/data/Mask_PyHIST_v2/LungAOEC_List2/000031326800365854/tilecrossed_000031326800365854.png\n"
     ]
    },
    {
     "name": "stderr",
     "output_type": "stream",
     "text": [
      "  0%|          | 4/1318 [00:01<09:25,  2.33it/s]"
     ]
    },
    {
     "name": "stdout",
     "output_type": "stream",
     "text": [
      "/home/lluis/histo_lung/data/Mask_PyHIST_v2/LungAOEC_List2/000033352100479575/tilecrossed_000033352100479575.png\n",
      "/home/lluis/histo_lung/data/Mask_PyHIST_v2/LungAOEC_List2/000035182700645262/tilecrossed_000035182700645262.png\n"
     ]
    },
    {
     "name": "stderr",
     "output_type": "stream",
     "text": [
      "  0%|          | 5/1318 [00:02<09:25,  2.32it/s]"
     ]
    },
    {
     "name": "stdout",
     "output_type": "stream",
     "text": [
      "/home/lluis/histo_lung/data/Mask_PyHIST_v2/LungAOEC_List2/000036241700760953/tilecrossed_000036241700760953.png\n"
     ]
    },
    {
     "name": "stderr",
     "output_type": "stream",
     "text": [
      "  1%|          | 7/1318 [00:03<08:07,  2.69it/s]"
     ]
    },
    {
     "name": "stdout",
     "output_type": "stream",
     "text": [
      "/home/lluis/histo_lung/data/Mask_PyHIST_v2/LungAOEC_List2/000035268600653970/tilecrossed_000035268600653970.png\n",
      "/home/lluis/histo_lung/data/Mask_PyHIST_v2/LungAOEC_List2/000034524300583735/tilecrossed_000034524300583735.png\n"
     ]
    },
    {
     "name": "stderr",
     "output_type": "stream",
     "text": [
      "  1%|          | 8/1318 [00:03<08:43,  2.50it/s]"
     ]
    },
    {
     "name": "stdout",
     "output_type": "stream",
     "text": [
      "/home/lluis/histo_lung/data/Mask_PyHIST_v2/LungAOEC_List2/000030494900323688/tilecrossed_000030494900323688.png\n"
     ]
    },
    {
     "name": "stderr",
     "output_type": "stream",
     "text": [
      "  1%|          | 9/1318 [00:03<07:44,  2.82it/s]"
     ]
    },
    {
     "name": "stdout",
     "output_type": "stream",
     "text": [
      "/home/lluis/histo_lung/data/Mask_PyHIST_v2/LungAOEC_List2/000036157800749644/tilecrossed_000036157800749644.png\n"
     ]
    },
    {
     "name": "stderr",
     "output_type": "stream",
     "text": [
      "  1%|          | 10/1318 [00:04<08:36,  2.53it/s]"
     ]
    },
    {
     "name": "stdout",
     "output_type": "stream",
     "text": [
      "/home/lluis/histo_lung/data/Mask_PyHIST_v2/LungAOEC_List2/000034838900615671/tilecrossed_000034838900615671.png\n"
     ]
    },
    {
     "name": "stderr",
     "output_type": "stream",
     "text": [
      "  1%|          | 11/1318 [00:05<10:43,  2.03it/s]"
     ]
    },
    {
     "name": "stdout",
     "output_type": "stream",
     "text": [
      "/home/lluis/histo_lung/data/Mask_PyHIST_v2/LungAOEC_List2/000035203700643780/tilecrossed_000035203700643780.png\n"
     ]
    },
    {
     "name": "stderr",
     "output_type": "stream",
     "text": [
      "  1%|          | 12/1318 [00:05<10:12,  2.13it/s]"
     ]
    },
    {
     "name": "stdout",
     "output_type": "stream",
     "text": [
      "/home/lluis/histo_lung/data/Mask_PyHIST_v2/LungAOEC_List2/000036283000761893/tilecrossed_000036283000761893.png\n"
     ]
    },
    {
     "name": "stderr",
     "output_type": "stream",
     "text": [
      "  1%|          | 13/1318 [00:05<09:14,  2.36it/s]"
     ]
    },
    {
     "name": "stdout",
     "output_type": "stream",
     "text": [
      "/home/lluis/histo_lung/data/Mask_PyHIST_v2/LungAOEC_List2/000031970300399678/tilecrossed_000031970300399678.png\n"
     ]
    },
    {
     "name": "stderr",
     "output_type": "stream",
     "text": [
      "  1%|          | 14/1318 [00:06<13:38,  1.59it/s]"
     ]
    },
    {
     "name": "stdout",
     "output_type": "stream",
     "text": [
      "/home/lluis/histo_lung/data/Mask_PyHIST_v2/LungAOEC_List2/000035826400709919/tilecrossed_000035826400709919.png\n"
     ]
    },
    {
     "name": "stderr",
     "output_type": "stream",
     "text": [
      "  1%|          | 15/1318 [00:07<12:28,  1.74it/s]"
     ]
    },
    {
     "name": "stdout",
     "output_type": "stream",
     "text": [
      "/home/lluis/histo_lung/data/Mask_PyHIST_v2/LungAOEC_List2/000031438500372500/tilecrossed_000031438500372500.png\n"
     ]
    },
    {
     "name": "stderr",
     "output_type": "stream",
     "text": [
      "  1%|          | 16/1318 [00:08<14:34,  1.49it/s]"
     ]
    },
    {
     "name": "stdout",
     "output_type": "stream",
     "text": [
      "/home/lluis/histo_lung/data/Mask_PyHIST_v2/LungAOEC_List2/000033072900451859/tilecrossed_000033072900451859.png\n"
     ]
    },
    {
     "name": "stderr",
     "output_type": "stream",
     "text": [
      "  1%|▏         | 17/1318 [00:08<11:57,  1.81it/s]"
     ]
    },
    {
     "name": "stdout",
     "output_type": "stream",
     "text": [
      "/home/lluis/histo_lung/data/Mask_PyHIST_v2/LungAOEC_List2/000031991400401013/tilecrossed_000031991400401013.png\n"
     ]
    },
    {
     "name": "stderr",
     "output_type": "stream",
     "text": [
      "  1%|▏         | 18/1318 [00:08<11:36,  1.87it/s]"
     ]
    },
    {
     "name": "stdout",
     "output_type": "stream",
     "text": [
      "/home/lluis/histo_lung/data/Mask_PyHIST_v2/LungAOEC_List2/000032202000412396/tilecrossed_000032202000412396.png\n"
     ]
    },
    {
     "name": "stderr",
     "output_type": "stream",
     "text": [
      "  1%|▏         | 19/1318 [00:09<13:12,  1.64it/s]"
     ]
    },
    {
     "name": "stdout",
     "output_type": "stream",
     "text": [
      "/home/lluis/histo_lung/data/Mask_PyHIST_v2/LungAOEC_List2/000033382400482081/tilecrossed_000033382400482081.png\n"
     ]
    },
    {
     "name": "stderr",
     "output_type": "stream",
     "text": [
      "  2%|▏         | 20/1318 [00:10<10:42,  2.02it/s]"
     ]
    },
    {
     "name": "stdout",
     "output_type": "stream",
     "text": [
      "/home/lluis/histo_lung/data/Mask_PyHIST_v2/LungAOEC_List2/000031796600390253/tilecrossed_000031796600390253.png\n"
     ]
    },
    {
     "name": "stderr",
     "output_type": "stream",
     "text": [
      "  2%|▏         | 21/1318 [00:10<12:50,  1.68it/s]"
     ]
    },
    {
     "name": "stdout",
     "output_type": "stream",
     "text": [
      "/home/lluis/histo_lung/data/Mask_PyHIST_v2/LungAOEC_List2/000032897900448070/tilecrossed_000032897900448070.png\n"
     ]
    },
    {
     "name": "stderr",
     "output_type": "stream",
     "text": [
      "  2%|▏         | 23/1318 [00:11<10:49,  1.99it/s]"
     ]
    },
    {
     "name": "stdout",
     "output_type": "stream",
     "text": [
      "/home/lluis/histo_lung/data/Mask_PyHIST_v2/LungAOEC_List2/000031065100352632/tilecrossed_000031065100352632.png\n",
      "/home/lluis/histo_lung/data/Mask_PyHIST_v2/LungAOEC_List2/000031329300365917/tilecrossed_000031329300365917.png\n"
     ]
    },
    {
     "name": "stderr",
     "output_type": "stream",
     "text": [
      "  2%|▏         | 24/1318 [00:12<10:36,  2.03it/s]"
     ]
    },
    {
     "name": "stdout",
     "output_type": "stream",
     "text": [
      "/home/lluis/histo_lung/data/Mask_PyHIST_v2/LungAOEC_List2/000030494900323694/tilecrossed_000030494900323694.png\n"
     ]
    },
    {
     "name": "stderr",
     "output_type": "stream",
     "text": [
      "  2%|▏         | 25/1318 [00:12<09:32,  2.26it/s]"
     ]
    },
    {
     "name": "stdout",
     "output_type": "stream",
     "text": [
      "/home/lluis/histo_lung/data/Mask_PyHIST_v2/LungAOEC_List2/000031068400351371/tilecrossed_000031068400351371.png\n"
     ]
    },
    {
     "name": "stderr",
     "output_type": "stream",
     "text": [
      "  2%|▏         | 26/1318 [00:13<12:54,  1.67it/s]"
     ]
    },
    {
     "name": "stdout",
     "output_type": "stream",
     "text": [
      "/home/lluis/histo_lung/data/Mask_PyHIST_v2/LungAOEC_List2/000030870900342378/tilecrossed_000030870900342378.png\n"
     ]
    },
    {
     "name": "stderr",
     "output_type": "stream",
     "text": [
      "  2%|▏         | 27/1318 [00:14<13:36,  1.58it/s]"
     ]
    },
    {
     "name": "stdout",
     "output_type": "stream",
     "text": [
      "/home/lluis/histo_lung/data/Mask_PyHIST_v2/LungAOEC_List2/000036177600753256/tilecrossed_000036177600753256.png\n"
     ]
    },
    {
     "name": "stderr",
     "output_type": "stream",
     "text": [
      "  2%|▏         | 28/1318 [00:14<12:25,  1.73it/s]"
     ]
    },
    {
     "name": "stdout",
     "output_type": "stream",
     "text": [
      "/home/lluis/histo_lung/data/Mask_PyHIST_v2/LungAOEC_List2/000034183600550198/tilecrossed_000034183600550198.png\n"
     ]
    },
    {
     "name": "stderr",
     "output_type": "stream",
     "text": [
      "  2%|▏         | 29/1318 [00:15<12:25,  1.73it/s]"
     ]
    },
    {
     "name": "stdout",
     "output_type": "stream",
     "text": [
      "/home/lluis/histo_lung/data/Mask_PyHIST_v2/LungAOEC_List2/000035185500645280/tilecrossed_000035185500645280.png\n"
     ]
    },
    {
     "name": "stderr",
     "output_type": "stream",
     "text": [
      "  2%|▏         | 30/1318 [00:15<12:46,  1.68it/s]"
     ]
    },
    {
     "name": "stdout",
     "output_type": "stream",
     "text": [
      "/home/lluis/histo_lung/data/Mask_PyHIST_v2/LungAOEC_List2/000031264900361450/tilecrossed_000031264900361450.png\n"
     ]
    },
    {
     "name": "stderr",
     "output_type": "stream",
     "text": [
      "  2%|▏         | 31/1318 [00:16<13:32,  1.58it/s]"
     ]
    },
    {
     "name": "stdout",
     "output_type": "stream",
     "text": [
      "/home/lluis/histo_lung/data/Mask_PyHIST_v2/LungAOEC_List2/000035870700717255/tilecrossed_000035870700717255.png\n"
     ]
    },
    {
     "name": "stderr",
     "output_type": "stream",
     "text": [
      "  3%|▎         | 33/1318 [00:17<10:48,  1.98it/s]"
     ]
    },
    {
     "name": "stdout",
     "output_type": "stream",
     "text": [
      "/home/lluis/histo_lung/data/Mask_PyHIST_v2/LungAOEC_List2/000036296700765948/tilecrossed_000036296700765948.png\n",
      "/home/lluis/histo_lung/data/Mask_PyHIST_v2/LungAOEC_List2/000031796600390249/tilecrossed_000031796600390249.png\n"
     ]
    },
    {
     "name": "stderr",
     "output_type": "stream",
     "text": [
      "  3%|▎         | 34/1318 [00:18<15:36,  1.37it/s]"
     ]
    },
    {
     "name": "stdout",
     "output_type": "stream",
     "text": [
      "/home/lluis/histo_lung/data/Mask_PyHIST_v2/LungAOEC_List2/000030870900342374/tilecrossed_000030870900342374.png\n"
     ]
    },
    {
     "name": "stderr",
     "output_type": "stream",
     "text": [
      "  3%|▎         | 36/1318 [00:19<11:15,  1.90it/s]"
     ]
    },
    {
     "name": "stdout",
     "output_type": "stream",
     "text": [
      "/home/lluis/histo_lung/data/Mask_PyHIST_v2/LungAOEC_List2/000033382400482121/tilecrossed_000033382400482121.png\n",
      "/home/lluis/histo_lung/data/Mask_PyHIST_v2/LungAOEC_List2/000032316200417969/tilecrossed_000032316200417969.png\n"
     ]
    },
    {
     "name": "stderr",
     "output_type": "stream",
     "text": [
      "  3%|▎         | 37/1318 [00:20<12:23,  1.72it/s]"
     ]
    },
    {
     "name": "stdout",
     "output_type": "stream",
     "text": [
      "/home/lluis/histo_lung/data/Mask_PyHIST_v2/LungAOEC_List2/000034025600534194/tilecrossed_000034025600534194.png\n"
     ]
    },
    {
     "name": "stderr",
     "output_type": "stream",
     "text": [
      "  3%|▎         | 38/1318 [00:20<13:15,  1.61it/s]"
     ]
    },
    {
     "name": "stdout",
     "output_type": "stream",
     "text": [
      "/home/lluis/histo_lung/data/Mask_PyHIST_v2/LungAOEC_List2/000031991400401020/tilecrossed_000031991400401020.png\n"
     ]
    },
    {
     "name": "stderr",
     "output_type": "stream",
     "text": [
      "  3%|▎         | 39/1318 [00:21<13:48,  1.54it/s]"
     ]
    },
    {
     "name": "stdout",
     "output_type": "stream",
     "text": [
      "/home/lluis/histo_lung/data/Mask_PyHIST_v2/LungAOEC_List2/000035870700717725/tilecrossed_000035870700717725.png\n"
     ]
    },
    {
     "name": "stderr",
     "output_type": "stream",
     "text": [
      "  3%|▎         | 40/1318 [00:22<12:55,  1.65it/s]"
     ]
    },
    {
     "name": "stdout",
     "output_type": "stream",
     "text": [
      "/home/lluis/histo_lung/data/Mask_PyHIST_v2/LungAOEC_List2/000032202000412410/tilecrossed_000032202000412410.png\n"
     ]
    },
    {
     "name": "stderr",
     "output_type": "stream",
     "text": [
      "  3%|▎         | 41/1318 [00:22<11:58,  1.78it/s]"
     ]
    },
    {
     "name": "stdout",
     "output_type": "stream",
     "text": [
      "/home/lluis/histo_lung/data/Mask_PyHIST_v2/LungAOEC_List2/000031068400351366/tilecrossed_000031068400351366.png\n"
     ]
    },
    {
     "name": "stderr",
     "output_type": "stream",
     "text": [
      "  3%|▎         | 43/1318 [00:23<09:04,  2.34it/s]"
     ]
    },
    {
     "name": "stdout",
     "output_type": "stream",
     "text": [
      "/home/lluis/histo_lung/data/Mask_PyHIST_v2/LungAOEC_List2/000030530100324275/tilecrossed_000030530100324275.png\n",
      "/home/lluis/histo_lung/data/Mask_PyHIST_v2/LungAOEC_List2/000031963800399393/tilecrossed_000031963800399393.png\n"
     ]
    },
    {
     "name": "stderr",
     "output_type": "stream",
     "text": [
      "  3%|▎         | 44/1318 [00:23<08:14,  2.57it/s]"
     ]
    },
    {
     "name": "stdout",
     "output_type": "stream",
     "text": [
      "/home/lluis/histo_lung/data/Mask_PyHIST_v2/LungAOEC_List2/000032202000412409/tilecrossed_000032202000412409.png\n"
     ]
    },
    {
     "name": "stderr",
     "output_type": "stream",
     "text": [
      "  3%|▎         | 45/1318 [00:24<12:36,  1.68it/s]"
     ]
    },
    {
     "name": "stdout",
     "output_type": "stream",
     "text": [
      "/home/lluis/histo_lung/data/Mask_PyHIST_v2/LungAOEC_List2/000031957900399083/tilecrossed_000031957900399083.png\n"
     ]
    },
    {
     "name": "stderr",
     "output_type": "stream",
     "text": [
      "  3%|▎         | 46/1318 [00:25<16:20,  1.30it/s]"
     ]
    },
    {
     "name": "stdout",
     "output_type": "stream",
     "text": [
      "/home/lluis/histo_lung/data/Mask_PyHIST_v2/LungAOEC_List2/000031309400365179/tilecrossed_000031309400365179.png\n"
     ]
    },
    {
     "name": "stderr",
     "output_type": "stream",
     "text": [
      "  4%|▎         | 47/1318 [00:26<13:56,  1.52it/s]"
     ]
    },
    {
     "name": "stdout",
     "output_type": "stream",
     "text": [
      "/home/lluis/histo_lung/data/Mask_PyHIST_v2/LungAOEC_List2/000032006400399699/tilecrossed_000032006400399699.png\n"
     ]
    },
    {
     "name": "stderr",
     "output_type": "stream",
     "text": [
      "  4%|▎         | 48/1318 [00:26<12:05,  1.75it/s]"
     ]
    },
    {
     "name": "stdout",
     "output_type": "stream",
     "text": [
      "/home/lluis/histo_lung/data/Mask_PyHIST_v2/LungAOEC_List2/000034820100610445/tilecrossed_000034820100610445.png\n"
     ]
    },
    {
     "name": "stderr",
     "output_type": "stream",
     "text": [
      "  4%|▎         | 49/1318 [00:26<09:56,  2.13it/s]"
     ]
    },
    {
     "name": "stdout",
     "output_type": "stream",
     "text": [
      "/home/lluis/histo_lung/data/Mask_PyHIST_v2/LungAOEC_List2/000033942700528930/tilecrossed_000033942700528930.png\n"
     ]
    },
    {
     "name": "stderr",
     "output_type": "stream",
     "text": [
      "  4%|▍         | 50/1318 [00:27<10:55,  1.93it/s]"
     ]
    },
    {
     "name": "stdout",
     "output_type": "stream",
     "text": [
      "/home/lluis/histo_lung/data/Mask_PyHIST_v2/LungAOEC_List2/000030870900342380/tilecrossed_000030870900342380.png\n"
     ]
    },
    {
     "name": "stderr",
     "output_type": "stream",
     "text": [
      "  4%|▍         | 51/1318 [00:28<15:05,  1.40it/s]"
     ]
    },
    {
     "name": "stdout",
     "output_type": "stream",
     "text": [
      "/home/lluis/histo_lung/data/Mask_PyHIST_v2/LungAOEC_List2/000034131800547425/tilecrossed_000034131800547425.png\n"
     ]
    },
    {
     "name": "stderr",
     "output_type": "stream",
     "text": [
      "  4%|▍         | 52/1318 [00:29<15:16,  1.38it/s]"
     ]
    },
    {
     "name": "stdout",
     "output_type": "stream",
     "text": [
      "/home/lluis/histo_lung/data/Mask_PyHIST_v2/LungAOEC_List2/000030759100337125/tilecrossed_000030759100337125.png\n"
     ]
    },
    {
     "name": "stderr",
     "output_type": "stream",
     "text": [
      "  4%|▍         | 53/1318 [00:29<12:50,  1.64it/s]"
     ]
    },
    {
     "name": "stdout",
     "output_type": "stream",
     "text": [
      "/home/lluis/histo_lung/data/Mask_PyHIST_v2/LungAOEC_List2/000030759100337123/tilecrossed_000030759100337123.png\n"
     ]
    },
    {
     "name": "stderr",
     "output_type": "stream",
     "text": [
      "  4%|▍         | 54/1318 [00:30<15:53,  1.33it/s]"
     ]
    },
    {
     "name": "stdout",
     "output_type": "stream",
     "text": [
      "/home/lluis/histo_lung/data/Mask_PyHIST_v2/LungAOEC_List2/000035599100688210/tilecrossed_000035599100688210.png\n"
     ]
    },
    {
     "name": "stderr",
     "output_type": "stream",
     "text": [
      "  4%|▍         | 55/1318 [00:32<19:14,  1.09it/s]"
     ]
    },
    {
     "name": "stdout",
     "output_type": "stream",
     "text": [
      "/home/lluis/histo_lung/data/Mask_PyHIST_v2/LungAOEC_List2/000033096100455549/tilecrossed_000033096100455549.png\n"
     ]
    },
    {
     "name": "stderr",
     "output_type": "stream",
     "text": [
      "  4%|▍         | 56/1318 [00:32<18:07,  1.16it/s]"
     ]
    },
    {
     "name": "stdout",
     "output_type": "stream",
     "text": [
      "/home/lluis/histo_lung/data/Mask_PyHIST_v2/LungAOEC_List2/000031945100398127/tilecrossed_000031945100398127.png\n"
     ]
    },
    {
     "name": "stderr",
     "output_type": "stream",
     "text": [
      "  4%|▍         | 58/1318 [00:33<12:53,  1.63it/s]"
     ]
    },
    {
     "name": "stdout",
     "output_type": "stream",
     "text": [
      "/home/lluis/histo_lung/data/Mask_PyHIST_v2/LungAOEC_List2/000035268600653972/tilecrossed_000035268600653972.png\n",
      "/home/lluis/histo_lung/data/Mask_PyHIST_v2/LungAOEC_List2/000033922900530136/tilecrossed_000033922900530136.png\n"
     ]
    },
    {
     "name": "stderr",
     "output_type": "stream",
     "text": [
      "  4%|▍         | 59/1318 [00:35<19:38,  1.07it/s]"
     ]
    },
    {
     "name": "stdout",
     "output_type": "stream",
     "text": [
      "/home/lluis/histo_lung/data/Mask_PyHIST_v2/LungAOEC_List2/000031915900395455/tilecrossed_000031915900395455.png\n"
     ]
    },
    {
     "name": "stderr",
     "output_type": "stream",
     "text": [
      "  5%|▍         | 60/1318 [00:36<20:46,  1.01it/s]"
     ]
    },
    {
     "name": "stdout",
     "output_type": "stream",
     "text": [
      "/home/lluis/histo_lung/data/Mask_PyHIST_v2/LungAOEC_List2/000034993200628311/tilecrossed_000034993200628311.png\n"
     ]
    },
    {
     "name": "stderr",
     "output_type": "stream",
     "text": [
      "  5%|▍         | 61/1318 [00:37<19:53,  1.05it/s]"
     ]
    },
    {
     "name": "stdout",
     "output_type": "stream",
     "text": [
      "/home/lluis/histo_lung/data/Mask_PyHIST_v2/LungAOEC_List2/000031915900395454/tilecrossed_000031915900395454.png\n"
     ]
    },
    {
     "name": "stderr",
     "output_type": "stream",
     "text": [
      "  5%|▍         | 62/1318 [00:37<17:20,  1.21it/s]"
     ]
    },
    {
     "name": "stdout",
     "output_type": "stream",
     "text": [
      "/home/lluis/histo_lung/data/Mask_PyHIST_v2/LungAOEC_List2/000033382400482099/tilecrossed_000033382400482099.png\n"
     ]
    },
    {
     "name": "stderr",
     "output_type": "stream",
     "text": [
      "  5%|▍         | 63/1318 [00:38<13:39,  1.53it/s]"
     ]
    },
    {
     "name": "stdout",
     "output_type": "stream",
     "text": [
      "/home/lluis/histo_lung/data/Mask_PyHIST_v2/LungAOEC_List2/000034484100581837/tilecrossed_000034484100581837.png\n"
     ]
    },
    {
     "name": "stderr",
     "output_type": "stream",
     "text": [
      "  5%|▍         | 64/1318 [00:38<13:59,  1.49it/s]"
     ]
    },
    {
     "name": "stdout",
     "output_type": "stream",
     "text": [
      "/home/lluis/histo_lung/data/Mask_PyHIST_v2/LungAOEC_List2/000031438500372496/tilecrossed_000031438500372496.png\n"
     ]
    },
    {
     "name": "stderr",
     "output_type": "stream",
     "text": [
      "  5%|▍         | 65/1318 [00:39<13:46,  1.52it/s]"
     ]
    },
    {
     "name": "stdout",
     "output_type": "stream",
     "text": [
      "/home/lluis/histo_lung/data/Mask_PyHIST_v2/LungAOEC_List2/000035870700717719/tilecrossed_000035870700717719.png\n"
     ]
    },
    {
     "name": "stderr",
     "output_type": "stream",
     "text": [
      "  5%|▌         | 66/1318 [00:40<14:43,  1.42it/s]"
     ]
    },
    {
     "name": "stdout",
     "output_type": "stream",
     "text": [
      "/home/lluis/histo_lung/data/Mask_PyHIST_v2/LungAOEC_List2/000035204500643998/tilecrossed_000035204500643998.png\n"
     ]
    },
    {
     "name": "stderr",
     "output_type": "stream",
     "text": [
      "  5%|▌         | 67/1318 [00:40<14:50,  1.40it/s]"
     ]
    },
    {
     "name": "stdout",
     "output_type": "stream",
     "text": [
      "/home/lluis/histo_lung/data/Mask_PyHIST_v2/LungAOEC_List2/000034727200600808/tilecrossed_000034727200600808.png\n"
     ]
    },
    {
     "name": "stderr",
     "output_type": "stream",
     "text": [
      "  5%|▌         | 68/1318 [00:41<13:45,  1.51it/s]"
     ]
    },
    {
     "name": "stdout",
     "output_type": "stream",
     "text": [
      "/home/lluis/histo_lung/data/Mask_PyHIST_v2/LungAOEC_List2/000035601500689053/tilecrossed_000035601500689053.png\n"
     ]
    },
    {
     "name": "stderr",
     "output_type": "stream",
     "text": [
      "  5%|▌         | 69/1318 [00:42<14:47,  1.41it/s]"
     ]
    },
    {
     "name": "stdout",
     "output_type": "stream",
     "text": [
      "/home/lluis/histo_lung/data/Mask_PyHIST_v2/LungAOEC_List2/000034727200605349/tilecrossed_000034727200605349.png\n"
     ]
    },
    {
     "name": "stderr",
     "output_type": "stream",
     "text": [
      "  5%|▌         | 70/1318 [00:43<15:04,  1.38it/s]"
     ]
    },
    {
     "name": "stdout",
     "output_type": "stream",
     "text": [
      "/home/lluis/histo_lung/data/Mask_PyHIST_v2/LungAOEC_List2/000035478000675926/tilecrossed_000035478000675926.png\n"
     ]
    },
    {
     "name": "stderr",
     "output_type": "stream",
     "text": [
      "  5%|▌         | 71/1318 [00:43<14:47,  1.41it/s]"
     ]
    },
    {
     "name": "stdout",
     "output_type": "stream",
     "text": [
      "/home/lluis/histo_lung/data/Mask_PyHIST_v2/LungAOEC_List2/000031945100398119/tilecrossed_000031945100398119.png\n"
     ]
    },
    {
     "name": "stderr",
     "output_type": "stream",
     "text": [
      "  5%|▌         | 72/1318 [00:44<13:32,  1.53it/s]"
     ]
    },
    {
     "name": "stdout",
     "output_type": "stream",
     "text": [
      "/home/lluis/histo_lung/data/Mask_PyHIST_v2/LungAOEC_List2/000031991400401023/tilecrossed_000031991400401023.png\n"
     ]
    },
    {
     "name": "stderr",
     "output_type": "stream",
     "text": [
      "  6%|▌         | 73/1318 [00:44<13:06,  1.58it/s]"
     ]
    },
    {
     "name": "stdout",
     "output_type": "stream",
     "text": [
      "/home/lluis/histo_lung/data/Mask_PyHIST_v2/LungAOEC_List2/000035206200645884/tilecrossed_000035206200645884.png\n"
     ]
    },
    {
     "name": "stderr",
     "output_type": "stream",
     "text": [
      "  6%|▌         | 74/1318 [00:46<16:50,  1.23it/s]"
     ]
    },
    {
     "name": "stdout",
     "output_type": "stream",
     "text": [
      "/home/lluis/histo_lung/data/Mask_PyHIST_v2/LungAOEC_List2/000031991400401022/tilecrossed_000031991400401022.png\n"
     ]
    },
    {
     "name": "stderr",
     "output_type": "stream",
     "text": [
      "  6%|▌         | 75/1318 [00:47<19:48,  1.05it/s]"
     ]
    },
    {
     "name": "stdout",
     "output_type": "stream",
     "text": [
      "/home/lluis/histo_lung/data/Mask_PyHIST_v2/LungAOEC_List2/000035204500645840/tilecrossed_000035204500645840.png\n"
     ]
    },
    {
     "name": "stderr",
     "output_type": "stream",
     "text": [
      "  6%|▌         | 76/1318 [00:48<20:12,  1.02it/s]"
     ]
    },
    {
     "name": "stdout",
     "output_type": "stream",
     "text": [
      "/home/lluis/histo_lung/data/Mask_PyHIST_v2/LungAOEC_List2/000033920400528791/tilecrossed_000033920400528791.png\n"
     ]
    },
    {
     "name": "stderr",
     "output_type": "stream",
     "text": [
      "  6%|▌         | 78/1318 [00:49<14:50,  1.39it/s]"
     ]
    },
    {
     "name": "stdout",
     "output_type": "stream",
     "text": [
      "/home/lluis/histo_lung/data/Mask_PyHIST_v2/LungAOEC_List2/000033352100479581/tilecrossed_000033352100479581.png\n",
      "/home/lluis/histo_lung/data/Mask_PyHIST_v2/LungAOEC_List2/000035826400709903/tilecrossed_000035826400709903.png\n"
     ]
    },
    {
     "name": "stderr",
     "output_type": "stream",
     "text": [
      "  6%|▌         | 79/1318 [00:50<16:13,  1.27it/s]"
     ]
    },
    {
     "name": "stdout",
     "output_type": "stream",
     "text": [
      "/home/lluis/histo_lung/data/Mask_PyHIST_v2/LungAOEC_List2/000030870900342382/tilecrossed_000030870900342382.png\n"
     ]
    },
    {
     "name": "stderr",
     "output_type": "stream",
     "text": [
      "  6%|▌         | 80/1318 [00:51<15:08,  1.36it/s]"
     ]
    },
    {
     "name": "stdout",
     "output_type": "stream",
     "text": [
      "/home/lluis/histo_lung/data/Mask_PyHIST_v2/LungAOEC_List2/000035182700641291/tilecrossed_000035182700641291.png\n"
     ]
    },
    {
     "name": "stderr",
     "output_type": "stream",
     "text": [
      "  6%|▌         | 81/1318 [00:51<13:01,  1.58it/s]"
     ]
    },
    {
     "name": "stdout",
     "output_type": "stream",
     "text": [
      "/home/lluis/histo_lung/data/Mask_PyHIST_v2/LungAOEC_List2/000031209100360993/tilecrossed_000031209100360993.png\n"
     ]
    },
    {
     "name": "stderr",
     "output_type": "stream",
     "text": [
      "  6%|▌         | 82/1318 [00:52<14:42,  1.40it/s]"
     ]
    },
    {
     "name": "stdout",
     "output_type": "stream",
     "text": [
      "/home/lluis/histo_lung/data/Mask_PyHIST_v2/LungAOEC_List2/000035826400709907/tilecrossed_000035826400709907.png\n"
     ]
    },
    {
     "name": "stderr",
     "output_type": "stream",
     "text": [
      "  6%|▋         | 83/1318 [00:52<13:43,  1.50it/s]"
     ]
    },
    {
     "name": "stdout",
     "output_type": "stream",
     "text": [
      "/home/lluis/histo_lung/data/Mask_PyHIST_v2/LungAOEC_List2/000031970300397166/tilecrossed_000031970300397166.png\n"
     ]
    },
    {
     "name": "stderr",
     "output_type": "stream",
     "text": [
      "  6%|▋         | 85/1318 [00:53<10:42,  1.92it/s]"
     ]
    },
    {
     "name": "stdout",
     "output_type": "stream",
     "text": [
      "/home/lluis/histo_lung/data/Mask_PyHIST_v2/LungAOEC_List2/000031065100352638/tilecrossed_000031065100352638.png\n",
      "/home/lluis/histo_lung/data/Mask_PyHIST_v2/LungAOEC_List2/000031065100352635/tilecrossed_000031065100352635.png\n"
     ]
    },
    {
     "name": "stderr",
     "output_type": "stream",
     "text": [
      "  7%|▋         | 86/1318 [00:53<08:47,  2.34it/s]"
     ]
    },
    {
     "name": "stdout",
     "output_type": "stream",
     "text": [
      "/home/lluis/histo_lung/data/Mask_PyHIST_v2/LungAOEC_List2/000031367000367331/tilecrossed_000031367000367331.png\n"
     ]
    },
    {
     "name": "stderr",
     "output_type": "stream",
     "text": [
      "  7%|▋         | 87/1318 [00:54<10:06,  2.03it/s]"
     ]
    },
    {
     "name": "stdout",
     "output_type": "stream",
     "text": [
      "/home/lluis/histo_lung/data/Mask_PyHIST_v2/LungAOEC_List2/000031801900391063/tilecrossed_000031801900391063.png\n"
     ]
    },
    {
     "name": "stderr",
     "output_type": "stream",
     "text": [
      "  7%|▋         | 88/1318 [00:54<09:37,  2.13it/s]"
     ]
    },
    {
     "name": "stdout",
     "output_type": "stream",
     "text": [
      "/home/lluis/histo_lung/data/Mask_PyHIST_v2/LungAOEC_List2/000033942700528917/tilecrossed_000033942700528917.png\n"
     ]
    },
    {
     "name": "stderr",
     "output_type": "stream",
     "text": [
      "  7%|▋         | 89/1318 [00:55<08:55,  2.30it/s]"
     ]
    },
    {
     "name": "stdout",
     "output_type": "stream",
     "text": [
      "/home/lluis/histo_lung/data/Mask_PyHIST_v2/LungAOEC_List2/000035795500704974/tilecrossed_000035795500704974.png\n"
     ]
    },
    {
     "name": "stderr",
     "output_type": "stream",
     "text": [
      "  7%|▋         | 90/1318 [00:56<13:48,  1.48it/s]"
     ]
    },
    {
     "name": "stdout",
     "output_type": "stream",
     "text": [
      "/home/lluis/histo_lung/data/Mask_PyHIST_v2/LungAOEC_List2/000030870900342381/tilecrossed_000030870900342381.png\n"
     ]
    },
    {
     "name": "stderr",
     "output_type": "stream",
     "text": [
      "  7%|▋         | 91/1318 [00:57<12:32,  1.63it/s]"
     ]
    },
    {
     "name": "stdout",
     "output_type": "stream",
     "text": [
      "/home/lluis/histo_lung/data/Mask_PyHIST_v2/LungAOEC_List2/000032673000434048/tilecrossed_000032673000434048.png\n"
     ]
    },
    {
     "name": "stderr",
     "output_type": "stream",
     "text": [
      "  7%|▋         | 92/1318 [00:57<12:35,  1.62it/s]"
     ]
    },
    {
     "name": "stdout",
     "output_type": "stream",
     "text": [
      "/home/lluis/histo_lung/data/Mask_PyHIST_v2/LungAOEC_List2/000031957900399084/tilecrossed_000031957900399084.png\n"
     ]
    },
    {
     "name": "stderr",
     "output_type": "stream",
     "text": [
      "  7%|▋         | 93/1318 [00:58<12:20,  1.65it/s]"
     ]
    },
    {
     "name": "stdout",
     "output_type": "stream",
     "text": [
      "/home/lluis/histo_lung/data/Mask_PyHIST_v2/LungAOEC_List2/000031363500369021/tilecrossed_000031363500369021.png\n"
     ]
    },
    {
     "name": "stderr",
     "output_type": "stream",
     "text": [
      "  7%|▋         | 94/1318 [00:59<19:00,  1.07it/s]"
     ]
    },
    {
     "name": "stdout",
     "output_type": "stream",
     "text": [
      "/home/lluis/histo_lung/data/Mask_PyHIST_v2/LungAOEC_List2/000036157800751795/tilecrossed_000036157800751795.png\n"
     ]
    },
    {
     "name": "stderr",
     "output_type": "stream",
     "text": [
      "  7%|▋         | 95/1318 [01:00<16:49,  1.21it/s]"
     ]
    },
    {
     "name": "stdout",
     "output_type": "stream",
     "text": [
      "/home/lluis/histo_lung/data/Mask_PyHIST_v2/LungAOEC_List2/000035204500645852/tilecrossed_000035204500645852.png\n"
     ]
    },
    {
     "name": "stderr",
     "output_type": "stream",
     "text": [
      "  7%|▋         | 96/1318 [01:01<18:41,  1.09it/s]"
     ]
    },
    {
     "name": "stdout",
     "output_type": "stream",
     "text": [
      "/home/lluis/histo_lung/data/Mask_PyHIST_v2/LungAOEC_List2/000031263900361781/tilecrossed_000031263900361781.png\n",
      "/home/lluis/histo_lung/data/Mask_PyHIST_v2/LungAOEC_List2/000033900900528313/tilecrossed_000033900900528313.png\n"
     ]
    },
    {
     "name": "stderr",
     "output_type": "stream",
     "text": [
      "  7%|▋         | 98/1318 [01:02<11:53,  1.71it/s]"
     ]
    },
    {
     "name": "stdout",
     "output_type": "stream",
     "text": [
      "/home/lluis/histo_lung/data/Mask_PyHIST_v2/LungAOEC_List2/000033415600487586/tilecrossed_000033415600487586.png\n"
     ]
    },
    {
     "name": "stderr",
     "output_type": "stream",
     "text": [
      "  8%|▊         | 99/1318 [01:02<10:17,  1.97it/s]"
     ]
    },
    {
     "name": "stdout",
     "output_type": "stream",
     "text": [
      "/home/lluis/histo_lung/data/Mask_PyHIST_v2/LungAOEC_List2/000033922800530584/tilecrossed_000033922800530584.png\n"
     ]
    },
    {
     "name": "stderr",
     "output_type": "stream",
     "text": [
      "  8%|▊         | 100/1318 [01:03<11:52,  1.71it/s]"
     ]
    },
    {
     "name": "stdout",
     "output_type": "stream",
     "text": [
      "/home/lluis/histo_lung/data/Mask_PyHIST_v2/LungAOEC_List2/000031403200371691/tilecrossed_000031403200371691.png\n"
     ]
    },
    {
     "name": "stderr",
     "output_type": "stream",
     "text": [
      "  8%|▊         | 101/1318 [01:03<10:43,  1.89it/s]"
     ]
    },
    {
     "name": "stdout",
     "output_type": "stream",
     "text": [
      "/home/lluis/histo_lung/data/Mask_PyHIST_v2/LungAOEC_List2/000030769200337776/tilecrossed_000030769200337776.png\n"
     ]
    },
    {
     "name": "stderr",
     "output_type": "stream",
     "text": [
      "  8%|▊         | 102/1318 [01:04<13:24,  1.51it/s]"
     ]
    },
    {
     "name": "stdout",
     "output_type": "stream",
     "text": [
      "/home/lluis/histo_lung/data/Mask_PyHIST_v2/LungAOEC_List2/000030674400332783/tilecrossed_000030674400332783.png\n"
     ]
    },
    {
     "name": "stderr",
     "output_type": "stream",
     "text": [
      "  8%|▊         | 103/1318 [01:05<13:22,  1.51it/s]"
     ]
    },
    {
     "name": "stdout",
     "output_type": "stream",
     "text": [
      "/home/lluis/histo_lung/data/Mask_PyHIST_v2/LungAOEC_List2/000030870900342375/tilecrossed_000030870900342375.png\n"
     ]
    },
    {
     "name": "stderr",
     "output_type": "stream",
     "text": [
      "  8%|▊         | 104/1318 [01:06<15:52,  1.27it/s]"
     ]
    },
    {
     "name": "stdout",
     "output_type": "stream",
     "text": [
      "/home/lluis/histo_lung/data/Mask_PyHIST_v2/LungAOEC_List2/000034993200628305/tilecrossed_000034993200628305.png\n"
     ]
    },
    {
     "name": "stderr",
     "output_type": "stream",
     "text": [
      "  8%|▊         | 105/1318 [01:07<16:04,  1.26it/s]"
     ]
    },
    {
     "name": "stdout",
     "output_type": "stream",
     "text": [
      "/home/lluis/histo_lung/data/Mask_PyHIST_v2/LungAOEC_List2/000033922900530148/tilecrossed_000033922900530148.png\n"
     ]
    },
    {
     "name": "stderr",
     "output_type": "stream",
     "text": [
      "  8%|▊         | 106/1318 [01:08<18:02,  1.12it/s]"
     ]
    },
    {
     "name": "stdout",
     "output_type": "stream",
     "text": [
      "/home/lluis/histo_lung/data/Mask_PyHIST_v2/LungAOEC_List2/000033942700528897/tilecrossed_000033942700528897.png\n"
     ]
    },
    {
     "name": "stderr",
     "output_type": "stream",
     "text": [
      "  8%|▊         | 107/1318 [01:08<15:48,  1.28it/s]"
     ]
    },
    {
     "name": "stdout",
     "output_type": "stream",
     "text": [
      "/home/lluis/histo_lung/data/Mask_PyHIST_v2/LungAOEC_List2/000031305400365418/tilecrossed_000031305400365418.png\n"
     ]
    },
    {
     "name": "stderr",
     "output_type": "stream",
     "text": [
      "  8%|▊         | 108/1318 [01:09<13:42,  1.47it/s]"
     ]
    },
    {
     "name": "stdout",
     "output_type": "stream",
     "text": [
      "/home/lluis/histo_lung/data/Mask_PyHIST_v2/LungAOEC_List2/000035794800704836/tilecrossed_000035794800704836.png\n"
     ]
    },
    {
     "name": "stderr",
     "output_type": "stream",
     "text": [
      "  8%|▊         | 109/1318 [01:09<13:58,  1.44it/s]"
     ]
    },
    {
     "name": "stdout",
     "output_type": "stream",
     "text": [
      "/home/lluis/histo_lung/data/Mask_PyHIST_v2/LungAOEC_List2/000032202000412408/tilecrossed_000032202000412408.png\n"
     ]
    },
    {
     "name": "stderr",
     "output_type": "stream",
     "text": [
      "  8%|▊         | 110/1318 [01:10<13:59,  1.44it/s]"
     ]
    },
    {
     "name": "stdout",
     "output_type": "stream",
     "text": [
      "/home/lluis/histo_lung/data/Mask_PyHIST_v2/LungAOEC_List2/000031065100352634/tilecrossed_000031065100352634.png\n"
     ]
    },
    {
     "name": "stderr",
     "output_type": "stream",
     "text": [
      "  8%|▊         | 111/1318 [01:10<11:05,  1.81it/s]"
     ]
    },
    {
     "name": "stdout",
     "output_type": "stream",
     "text": [
      "/home/lluis/histo_lung/data/Mask_PyHIST_v2/LungAOEC_List2/000034129600545517/tilecrossed_000034129600545517.png\n"
     ]
    },
    {
     "name": "stderr",
     "output_type": "stream",
     "text": [
      "  8%|▊         | 112/1318 [01:11<11:04,  1.82it/s]"
     ]
    },
    {
     "name": "stdout",
     "output_type": "stream",
     "text": [
      "/home/lluis/histo_lung/data/Mask_PyHIST_v2/LungAOEC_List2/000030874300342418/tilecrossed_000030874300342418.png\n"
     ]
    },
    {
     "name": "stderr",
     "output_type": "stream",
     "text": [
      "  9%|▊         | 113/1318 [01:11<10:03,  2.00it/s]"
     ]
    },
    {
     "name": "stdout",
     "output_type": "stream",
     "text": [
      "/home/lluis/histo_lung/data/Mask_PyHIST_v2/LungAOEC_List2/000034484700580384/tilecrossed_000034484700580384.png\n"
     ]
    },
    {
     "name": "stderr",
     "output_type": "stream",
     "text": [
      "  9%|▊         | 114/1318 [01:12<09:28,  2.12it/s]"
     ]
    },
    {
     "name": "stdout",
     "output_type": "stream",
     "text": [
      "/home/lluis/histo_lung/data/Mask_PyHIST_v2/LungAOEC_List2/000033920400528799/tilecrossed_000033920400528799.png\n"
     ]
    },
    {
     "name": "stderr",
     "output_type": "stream",
     "text": [
      "  9%|▊         | 115/1318 [01:12<08:50,  2.27it/s]"
     ]
    },
    {
     "name": "stdout",
     "output_type": "stream",
     "text": [
      "/home/lluis/histo_lung/data/Mask_PyHIST_v2/LungAOEC_List2/000030759100337126/tilecrossed_000030759100337126.png\n"
     ]
    },
    {
     "name": "stderr",
     "output_type": "stream",
     "text": [
      "  9%|▉         | 116/1318 [01:13<12:33,  1.60it/s]"
     ]
    },
    {
     "name": "stdout",
     "output_type": "stream",
     "text": [
      "/home/lluis/histo_lung/data/Mask_PyHIST_v2/LungAOEC_List2/000032202000412392/tilecrossed_000032202000412392.png\n"
     ]
    },
    {
     "name": "stderr",
     "output_type": "stream",
     "text": [
      "  9%|▉         | 117/1318 [01:14<14:41,  1.36it/s]"
     ]
    },
    {
     "name": "stdout",
     "output_type": "stream",
     "text": [
      "/home/lluis/histo_lung/data/Mask_PyHIST_v2/LungAOEC_List2/000035794800704820/tilecrossed_000035794800704820.png\n"
     ]
    },
    {
     "name": "stderr",
     "output_type": "stream",
     "text": [
      "  9%|▉         | 118/1318 [01:15<15:01,  1.33it/s]"
     ]
    },
    {
     "name": "stdout",
     "output_type": "stream",
     "text": [
      "/home/lluis/histo_lung/data/Mask_PyHIST_v2/LungAOEC_List2/000033072900451791/tilecrossed_000033072900451791.png\n"
     ]
    },
    {
     "name": "stderr",
     "output_type": "stream",
     "text": [
      "  9%|▉         | 119/1318 [01:16<15:23,  1.30it/s]"
     ]
    },
    {
     "name": "stdout",
     "output_type": "stream",
     "text": [
      "/home/lluis/histo_lung/data/Mask_PyHIST_v2/LungAOEC_List2/000036000800733105/tilecrossed_000036000800733105.png\n"
     ]
    },
    {
     "name": "stderr",
     "output_type": "stream",
     "text": [
      "  9%|▉         | 120/1318 [01:16<12:20,  1.62it/s]"
     ]
    },
    {
     "name": "stdout",
     "output_type": "stream",
     "text": [
      "/home/lluis/histo_lung/data/Mask_PyHIST_v2/LungAOEC_List2/000030669500332611/tilecrossed_000030669500332611.png\n"
     ]
    },
    {
     "name": "stderr",
     "output_type": "stream",
     "text": [
      "  9%|▉         | 121/1318 [01:16<09:51,  2.02it/s]"
     ]
    },
    {
     "name": "stdout",
     "output_type": "stream",
     "text": [
      "/home/lluis/histo_lung/data/Mask_PyHIST_v2/LungAOEC_List2/000030870900342383/tilecrossed_000030870900342383.png\n"
     ]
    },
    {
     "name": "stderr",
     "output_type": "stream",
     "text": [
      "  9%|▉         | 122/1318 [01:17<12:34,  1.58it/s]"
     ]
    },
    {
     "name": "stdout",
     "output_type": "stream",
     "text": [
      "/home/lluis/histo_lung/data/Mask_PyHIST_v2/LungAOEC_List2/000035794800704830/tilecrossed_000035794800704830.png\n"
     ]
    },
    {
     "name": "stderr",
     "output_type": "stream",
     "text": [
      "  9%|▉         | 123/1318 [01:18<14:06,  1.41it/s]"
     ]
    },
    {
     "name": "stdout",
     "output_type": "stream",
     "text": [
      "/home/lluis/histo_lung/data/Mask_PyHIST_v2/LungAOEC_List2/000035599100688226/tilecrossed_000035599100688226.png\n"
     ]
    },
    {
     "name": "stderr",
     "output_type": "stream",
     "text": [
      "  9%|▉         | 124/1318 [01:19<15:40,  1.27it/s]"
     ]
    },
    {
     "name": "stdout",
     "output_type": "stream",
     "text": [
      "/home/lluis/histo_lung/data/Mask_PyHIST_v2/LungAOEC_List2/000034838900615684/tilecrossed_000034838900615684.png\n"
     ]
    },
    {
     "name": "stderr",
     "output_type": "stream",
     "text": [
      "  9%|▉         | 125/1318 [01:20<16:20,  1.22it/s]"
     ]
    },
    {
     "name": "stdout",
     "output_type": "stream",
     "text": [
      "/home/lluis/histo_lung/data/Mask_PyHIST_v2/LungAOEC_List2/000035794800704816/tilecrossed_000035794800704816.png\n"
     ]
    },
    {
     "name": "stderr",
     "output_type": "stream",
     "text": [
      " 10%|▉         | 126/1318 [01:21<16:27,  1.21it/s]"
     ]
    },
    {
     "name": "stdout",
     "output_type": "stream",
     "text": [
      "/home/lluis/histo_lung/data/Mask_PyHIST_v2/LungAOEC_List2/000035206200645880/tilecrossed_000035206200645880.png\n"
     ]
    },
    {
     "name": "stderr",
     "output_type": "stream",
     "text": [
      " 10%|▉         | 127/1318 [01:22<19:41,  1.01it/s]"
     ]
    },
    {
     "name": "stdout",
     "output_type": "stream",
     "text": [
      "/home/lluis/histo_lung/data/Mask_PyHIST_v2/LungAOEC_List2/000032897900448066/tilecrossed_000032897900448066.png\n"
     ]
    },
    {
     "name": "stderr",
     "output_type": "stream",
     "text": [
      " 10%|▉         | 128/1318 [01:23<22:10,  1.12s/it]"
     ]
    },
    {
     "name": "stdout",
     "output_type": "stream",
     "text": [
      "/home/lluis/histo_lung/data/Mask_PyHIST_v2/LungAOEC_List2/000035826400709905/tilecrossed_000035826400709905.png\n"
     ]
    },
    {
     "name": "stderr",
     "output_type": "stream",
     "text": [
      " 10%|▉         | 129/1318 [01:24<19:25,  1.02it/s]"
     ]
    },
    {
     "name": "stdout",
     "output_type": "stream",
     "text": [
      "/home/lluis/histo_lung/data/Mask_PyHIST_v2/LungAOEC_List2/000032696100434197/tilecrossed_000032696100434197.png\n"
     ]
    },
    {
     "name": "stderr",
     "output_type": "stream",
     "text": [
      " 10%|▉         | 130/1318 [01:25<18:21,  1.08it/s]"
     ]
    },
    {
     "name": "stdout",
     "output_type": "stream",
     "text": [
      "/home/lluis/histo_lung/data/Mask_PyHIST_v2/LungAOEC_List2/000035795500710709/tilecrossed_000035795500710709.png\n"
     ]
    },
    {
     "name": "stderr",
     "output_type": "stream",
     "text": [
      " 10%|▉         | 131/1318 [01:25<14:32,  1.36it/s]"
     ]
    },
    {
     "name": "stdout",
     "output_type": "stream",
     "text": [
      "/home/lluis/histo_lung/data/Mask_PyHIST_v2/LungAOEC_List2/000031990700400982/tilecrossed_000031990700400982.png\n"
     ]
    },
    {
     "name": "stderr",
     "output_type": "stream",
     "text": [
      " 10%|█         | 132/1318 [01:27<17:56,  1.10it/s]"
     ]
    },
    {
     "name": "stdout",
     "output_type": "stream",
     "text": [
      "/home/lluis/histo_lung/data/Mask_PyHIST_v2/LungAOEC_List2/000036179900753289/tilecrossed_000036179900753289.png\n"
     ]
    },
    {
     "name": "stderr",
     "output_type": "stream",
     "text": [
      " 10%|█         | 133/1318 [01:28<18:55,  1.04it/s]"
     ]
    },
    {
     "name": "stdout",
     "output_type": "stream",
     "text": [
      "/home/lluis/histo_lung/data/Mask_PyHIST_v2/LungAOEC_List2/000031447900371222/tilecrossed_000031447900371222.png\n"
     ]
    },
    {
     "name": "stderr",
     "output_type": "stream",
     "text": [
      " 10%|█         | 134/1318 [01:29<20:17,  1.03s/it]"
     ]
    },
    {
     "name": "stdout",
     "output_type": "stream",
     "text": [
      "/home/lluis/histo_lung/data/Mask_PyHIST_v2/LungAOEC_List2/000035182700645272/tilecrossed_000035182700645272.png\n"
     ]
    },
    {
     "name": "stderr",
     "output_type": "stream",
     "text": [
      " 10%|█         | 135/1318 [01:30<19:09,  1.03it/s]"
     ]
    },
    {
     "name": "stdout",
     "output_type": "stream",
     "text": [
      "/home/lluis/histo_lung/data/Mask_PyHIST_v2/LungAOEC_List2/000034131800547419/tilecrossed_000034131800547419.png\n"
     ]
    },
    {
     "name": "stderr",
     "output_type": "stream",
     "text": [
      " 10%|█         | 136/1318 [01:30<15:12,  1.30it/s]"
     ]
    },
    {
     "name": "stdout",
     "output_type": "stream",
     "text": [
      "/home/lluis/histo_lung/data/Mask_PyHIST_v2/LungAOEC_List2/000031634700383219/tilecrossed_000031634700383219.png\n"
     ]
    },
    {
     "name": "stderr",
     "output_type": "stream",
     "text": [
      " 10%|█         | 137/1318 [01:31<19:29,  1.01it/s]"
     ]
    },
    {
     "name": "stdout",
     "output_type": "stream",
     "text": [
      "/home/lluis/histo_lung/data/Mask_PyHIST_v2/LungAOEC_List2/000032316200417970/tilecrossed_000032316200417970.png\n"
     ]
    },
    {
     "name": "stderr",
     "output_type": "stream",
     "text": [
      " 10%|█         | 138/1318 [01:32<18:31,  1.06it/s]"
     ]
    },
    {
     "name": "stdout",
     "output_type": "stream",
     "text": [
      "/home/lluis/histo_lung/data/Mask_PyHIST_v2/LungAOEC_List2/000034131800547429/tilecrossed_000034131800547429.png\n"
     ]
    },
    {
     "name": "stderr",
     "output_type": "stream",
     "text": [
      " 11%|█         | 139/1318 [01:33<16:35,  1.18it/s]"
     ]
    },
    {
     "name": "stdout",
     "output_type": "stream",
     "text": [
      "/home/lluis/histo_lung/data/Mask_PyHIST_v2/LungAOEC_List2/000031065100352636/tilecrossed_000031065100352636.png\n"
     ]
    },
    {
     "name": "stderr",
     "output_type": "stream",
     "text": [
      " 11%|█         | 140/1318 [01:33<13:00,  1.51it/s]"
     ]
    },
    {
     "name": "stdout",
     "output_type": "stream",
     "text": [
      "/home/lluis/histo_lung/data/Mask_PyHIST_v2/LungAOEC_List2/000036179900753291/tilecrossed_000036179900753291.png\n"
     ]
    },
    {
     "name": "stderr",
     "output_type": "stream",
     "text": [
      " 11%|█         | 141/1318 [01:34<12:47,  1.53it/s]"
     ]
    },
    {
     "name": "stdout",
     "output_type": "stream",
     "text": [
      "/home/lluis/histo_lung/data/Mask_PyHIST_v2/LungAOEC_List2/000035182700645266/tilecrossed_000035182700645266.png\n"
     ]
    },
    {
     "name": "stderr",
     "output_type": "stream",
     "text": [
      " 11%|█         | 142/1318 [01:34<13:17,  1.48it/s]"
     ]
    },
    {
     "name": "stdout",
     "output_type": "stream",
     "text": [
      "/home/lluis/histo_lung/data/Mask_PyHIST_v2/LungAOEC_List2/000034727200605347/tilecrossed_000034727200605347.png\n"
     ]
    },
    {
     "name": "stderr",
     "output_type": "stream",
     "text": [
      " 11%|█         | 143/1318 [01:35<11:50,  1.65it/s]"
     ]
    },
    {
     "name": "stdout",
     "output_type": "stream",
     "text": [
      "/home/lluis/histo_lung/data/Mask_PyHIST_v2/LungAOEC_List2/000032434900422318/tilecrossed_000032434900422318.png\n"
     ]
    },
    {
     "name": "stderr",
     "output_type": "stream",
     "text": [
      " 11%|█         | 144/1318 [01:36<11:40,  1.68it/s]"
     ]
    },
    {
     "name": "stdout",
     "output_type": "stream",
     "text": [
      "/home/lluis/histo_lung/data/Mask_PyHIST_v2/LungAOEC_List2/000030870900342373/tilecrossed_000030870900342373.png\n"
     ]
    },
    {
     "name": "stderr",
     "output_type": "stream",
     "text": [
      " 11%|█         | 145/1318 [01:37<18:00,  1.09it/s]"
     ]
    },
    {
     "name": "stdout",
     "output_type": "stream",
     "text": [
      "/home/lluis/histo_lung/data/Mask_PyHIST_v2/LungAOEC_List2/000031329100365904/tilecrossed_000031329100365904.png\n"
     ]
    },
    {
     "name": "stderr",
     "output_type": "stream",
     "text": [
      " 11%|█         | 146/1318 [01:38<16:18,  1.20it/s]"
     ]
    },
    {
     "name": "stdout",
     "output_type": "stream",
     "text": [
      "/home/lluis/histo_lung/data/Mask_PyHIST_v2/LungAOEC_List2/000036157800751789/tilecrossed_000036157800751789.png\n"
     ]
    },
    {
     "name": "stderr",
     "output_type": "stream",
     "text": [
      " 11%|█         | 147/1318 [01:39<16:22,  1.19it/s]"
     ]
    },
    {
     "name": "stdout",
     "output_type": "stream",
     "text": [
      "/home/lluis/histo_lung/data/Mask_PyHIST_v2/LungAOEC_List2/000031447900372760/tilecrossed_000031447900372760.png\n"
     ]
    },
    {
     "name": "stderr",
     "output_type": "stream",
     "text": [
      " 11%|█         | 148/1318 [01:40<16:36,  1.17it/s]"
     ]
    },
    {
     "name": "stdout",
     "output_type": "stream",
     "text": [
      "/home/lluis/histo_lung/data/Mask_PyHIST_v2/LungAOEC_List2/000030674400332784/tilecrossed_000030674400332784.png\n"
     ]
    },
    {
     "name": "stderr",
     "output_type": "stream",
     "text": [
      " 11%|█▏        | 149/1318 [01:40<15:53,  1.23it/s]"
     ]
    },
    {
     "name": "stdout",
     "output_type": "stream",
     "text": [
      "/home/lluis/histo_lung/data/Mask_PyHIST_v2/LungAOEC_List2/000033037000450697/tilecrossed_000033037000450697.png\n"
     ]
    },
    {
     "name": "stderr",
     "output_type": "stream",
     "text": [
      " 11%|█▏        | 150/1318 [01:41<14:59,  1.30it/s]"
     ]
    },
    {
     "name": "stdout",
     "output_type": "stream",
     "text": [
      "/home/lluis/histo_lung/data/Mask_PyHIST_v2/LungAOEC_List2/000031801900391057/tilecrossed_000031801900391057.png\n"
     ]
    },
    {
     "name": "stderr",
     "output_type": "stream",
     "text": [
      " 12%|█▏        | 152/1318 [01:42<09:57,  1.95it/s]"
     ]
    },
    {
     "name": "stdout",
     "output_type": "stream",
     "text": [
      "/home/lluis/histo_lung/data/Mask_PyHIST_v2/LungAOEC_List2/000031991400401012/tilecrossed_000031991400401012.png\n",
      "/home/lluis/histo_lung/data/Mask_PyHIST_v2/LungAOEC_List2/000033922900530158/tilecrossed_000033922900530158.png\n"
     ]
    },
    {
     "name": "stderr",
     "output_type": "stream",
     "text": [
      " 12%|█▏        | 153/1318 [01:43<12:53,  1.51it/s]"
     ]
    },
    {
     "name": "stdout",
     "output_type": "stream",
     "text": [
      "/home/lluis/histo_lung/data/Mask_PyHIST_v2/LungAOEC_List2/000035794800704824/tilecrossed_000035794800704824.png\n"
     ]
    },
    {
     "name": "stderr",
     "output_type": "stream",
     "text": [
      " 12%|█▏        | 154/1318 [01:43<13:51,  1.40it/s]"
     ]
    },
    {
     "name": "stdout",
     "output_type": "stream",
     "text": [
      "/home/lluis/histo_lung/data/Mask_PyHIST_v2/LungAOEC_List2/000035791500704463/tilecrossed_000035791500704463.png\n"
     ]
    },
    {
     "name": "stderr",
     "output_type": "stream",
     "text": [
      " 12%|█▏        | 155/1318 [01:44<13:04,  1.48it/s]"
     ]
    },
    {
     "name": "stdout",
     "output_type": "stream",
     "text": [
      "/home/lluis/histo_lung/data/Mask_PyHIST_v2/LungAOEC_List2/000031796600388465/tilecrossed_000031796600388465.png\n"
     ]
    },
    {
     "name": "stderr",
     "output_type": "stream",
     "text": [
      " 12%|█▏        | 156/1318 [01:45<13:19,  1.45it/s]"
     ]
    },
    {
     "name": "stdout",
     "output_type": "stream",
     "text": [
      "/home/lluis/histo_lung/data/Mask_PyHIST_v2/LungAOEC_List2/000034476800579252/tilecrossed_000034476800579252.png\n"
     ]
    },
    {
     "name": "stderr",
     "output_type": "stream",
     "text": [
      " 12%|█▏        | 157/1318 [01:45<13:30,  1.43it/s]"
     ]
    },
    {
     "name": "stdout",
     "output_type": "stream",
     "text": [
      "/home/lluis/histo_lung/data/Mask_PyHIST_v2/LungAOEC_List2/000032006400399698/tilecrossed_000032006400399698.png\n"
     ]
    },
    {
     "name": "stderr",
     "output_type": "stream",
     "text": [
      " 12%|█▏        | 158/1318 [01:46<12:11,  1.59it/s]"
     ]
    },
    {
     "name": "stdout",
     "output_type": "stream",
     "text": [
      "/home/lluis/histo_lung/data/Mask_PyHIST_v2/LungAOEC_List2/000030674400332788/tilecrossed_000030674400332788.png\n"
     ]
    },
    {
     "name": "stderr",
     "output_type": "stream",
     "text": [
      " 12%|█▏        | 159/1318 [01:47<15:04,  1.28it/s]"
     ]
    },
    {
     "name": "stdout",
     "output_type": "stream",
     "text": [
      "/home/lluis/histo_lung/data/Mask_PyHIST_v2/LungAOEC_List2/000035601500689061/tilecrossed_000035601500689061.png\n"
     ]
    },
    {
     "name": "stderr",
     "output_type": "stream",
     "text": [
      " 12%|█▏        | 160/1318 [01:47<12:10,  1.58it/s]"
     ]
    },
    {
     "name": "stdout",
     "output_type": "stream",
     "text": [
      "/home/lluis/histo_lung/data/Mask_PyHIST_v2/LungAOEC_List2/000031990700398030/tilecrossed_000031990700398030.png\n"
     ]
    },
    {
     "name": "stderr",
     "output_type": "stream",
     "text": [
      " 12%|█▏        | 161/1318 [01:48<10:09,  1.90it/s]"
     ]
    },
    {
     "name": "stdout",
     "output_type": "stream",
     "text": [
      "/home/lluis/histo_lung/data/Mask_PyHIST_v2/LungAOEC_List2/000034484100581831/tilecrossed_000034484100581831.png\n"
     ]
    },
    {
     "name": "stderr",
     "output_type": "stream",
     "text": [
      " 12%|█▏        | 162/1318 [01:49<12:41,  1.52it/s]"
     ]
    },
    {
     "name": "stdout",
     "output_type": "stream",
     "text": [
      "/home/lluis/histo_lung/data/Mask_PyHIST_v2/LungAOEC_List2/000035271400654395/tilecrossed_000035271400654395.png\n"
     ]
    },
    {
     "name": "stderr",
     "output_type": "stream",
     "text": [
      " 12%|█▏        | 163/1318 [01:49<10:10,  1.89it/s]"
     ]
    },
    {
     "name": "stdout",
     "output_type": "stream",
     "text": [
      "/home/lluis/histo_lung/data/Mask_PyHIST_v2/LungAOEC_List2/000033938300530917/tilecrossed_000033938300530917.png\n"
     ]
    },
    {
     "name": "stderr",
     "output_type": "stream",
     "text": [
      " 12%|█▏        | 164/1318 [01:49<10:27,  1.84it/s]"
     ]
    },
    {
     "name": "stdout",
     "output_type": "stream",
     "text": [
      "/home/lluis/histo_lung/data/Mask_PyHIST_v2/LungAOEC_List2/000035182300641063/tilecrossed_000035182300641063.png\n"
     ]
    },
    {
     "name": "stderr",
     "output_type": "stream",
     "text": [
      " 13%|█▎        | 165/1318 [01:50<10:36,  1.81it/s]"
     ]
    },
    {
     "name": "stdout",
     "output_type": "stream",
     "text": [
      "/home/lluis/histo_lung/data/Mask_PyHIST_v2/LungAOEC_List2/000035206200645864/tilecrossed_000035206200645864.png\n"
     ]
    },
    {
     "name": "stderr",
     "output_type": "stream",
     "text": [
      " 13%|█▎        | 166/1318 [01:51<14:57,  1.28it/s]"
     ]
    },
    {
     "name": "stdout",
     "output_type": "stream",
     "text": [
      "/home/lluis/histo_lung/data/Mask_PyHIST_v2/LungAOEC_List2/000031309400365181/tilecrossed_000031309400365181.png\n"
     ]
    },
    {
     "name": "stderr",
     "output_type": "stream",
     "text": [
      " 13%|█▎        | 167/1318 [01:52<13:25,  1.43it/s]"
     ]
    },
    {
     "name": "stdout",
     "output_type": "stream",
     "text": [
      "/home/lluis/histo_lung/data/Mask_PyHIST_v2/LungAOEC_List2/000033922900530144/tilecrossed_000033922900530144.png\n"
     ]
    },
    {
     "name": "stderr",
     "output_type": "stream",
     "text": [
      " 13%|█▎        | 168/1318 [01:53<17:53,  1.07it/s]"
     ]
    },
    {
     "name": "stdout",
     "output_type": "stream",
     "text": [
      "/home/lluis/histo_lung/data/Mask_PyHIST_v2/LungAOEC_List2/000031796600388466/tilecrossed_000031796600388466.png\n"
     ]
    },
    {
     "name": "stderr",
     "output_type": "stream",
     "text": [
      " 13%|█▎        | 169/1318 [01:54<15:17,  1.25it/s]"
     ]
    },
    {
     "name": "stdout",
     "output_type": "stream",
     "text": [
      "/home/lluis/histo_lung/data/Mask_PyHIST_v2/LungAOEC_List2/000036157800751807/tilecrossed_000036157800751807.png\n"
     ]
    },
    {
     "name": "stderr",
     "output_type": "stream",
     "text": [
      " 13%|█▎        | 170/1318 [01:55<15:44,  1.22it/s]"
     ]
    },
    {
     "name": "stdout",
     "output_type": "stream",
     "text": [
      "/home/lluis/histo_lung/data/Mask_PyHIST_v2/LungAOEC_List2/000031346200367698/tilecrossed_000031346200367698.png\n"
     ]
    },
    {
     "name": "stderr",
     "output_type": "stream",
     "text": [
      " 13%|█▎        | 171/1318 [01:56<17:01,  1.12it/s]"
     ]
    },
    {
     "name": "stdout",
     "output_type": "stream",
     "text": [
      "/home/lluis/histo_lung/data/Mask_PyHIST_v2/LungAOEC_List2/000030769200337778/tilecrossed_000030769200337778.png\n"
     ]
    },
    {
     "name": "stderr",
     "output_type": "stream",
     "text": [
      " 13%|█▎        | 172/1318 [01:57<19:07,  1.00s/it]"
     ]
    },
    {
     "name": "stdout",
     "output_type": "stream",
     "text": [
      "/home/lluis/histo_lung/data/Mask_PyHIST_v2/LungAOEC_List2/000034183600550190/tilecrossed_000034183600550190.png\n"
     ]
    },
    {
     "name": "stderr",
     "output_type": "stream",
     "text": [
      " 13%|█▎        | 174/1318 [01:57<11:38,  1.64it/s]"
     ]
    },
    {
     "name": "stdout",
     "output_type": "stream",
     "text": [
      "/home/lluis/histo_lung/data/Mask_PyHIST_v2/LungAOEC_List2/000034484100581835/tilecrossed_000034484100581835.png\n",
      "/home/lluis/histo_lung/data/Mask_PyHIST_v2/LungAOEC_List2/000030399700317763/tilecrossed_000030399700317763.png\n"
     ]
    },
    {
     "name": "stderr",
     "output_type": "stream",
     "text": [
      " 13%|█▎        | 175/1318 [01:57<08:44,  2.18it/s]"
     ]
    },
    {
     "name": "stdout",
     "output_type": "stream",
     "text": [
      "/home/lluis/histo_lung/data/Mask_PyHIST_v2/LungAOEC_List2/000031438500372499/tilecrossed_000031438500372499.png\n"
     ]
    },
    {
     "name": "stderr",
     "output_type": "stream",
     "text": [
      " 13%|█▎        | 176/1318 [01:58<08:38,  2.20it/s]"
     ]
    },
    {
     "name": "stdout",
     "output_type": "stream",
     "text": [
      "/home/lluis/histo_lung/data/Mask_PyHIST_v2/LungAOEC_List2/000034183600550192/tilecrossed_000034183600550192.png\n"
     ]
    },
    {
     "name": "stderr",
     "output_type": "stream",
     "text": [
      " 13%|█▎        | 177/1318 [01:59<10:19,  1.84it/s]"
     ]
    },
    {
     "name": "stdout",
     "output_type": "stream",
     "text": [
      "/home/lluis/histo_lung/data/Mask_PyHIST_v2/LungAOEC_List2/000031801900391061/tilecrossed_000031801900391061.png\n"
     ]
    },
    {
     "name": "stderr",
     "output_type": "stream",
     "text": [
      " 14%|█▎        | 178/1318 [02:00<12:07,  1.57it/s]"
     ]
    },
    {
     "name": "stdout",
     "output_type": "stream",
     "text": [
      "/home/lluis/histo_lung/data/Mask_PyHIST_v2/LungAOEC_List2/000036157800751791/tilecrossed_000036157800751791.png\n"
     ]
    },
    {
     "name": "stderr",
     "output_type": "stream",
     "text": [
      " 14%|█▎        | 179/1318 [02:01<13:55,  1.36it/s]"
     ]
    },
    {
     "name": "stdout",
     "output_type": "stream",
     "text": [
      "/home/lluis/histo_lung/data/Mask_PyHIST_v2/LungAOEC_List2/000032202000412406/tilecrossed_000032202000412406.png\n"
     ]
    },
    {
     "name": "stderr",
     "output_type": "stream",
     "text": [
      " 14%|█▎        | 180/1318 [02:01<12:47,  1.48it/s]"
     ]
    },
    {
     "name": "stdout",
     "output_type": "stream",
     "text": [
      "/home/lluis/histo_lung/data/Mask_PyHIST_v2/LungAOEC_List2/000036283600766199/tilecrossed_000036283600766199.png\n"
     ]
    },
    {
     "name": "stderr",
     "output_type": "stream",
     "text": [
      " 14%|█▎        | 181/1318 [02:02<12:13,  1.55it/s]"
     ]
    },
    {
     "name": "stdout",
     "output_type": "stream",
     "text": [
      "/home/lluis/histo_lung/data/Mask_PyHIST_v2/LungAOEC_List2/000031447900372762/tilecrossed_000031447900372762.png\n"
     ]
    },
    {
     "name": "stderr",
     "output_type": "stream",
     "text": [
      " 14%|█▍        | 182/1318 [02:03<15:45,  1.20it/s]"
     ]
    },
    {
     "name": "stdout",
     "output_type": "stream",
     "text": [
      "/home/lluis/histo_lung/data/Mask_PyHIST_v2/LungAOEC_List2/000035795500704966/tilecrossed_000035795500704966.png\n"
     ]
    },
    {
     "name": "stderr",
     "output_type": "stream",
     "text": [
      " 14%|█▍        | 183/1318 [02:04<15:28,  1.22it/s]"
     ]
    },
    {
     "name": "stdout",
     "output_type": "stream",
     "text": [
      "/home/lluis/histo_lung/data/Mask_PyHIST_v2/LungAOEC_List2/000035984200731450/tilecrossed_000035984200731450.png\n"
     ]
    },
    {
     "name": "stderr",
     "output_type": "stream",
     "text": [
      " 14%|█▍        | 184/1318 [02:04<12:44,  1.48it/s]"
     ]
    },
    {
     "name": "stdout",
     "output_type": "stream",
     "text": [
      "/home/lluis/histo_lung/data/Mask_PyHIST_v2/LungAOEC_List2/000035599100680649/tilecrossed_000035599100680649.png\n"
     ]
    },
    {
     "name": "stderr",
     "output_type": "stream",
     "text": [
      " 14%|█▍        | 185/1318 [02:05<13:20,  1.42it/s]"
     ]
    },
    {
     "name": "stdout",
     "output_type": "stream",
     "text": [
      "/home/lluis/histo_lung/data/Mask_PyHIST_v2/LungAOEC_List2/000035795500704972/tilecrossed_000035795500704972.png\n"
     ]
    },
    {
     "name": "stderr",
     "output_type": "stream",
     "text": [
      " 14%|█▍        | 186/1318 [02:05<11:20,  1.66it/s]"
     ]
    },
    {
     "name": "stdout",
     "output_type": "stream",
     "text": [
      "/home/lluis/histo_lung/data/Mask_PyHIST_v2/LungAOEC_List2/000030982400347721/tilecrossed_000030982400347721.png\n"
     ]
    },
    {
     "name": "stderr",
     "output_type": "stream",
     "text": [
      " 14%|█▍        | 187/1318 [02:06<10:59,  1.72it/s]"
     ]
    },
    {
     "name": "stdout",
     "output_type": "stream",
     "text": [
      "/home/lluis/histo_lung/data/Mask_PyHIST_v2/LungAOEC_List2/000030769200337775/tilecrossed_000030769200337775.png\n"
     ]
    },
    {
     "name": "stderr",
     "output_type": "stream",
     "text": [
      " 14%|█▍        | 188/1318 [02:06<12:09,  1.55it/s]"
     ]
    },
    {
     "name": "stdout",
     "output_type": "stream",
     "text": [
      "/home/lluis/histo_lung/data/Mask_PyHIST_v2/LungAOEC_List2/000031451200373385/tilecrossed_000031451200373385.png\n"
     ]
    },
    {
     "name": "stderr",
     "output_type": "stream",
     "text": [
      " 14%|█▍        | 189/1318 [02:07<11:02,  1.70it/s]"
     ]
    },
    {
     "name": "stdout",
     "output_type": "stream",
     "text": [
      "/home/lluis/histo_lung/data/Mask_PyHIST_v2/LungAOEC_List2/000036157800750329/tilecrossed_000036157800750329.png\n"
     ]
    },
    {
     "name": "stderr",
     "output_type": "stream",
     "text": [
      " 14%|█▍        | 190/1318 [02:08<11:00,  1.71it/s]"
     ]
    },
    {
     "name": "stdout",
     "output_type": "stream",
     "text": [
      "/home/lluis/histo_lung/data/Mask_PyHIST_v2/LungAOEC_List2/000035601500689063/tilecrossed_000035601500689063.png\n"
     ]
    },
    {
     "name": "stderr",
     "output_type": "stream",
     "text": [
      " 14%|█▍        | 191/1318 [02:08<12:13,  1.54it/s]"
     ]
    },
    {
     "name": "stdout",
     "output_type": "stream",
     "text": [
      "/home/lluis/histo_lung/data/Mask_PyHIST_v2/LungAOEC_List2/000031990700400985/tilecrossed_000031990700400985.png\n"
     ]
    },
    {
     "name": "stderr",
     "output_type": "stream",
     "text": [
      " 15%|█▍        | 192/1318 [02:09<13:03,  1.44it/s]"
     ]
    },
    {
     "name": "stdout",
     "output_type": "stream",
     "text": [
      "/home/lluis/histo_lung/data/Mask_PyHIST_v2/LungAOEC_List2/000035206200645862/tilecrossed_000035206200645862.png\n"
     ]
    },
    {
     "name": "stderr",
     "output_type": "stream",
     "text": [
      " 15%|█▍        | 193/1318 [02:10<14:13,  1.32it/s]"
     ]
    },
    {
     "name": "stdout",
     "output_type": "stream",
     "text": [
      "/home/lluis/histo_lung/data/Mask_PyHIST_v2/LungAOEC_List2/000035478000675908/tilecrossed_000035478000675908.png\n"
     ]
    },
    {
     "name": "stderr",
     "output_type": "stream",
     "text": [
      " 15%|█▍        | 194/1318 [02:11<13:29,  1.39it/s]"
     ]
    },
    {
     "name": "stdout",
     "output_type": "stream",
     "text": [
      "/home/lluis/histo_lung/data/Mask_PyHIST_v2/LungAOEC_List2/000034545400586281/tilecrossed_000034545400586281.png\n"
     ]
    },
    {
     "name": "stderr",
     "output_type": "stream",
     "text": [
      " 15%|█▍        | 195/1318 [02:11<10:41,  1.75it/s]"
     ]
    },
    {
     "name": "stdout",
     "output_type": "stream",
     "text": [
      "/home/lluis/histo_lung/data/Mask_PyHIST_v2/LungAOEC_List2/000032006400398909/tilecrossed_000032006400398909.png\n"
     ]
    },
    {
     "name": "stderr",
     "output_type": "stream",
     "text": [
      " 15%|█▍        | 196/1318 [02:11<09:43,  1.92it/s]"
     ]
    },
    {
     "name": "stdout",
     "output_type": "stream",
     "text": [
      "/home/lluis/histo_lung/data/Mask_PyHIST_v2/LungAOEC_List2/000035215500647264/tilecrossed_000035215500647264.png\n"
     ]
    },
    {
     "name": "stderr",
     "output_type": "stream",
     "text": [
      " 15%|█▍        | 197/1318 [02:12<11:21,  1.65it/s]"
     ]
    },
    {
     "name": "stdout",
     "output_type": "stream",
     "text": [
      "/home/lluis/histo_lung/data/Mask_PyHIST_v2/LungAOEC_List2/000031367000367334/tilecrossed_000031367000367334.png\n"
     ]
    },
    {
     "name": "stderr",
     "output_type": "stream",
     "text": [
      " 15%|█▌        | 198/1318 [02:12<10:13,  1.83it/s]"
     ]
    },
    {
     "name": "stdout",
     "output_type": "stream",
     "text": [
      "/home/lluis/histo_lung/data/Mask_PyHIST_v2/LungAOEC_List2/000031309400365180/tilecrossed_000031309400365180.png\n"
     ]
    },
    {
     "name": "stderr",
     "output_type": "stream",
     "text": [
      " 15%|█▌        | 199/1318 [02:13<09:53,  1.88it/s]"
     ]
    },
    {
     "name": "stdout",
     "output_type": "stream",
     "text": [
      "/home/lluis/histo_lung/data/Mask_PyHIST_v2/LungAOEC_List2/000034524300583737/tilecrossed_000034524300583737.png\n"
     ]
    },
    {
     "name": "stderr",
     "output_type": "stream",
     "text": [
      " 15%|█▌        | 200/1318 [02:14<10:07,  1.84it/s]"
     ]
    },
    {
     "name": "stdout",
     "output_type": "stream",
     "text": [
      "/home/lluis/histo_lung/data/Mask_PyHIST_v2/LungAOEC_List2/000035826400709909/tilecrossed_000035826400709909.png\n"
     ]
    },
    {
     "name": "stderr",
     "output_type": "stream",
     "text": [
      " 15%|█▌        | 201/1318 [02:14<10:23,  1.79it/s]"
     ]
    },
    {
     "name": "stdout",
     "output_type": "stream",
     "text": [
      "/home/lluis/histo_lung/data/Mask_PyHIST_v2/LungAOEC_List2/000034181300550454/tilecrossed_000034181300550454.png\n"
     ]
    },
    {
     "name": "stderr",
     "output_type": "stream",
     "text": [
      " 15%|█▌        | 202/1318 [02:15<12:34,  1.48it/s]"
     ]
    },
    {
     "name": "stdout",
     "output_type": "stream",
     "text": [
      "/home/lluis/histo_lung/data/Mask_PyHIST_v2/LungAOEC_List2/000031447900372761/tilecrossed_000031447900372761.png\n"
     ]
    },
    {
     "name": "stderr",
     "output_type": "stream",
     "text": [
      " 15%|█▌        | 203/1318 [02:16<13:59,  1.33it/s]"
     ]
    },
    {
     "name": "stdout",
     "output_type": "stream",
     "text": [
      "/home/lluis/histo_lung/data/Mask_PyHIST_v2/LungAOEC_List2/000036283000761891/tilecrossed_000036283000761891.png\n"
     ]
    },
    {
     "name": "stderr",
     "output_type": "stream",
     "text": [
      " 15%|█▌        | 204/1318 [02:16<11:19,  1.64it/s]"
     ]
    },
    {
     "name": "stdout",
     "output_type": "stream",
     "text": [
      "/home/lluis/histo_lung/data/Mask_PyHIST_v2/LungAOEC_List2/000030494900323692/tilecrossed_000030494900323692.png\n"
     ]
    },
    {
     "name": "stderr",
     "output_type": "stream",
     "text": [
      " 16%|█▌        | 206/1318 [02:17<07:37,  2.43it/s]"
     ]
    },
    {
     "name": "stdout",
     "output_type": "stream",
     "text": [
      "/home/lluis/histo_lung/data/Mask_PyHIST_v2/LungAOEC_List2/000033554700501028/tilecrossed_000033554700501028.png\n",
      "/home/lluis/histo_lung/data/Mask_PyHIST_v2/LungAOEC_List2/000030494900323684/tilecrossed_000030494900323684.png\n"
     ]
    },
    {
     "name": "stderr",
     "output_type": "stream",
     "text": [
      " 16%|█▌        | 207/1318 [02:17<06:39,  2.78it/s]"
     ]
    },
    {
     "name": "stdout",
     "output_type": "stream",
     "text": [
      "/home/lluis/histo_lung/data/Mask_PyHIST_v2/LungAOEC_List2/000033920400528795/tilecrossed_000033920400528795.png\n"
     ]
    },
    {
     "name": "stderr",
     "output_type": "stream",
     "text": [
      " 16%|█▌        | 209/1318 [02:18<06:07,  3.02it/s]"
     ]
    },
    {
     "name": "stdout",
     "output_type": "stream",
     "text": [
      "/home/lluis/histo_lung/data/Mask_PyHIST_v2/LungAOEC_List2/000033382400476105/tilecrossed_000033382400476105.png\n",
      "/home/lluis/histo_lung/data/Mask_PyHIST_v2/LungAOEC_List2/000031970300399677/tilecrossed_000031970300399677.png\n"
     ]
    },
    {
     "name": "stderr",
     "output_type": "stream",
     "text": [
      " 16%|█▌        | 210/1318 [02:19<11:54,  1.55it/s]"
     ]
    },
    {
     "name": "stdout",
     "output_type": "stream",
     "text": [
      "/home/lluis/histo_lung/data/Mask_PyHIST_v2/LungAOEC_List2/000033918800528775/tilecrossed_000033918800528775.png\n"
     ]
    },
    {
     "name": "stderr",
     "output_type": "stream",
     "text": [
      " 16%|█▌        | 211/1318 [02:20<13:32,  1.36it/s]"
     ]
    },
    {
     "name": "stdout",
     "output_type": "stream",
     "text": [
      "/home/lluis/histo_lung/data/Mask_PyHIST_v2/LungAOEC_List2/000030870900342372/tilecrossed_000030870900342372.png\n"
     ]
    },
    {
     "name": "stderr",
     "output_type": "stream",
     "text": [
      " 16%|█▌        | 212/1318 [02:21<16:40,  1.11it/s]"
     ]
    },
    {
     "name": "stdout",
     "output_type": "stream",
     "text": [
      "/home/lluis/histo_lung/data/Mask_PyHIST_v2/LungAOEC_List2/000031438500372492/tilecrossed_000031438500372492.png\n"
     ]
    },
    {
     "name": "stderr",
     "output_type": "stream",
     "text": [
      " 16%|█▌        | 213/1318 [02:22<14:48,  1.24it/s]"
     ]
    },
    {
     "name": "stdout",
     "output_type": "stream",
     "text": [
      "/home/lluis/histo_lung/data/Mask_PyHIST_v2/LungAOEC_List2/000035215500647260/tilecrossed_000035215500647260.png\n"
     ]
    },
    {
     "name": "stderr",
     "output_type": "stream",
     "text": [
      " 16%|█▌        | 214/1318 [02:23<15:41,  1.17it/s]"
     ]
    },
    {
     "name": "stdout",
     "output_type": "stream",
     "text": [
      "/home/lluis/histo_lung/data/Mask_PyHIST_v2/LungAOEC_List2/000031438500372497/tilecrossed_000031438500372497.png\n"
     ]
    },
    {
     "name": "stderr",
     "output_type": "stream",
     "text": [
      " 16%|█▋        | 215/1318 [02:23<14:11,  1.30it/s]"
     ]
    },
    {
     "name": "stdout",
     "output_type": "stream",
     "text": [
      "/home/lluis/histo_lung/data/Mask_PyHIST_v2/LungAOEC_List2/000034838900615673/tilecrossed_000034838900615673.png\n"
     ]
    },
    {
     "name": "stderr",
     "output_type": "stream",
     "text": [
      " 16%|█▋        | 216/1318 [02:24<13:53,  1.32it/s]"
     ]
    },
    {
     "name": "stdout",
     "output_type": "stream",
     "text": [
      "/home/lluis/histo_lung/data/Mask_PyHIST_v2/LungAOEC_List2/000035794800704822/tilecrossed_000035794800704822.png\n"
     ]
    },
    {
     "name": "stderr",
     "output_type": "stream",
     "text": [
      " 16%|█▋        | 217/1318 [02:25<14:06,  1.30it/s]"
     ]
    },
    {
     "name": "stdout",
     "output_type": "stream",
     "text": [
      "/home/lluis/histo_lung/data/Mask_PyHIST_v2/LungAOEC_List2/000033920400528793/tilecrossed_000033920400528793.png\n"
     ]
    },
    {
     "name": "stderr",
     "output_type": "stream",
     "text": [
      " 17%|█▋        | 218/1318 [02:26<15:57,  1.15it/s]"
     ]
    },
    {
     "name": "stdout",
     "output_type": "stream",
     "text": [
      "/home/lluis/histo_lung/data/Mask_PyHIST_v2/LungAOEC_List2/000032897900448063/tilecrossed_000032897900448063.png\n"
     ]
    },
    {
     "name": "stderr",
     "output_type": "stream",
     "text": [
      " 17%|█▋        | 219/1318 [02:27<18:35,  1.02s/it]"
     ]
    },
    {
     "name": "stdout",
     "output_type": "stream",
     "text": [
      "/home/lluis/histo_lung/data/Mask_PyHIST_v2/LungAOEC_List2/000034181300549773/tilecrossed_000034181300549773.png\n"
     ]
    },
    {
     "name": "stderr",
     "output_type": "stream",
     "text": [
      " 17%|█▋        | 221/1318 [02:28<13:10,  1.39it/s]"
     ]
    },
    {
     "name": "stdout",
     "output_type": "stream",
     "text": [
      "/home/lluis/histo_lung/data/Mask_PyHIST_v2/LungAOEC_List2/000033352100479577/tilecrossed_000033352100479577.png\n",
      "/home/lluis/histo_lung/data/Mask_PyHIST_v2/LungAOEC_List2/000033918800528767/tilecrossed_000033918800528767.png\n"
     ]
    },
    {
     "name": "stderr",
     "output_type": "stream",
     "text": [
      " 17%|█▋        | 222/1318 [02:29<13:36,  1.34it/s]"
     ]
    },
    {
     "name": "stdout",
     "output_type": "stream",
     "text": [
      "/home/lluis/histo_lung/data/Mask_PyHIST_v2/LungAOEC_List2/000033918800528765/tilecrossed_000033918800528765.png\n"
     ]
    },
    {
     "name": "stderr",
     "output_type": "stream",
     "text": [
      " 17%|█▋        | 223/1318 [02:30<13:48,  1.32it/s]"
     ]
    },
    {
     "name": "stdout",
     "output_type": "stream",
     "text": [
      "/home/lluis/histo_lung/data/Mask_PyHIST_v2/LungAOEC_List2/000036242800760961/tilecrossed_000036242800760961.png\n"
     ]
    },
    {
     "name": "stderr",
     "output_type": "stream",
     "text": [
      " 17%|█▋        | 224/1318 [02:31<16:14,  1.12it/s]"
     ]
    },
    {
     "name": "stdout",
     "output_type": "stream",
     "text": [
      "/home/lluis/histo_lung/data/Mask_PyHIST_v2/LungAOEC_List2/000030397000318686/tilecrossed_000030397000318686.png\n"
     ]
    },
    {
     "name": "stderr",
     "output_type": "stream",
     "text": [
      " 17%|█▋        | 225/1318 [02:31<12:54,  1.41it/s]"
     ]
    },
    {
     "name": "stdout",
     "output_type": "stream",
     "text": [
      "/home/lluis/histo_lung/data/Mask_PyHIST_v2/LungAOEC_List2/000035204500645838/tilecrossed_000035204500645838.png\n"
     ]
    },
    {
     "name": "stderr",
     "output_type": "stream",
     "text": [
      " 17%|█▋        | 226/1318 [02:33<15:33,  1.17it/s]"
     ]
    },
    {
     "name": "stdout",
     "output_type": "stream",
     "text": [
      "/home/lluis/histo_lung/data/Mask_PyHIST_v2/LungAOEC_List2/000031970300399675/tilecrossed_000031970300399675.png\n"
     ]
    },
    {
     "name": "stderr",
     "output_type": "stream",
     "text": [
      " 17%|█▋        | 227/1318 [02:33<13:07,  1.39it/s]"
     ]
    },
    {
     "name": "stdout",
     "output_type": "stream",
     "text": [
      "/home/lluis/histo_lung/data/Mask_PyHIST_v2/LungAOEC_List2/000033922800530596/tilecrossed_000033922800530596.png\n"
     ]
    },
    {
     "name": "stderr",
     "output_type": "stream",
     "text": [
      " 17%|█▋        | 228/1318 [02:34<16:49,  1.08it/s]"
     ]
    },
    {
     "name": "stdout",
     "output_type": "stream",
     "text": [
      "/home/lluis/histo_lung/data/Mask_PyHIST_v2/LungAOEC_List2/000035826400709565/tilecrossed_000035826400709565.png\n"
     ]
    },
    {
     "name": "stderr",
     "output_type": "stream",
     "text": [
      " 17%|█▋        | 229/1318 [02:35<14:18,  1.27it/s]"
     ]
    },
    {
     "name": "stdout",
     "output_type": "stream",
     "text": [
      "/home/lluis/histo_lung/data/Mask_PyHIST_v2/LungAOEC_List2/000034181300550456/tilecrossed_000034181300550456.png\n"
     ]
    },
    {
     "name": "stderr",
     "output_type": "stream",
     "text": [
      " 17%|█▋        | 230/1318 [02:36<14:19,  1.27it/s]"
     ]
    },
    {
     "name": "stdout",
     "output_type": "stream",
     "text": [
      "/home/lluis/histo_lung/data/Mask_PyHIST_v2/LungAOEC_List2/000035204500645856/tilecrossed_000035204500645856.png\n"
     ]
    },
    {
     "name": "stderr",
     "output_type": "stream",
     "text": [
      " 18%|█▊        | 231/1318 [02:37<17:57,  1.01it/s]"
     ]
    },
    {
     "name": "stdout",
     "output_type": "stream",
     "text": [
      "/home/lluis/histo_lung/data/Mask_PyHIST_v2/LungAOEC_List2/000031447900372759/tilecrossed_000031447900372759.png\n"
     ]
    },
    {
     "name": "stderr",
     "output_type": "stream",
     "text": [
      " 18%|█▊        | 232/1318 [02:39<21:17,  1.18s/it]"
     ]
    },
    {
     "name": "stdout",
     "output_type": "stream",
     "text": [
      "/home/lluis/histo_lung/data/Mask_PyHIST_v2/LungAOEC_List2/000036157800750305/tilecrossed_000036157800750305.png\n"
     ]
    },
    {
     "name": "stderr",
     "output_type": "stream",
     "text": [
      " 18%|█▊        | 233/1318 [02:40<20:26,  1.13s/it]"
     ]
    },
    {
     "name": "stdout",
     "output_type": "stream",
     "text": [
      "/home/lluis/histo_lung/data/Mask_PyHIST_v2/LungAOEC_List2/000032202000412393/tilecrossed_000032202000412393.png\n"
     ]
    },
    {
     "name": "stderr",
     "output_type": "stream",
     "text": [
      " 18%|█▊        | 234/1318 [02:41<18:33,  1.03s/it]"
     ]
    },
    {
     "name": "stdout",
     "output_type": "stream",
     "text": [
      "/home/lluis/histo_lung/data/Mask_PyHIST_v2/LungAOEC_List2/000034993200628323/tilecrossed_000034993200628323.png\n"
     ]
    },
    {
     "name": "stderr",
     "output_type": "stream",
     "text": [
      " 18%|█▊        | 235/1318 [02:42<18:31,  1.03s/it]"
     ]
    },
    {
     "name": "stdout",
     "output_type": "stream",
     "text": [
      "/home/lluis/histo_lung/data/Mask_PyHIST_v2/LungAOEC_List2/000035599100688208/tilecrossed_000035599100688208.png\n"
     ]
    },
    {
     "name": "stderr",
     "output_type": "stream",
     "text": [
      " 18%|█▊        | 236/1318 [02:42<16:15,  1.11it/s]"
     ]
    },
    {
     "name": "stdout",
     "output_type": "stream",
     "text": [
      "/home/lluis/histo_lung/data/Mask_PyHIST_v2/LungAOEC_List2/000030769200337781/tilecrossed_000030769200337781.png\n"
     ]
    },
    {
     "name": "stderr",
     "output_type": "stream",
     "text": [
      " 18%|█▊        | 237/1318 [02:43<14:17,  1.26it/s]"
     ]
    },
    {
     "name": "stdout",
     "output_type": "stream",
     "text": [
      "/home/lluis/histo_lung/data/Mask_PyHIST_v2/LungAOEC_List2/000035206200645876/tilecrossed_000035206200645876.png\n"
     ]
    },
    {
     "name": "stderr",
     "output_type": "stream",
     "text": [
      " 18%|█▊        | 238/1318 [02:44<13:58,  1.29it/s]"
     ]
    },
    {
     "name": "stdout",
     "output_type": "stream",
     "text": [
      "/home/lluis/histo_lung/data/Mask_PyHIST_v2/LungAOEC_List2/000033942700528899/tilecrossed_000033942700528899.png\n"
     ]
    },
    {
     "name": "stderr",
     "output_type": "stream",
     "text": [
      " 18%|█▊        | 239/1318 [02:44<13:44,  1.31it/s]"
     ]
    },
    {
     "name": "stdout",
     "output_type": "stream",
     "text": [
      "/home/lluis/histo_lung/data/Mask_PyHIST_v2/LungAOEC_List2/000031945100398124/tilecrossed_000031945100398124.png\n"
     ]
    },
    {
     "name": "stderr",
     "output_type": "stream",
     "text": [
      " 18%|█▊        | 240/1318 [02:45<15:52,  1.13it/s]"
     ]
    },
    {
     "name": "stdout",
     "output_type": "stream",
     "text": [
      "/home/lluis/histo_lung/data/Mask_PyHIST_v2/LungAOEC_List2/000033922800530588/tilecrossed_000033922800530588.png\n"
     ]
    },
    {
     "name": "stderr",
     "output_type": "stream",
     "text": [
      " 18%|█▊        | 241/1318 [02:46<16:23,  1.10it/s]"
     ]
    },
    {
     "name": "stdout",
     "output_type": "stream",
     "text": [
      "/home/lluis/histo_lung/data/Mask_PyHIST_v2/LungAOEC_List2/000030874300342421/tilecrossed_000030874300342421.png\n"
     ]
    },
    {
     "name": "stderr",
     "output_type": "stream",
     "text": [
      " 18%|█▊        | 242/1318 [02:47<13:35,  1.32it/s]"
     ]
    },
    {
     "name": "stdout",
     "output_type": "stream",
     "text": [
      "/home/lluis/histo_lung/data/Mask_PyHIST_v2/LungAOEC_List2/000031722600384836/tilecrossed_000031722600384836.png\n",
      "/home/lluis/histo_lung/data/Mask_PyHIST_v2/LungAOEC_List2/000035826400709917/tilecrossed_000035826400709917.png\n"
     ]
    },
    {
     "name": "stderr",
     "output_type": "stream",
     "text": [
      " 19%|█▊        | 244/1318 [02:47<09:00,  1.99it/s]"
     ]
    },
    {
     "name": "stdout",
     "output_type": "stream",
     "text": [
      "/home/lluis/histo_lung/data/Mask_PyHIST_v2/LungAOEC_List2/000033938300523646/tilecrossed_000033938300523646.png\n"
     ]
    },
    {
     "name": "stderr",
     "output_type": "stream",
     "text": [
      " 19%|█▊        | 245/1318 [02:48<10:58,  1.63it/s]"
     ]
    },
    {
     "name": "stdout",
     "output_type": "stream",
     "text": [
      "/home/lluis/histo_lung/data/Mask_PyHIST_v2/LungAOEC_List2/000032612800430040/tilecrossed_000032612800430040.png\n"
     ]
    },
    {
     "name": "stderr",
     "output_type": "stream",
     "text": [
      " 19%|█▊        | 246/1318 [02:49<09:47,  1.83it/s]"
     ]
    },
    {
     "name": "stdout",
     "output_type": "stream",
     "text": [
      "/home/lluis/histo_lung/data/Mask_PyHIST_v2/LungAOEC_List2/000036241700760957/tilecrossed_000036241700760957.png\n"
     ]
    },
    {
     "name": "stderr",
     "output_type": "stream",
     "text": [
      " 19%|█▊        | 247/1318 [02:49<10:08,  1.76it/s]"
     ]
    },
    {
     "name": "stdout",
     "output_type": "stream",
     "text": [
      "/home/lluis/histo_lung/data/Mask_PyHIST_v2/LungAOEC_List2/000035478000675912/tilecrossed_000035478000675912.png\n"
     ]
    },
    {
     "name": "stderr",
     "output_type": "stream",
     "text": [
      " 19%|█▉        | 248/1318 [02:50<09:48,  1.82it/s]"
     ]
    },
    {
     "name": "stdout",
     "output_type": "stream",
     "text": [
      "/home/lluis/histo_lung/data/Mask_PyHIST_v2/LungAOEC_List2/000031329300365915/tilecrossed_000031329300365915.png\n"
     ]
    },
    {
     "name": "stderr",
     "output_type": "stream",
     "text": [
      " 19%|█▉        | 250/1318 [02:50<07:25,  2.40it/s]"
     ]
    },
    {
     "name": "stdout",
     "output_type": "stream",
     "text": [
      "/home/lluis/histo_lung/data/Mask_PyHIST_v2/LungAOEC_List2/000031326800365850/tilecrossed_000031326800365850.png\n",
      "/home/lluis/histo_lung/data/Mask_PyHIST_v2/LungAOEC_List2/000035182700645276/tilecrossed_000035182700645276.png\n"
     ]
    },
    {
     "name": "stderr",
     "output_type": "stream",
     "text": [
      " 19%|█▉        | 251/1318 [02:51<09:28,  1.88it/s]"
     ]
    },
    {
     "name": "stdout",
     "output_type": "stream",
     "text": [
      "/home/lluis/histo_lung/data/Mask_PyHIST_v2/LungAOEC_List2/000032897900443138/tilecrossed_000032897900443138.png\n"
     ]
    },
    {
     "name": "stderr",
     "output_type": "stream",
     "text": [
      " 19%|█▉        | 252/1318 [02:52<13:39,  1.30it/s]"
     ]
    },
    {
     "name": "stdout",
     "output_type": "stream",
     "text": [
      "/home/lluis/histo_lung/data/Mask_PyHIST_v2/LungAOEC_List2/000032202000412398/tilecrossed_000032202000412398.png\n"
     ]
    },
    {
     "name": "stderr",
     "output_type": "stream",
     "text": [
      " 19%|█▉        | 254/1318 [02:53<11:00,  1.61it/s]"
     ]
    },
    {
     "name": "stdout",
     "output_type": "stream",
     "text": [
      "/home/lluis/histo_lung/data/Mask_PyHIST_v2/LungAOEC_List2/000035271400654391/tilecrossed_000035271400654391.png\n",
      "/home/lluis/histo_lung/data/Mask_PyHIST_v2/LungAOEC_List2/000036177600753258/tilecrossed_000036177600753258.png\n"
     ]
    },
    {
     "name": "stderr",
     "output_type": "stream",
     "text": [
      " 19%|█▉        | 255/1318 [02:54<11:49,  1.50it/s]"
     ]
    },
    {
     "name": "stdout",
     "output_type": "stream",
     "text": [
      "/home/lluis/histo_lung/data/Mask_PyHIST_v2/LungAOEC_List2/000034838900611395/tilecrossed_000034838900611395.png\n"
     ]
    },
    {
     "name": "stderr",
     "output_type": "stream",
     "text": [
      " 19%|█▉        | 256/1318 [02:55<10:13,  1.73it/s]"
     ]
    },
    {
     "name": "stdout",
     "output_type": "stream",
     "text": [
      "/home/lluis/histo_lung/data/Mask_PyHIST_v2/LungAOEC_List2/000036157800751797/tilecrossed_000036157800751797.png\n"
     ]
    },
    {
     "name": "stderr",
     "output_type": "stream",
     "text": [
      " 19%|█▉        | 257/1318 [02:56<12:50,  1.38it/s]"
     ]
    },
    {
     "name": "stdout",
     "output_type": "stream",
     "text": [
      "/home/lluis/histo_lung/data/Mask_PyHIST_v2/LungAOEC_List2/000035794800703208/tilecrossed_000035794800703208.png\n"
     ]
    },
    {
     "name": "stderr",
     "output_type": "stream",
     "text": [
      " 20%|█▉        | 258/1318 [02:56<11:37,  1.52it/s]"
     ]
    },
    {
     "name": "stdout",
     "output_type": "stream",
     "text": [
      "/home/lluis/histo_lung/data/Mask_PyHIST_v2/LungAOEC_List2/000031634700383050/tilecrossed_000031634700383050.png\n"
     ]
    },
    {
     "name": "stderr",
     "output_type": "stream",
     "text": [
      " 20%|█▉        | 259/1318 [02:57<11:37,  1.52it/s]"
     ]
    },
    {
     "name": "stdout",
     "output_type": "stream",
     "text": [
      "/home/lluis/histo_lung/data/Mask_PyHIST_v2/LungAOEC_List2/000033938300530913/tilecrossed_000033938300530913.png\n"
     ]
    },
    {
     "name": "stderr",
     "output_type": "stream",
     "text": [
      " 20%|█▉        | 260/1318 [02:58<14:13,  1.24it/s]"
     ]
    },
    {
     "name": "stdout",
     "output_type": "stream",
     "text": [
      "/home/lluis/histo_lung/data/Mask_PyHIST_v2/LungAOEC_List2/000035478000675904/tilecrossed_000035478000675904.png\n"
     ]
    },
    {
     "name": "stderr",
     "output_type": "stream",
     "text": [
      " 20%|█▉        | 261/1318 [02:59<13:30,  1.30it/s]"
     ]
    },
    {
     "name": "stdout",
     "output_type": "stream",
     "text": [
      "/home/lluis/histo_lung/data/Mask_PyHIST_v2/LungAOEC_List2/000030870900342370/tilecrossed_000030870900342370.png\n"
     ]
    },
    {
     "name": "stderr",
     "output_type": "stream",
     "text": [
      " 20%|█▉        | 262/1318 [03:00<16:14,  1.08it/s]"
     ]
    },
    {
     "name": "stdout",
     "output_type": "stream",
     "text": [
      "/home/lluis/histo_lung/data/Mask_PyHIST_v2/LungAOEC_List2/000034129600545511/tilecrossed_000034129600545511.png\n"
     ]
    },
    {
     "name": "stderr",
     "output_type": "stream",
     "text": [
      " 20%|█▉        | 263/1318 [03:01<15:42,  1.12it/s]"
     ]
    },
    {
     "name": "stdout",
     "output_type": "stream",
     "text": [
      "/home/lluis/histo_lung/data/Mask_PyHIST_v2/LungAOEC_List2/000035478000675906/tilecrossed_000035478000675906.png\n"
     ]
    },
    {
     "name": "stderr",
     "output_type": "stream",
     "text": [
      " 20%|██        | 264/1318 [03:02<17:57,  1.02s/it]"
     ]
    },
    {
     "name": "stdout",
     "output_type": "stream",
     "text": [
      "/home/lluis/histo_lung/data/Mask_PyHIST_v2/LungAOEC_List2/000036241700760945/tilecrossed_000036241700760945.png\n"
     ]
    },
    {
     "name": "stderr",
     "output_type": "stream",
     "text": [
      " 20%|██        | 265/1318 [03:03<17:31,  1.00it/s]"
     ]
    },
    {
     "name": "stdout",
     "output_type": "stream",
     "text": [
      "/home/lluis/histo_lung/data/Mask_PyHIST_v2/LungAOEC_List2/000030769200337777/tilecrossed_000030769200337777.png\n"
     ]
    },
    {
     "name": "stderr",
     "output_type": "stream",
     "text": [
      " 20%|██        | 266/1318 [03:04<16:22,  1.07it/s]"
     ]
    },
    {
     "name": "stdout",
     "output_type": "stream",
     "text": [
      "/home/lluis/histo_lung/data/Mask_PyHIST_v2/LungAOEC_List2/000035206200645868/tilecrossed_000035206200645868.png\n"
     ]
    },
    {
     "name": "stderr",
     "output_type": "stream",
     "text": [
      " 20%|██        | 267/1318 [03:05<17:50,  1.02s/it]"
     ]
    },
    {
     "name": "stdout",
     "output_type": "stream",
     "text": [
      "/home/lluis/histo_lung/data/Mask_PyHIST_v2/LungAOEC_List2/000030874300342420/tilecrossed_000030874300342420.png\n"
     ]
    },
    {
     "name": "stderr",
     "output_type": "stream",
     "text": [
      " 20%|██        | 268/1318 [03:06<19:18,  1.10s/it]"
     ]
    },
    {
     "name": "stdout",
     "output_type": "stream",
     "text": [
      "/home/lluis/histo_lung/data/Mask_PyHIST_v2/LungAOEC_List2/000036241700760975/tilecrossed_000036241700760975.png\n"
     ]
    },
    {
     "name": "stderr",
     "output_type": "stream",
     "text": [
      " 20%|██        | 269/1318 [03:07<14:48,  1.18it/s]"
     ]
    },
    {
     "name": "stdout",
     "output_type": "stream",
     "text": [
      "/home/lluis/histo_lung/data/Mask_PyHIST_v2/LungAOEC_List2/000031990500400767/tilecrossed_000031990500400767.png\n"
     ]
    },
    {
     "name": "stderr",
     "output_type": "stream",
     "text": [
      " 20%|██        | 270/1318 [03:07<13:40,  1.28it/s]"
     ]
    },
    {
     "name": "stdout",
     "output_type": "stream",
     "text": [
      "/home/lluis/histo_lung/data/Mask_PyHIST_v2/LungAOEC_List2/000032897900448067/tilecrossed_000032897900448067.png\n"
     ]
    },
    {
     "name": "stderr",
     "output_type": "stream",
     "text": [
      " 21%|██        | 271/1318 [03:09<17:09,  1.02it/s]"
     ]
    },
    {
     "name": "stdout",
     "output_type": "stream",
     "text": [
      "/home/lluis/histo_lung/data/Mask_PyHIST_v2/LungAOEC_List2/000036241700760947/tilecrossed_000036241700760947.png\n"
     ]
    },
    {
     "name": "stderr",
     "output_type": "stream",
     "text": [
      " 21%|██        | 272/1318 [03:09<15:58,  1.09it/s]"
     ]
    },
    {
     "name": "stdout",
     "output_type": "stream",
     "text": [
      "/home/lluis/histo_lung/data/Mask_PyHIST_v2/LungAOEC_List2/000035601500689059/tilecrossed_000035601500689059.png\n"
     ]
    },
    {
     "name": "stderr",
     "output_type": "stream",
     "text": [
      " 21%|██        | 273/1318 [03:10<14:08,  1.23it/s]"
     ]
    },
    {
     "name": "stdout",
     "output_type": "stream",
     "text": [
      "/home/lluis/histo_lung/data/Mask_PyHIST_v2/LungAOEC_List2/000031990500398024/tilecrossed_000031990500398024.png\n"
     ]
    },
    {
     "name": "stderr",
     "output_type": "stream",
     "text": [
      " 21%|██        | 274/1318 [03:11<12:35,  1.38it/s]"
     ]
    },
    {
     "name": "stdout",
     "output_type": "stream",
     "text": [
      "/home/lluis/histo_lung/data/Mask_PyHIST_v2/LungAOEC_List2/000033352100479579/tilecrossed_000033352100479579.png\n",
      "/home/lluis/histo_lung/data/Mask_PyHIST_v2/LungAOEC_List2/000033922900530150/tilecrossed_000033922900530150.png\n"
     ]
    },
    {
     "name": "stderr",
     "output_type": "stream",
     "text": [
      " 21%|██        | 276/1318 [03:12<11:21,  1.53it/s]"
     ]
    },
    {
     "name": "stdout",
     "output_type": "stream",
     "text": [
      "/home/lluis/histo_lung/data/Mask_PyHIST_v2/LungAOEC_List2/000031363500367019/tilecrossed_000031363500367019.png\n"
     ]
    },
    {
     "name": "stderr",
     "output_type": "stream",
     "text": [
      " 21%|██        | 277/1318 [03:13<14:26,  1.20it/s]"
     ]
    },
    {
     "name": "stdout",
     "output_type": "stream",
     "text": [
      "/home/lluis/histo_lung/data/Mask_PyHIST_v2/LungAOEC_List2/000031363500369025/tilecrossed_000031363500369025.png\n"
     ]
    },
    {
     "name": "stderr",
     "output_type": "stream",
     "text": [
      " 21%|██        | 278/1318 [03:14<14:09,  1.22it/s]"
     ]
    },
    {
     "name": "stdout",
     "output_type": "stream",
     "text": [
      "/home/lluis/histo_lung/data/Mask_PyHIST_v2/LungAOEC_List2/000035599100688224/tilecrossed_000035599100688224.png\n"
     ]
    },
    {
     "name": "stderr",
     "output_type": "stream",
     "text": [
      " 21%|██        | 280/1318 [03:15<11:24,  1.52it/s]"
     ]
    },
    {
     "name": "stdout",
     "output_type": "stream",
     "text": [
      "/home/lluis/histo_lung/data/Mask_PyHIST_v2/LungAOEC_List2/000033938300523644/tilecrossed_000033938300523644.png\n",
      "/home/lluis/histo_lung/data/Mask_PyHIST_v2/LungAOEC_List2/000033783100517779/tilecrossed_000033783100517779.png\n"
     ]
    },
    {
     "name": "stderr",
     "output_type": "stream",
     "text": [
      " 21%|██▏       | 281/1318 [03:16<11:10,  1.55it/s]"
     ]
    },
    {
     "name": "stdout",
     "output_type": "stream",
     "text": [
      "/home/lluis/histo_lung/data/Mask_PyHIST_v2/LungAOEC_List2/000035826400709915/tilecrossed_000035826400709915.png\n"
     ]
    },
    {
     "name": "stderr",
     "output_type": "stream",
     "text": [
      " 21%|██▏       | 282/1318 [03:17<12:38,  1.37it/s]"
     ]
    },
    {
     "name": "stdout",
     "output_type": "stream",
     "text": [
      "/home/lluis/histo_lung/data/Mask_PyHIST_v2/LungAOEC_List2/000031990700400983/tilecrossed_000031990700400983.png\n"
     ]
    },
    {
     "name": "stderr",
     "output_type": "stream",
     "text": [
      " 21%|██▏       | 283/1318 [03:17<11:25,  1.51it/s]"
     ]
    },
    {
     "name": "stdout",
     "output_type": "stream",
     "text": [
      "/home/lluis/histo_lung/data/Mask_PyHIST_v2/LungAOEC_List2/000033382400482075/tilecrossed_000033382400482075.png\n"
     ]
    },
    {
     "name": "stderr",
     "output_type": "stream",
     "text": [
      " 22%|██▏       | 284/1318 [03:17<09:47,  1.76it/s]"
     ]
    },
    {
     "name": "stdout",
     "output_type": "stream",
     "text": [
      "/home/lluis/histo_lung/data/Mask_PyHIST_v2/LungAOEC_List2/000031209100360994/tilecrossed_000031209100360994.png\n"
     ]
    },
    {
     "name": "stderr",
     "output_type": "stream",
     "text": [
      " 22%|██▏       | 286/1318 [03:18<08:29,  2.02it/s]"
     ]
    },
    {
     "name": "stdout",
     "output_type": "stream",
     "text": [
      "/home/lluis/histo_lung/data/Mask_PyHIST_v2/LungAOEC_List2/000030610100328927/tilecrossed_000030610100328927.png\n",
      "/home/lluis/histo_lung/data/Mask_PyHIST_v2/LungAOEC_List2/000035182700645274/tilecrossed_000035182700645274.png\n"
     ]
    },
    {
     "name": "stderr",
     "output_type": "stream",
     "text": [
      " 22%|██▏       | 287/1318 [03:19<11:00,  1.56it/s]"
     ]
    },
    {
     "name": "stdout",
     "output_type": "stream",
     "text": [
      "/home/lluis/histo_lung/data/Mask_PyHIST_v2/LungAOEC_List2/000031440600372578/tilecrossed_000031440600372578.png\n"
     ]
    },
    {
     "name": "stderr",
     "output_type": "stream",
     "text": [
      " 22%|██▏       | 288/1318 [03:20<13:57,  1.23it/s]"
     ]
    },
    {
     "name": "stdout",
     "output_type": "stream",
     "text": [
      "/home/lluis/histo_lung/data/Mask_PyHIST_v2/LungAOEC_List2/000031991400401024/tilecrossed_000031991400401024.png\n"
     ]
    },
    {
     "name": "stderr",
     "output_type": "stream",
     "text": [
      " 22%|██▏       | 289/1318 [03:21<12:36,  1.36it/s]"
     ]
    },
    {
     "name": "stdout",
     "output_type": "stream",
     "text": [
      "/home/lluis/histo_lung/data/Mask_PyHIST_v2/LungAOEC_List2/000035204500645850/tilecrossed_000035204500645850.png\n"
     ]
    },
    {
     "name": "stderr",
     "output_type": "stream",
     "text": [
      " 22%|██▏       | 290/1318 [03:22<13:39,  1.25it/s]"
     ]
    },
    {
     "name": "stdout",
     "output_type": "stream",
     "text": [
      "/home/lluis/histo_lung/data/Mask_PyHIST_v2/LungAOEC_List2/000036241700760949/tilecrossed_000036241700760949.png\n"
     ]
    },
    {
     "name": "stderr",
     "output_type": "stream",
     "text": [
      " 22%|██▏       | 291/1318 [03:23<13:06,  1.31it/s]"
     ]
    },
    {
     "name": "stdout",
     "output_type": "stream",
     "text": [
      "/home/lluis/histo_lung/data/Mask_PyHIST_v2/LungAOEC_List2/000035215500647268/tilecrossed_000035215500647268.png\n"
     ]
    },
    {
     "name": "stderr",
     "output_type": "stream",
     "text": [
      " 22%|██▏       | 292/1318 [03:24<15:09,  1.13it/s]"
     ]
    },
    {
     "name": "stdout",
     "output_type": "stream",
     "text": [
      "/home/lluis/histo_lung/data/Mask_PyHIST_v2/LungAOEC_List2/000030769200337783/tilecrossed_000030769200337783.png\n"
     ]
    },
    {
     "name": "stderr",
     "output_type": "stream",
     "text": [
      " 22%|██▏       | 293/1318 [03:25<14:58,  1.14it/s]"
     ]
    },
    {
     "name": "stdout",
     "output_type": "stream",
     "text": [
      "/home/lluis/histo_lung/data/Mask_PyHIST_v2/LungAOEC_List2/000031090800352933/tilecrossed_000031090800352933.png\n"
     ]
    },
    {
     "name": "stderr",
     "output_type": "stream",
     "text": [
      " 22%|██▏       | 294/1318 [03:26<15:07,  1.13it/s]"
     ]
    },
    {
     "name": "stdout",
     "output_type": "stream",
     "text": [
      "/home/lluis/histo_lung/data/Mask_PyHIST_v2/LungAOEC_List2/000030494900323685/tilecrossed_000030494900323685.png\n"
     ]
    },
    {
     "name": "stderr",
     "output_type": "stream",
     "text": [
      " 22%|██▏       | 295/1318 [03:26<11:59,  1.42it/s]"
     ]
    },
    {
     "name": "stdout",
     "output_type": "stream",
     "text": [
      "/home/lluis/histo_lung/data/Mask_PyHIST_v2/LungAOEC_List2/000035204500645842/tilecrossed_000035204500645842.png\n"
     ]
    },
    {
     "name": "stderr",
     "output_type": "stream",
     "text": [
      " 22%|██▏       | 296/1318 [03:27<14:39,  1.16it/s]"
     ]
    },
    {
     "name": "stdout",
     "output_type": "stream",
     "text": [
      "/home/lluis/histo_lung/data/Mask_PyHIST_v2/LungAOEC_List2/000031801900391058/tilecrossed_000031801900391058.png\n"
     ]
    },
    {
     "name": "stderr",
     "output_type": "stream",
     "text": [
      " 23%|██▎       | 297/1318 [03:28<15:44,  1.08it/s]"
     ]
    },
    {
     "name": "stdout",
     "output_type": "stream",
     "text": [
      "/home/lluis/histo_lung/data/Mask_PyHIST_v2/LungAOEC_List2/000030674400332785/tilecrossed_000030674400332785.png\n"
     ]
    },
    {
     "name": "stderr",
     "output_type": "stream",
     "text": [
      " 23%|██▎       | 298/1318 [03:29<15:29,  1.10it/s]"
     ]
    },
    {
     "name": "stdout",
     "output_type": "stream",
     "text": [
      "/home/lluis/histo_lung/data/Mask_PyHIST_v2/LungAOEC_List2/000035794800704832/tilecrossed_000035794800704832.png\n"
     ]
    },
    {
     "name": "stderr",
     "output_type": "stream",
     "text": [
      " 23%|██▎       | 299/1318 [03:30<16:34,  1.02it/s]"
     ]
    },
    {
     "name": "stdout",
     "output_type": "stream",
     "text": [
      "/home/lluis/histo_lung/data/Mask_PyHIST_v2/LungAOEC_List2/000035215500647266/tilecrossed_000035215500647266.png\n"
     ]
    },
    {
     "name": "stderr",
     "output_type": "stream",
     "text": [
      " 23%|██▎       | 300/1318 [03:31<16:32,  1.03it/s]"
     ]
    },
    {
     "name": "stdout",
     "output_type": "stream",
     "text": [
      "/home/lluis/histo_lung/data/Mask_PyHIST_v2/LungAOEC_List2/000034838900611393/tilecrossed_000034838900611393.png\n"
     ]
    },
    {
     "name": "stderr",
     "output_type": "stream",
     "text": [
      " 23%|██▎       | 301/1318 [03:32<15:03,  1.13it/s]"
     ]
    },
    {
     "name": "stdout",
     "output_type": "stream",
     "text": [
      "/home/lluis/histo_lung/data/Mask_PyHIST_v2/LungAOEC_List2/000033382400482073/tilecrossed_000033382400482073.png\n"
     ]
    },
    {
     "name": "stderr",
     "output_type": "stream",
     "text": [
      " 23%|██▎       | 302/1318 [03:32<11:42,  1.45it/s]"
     ]
    },
    {
     "name": "stdout",
     "output_type": "stream",
     "text": [
      "/home/lluis/histo_lung/data/Mask_PyHIST_v2/LungAOEC_List2/000035204500645854/tilecrossed_000035204500645854.png\n"
     ]
    },
    {
     "name": "stderr",
     "output_type": "stream",
     "text": [
      " 23%|██▎       | 303/1318 [03:33<14:42,  1.15it/s]"
     ]
    },
    {
     "name": "stdout",
     "output_type": "stream",
     "text": [
      "/home/lluis/histo_lung/data/Mask_PyHIST_v2/LungAOEC_List2/000035478000675928/tilecrossed_000035478000675928.png\n"
     ]
    },
    {
     "name": "stderr",
     "output_type": "stream",
     "text": [
      " 23%|██▎       | 304/1318 [03:35<16:14,  1.04it/s]"
     ]
    },
    {
     "name": "stdout",
     "output_type": "stream",
     "text": [
      "/home/lluis/histo_lung/data/Mask_PyHIST_v2/LungAOEC_List2/000036157800750303/tilecrossed_000036157800750303.png\n"
     ]
    },
    {
     "name": "stderr",
     "output_type": "stream",
     "text": [
      " 23%|██▎       | 305/1318 [03:35<15:21,  1.10it/s]"
     ]
    },
    {
     "name": "stdout",
     "output_type": "stream",
     "text": [
      "/home/lluis/histo_lung/data/Mask_PyHIST_v2/LungAOEC_List2/000033918800528769/tilecrossed_000033918800528769.png\n"
     ]
    },
    {
     "name": "stderr",
     "output_type": "stream",
     "text": [
      " 23%|██▎       | 306/1318 [03:36<14:05,  1.20it/s]"
     ]
    },
    {
     "name": "stdout",
     "output_type": "stream",
     "text": [
      "/home/lluis/histo_lung/data/Mask_PyHIST_v2/LungAOEC_List2/000031440600372576/tilecrossed_000031440600372576.png\n"
     ]
    },
    {
     "name": "stderr",
     "output_type": "stream",
     "text": [
      " 23%|██▎       | 307/1318 [03:36<11:49,  1.43it/s]"
     ]
    },
    {
     "name": "stdout",
     "output_type": "stream",
     "text": [
      "/home/lluis/histo_lung/data/Mask_PyHIST_v2/LungAOEC_List2/000033086200454470/tilecrossed_000033086200454470.png\n"
     ]
    },
    {
     "name": "stderr",
     "output_type": "stream",
     "text": [
      " 23%|██▎       | 308/1318 [03:37<13:15,  1.27it/s]"
     ]
    },
    {
     "name": "stdout",
     "output_type": "stream",
     "text": [
      "/home/lluis/histo_lung/data/Mask_PyHIST_v2/LungAOEC_List2/000031090800352932/tilecrossed_000031090800352932.png\n"
     ]
    },
    {
     "name": "stderr",
     "output_type": "stream",
     "text": [
      " 23%|██▎       | 309/1318 [03:39<16:22,  1.03it/s]"
     ]
    },
    {
     "name": "stdout",
     "output_type": "stream",
     "text": [
      "/home/lluis/histo_lung/data/Mask_PyHIST_v2/LungAOEC_List2/000033938300530915/tilecrossed_000033938300530915.png\n"
     ]
    },
    {
     "name": "stderr",
     "output_type": "stream",
     "text": [
      " 24%|██▎       | 310/1318 [03:40<15:58,  1.05it/s]"
     ]
    },
    {
     "name": "stdout",
     "output_type": "stream",
     "text": [
      "/home/lluis/histo_lung/data/Mask_PyHIST_v2/LungAOEC_List2/000033922900530138/tilecrossed_000033922900530138.png\n"
     ]
    },
    {
     "name": "stderr",
     "output_type": "stream",
     "text": [
      " 24%|██▎       | 311/1318 [03:41<17:48,  1.06s/it]"
     ]
    },
    {
     "name": "stdout",
     "output_type": "stream",
     "text": [
      "/home/lluis/histo_lung/data/Mask_PyHIST_v2/LungAOEC_List2/000035215500646303/tilecrossed_000035215500646303.png\n"
     ]
    },
    {
     "name": "stderr",
     "output_type": "stream",
     "text": [
      " 24%|██▎       | 312/1318 [03:42<16:38,  1.01it/s]"
     ]
    },
    {
     "name": "stdout",
     "output_type": "stream",
     "text": [
      "/home/lluis/histo_lung/data/Mask_PyHIST_v2/LungAOEC_List2/000033382400476107/tilecrossed_000033382400476107.png\n"
     ]
    },
    {
     "name": "stderr",
     "output_type": "stream",
     "text": [
      " 24%|██▎       | 313/1318 [03:42<12:43,  1.32it/s]"
     ]
    },
    {
     "name": "stdout",
     "output_type": "stream",
     "text": [
      "/home/lluis/histo_lung/data/Mask_PyHIST_v2/LungAOEC_List2/000032202000412405/tilecrossed_000032202000412405.png\n"
     ]
    },
    {
     "name": "stderr",
     "output_type": "stream",
     "text": [
      " 24%|██▍       | 314/1318 [03:43<11:19,  1.48it/s]"
     ]
    },
    {
     "name": "stdout",
     "output_type": "stream",
     "text": [
      "/home/lluis/histo_lung/data/Mask_PyHIST_v2/LungAOEC_List2/000034993200628315/tilecrossed_000034993200628315.png\n"
     ]
    },
    {
     "name": "stderr",
     "output_type": "stream",
     "text": [
      " 24%|██▍       | 315/1318 [03:44<13:03,  1.28it/s]"
     ]
    },
    {
     "name": "stdout",
     "output_type": "stream",
     "text": [
      "/home/lluis/histo_lung/data/Mask_PyHIST_v2/LungAOEC_List2/000035185500645286/tilecrossed_000035185500645286.png\n"
     ]
    },
    {
     "name": "stderr",
     "output_type": "stream",
     "text": [
      " 24%|██▍       | 316/1318 [03:44<11:08,  1.50it/s]"
     ]
    },
    {
     "name": "stdout",
     "output_type": "stream",
     "text": [
      "/home/lluis/histo_lung/data/Mask_PyHIST_v2/LungAOEC_List2/000036283600766203/tilecrossed_000036283600766203.png\n"
     ]
    },
    {
     "name": "stderr",
     "output_type": "stream",
     "text": [
      " 24%|██▍       | 317/1318 [03:45<12:26,  1.34it/s]"
     ]
    },
    {
     "name": "stdout",
     "output_type": "stream",
     "text": [
      "/home/lluis/histo_lung/data/Mask_PyHIST_v2/LungAOEC_List2/000035794800703206/tilecrossed_000035794800703206.png\n"
     ]
    },
    {
     "name": "stderr",
     "output_type": "stream",
     "text": [
      " 24%|██▍       | 318/1318 [03:46<14:51,  1.12it/s]"
     ]
    },
    {
     "name": "stdout",
     "output_type": "stream",
     "text": [
      "/home/lluis/histo_lung/data/Mask_PyHIST_v2/LungAOEC_List2/000034543100585860/tilecrossed_000034543100585860.png\n"
     ]
    },
    {
     "name": "stderr",
     "output_type": "stream",
     "text": [
      " 24%|██▍       | 319/1318 [03:46<12:11,  1.37it/s]"
     ]
    },
    {
     "name": "stdout",
     "output_type": "stream",
     "text": [
      "/home/lluis/histo_lung/data/Mask_PyHIST_v2/LungAOEC_List2/000032897900448062/tilecrossed_000032897900448062.png\n"
     ]
    },
    {
     "name": "stderr",
     "output_type": "stream",
     "text": [
      " 24%|██▍       | 320/1318 [03:48<14:20,  1.16it/s]"
     ]
    },
    {
     "name": "stdout",
     "output_type": "stream",
     "text": [
      "/home/lluis/histo_lung/data/Mask_PyHIST_v2/LungAOEC_List2/000035285400653210/tilecrossed_000035285400653210.png\n",
      "/home/lluis/histo_lung/data/Mask_PyHIST_v2/LungAOEC_List2/000036283600766202/tilecrossed_000036283600766202.png\n"
     ]
    },
    {
     "name": "stderr",
     "output_type": "stream",
     "text": [
      " 24%|██▍       | 322/1318 [03:49<11:08,  1.49it/s]"
     ]
    },
    {
     "name": "stdout",
     "output_type": "stream",
     "text": [
      "/home/lluis/histo_lung/data/Mask_PyHIST_v2/LungAOEC_List2/000035204500645846/tilecrossed_000035204500645846.png\n"
     ]
    },
    {
     "name": "stderr",
     "output_type": "stream",
     "text": [
      " 25%|██▍       | 323/1318 [03:49<11:29,  1.44it/s]"
     ]
    },
    {
     "name": "stdout",
     "output_type": "stream",
     "text": [
      "/home/lluis/histo_lung/data/Mask_PyHIST_v2/LungAOEC_List2/000030674400332786/tilecrossed_000030674400332786.png\n"
     ]
    },
    {
     "name": "stderr",
     "output_type": "stream",
     "text": [
      " 25%|██▍       | 324/1318 [03:50<11:21,  1.46it/s]"
     ]
    },
    {
     "name": "stdout",
     "output_type": "stream",
     "text": [
      "/home/lluis/histo_lung/data/Mask_PyHIST_v2/LungAOEC_List2/000031327600365865/tilecrossed_000031327600365865.png\n"
     ]
    },
    {
     "name": "stderr",
     "output_type": "stream",
     "text": [
      " 25%|██▍       | 325/1318 [03:50<10:10,  1.63it/s]"
     ]
    },
    {
     "name": "stdout",
     "output_type": "stream",
     "text": [
      "/home/lluis/histo_lung/data/Mask_PyHIST_v2/LungAOEC_List2/000033922900530156/tilecrossed_000033922900530156.png\n"
     ]
    },
    {
     "name": "stderr",
     "output_type": "stream",
     "text": [
      " 25%|██▍       | 326/1318 [03:51<11:01,  1.50it/s]"
     ]
    },
    {
     "name": "stdout",
     "output_type": "stream",
     "text": [
      "/home/lluis/histo_lung/data/Mask_PyHIST_v2/LungAOEC_List2/000034817800609509/tilecrossed_000034817800609509.png\n"
     ]
    },
    {
     "name": "stderr",
     "output_type": "stream",
     "text": [
      " 25%|██▍       | 328/1318 [03:52<08:01,  2.06it/s]"
     ]
    },
    {
     "name": "stdout",
     "output_type": "stream",
     "text": [
      "/home/lluis/histo_lung/data/Mask_PyHIST_v2/LungAOEC_List2/000033382400482119/tilecrossed_000033382400482119.png\n",
      "/home/lluis/histo_lung/data/Mask_PyHIST_v2/LungAOEC_List2/000030669500332610/tilecrossed_000030669500332610.png\n"
     ]
    },
    {
     "name": "stderr",
     "output_type": "stream",
     "text": [
      " 25%|██▍       | 329/1318 [03:52<06:22,  2.59it/s]"
     ]
    },
    {
     "name": "stdout",
     "output_type": "stream",
     "text": [
      "/home/lluis/histo_lung/data/Mask_PyHIST_v2/LungAOEC_List2/000034024600532168/tilecrossed_000034024600532168.png\n"
     ]
    },
    {
     "name": "stderr",
     "output_type": "stream",
     "text": [
      " 25%|██▌       | 330/1318 [03:53<07:22,  2.23it/s]"
     ]
    },
    {
     "name": "stdout",
     "output_type": "stream",
     "text": [
      "/home/lluis/histo_lung/data/Mask_PyHIST_v2/LungAOEC_List2/000036242800760969/tilecrossed_000036242800760969.png\n"
     ]
    },
    {
     "name": "stderr",
     "output_type": "stream",
     "text": [
      " 25%|██▌       | 331/1318 [03:53<06:23,  2.58it/s]"
     ]
    },
    {
     "name": "stdout",
     "output_type": "stream",
     "text": [
      "/home/lluis/histo_lung/data/Mask_PyHIST_v2/LungAOEC_List2/000030769200337780/tilecrossed_000030769200337780.png\n"
     ]
    },
    {
     "name": "stderr",
     "output_type": "stream",
     "text": [
      " 25%|██▌       | 332/1318 [03:54<09:54,  1.66it/s]"
     ]
    },
    {
     "name": "stdout",
     "output_type": "stream",
     "text": [
      "/home/lluis/histo_lung/data/Mask_PyHIST_v2/LungAOEC_List2/000031796600390255/tilecrossed_000031796600390255.png\n"
     ]
    },
    {
     "name": "stderr",
     "output_type": "stream",
     "text": [
      " 25%|██▌       | 333/1318 [03:55<09:43,  1.69it/s]"
     ]
    },
    {
     "name": "stdout",
     "output_type": "stream",
     "text": [
      "/home/lluis/histo_lung/data/Mask_PyHIST_v2/LungAOEC_List2/000035836800711778/tilecrossed_000035836800711778.png\n"
     ]
    },
    {
     "name": "stderr",
     "output_type": "stream",
     "text": [
      " 25%|██▌       | 335/1318 [03:56<09:04,  1.81it/s]"
     ]
    },
    {
     "name": "stdout",
     "output_type": "stream",
     "text": [
      "/home/lluis/histo_lung/data/Mask_PyHIST_v2/LungAOEC_List2/000031963800399395/tilecrossed_000031963800399395.png\n",
      "/home/lluis/histo_lung/data/Mask_PyHIST_v2/LungAOEC_List2/000035795500704956/tilecrossed_000035795500704956.png\n"
     ]
    },
    {
     "name": "stderr",
     "output_type": "stream",
     "text": [
      " 25%|██▌       | 336/1318 [03:56<08:50,  1.85it/s]"
     ]
    },
    {
     "name": "stdout",
     "output_type": "stream",
     "text": [
      "/home/lluis/histo_lung/data/Mask_PyHIST_v2/LungAOEC_List2/000035794800704838/tilecrossed_000035794800704838.png\n"
     ]
    },
    {
     "name": "stderr",
     "output_type": "stream",
     "text": [
      " 26%|██▌       | 337/1318 [03:57<09:34,  1.71it/s]"
     ]
    },
    {
     "name": "stdout",
     "output_type": "stream",
     "text": [
      "/home/lluis/histo_lung/data/Mask_PyHIST_v2/LungAOEC_List2/000035795500704978/tilecrossed_000035795500704978.png\n"
     ]
    },
    {
     "name": "stderr",
     "output_type": "stream",
     "text": [
      " 26%|██▌       | 338/1318 [03:57<09:09,  1.78it/s]"
     ]
    },
    {
     "name": "stdout",
     "output_type": "stream",
     "text": [
      "/home/lluis/histo_lung/data/Mask_PyHIST_v2/LungAOEC_List2/000031945100398123/tilecrossed_000031945100398123.png\n"
     ]
    },
    {
     "name": "stderr",
     "output_type": "stream",
     "text": [
      " 26%|██▌       | 339/1318 [03:58<09:55,  1.64it/s]"
     ]
    },
    {
     "name": "stdout",
     "output_type": "stream",
     "text": [
      "/home/lluis/histo_lung/data/Mask_PyHIST_v2/LungAOEC_List2/000035826400709899/tilecrossed_000035826400709899.png\n"
     ]
    },
    {
     "name": "stderr",
     "output_type": "stream",
     "text": [
      " 26%|██▌       | 340/1318 [03:59<10:24,  1.57it/s]"
     ]
    },
    {
     "name": "stdout",
     "output_type": "stream",
     "text": [
      "/home/lluis/histo_lung/data/Mask_PyHIST_v2/LungAOEC_List2/000035206200645888/tilecrossed_000035206200645888.png\n"
     ]
    },
    {
     "name": "stderr",
     "output_type": "stream",
     "text": [
      " 26%|██▌       | 341/1318 [03:59<09:57,  1.64it/s]"
     ]
    },
    {
     "name": "stdout",
     "output_type": "stream",
     "text": [
      "/home/lluis/histo_lung/data/Mask_PyHIST_v2/LungAOEC_List2/000036288300765937/tilecrossed_000036288300765937.png\n"
     ]
    },
    {
     "name": "stderr",
     "output_type": "stream",
     "text": [
      " 26%|██▌       | 343/1318 [04:00<07:39,  2.12it/s]"
     ]
    },
    {
     "name": "stdout",
     "output_type": "stream",
     "text": [
      "/home/lluis/histo_lung/data/Mask_PyHIST_v2/LungAOEC_List2/000035268600653966/tilecrossed_000035268600653966.png\n",
      "/home/lluis/histo_lung/data/Mask_PyHIST_v2/LungAOEC_List2/000031451200373387/tilecrossed_000031451200373387.png\n"
     ]
    },
    {
     "name": "stderr",
     "output_type": "stream",
     "text": [
      " 26%|██▌       | 344/1318 [04:01<08:54,  1.82it/s]"
     ]
    },
    {
     "name": "stdout",
     "output_type": "stream",
     "text": [
      "/home/lluis/histo_lung/data/Mask_PyHIST_v2/LungAOEC_List2/000033942700528926/tilecrossed_000033942700528926.png\n"
     ]
    },
    {
     "name": "stderr",
     "output_type": "stream",
     "text": [
      " 26%|██▌       | 345/1318 [04:01<09:21,  1.73it/s]"
     ]
    },
    {
     "name": "stdout",
     "output_type": "stream",
     "text": [
      "/home/lluis/histo_lung/data/Mask_PyHIST_v2/LungAOEC_List2/000031990700400984/tilecrossed_000031990700400984.png\n"
     ]
    },
    {
     "name": "stderr",
     "output_type": "stream",
     "text": [
      " 26%|██▋       | 347/1318 [04:02<06:17,  2.58it/s]"
     ]
    },
    {
     "name": "stdout",
     "output_type": "stream",
     "text": [
      "/home/lluis/histo_lung/data/Mask_PyHIST_v2/LungAOEC_List2/000031722600384835/tilecrossed_000031722600384835.png\n",
      "/home/lluis/histo_lung/data/Mask_PyHIST_v2/LungAOEC_List2/000035599100688214/tilecrossed_000035599100688214.png\n"
     ]
    },
    {
     "name": "stderr",
     "output_type": "stream",
     "text": [
      " 26%|██▋       | 348/1318 [04:03<07:35,  2.13it/s]"
     ]
    },
    {
     "name": "stdout",
     "output_type": "stream",
     "text": [
      "/home/lluis/histo_lung/data/Mask_PyHIST_v2/LungAOEC_List2/000031991400401025/tilecrossed_000031991400401025.png\n"
     ]
    },
    {
     "name": "stderr",
     "output_type": "stream",
     "text": [
      " 26%|██▋       | 349/1318 [04:03<07:07,  2.27it/s]"
     ]
    },
    {
     "name": "stdout",
     "output_type": "stream",
     "text": [
      "/home/lluis/histo_lung/data/Mask_PyHIST_v2/LungAOEC_List2/000033938300530897/tilecrossed_000033938300530897.png\n"
     ]
    },
    {
     "name": "stderr",
     "output_type": "stream",
     "text": [
      " 27%|██▋       | 350/1318 [04:04<09:09,  1.76it/s]"
     ]
    },
    {
     "name": "stdout",
     "output_type": "stream",
     "text": [
      "/home/lluis/histo_lung/data/Mask_PyHIST_v2/LungAOEC_List2/000031957900396611/tilecrossed_000031957900396611.png\n"
     ]
    },
    {
     "name": "stderr",
     "output_type": "stream",
     "text": [
      " 27%|██▋       | 351/1318 [04:04<09:17,  1.73it/s]"
     ]
    },
    {
     "name": "stdout",
     "output_type": "stream",
     "text": [
      "/home/lluis/histo_lung/data/Mask_PyHIST_v2/LungAOEC_List2/000035833500711215/tilecrossed_000035833500711215.png\n"
     ]
    },
    {
     "name": "stderr",
     "output_type": "stream",
     "text": [
      " 27%|██▋       | 352/1318 [04:05<09:40,  1.66it/s]"
     ]
    },
    {
     "name": "stdout",
     "output_type": "stream",
     "text": [
      "/home/lluis/histo_lung/data/Mask_PyHIST_v2/LungAOEC_List2/000031945100398118/tilecrossed_000031945100398118.png\n"
     ]
    },
    {
     "name": "stderr",
     "output_type": "stream",
     "text": [
      " 27%|██▋       | 354/1318 [04:06<08:16,  1.94it/s]"
     ]
    },
    {
     "name": "stdout",
     "output_type": "stream",
     "text": [
      "/home/lluis/histo_lung/data/Mask_PyHIST_v2/LungAOEC_List2/000030669500332612/tilecrossed_000030669500332612.png\n",
      "/home/lluis/histo_lung/data/Mask_PyHIST_v2/LungAOEC_List2/000032202000412397/tilecrossed_000032202000412397.png\n"
     ]
    },
    {
     "name": "stderr",
     "output_type": "stream",
     "text": [
      " 27%|██▋       | 355/1318 [04:06<07:35,  2.11it/s]"
     ]
    },
    {
     "name": "stdout",
     "output_type": "stream",
     "text": [
      "/home/lluis/histo_lung/data/Mask_PyHIST_v2/LungAOEC_List2/000032974000447069/tilecrossed_000032974000447069.png\n"
     ]
    },
    {
     "name": "stderr",
     "output_type": "stream",
     "text": [
      " 27%|██▋       | 356/1318 [04:07<06:54,  2.32it/s]"
     ]
    },
    {
     "name": "stdout",
     "output_type": "stream",
     "text": [
      "/home/lluis/histo_lung/data/Mask_PyHIST_v2/LungAOEC_List2/000035185500645288/tilecrossed_000035185500645288.png\n"
     ]
    },
    {
     "name": "stderr",
     "output_type": "stream",
     "text": [
      " 27%|██▋       | 357/1318 [04:07<07:14,  2.21it/s]"
     ]
    },
    {
     "name": "stdout",
     "output_type": "stream",
     "text": [
      "/home/lluis/histo_lung/data/Mask_PyHIST_v2/LungAOEC_List2/000035795500704962/tilecrossed_000035795500704962.png\n"
     ]
    },
    {
     "name": "stderr",
     "output_type": "stream",
     "text": [
      " 27%|██▋       | 358/1318 [04:08<07:24,  2.16it/s]"
     ]
    },
    {
     "name": "stdout",
     "output_type": "stream",
     "text": [
      "/home/lluis/histo_lung/data/Mask_PyHIST_v2/LungAOEC_List2/000032617600430042/tilecrossed_000032617600430042.png\n"
     ]
    },
    {
     "name": "stderr",
     "output_type": "stream",
     "text": [
      " 27%|██▋       | 359/1318 [04:08<06:15,  2.55it/s]"
     ]
    },
    {
     "name": "stdout",
     "output_type": "stream",
     "text": [
      "/home/lluis/histo_lung/data/Mask_PyHIST_v2/LungAOEC_List2/000033918800528763/tilecrossed_000033918800528763.png\n"
     ]
    },
    {
     "name": "stderr",
     "output_type": "stream",
     "text": [
      " 27%|██▋       | 360/1318 [04:08<06:34,  2.43it/s]"
     ]
    },
    {
     "name": "stdout",
     "output_type": "stream",
     "text": [
      "/home/lluis/histo_lung/data/Mask_PyHIST_v2/LungAOEC_List2/000034131800547413/tilecrossed_000034131800547413.png\n"
     ]
    },
    {
     "name": "stderr",
     "output_type": "stream",
     "text": [
      " 27%|██▋       | 361/1318 [04:09<06:00,  2.66it/s]"
     ]
    },
    {
     "name": "stdout",
     "output_type": "stream",
     "text": [
      "/home/lluis/histo_lung/data/Mask_PyHIST_v2/LungAOEC_List2/000031363500367020/tilecrossed_000031363500367020.png\n"
     ]
    },
    {
     "name": "stderr",
     "output_type": "stream",
     "text": [
      " 27%|██▋       | 362/1318 [04:10<10:19,  1.54it/s]"
     ]
    },
    {
     "name": "stdout",
     "output_type": "stream",
     "text": [
      "/home/lluis/histo_lung/data/Mask_PyHIST_v2/LungAOEC_List2/000031329300365918/tilecrossed_000031329300365918.png\n"
     ]
    },
    {
     "name": "stderr",
     "output_type": "stream",
     "text": [
      " 28%|██▊       | 363/1318 [04:11<11:49,  1.35it/s]"
     ]
    },
    {
     "name": "stdout",
     "output_type": "stream",
     "text": [
      "/home/lluis/histo_lung/data/Mask_PyHIST_v2/LungAOEC_List2/000035794800704834/tilecrossed_000035794800704834.png\n"
     ]
    },
    {
     "name": "stderr",
     "output_type": "stream",
     "text": [
      " 28%|██▊       | 364/1318 [04:12<12:08,  1.31it/s]"
     ]
    },
    {
     "name": "stdout",
     "output_type": "stream",
     "text": [
      "/home/lluis/histo_lung/data/Mask_PyHIST_v2/LungAOEC_List2/000036286400762324/tilecrossed_000036286400762324.png\n"
     ]
    },
    {
     "name": "stderr",
     "output_type": "stream",
     "text": [
      " 28%|██▊       | 365/1318 [04:12<11:12,  1.42it/s]"
     ]
    },
    {
     "name": "stdout",
     "output_type": "stream",
     "text": [
      "/home/lluis/histo_lung/data/Mask_PyHIST_v2/LungAOEC_List2/000034181300550448/tilecrossed_000034181300550448.png\n"
     ]
    },
    {
     "name": "stderr",
     "output_type": "stream",
     "text": [
      " 28%|██▊       | 366/1318 [04:13<10:36,  1.50it/s]"
     ]
    },
    {
     "name": "stdout",
     "output_type": "stream",
     "text": [
      "/home/lluis/histo_lung/data/Mask_PyHIST_v2/LungAOEC_List2/000031963800399394/tilecrossed_000031963800399394.png\n"
     ]
    },
    {
     "name": "stderr",
     "output_type": "stream",
     "text": [
      " 28%|██▊       | 367/1318 [04:14<10:11,  1.55it/s]"
     ]
    },
    {
     "name": "stdout",
     "output_type": "stream",
     "text": [
      "/home/lluis/histo_lung/data/Mask_PyHIST_v2/LungAOEC_List2/000035185500645278/tilecrossed_000035185500645278.png\n"
     ]
    },
    {
     "name": "stderr",
     "output_type": "stream",
     "text": [
      " 28%|██▊       | 369/1318 [04:14<06:44,  2.35it/s]"
     ]
    },
    {
     "name": "stdout",
     "output_type": "stream",
     "text": [
      "/home/lluis/histo_lung/data/Mask_PyHIST_v2/LungAOEC_List2/000033340300479660/tilecrossed_000033340300479660.png\n",
      "/home/lluis/histo_lung/data/Mask_PyHIST_v2/LungAOEC_List2/000031990700398031/tilecrossed_000031990700398031.png\n"
     ]
    },
    {
     "name": "stderr",
     "output_type": "stream",
     "text": [
      " 28%|██▊       | 370/1318 [04:14<06:41,  2.36it/s]"
     ]
    },
    {
     "name": "stdout",
     "output_type": "stream",
     "text": [
      "/home/lluis/histo_lung/data/Mask_PyHIST_v2/LungAOEC_List2/000031309400365182/tilecrossed_000031309400365182.png\n"
     ]
    },
    {
     "name": "stderr",
     "output_type": "stream",
     "text": [
      " 28%|██▊       | 372/1318 [04:15<05:19,  2.96it/s]"
     ]
    },
    {
     "name": "stdout",
     "output_type": "stream",
     "text": [
      "/home/lluis/histo_lung/data/Mask_PyHIST_v2/LungAOEC_List2/000033382400482123/tilecrossed_000033382400482123.png\n",
      "/home/lluis/histo_lung/data/Mask_PyHIST_v2/LungAOEC_List2/000036157800751793/tilecrossed_000036157800751793.png\n"
     ]
    },
    {
     "name": "stderr",
     "output_type": "stream",
     "text": [
      " 28%|██▊       | 373/1318 [04:16<06:42,  2.35it/s]"
     ]
    },
    {
     "name": "stdout",
     "output_type": "stream",
     "text": [
      "/home/lluis/histo_lung/data/Mask_PyHIST_v2/LungAOEC_List2/000031963800399396/tilecrossed_000031963800399396.png\n"
     ]
    },
    {
     "name": "stderr",
     "output_type": "stream",
     "text": [
      " 28%|██▊       | 374/1318 [04:16<06:14,  2.52it/s]"
     ]
    },
    {
     "name": "stdout",
     "output_type": "stream",
     "text": [
      "/home/lluis/histo_lung/data/Mask_PyHIST_v2/LungAOEC_List2/000033922900530146/tilecrossed_000033922900530146.png\n"
     ]
    },
    {
     "name": "stderr",
     "output_type": "stream",
     "text": [
      " 28%|██▊       | 375/1318 [04:17<09:33,  1.65it/s]"
     ]
    },
    {
     "name": "stdout",
     "output_type": "stream",
     "text": [
      "/home/lluis/histo_lung/data/Mask_PyHIST_v2/LungAOEC_List2/000035826400709563/tilecrossed_000035826400709563.png\n"
     ]
    },
    {
     "name": "stderr",
     "output_type": "stream",
     "text": [
      " 29%|██▊       | 376/1318 [04:18<09:51,  1.59it/s]"
     ]
    },
    {
     "name": "stdout",
     "output_type": "stream",
     "text": [
      "/home/lluis/histo_lung/data/Mask_PyHIST_v2/LungAOEC_List2/000031327500365862/tilecrossed_000031327500365862.png\n"
     ]
    },
    {
     "name": "stderr",
     "output_type": "stream",
     "text": [
      " 29%|██▊       | 377/1318 [04:18<08:25,  1.86it/s]"
     ]
    },
    {
     "name": "stdout",
     "output_type": "stream",
     "text": [
      "/home/lluis/histo_lung/data/Mask_PyHIST_v2/LungAOEC_List2/000031367000367330/tilecrossed_000031367000367330.png\n"
     ]
    },
    {
     "name": "stderr",
     "output_type": "stream",
     "text": [
      " 29%|██▊       | 378/1318 [04:18<07:16,  2.15it/s]"
     ]
    },
    {
     "name": "stdout",
     "output_type": "stream",
     "text": [
      "/home/lluis/histo_lung/data/Mask_PyHIST_v2/LungAOEC_List2/000032897900443139/tilecrossed_000032897900443139.png\n"
     ]
    },
    {
     "name": "stderr",
     "output_type": "stream",
     "text": [
      " 29%|██▉       | 379/1318 [04:20<10:18,  1.52it/s]"
     ]
    },
    {
     "name": "stdout",
     "output_type": "stream",
     "text": [
      "/home/lluis/histo_lung/data/Mask_PyHIST_v2/LungAOEC_List2/000034129600543080/tilecrossed_000034129600543080.png\n"
     ]
    },
    {
     "name": "stderr",
     "output_type": "stream",
     "text": [
      " 29%|██▉       | 380/1318 [04:20<09:43,  1.61it/s]"
     ]
    },
    {
     "name": "stdout",
     "output_type": "stream",
     "text": [
      "/home/lluis/histo_lung/data/Mask_PyHIST_v2/LungAOEC_List2/000035182100641009/tilecrossed_000035182100641009.png\n"
     ]
    },
    {
     "name": "stderr",
     "output_type": "stream",
     "text": [
      " 29%|██▉       | 381/1318 [04:20<08:51,  1.76it/s]"
     ]
    },
    {
     "name": "stdout",
     "output_type": "stream",
     "text": [
      "/home/lluis/histo_lung/data/Mask_PyHIST_v2/LungAOEC_List2/000031957900399082/tilecrossed_000031957900399082.png\n"
     ]
    },
    {
     "name": "stderr",
     "output_type": "stream",
     "text": [
      " 29%|██▉       | 382/1318 [04:21<08:37,  1.81it/s]"
     ]
    },
    {
     "name": "stdout",
     "output_type": "stream",
     "text": [
      "/home/lluis/histo_lung/data/Mask_PyHIST_v2/LungAOEC_List2/000033922800530594/tilecrossed_000033922800530594.png\n"
     ]
    },
    {
     "name": "stderr",
     "output_type": "stream",
     "text": [
      " 29%|██▉       | 383/1318 [04:22<10:22,  1.50it/s]"
     ]
    },
    {
     "name": "stdout",
     "output_type": "stream",
     "text": [
      "/home/lluis/histo_lung/data/Mask_PyHIST_v2/LungAOEC_List2/000031634700382124/tilecrossed_000031634700382124.png\n"
     ]
    },
    {
     "name": "stderr",
     "output_type": "stream",
     "text": [
      " 29%|██▉       | 384/1318 [04:22<09:02,  1.72it/s]"
     ]
    },
    {
     "name": "stdout",
     "output_type": "stream",
     "text": [
      "/home/lluis/histo_lung/data/Mask_PyHIST_v2/LungAOEC_List2/000036177600753264/tilecrossed_000036177600753264.png\n"
     ]
    },
    {
     "name": "stderr",
     "output_type": "stream",
     "text": [
      " 29%|██▉       | 385/1318 [04:23<11:45,  1.32it/s]"
     ]
    },
    {
     "name": "stdout",
     "output_type": "stream",
     "text": [
      "/home/lluis/histo_lung/data/Mask_PyHIST_v2/LungAOEC_List2/000030494900323693/tilecrossed_000030494900323693.png\n"
     ]
    },
    {
     "name": "stderr",
     "output_type": "stream",
     "text": [
      " 29%|██▉       | 386/1318 [04:24<09:43,  1.60it/s]"
     ]
    },
    {
     "name": "stdout",
     "output_type": "stream",
     "text": [
      "/home/lluis/histo_lung/data/Mask_PyHIST_v2/LungAOEC_List2/000036157800750327/tilecrossed_000036157800750327.png\n"
     ]
    },
    {
     "name": "stderr",
     "output_type": "stream",
     "text": [
      " 29%|██▉       | 387/1318 [04:24<10:01,  1.55it/s]"
     ]
    },
    {
     "name": "stdout",
     "output_type": "stream",
     "text": [
      "/home/lluis/histo_lung/data/Mask_PyHIST_v2/LungAOEC_List2/000032202000417622/tilecrossed_000032202000417622.png\n"
     ]
    },
    {
     "name": "stderr",
     "output_type": "stream",
     "text": [
      " 29%|██▉       | 388/1318 [04:25<10:56,  1.42it/s]"
     ]
    },
    {
     "name": "stdout",
     "output_type": "stream",
     "text": [
      "/home/lluis/histo_lung/data/Mask_PyHIST_v2/LungAOEC_List2/000033891700518470/tilecrossed_000033891700518470.png\n"
     ]
    },
    {
     "name": "stderr",
     "output_type": "stream",
     "text": [
      " 30%|██▉       | 389/1318 [04:26<10:39,  1.45it/s]"
     ]
    },
    {
     "name": "stdout",
     "output_type": "stream",
     "text": [
      "/home/lluis/histo_lung/data/Mask_PyHIST_v2/LungAOEC_List2/000031305400365416/tilecrossed_000031305400365416.png\n"
     ]
    },
    {
     "name": "stderr",
     "output_type": "stream",
     "text": [
      " 30%|██▉       | 390/1318 [04:27<09:57,  1.55it/s]"
     ]
    },
    {
     "name": "stdout",
     "output_type": "stream",
     "text": [
      "/home/lluis/histo_lung/data/Mask_PyHIST_v2/LungAOEC_List2/000036157800750331/tilecrossed_000036157800750331.png\n"
     ]
    },
    {
     "name": "stderr",
     "output_type": "stream",
     "text": [
      " 30%|██▉       | 391/1318 [04:27<10:53,  1.42it/s]"
     ]
    },
    {
     "name": "stdout",
     "output_type": "stream",
     "text": [
      "/home/lluis/histo_lung/data/Mask_PyHIST_v2/LungAOEC_List2/000030870900342376/tilecrossed_000030870900342376.png\n"
     ]
    },
    {
     "name": "stderr",
     "output_type": "stream",
     "text": [
      " 30%|██▉       | 392/1318 [04:28<12:45,  1.21it/s]"
     ]
    },
    {
     "name": "stdout",
     "output_type": "stream",
     "text": [
      "/home/lluis/histo_lung/data/Mask_PyHIST_v2/LungAOEC_List2/000035206200645874/tilecrossed_000035206200645874.png\n"
     ]
    },
    {
     "name": "stderr",
     "output_type": "stream",
     "text": [
      " 30%|██▉       | 393/1318 [04:29<11:40,  1.32it/s]"
     ]
    },
    {
     "name": "stdout",
     "output_type": "stream",
     "text": [
      "/home/lluis/histo_lung/data/Mask_PyHIST_v2/LungAOEC_List2/000034129600545509/tilecrossed_000034129600545509.png\n"
     ]
    },
    {
     "name": "stderr",
     "output_type": "stream",
     "text": [
      " 30%|██▉       | 394/1318 [04:30<11:16,  1.37it/s]"
     ]
    },
    {
     "name": "stdout",
     "output_type": "stream",
     "text": [
      "/home/lluis/histo_lung/data/Mask_PyHIST_v2/LungAOEC_List2/000031957900399081/tilecrossed_000031957900399081.png\n"
     ]
    },
    {
     "name": "stderr",
     "output_type": "stream",
     "text": [
      " 30%|██▉       | 395/1318 [04:31<13:05,  1.18it/s]"
     ]
    },
    {
     "name": "stdout",
     "output_type": "stream",
     "text": [
      "/home/lluis/histo_lung/data/Mask_PyHIST_v2/LungAOEC_List2/000031447900371223/tilecrossed_000031447900371223.png\n"
     ]
    },
    {
     "name": "stderr",
     "output_type": "stream",
     "text": [
      " 30%|███       | 396/1318 [04:32<14:08,  1.09it/s]"
     ]
    },
    {
     "name": "stdout",
     "output_type": "stream",
     "text": [
      "/home/lluis/histo_lung/data/Mask_PyHIST_v2/LungAOEC_List2/000031801900391062/tilecrossed_000031801900391062.png\n"
     ]
    },
    {
     "name": "stderr",
     "output_type": "stream",
     "text": [
      " 30%|███       | 397/1318 [04:32<11:31,  1.33it/s]"
     ]
    },
    {
     "name": "stdout",
     "output_type": "stream",
     "text": [
      "/home/lluis/histo_lung/data/Mask_PyHIST_v2/LungAOEC_List2/000032316200414464/tilecrossed_000032316200414464.png\n"
     ]
    },
    {
     "name": "stderr",
     "output_type": "stream",
     "text": [
      " 30%|███       | 398/1318 [04:33<11:19,  1.35it/s]"
     ]
    },
    {
     "name": "stdout",
     "output_type": "stream",
     "text": [
      "/home/lluis/histo_lung/data/Mask_PyHIST_v2/LungAOEC_List2/000034183600550194/tilecrossed_000034183600550194.png\n"
     ]
    },
    {
     "name": "stderr",
     "output_type": "stream",
     "text": [
      " 30%|███       | 399/1318 [04:34<11:05,  1.38it/s]"
     ]
    },
    {
     "name": "stdout",
     "output_type": "stream",
     "text": [
      "/home/lluis/histo_lung/data/Mask_PyHIST_v2/LungAOEC_List2/000034181300567878/tilecrossed_000034181300567878.png\n"
     ]
    },
    {
     "name": "stderr",
     "output_type": "stream",
     "text": [
      " 30%|███       | 400/1318 [04:34<10:23,  1.47it/s]"
     ]
    },
    {
     "name": "stdout",
     "output_type": "stream",
     "text": [
      "/home/lluis/histo_lung/data/Mask_PyHIST_v2/LungAOEC_List2/000031581600379395/tilecrossed_000031581600379395.png\n"
     ]
    },
    {
     "name": "stderr",
     "output_type": "stream",
     "text": [
      " 31%|███       | 402/1318 [04:35<07:45,  1.97it/s]"
     ]
    },
    {
     "name": "stdout",
     "output_type": "stream",
     "text": [
      "/home/lluis/histo_lung/data/Mask_PyHIST_v2/LungAOEC_List2/000035271400654393/tilecrossed_000035271400654393.png\n",
      "/home/lluis/histo_lung/data/Mask_PyHIST_v2/LungAOEC_List2/000031209100360992/tilecrossed_000031209100360992.png\n"
     ]
    },
    {
     "name": "stderr",
     "output_type": "stream",
     "text": [
      " 31%|███       | 403/1318 [04:36<11:32,  1.32it/s]"
     ]
    },
    {
     "name": "stdout",
     "output_type": "stream",
     "text": [
      "/home/lluis/histo_lung/data/Mask_PyHIST_v2/LungAOEC_List2/000034484100581833/tilecrossed_000034484100581833.png\n"
     ]
    },
    {
     "name": "stderr",
     "output_type": "stream",
     "text": [
      " 31%|███       | 404/1318 [04:37<11:24,  1.34it/s]"
     ]
    },
    {
     "name": "stdout",
     "output_type": "stream",
     "text": [
      "/home/lluis/histo_lung/data/Mask_PyHIST_v2/LungAOEC_List2/000030870900342384/tilecrossed_000030870900342384.png\n"
     ]
    },
    {
     "name": "stderr",
     "output_type": "stream",
     "text": [
      " 31%|███       | 405/1318 [04:38<11:54,  1.28it/s]"
     ]
    },
    {
     "name": "stdout",
     "output_type": "stream",
     "text": [
      "/home/lluis/histo_lung/data/Mask_PyHIST_v2/LungAOEC_List2/000031801900391064/tilecrossed_000031801900391064.png\n"
     ]
    },
    {
     "name": "stderr",
     "output_type": "stream",
     "text": [
      " 31%|███       | 406/1318 [04:39<11:49,  1.29it/s]"
     ]
    },
    {
     "name": "stdout",
     "output_type": "stream",
     "text": [
      "/home/lluis/histo_lung/data/Mask_PyHIST_v2/LungAOEC_List2/000034727200605345/tilecrossed_000034727200605345.png\n"
     ]
    },
    {
     "name": "stderr",
     "output_type": "stream",
     "text": [
      " 31%|███       | 407/1318 [04:39<11:08,  1.36it/s]"
     ]
    },
    {
     "name": "stdout",
     "output_type": "stream",
     "text": [
      "/home/lluis/histo_lung/data/Mask_PyHIST_v2/LungAOEC_List2/000034476800580885/tilecrossed_000034476800580885.png\n"
     ]
    },
    {
     "name": "stderr",
     "output_type": "stream",
     "text": [
      " 31%|███       | 409/1318 [04:40<07:54,  1.92it/s]"
     ]
    },
    {
     "name": "stdout",
     "output_type": "stream",
     "text": [
      "/home/lluis/histo_lung/data/Mask_PyHIST_v2/LungAOEC_List2/000033382400482117/tilecrossed_000033382400482117.png\n",
      "/home/lluis/histo_lung/data/Mask_PyHIST_v2/LungAOEC_List2/000035206200645878/tilecrossed_000035206200645878.png\n"
     ]
    },
    {
     "name": "stderr",
     "output_type": "stream",
     "text": [
      " 31%|███       | 410/1318 [04:41<09:34,  1.58it/s]"
     ]
    },
    {
     "name": "stdout",
     "output_type": "stream",
     "text": [
      "/home/lluis/histo_lung/data/Mask_PyHIST_v2/LungAOEC_List2/000033918800521831/tilecrossed_000033918800521831.png\n"
     ]
    },
    {
     "name": "stderr",
     "output_type": "stream",
     "text": [
      " 31%|███       | 411/1318 [04:42<09:45,  1.55it/s]"
     ]
    },
    {
     "name": "stdout",
     "output_type": "stream",
     "text": [
      "/home/lluis/histo_lung/data/Mask_PyHIST_v2/LungAOEC_List2/000035870700717721/tilecrossed_000035870700717721.png\n"
     ]
    },
    {
     "name": "stderr",
     "output_type": "stream",
     "text": [
      " 31%|███▏      | 412/1318 [04:42<09:17,  1.62it/s]"
     ]
    },
    {
     "name": "stdout",
     "output_type": "stream",
     "text": [
      "/home/lluis/histo_lung/data/Mask_PyHIST_v2/LungAOEC_List2/000035478000675924/tilecrossed_000035478000675924.png\n"
     ]
    },
    {
     "name": "stderr",
     "output_type": "stream",
     "text": [
      " 31%|███▏      | 413/1318 [04:43<09:10,  1.64it/s]"
     ]
    },
    {
     "name": "stdout",
     "output_type": "stream",
     "text": [
      "/home/lluis/histo_lung/data/Mask_PyHIST_v2/LungAOEC_List2/000031068400351369/tilecrossed_000031068400351369.png\n"
     ]
    },
    {
     "name": "stderr",
     "output_type": "stream",
     "text": [
      " 31%|███▏      | 414/1318 [04:44<10:48,  1.39it/s]"
     ]
    },
    {
     "name": "stdout",
     "output_type": "stream",
     "text": [
      "/home/lluis/histo_lung/data/Mask_PyHIST_v2/LungAOEC_List2/000031796600390250/tilecrossed_000031796600390250.png\n"
     ]
    },
    {
     "name": "stderr",
     "output_type": "stream",
     "text": [
      " 31%|███▏      | 415/1318 [04:45<11:04,  1.36it/s]"
     ]
    },
    {
     "name": "stdout",
     "output_type": "stream",
     "text": [
      "/home/lluis/histo_lung/data/Mask_PyHIST_v2/LungAOEC_List2/000031329100365903/tilecrossed_000031329100365903.png\n"
     ]
    },
    {
     "name": "stderr",
     "output_type": "stream",
     "text": [
      " 32%|███▏      | 416/1318 [04:45<09:47,  1.54it/s]"
     ]
    },
    {
     "name": "stdout",
     "output_type": "stream",
     "text": [
      "/home/lluis/histo_lung/data/Mask_PyHIST_v2/LungAOEC_List2/000030397000318688/tilecrossed_000030397000318688.png\n"
     ]
    },
    {
     "name": "stderr",
     "output_type": "stream",
     "text": [
      " 32%|███▏      | 417/1318 [04:45<07:45,  1.94it/s]"
     ]
    },
    {
     "name": "stdout",
     "output_type": "stream",
     "text": [
      "/home/lluis/histo_lung/data/Mask_PyHIST_v2/LungAOEC_List2/000033922800530590/tilecrossed_000033922800530590.png\n"
     ]
    },
    {
     "name": "stderr",
     "output_type": "stream",
     "text": [
      " 32%|███▏      | 418/1318 [04:46<08:51,  1.69it/s]"
     ]
    },
    {
     "name": "stdout",
     "output_type": "stream",
     "text": [
      "/home/lluis/histo_lung/data/Mask_PyHIST_v2/LungAOEC_List2/000035795500710711/tilecrossed_000035795500710711.png\n"
     ]
    },
    {
     "name": "stderr",
     "output_type": "stream",
     "text": [
      " 32%|███▏      | 420/1318 [04:46<06:03,  2.47it/s]"
     ]
    },
    {
     "name": "stdout",
     "output_type": "stream",
     "text": [
      "/home/lluis/histo_lung/data/Mask_PyHIST_v2/LungAOEC_List2/000030399700317762/tilecrossed_000030399700317762.png\n",
      "/home/lluis/histo_lung/data/Mask_PyHIST_v2/LungAOEC_List2/000033339900472067/tilecrossed_000033339900472067.png\n",
      "/home/lluis/histo_lung/data/Mask_PyHIST_v2/LungAOEC_List2/000035599100680651/tilecrossed_000035599100680651.png\n"
     ]
    },
    {
     "name": "stderr",
     "output_type": "stream",
     "text": [
      " 32%|███▏      | 422/1318 [04:47<04:34,  3.26it/s]"
     ]
    },
    {
     "name": "stdout",
     "output_type": "stream",
     "text": [
      "/home/lluis/histo_lung/data/Mask_PyHIST_v2/LungAOEC_List2/000035182700645264/tilecrossed_000035182700645264.png\n"
     ]
    },
    {
     "name": "stderr",
     "output_type": "stream",
     "text": [
      " 32%|███▏      | 423/1318 [04:47<05:10,  2.89it/s]"
     ]
    },
    {
     "name": "stdout",
     "output_type": "stream",
     "text": [
      "/home/lluis/histo_lung/data/Mask_PyHIST_v2/LungAOEC_List2/000031326800365851/tilecrossed_000031326800365851.png\n"
     ]
    },
    {
     "name": "stderr",
     "output_type": "stream",
     "text": [
      " 32%|███▏      | 424/1318 [04:48<05:11,  2.87it/s]"
     ]
    },
    {
     "name": "stdout",
     "output_type": "stream",
     "text": [
      "/home/lluis/histo_lung/data/Mask_PyHIST_v2/LungAOEC_List2/000031945100395822/tilecrossed_000031945100395822.png\n"
     ]
    },
    {
     "name": "stderr",
     "output_type": "stream",
     "text": [
      " 32%|███▏      | 425/1318 [04:49<07:06,  2.09it/s]"
     ]
    },
    {
     "name": "stdout",
     "output_type": "stream",
     "text": [
      "/home/lluis/histo_lung/data/Mask_PyHIST_v2/LungAOEC_List2/000031329300365916/tilecrossed_000031329300365916.png\n"
     ]
    },
    {
     "name": "stderr",
     "output_type": "stream",
     "text": [
      " 32%|███▏      | 426/1318 [04:49<08:25,  1.76it/s]"
     ]
    },
    {
     "name": "stdout",
     "output_type": "stream",
     "text": [
      "/home/lluis/histo_lung/data/Mask_PyHIST_v2/LungAOEC_List2/000035215500646305/tilecrossed_000035215500646305.png\n"
     ]
    },
    {
     "name": "stderr",
     "output_type": "stream",
     "text": [
      " 32%|███▏      | 427/1318 [04:50<10:03,  1.48it/s]"
     ]
    },
    {
     "name": "stdout",
     "output_type": "stream",
     "text": [
      "/home/lluis/histo_lung/data/Mask_PyHIST_v2/LungAOEC_List2/000032897900448061/tilecrossed_000032897900448061.png\n"
     ]
    },
    {
     "name": "stderr",
     "output_type": "stream",
     "text": [
      " 32%|███▏      | 428/1318 [04:51<10:57,  1.35it/s]"
     ]
    },
    {
     "name": "stdout",
     "output_type": "stream",
     "text": [
      "/home/lluis/histo_lung/data/Mask_PyHIST_v2/LungAOEC_List2/000035599100688222/tilecrossed_000035599100688222.png\n"
     ]
    },
    {
     "name": "stderr",
     "output_type": "stream",
     "text": [
      " 33%|███▎      | 429/1318 [04:52<09:52,  1.50it/s]"
     ]
    },
    {
     "name": "stdout",
     "output_type": "stream",
     "text": [
      "/home/lluis/histo_lung/data/Mask_PyHIST_v2/LungAOEC_List2/000034119100541707/tilecrossed_000034119100541707.png\n"
     ]
    },
    {
     "name": "stderr",
     "output_type": "stream",
     "text": [
      " 33%|███▎      | 430/1318 [04:52<09:50,  1.50it/s]"
     ]
    },
    {
     "name": "stdout",
     "output_type": "stream",
     "text": [
      "/home/lluis/histo_lung/data/Mask_PyHIST_v2/LungAOEC_List2/000032202000412394/tilecrossed_000032202000412394.png\n"
     ]
    },
    {
     "name": "stderr",
     "output_type": "stream",
     "text": [
      " 33%|███▎      | 431/1318 [04:53<09:45,  1.52it/s]"
     ]
    },
    {
     "name": "stdout",
     "output_type": "stream",
     "text": [
      "/home/lluis/histo_lung/data/Mask_PyHIST_v2/LungAOEC_List2/000036242800760967/tilecrossed_000036242800760967.png\n"
     ]
    },
    {
     "name": "stderr",
     "output_type": "stream",
     "text": [
      " 33%|███▎      | 432/1318 [04:54<10:21,  1.43it/s]"
     ]
    },
    {
     "name": "stdout",
     "output_type": "stream",
     "text": [
      "/home/lluis/histo_lung/data/Mask_PyHIST_v2/LungAOEC_List2/000034131800547415/tilecrossed_000034131800547415.png\n"
     ]
    },
    {
     "name": "stderr",
     "output_type": "stream",
     "text": [
      " 33%|███▎      | 433/1318 [04:54<08:53,  1.66it/s]"
     ]
    },
    {
     "name": "stdout",
     "output_type": "stream",
     "text": [
      "/home/lluis/histo_lung/data/Mask_PyHIST_v2/LungAOEC_List2/000034129600545515/tilecrossed_000034129600545515.png\n"
     ]
    },
    {
     "name": "stderr",
     "output_type": "stream",
     "text": [
      " 33%|███▎      | 434/1318 [04:54<07:51,  1.87it/s]"
     ]
    },
    {
     "name": "stdout",
     "output_type": "stream",
     "text": [
      "/home/lluis/histo_lung/data/Mask_PyHIST_v2/LungAOEC_List2/000031945100398125/tilecrossed_000031945100398125.png\n"
     ]
    },
    {
     "name": "stderr",
     "output_type": "stream",
     "text": [
      " 33%|███▎      | 435/1318 [04:55<08:54,  1.65it/s]"
     ]
    },
    {
     "name": "stdout",
     "output_type": "stream",
     "text": [
      "/home/lluis/histo_lung/data/Mask_PyHIST_v2/LungAOEC_List2/000035794800704826/tilecrossed_000035794800704826.png\n"
     ]
    },
    {
     "name": "stderr",
     "output_type": "stream",
     "text": [
      " 33%|███▎      | 436/1318 [04:56<08:52,  1.66it/s]"
     ]
    },
    {
     "name": "stdout",
     "output_type": "stream",
     "text": [
      "/home/lluis/histo_lung/data/Mask_PyHIST_v2/LungAOEC_List2/000033922900530152/tilecrossed_000033922900530152.png\n"
     ]
    },
    {
     "name": "stderr",
     "output_type": "stream",
     "text": [
      " 33%|███▎      | 437/1318 [04:57<11:15,  1.30it/s]"
     ]
    },
    {
     "name": "stdout",
     "output_type": "stream",
     "text": [
      "/home/lluis/histo_lung/data/Mask_PyHIST_v2/LungAOEC_List2/000036179900753286/tilecrossed_000036179900753286.png\n"
     ]
    },
    {
     "name": "stderr",
     "output_type": "stream",
     "text": [
      " 33%|███▎      | 438/1318 [04:57<09:55,  1.48it/s]"
     ]
    },
    {
     "name": "stdout",
     "output_type": "stream",
     "text": [
      "/home/lluis/histo_lung/data/Mask_PyHIST_v2/LungAOEC_List2/000031440600372575/tilecrossed_000031440600372575.png\n"
     ]
    },
    {
     "name": "stderr",
     "output_type": "stream",
     "text": [
      " 33%|███▎      | 439/1318 [04:58<08:23,  1.75it/s]"
     ]
    },
    {
     "name": "stdout",
     "output_type": "stream",
     "text": [
      "/home/lluis/histo_lung/data/Mask_PyHIST_v2/LungAOEC_List2/000033920400522017/tilecrossed_000033920400522017.png\n"
     ]
    },
    {
     "name": "stderr",
     "output_type": "stream",
     "text": [
      " 33%|███▎      | 440/1318 [04:58<07:25,  1.97it/s]"
     ]
    },
    {
     "name": "stdout",
     "output_type": "stream",
     "text": [
      "/home/lluis/histo_lung/data/Mask_PyHIST_v2/LungAOEC_List2/000031796600390252/tilecrossed_000031796600390252.png\n"
     ]
    },
    {
     "name": "stderr",
     "output_type": "stream",
     "text": [
      " 33%|███▎      | 441/1318 [04:59<07:53,  1.85it/s]"
     ]
    },
    {
     "name": "stdout",
     "output_type": "stream",
     "text": [
      "/home/lluis/histo_lung/data/Mask_PyHIST_v2/LungAOEC_List2/000036177600753278/tilecrossed_000036177600753278.png\n"
     ]
    },
    {
     "name": "stderr",
     "output_type": "stream",
     "text": [
      " 34%|███▎      | 442/1318 [04:59<07:55,  1.84it/s]"
     ]
    },
    {
     "name": "stdout",
     "output_type": "stream",
     "text": [
      "/home/lluis/histo_lung/data/Mask_PyHIST_v2/LungAOEC_List2/000031970300399676/tilecrossed_000031970300399676.png\n"
     ]
    },
    {
     "name": "stderr",
     "output_type": "stream",
     "text": [
      " 34%|███▎      | 443/1318 [05:00<07:59,  1.83it/s]"
     ]
    },
    {
     "name": "stdout",
     "output_type": "stream",
     "text": [
      "/home/lluis/histo_lung/data/Mask_PyHIST_v2/LungAOEC_List2/000036241700760955/tilecrossed_000036241700760955.png\n"
     ]
    },
    {
     "name": "stderr",
     "output_type": "stream",
     "text": [
      " 34%|███▎      | 444/1318 [05:01<10:34,  1.38it/s]"
     ]
    },
    {
     "name": "stdout",
     "output_type": "stream",
     "text": [
      "/home/lluis/histo_lung/data/Mask_PyHIST_v2/LungAOEC_List2/000033938300530899/tilecrossed_000033938300530899.png\n"
     ]
    },
    {
     "name": "stderr",
     "output_type": "stream",
     "text": [
      " 34%|███▍      | 445/1318 [05:02<12:03,  1.21it/s]"
     ]
    },
    {
     "name": "stdout",
     "output_type": "stream",
     "text": [
      "/home/lluis/histo_lung/data/Mask_PyHIST_v2/LungAOEC_List2/000032316200417968/tilecrossed_000032316200417968.png\n"
     ]
    },
    {
     "name": "stderr",
     "output_type": "stream",
     "text": [
      " 34%|███▍      | 446/1318 [05:03<11:57,  1.21it/s]"
     ]
    },
    {
     "name": "stdout",
     "output_type": "stream",
     "text": [
      "/home/lluis/histo_lung/data/Mask_PyHIST_v2/LungAOEC_List2/000034524300583741/tilecrossed_000034524300583741.png\n"
     ]
    },
    {
     "name": "stderr",
     "output_type": "stream",
     "text": [
      " 34%|███▍      | 447/1318 [05:04<11:58,  1.21it/s]"
     ]
    },
    {
     "name": "stdout",
     "output_type": "stream",
     "text": [
      "/home/lluis/histo_lung/data/Mask_PyHIST_v2/LungAOEC_List2/000035794800704818/tilecrossed_000035794800704818.png\n"
     ]
    },
    {
     "name": "stderr",
     "output_type": "stream",
     "text": [
      " 34%|███▍      | 448/1318 [05:04<11:27,  1.27it/s]"
     ]
    },
    {
     "name": "stdout",
     "output_type": "stream",
     "text": [
      "/home/lluis/histo_lung/data/Mask_PyHIST_v2/LungAOEC_List2/000033382400482115/tilecrossed_000033382400482115.png\n"
     ]
    },
    {
     "name": "stderr",
     "output_type": "stream",
     "text": [
      " 34%|███▍      | 449/1318 [05:05<09:16,  1.56it/s]"
     ]
    },
    {
     "name": "stdout",
     "output_type": "stream",
     "text": [
      "/home/lluis/histo_lung/data/Mask_PyHIST_v2/LungAOEC_List2/000035826400709911/tilecrossed_000035826400709911.png\n"
     ]
    },
    {
     "name": "stderr",
     "output_type": "stream",
     "text": [
      " 34%|███▍      | 450/1318 [05:05<09:28,  1.53it/s]"
     ]
    },
    {
     "name": "stdout",
     "output_type": "stream",
     "text": [
      "/home/lluis/histo_lung/data/Mask_PyHIST_v2/LungAOEC_List2/000031367000367335/tilecrossed_000031367000367335.png\n"
     ]
    },
    {
     "name": "stderr",
     "output_type": "stream",
     "text": [
      " 34%|███▍      | 451/1318 [05:06<10:51,  1.33it/s]"
     ]
    },
    {
     "name": "stdout",
     "output_type": "stream",
     "text": [
      "/home/lluis/histo_lung/data/Mask_PyHIST_v2/LungAOEC_List2/000034121000546576/tilecrossed_000034121000546576.png\n"
     ]
    },
    {
     "name": "stderr",
     "output_type": "stream",
     "text": [
      " 34%|███▍      | 452/1318 [05:07<10:01,  1.44it/s]"
     ]
    },
    {
     "name": "stdout",
     "output_type": "stream",
     "text": [
      "/home/lluis/histo_lung/data/Mask_PyHIST_v2/LungAOEC_List2/000030614300329498/tilecrossed_000030614300329498.png\n"
     ]
    },
    {
     "name": "stderr",
     "output_type": "stream",
     "text": [
      " 34%|███▍      | 453/1318 [05:07<08:06,  1.78it/s]"
     ]
    },
    {
     "name": "stdout",
     "output_type": "stream",
     "text": [
      "/home/lluis/histo_lung/data/Mask_PyHIST_v2/LungAOEC_List2/000033942700528907/tilecrossed_000033942700528907.png\n"
     ]
    },
    {
     "name": "stderr",
     "output_type": "stream",
     "text": [
      " 34%|███▍      | 454/1318 [05:08<07:26,  1.94it/s]"
     ]
    },
    {
     "name": "stdout",
     "output_type": "stream",
     "text": [
      "/home/lluis/histo_lung/data/Mask_PyHIST_v2/LungAOEC_List2/000033938300530893/tilecrossed_000033938300530893.png\n"
     ]
    },
    {
     "name": "stderr",
     "output_type": "stream",
     "text": [
      " 35%|███▍      | 455/1318 [05:09<10:09,  1.42it/s]"
     ]
    },
    {
     "name": "stdout",
     "output_type": "stream",
     "text": [
      "/home/lluis/histo_lung/data/Mask_PyHIST_v2/LungAOEC_List2/000036241700760943/tilecrossed_000036241700760943.png\n"
     ]
    },
    {
     "name": "stderr",
     "output_type": "stream",
     "text": [
      " 35%|███▍      | 456/1318 [05:10<10:50,  1.32it/s]"
     ]
    },
    {
     "name": "stdout",
     "output_type": "stream",
     "text": [
      "/home/lluis/histo_lung/data/Mask_PyHIST_v2/LungAOEC_List2/000035478000675916/tilecrossed_000035478000675916.png\n"
     ]
    },
    {
     "name": "stderr",
     "output_type": "stream",
     "text": [
      " 35%|███▍      | 457/1318 [05:10<09:59,  1.44it/s]"
     ]
    },
    {
     "name": "stdout",
     "output_type": "stream",
     "text": [
      "/home/lluis/histo_lung/data/Mask_PyHIST_v2/LungAOEC_List2/000033942700528928/tilecrossed_000033942700528928.png\n"
     ]
    },
    {
     "name": "stderr",
     "output_type": "stream",
     "text": [
      " 35%|███▍      | 458/1318 [05:11<09:38,  1.49it/s]"
     ]
    },
    {
     "name": "stdout",
     "output_type": "stream",
     "text": [
      "/home/lluis/histo_lung/data/Mask_PyHIST_v2/LungAOEC_List2/000034129600543082/tilecrossed_000034129600543082.png\n"
     ]
    },
    {
     "name": "stderr",
     "output_type": "stream",
     "text": [
      " 35%|███▍      | 459/1318 [05:11<09:17,  1.54it/s]"
     ]
    },
    {
     "name": "stdout",
     "output_type": "stream",
     "text": [
      "/home/lluis/histo_lung/data/Mask_PyHIST_v2/LungAOEC_List2/000035599100688220/tilecrossed_000035599100688220.png\n"
     ]
    },
    {
     "name": "stderr",
     "output_type": "stream",
     "text": [
      " 35%|███▍      | 460/1318 [05:12<10:02,  1.42it/s]"
     ]
    },
    {
     "name": "stdout",
     "output_type": "stream",
     "text": [
      "/home/lluis/histo_lung/data/Mask_PyHIST_v2/LungAOEC_List2/000031447900371224/tilecrossed_000031447900371224.png\n"
     ]
    },
    {
     "name": "stderr",
     "output_type": "stream",
     "text": [
      " 35%|███▍      | 461/1318 [05:13<09:45,  1.46it/s]"
     ]
    },
    {
     "name": "stdout",
     "output_type": "stream",
     "text": [
      "/home/lluis/histo_lung/data/Mask_PyHIST_v2/LungAOEC_List2/000036177600753260/tilecrossed_000036177600753260.png\n"
     ]
    },
    {
     "name": "stderr",
     "output_type": "stream",
     "text": [
      " 35%|███▌      | 462/1318 [05:13<08:38,  1.65it/s]"
     ]
    },
    {
     "name": "stdout",
     "output_type": "stream",
     "text": [
      "/home/lluis/histo_lung/data/Mask_PyHIST_v2/LungAOEC_List2/000035601500689057/tilecrossed_000035601500689057.png\n"
     ]
    },
    {
     "name": "stderr",
     "output_type": "stream",
     "text": [
      " 35%|███▌      | 463/1318 [05:14<09:15,  1.54it/s]"
     ]
    },
    {
     "name": "stdout",
     "output_type": "stream",
     "text": [
      "/home/lluis/histo_lung/data/Mask_PyHIST_v2/LungAOEC_List2/000031796600390251/tilecrossed_000031796600390251.png\n"
     ]
    },
    {
     "name": "stderr",
     "output_type": "stream",
     "text": [
      " 35%|███▌      | 464/1318 [05:15<09:19,  1.53it/s]"
     ]
    },
    {
     "name": "stdout",
     "output_type": "stream",
     "text": [
      "/home/lluis/histo_lung/data/Mask_PyHIST_v2/LungAOEC_List2/000031068400351368/tilecrossed_000031068400351368.png\n"
     ]
    },
    {
     "name": "stderr",
     "output_type": "stream",
     "text": [
      " 35%|███▌      | 465/1318 [05:16<11:14,  1.26it/s]"
     ]
    },
    {
     "name": "stdout",
     "output_type": "stream",
     "text": [
      "/home/lluis/histo_lung/data/Mask_PyHIST_v2/LungAOEC_List2/000036000800734093/tilecrossed_000036000800734093.png\n"
     ]
    },
    {
     "name": "stderr",
     "output_type": "stream",
     "text": [
      " 35%|███▌      | 466/1318 [05:16<10:38,  1.33it/s]"
     ]
    },
    {
     "name": "stdout",
     "output_type": "stream",
     "text": [
      "/home/lluis/histo_lung/data/Mask_PyHIST_v2/LungAOEC_List2/000035178700641699/tilecrossed_000035178700641699.png\n"
     ]
    },
    {
     "name": "stderr",
     "output_type": "stream",
     "text": [
      " 35%|███▌      | 467/1318 [05:17<09:20,  1.52it/s]"
     ]
    },
    {
     "name": "stdout",
     "output_type": "stream",
     "text": [
      "/home/lluis/histo_lung/data/Mask_PyHIST_v2/LungAOEC_List2/000035215500647262/tilecrossed_000035215500647262.png\n"
     ]
    },
    {
     "name": "stderr",
     "output_type": "stream",
     "text": [
      " 36%|███▌      | 468/1318 [05:18<09:25,  1.50it/s]"
     ]
    },
    {
     "name": "stdout",
     "output_type": "stream",
     "text": [
      "/home/lluis/histo_lung/data/Mask_PyHIST_v2/LungAOEC_List2/000035601200689049/tilecrossed_000035601200689049.png\n"
     ]
    },
    {
     "name": "stderr",
     "output_type": "stream",
     "text": [
      " 36%|███▌      | 470/1318 [05:19<07:51,  1.80it/s]"
     ]
    },
    {
     "name": "stdout",
     "output_type": "stream",
     "text": [
      "/home/lluis/histo_lung/data/Mask_PyHIST_v2/LungAOEC_List2/000035268600653968/tilecrossed_000035268600653968.png\n",
      "/home/lluis/histo_lung/data/Mask_PyHIST_v2/LungAOEC_List2/000033382400482097/tilecrossed_000033382400482097.png\n"
     ]
    },
    {
     "name": "stderr",
     "output_type": "stream",
     "text": [
      " 36%|███▌      | 471/1318 [05:19<06:12,  2.27it/s]"
     ]
    },
    {
     "name": "stdout",
     "output_type": "stream",
     "text": [
      "/home/lluis/histo_lung/data/Mask_PyHIST_v2/LungAOEC_List2/000033922800530586/tilecrossed_000033922800530586.png\n"
     ]
    },
    {
     "name": "stderr",
     "output_type": "stream",
     "text": [
      " 36%|███▌      | 472/1318 [05:20<08:55,  1.58it/s]"
     ]
    },
    {
     "name": "stdout",
     "output_type": "stream",
     "text": [
      "/home/lluis/histo_lung/data/Mask_PyHIST_v2/LungAOEC_List2/000030769200337782/tilecrossed_000030769200337782.png\n"
     ]
    },
    {
     "name": "stderr",
     "output_type": "stream",
     "text": [
      " 36%|███▌      | 473/1318 [05:21<11:55,  1.18it/s]"
     ]
    },
    {
     "name": "stdout",
     "output_type": "stream",
     "text": [
      "/home/lluis/histo_lung/data/Mask_PyHIST_v2/LungAOEC_List2/000033382400482101/tilecrossed_000033382400482101.png\n"
     ]
    },
    {
     "name": "stderr",
     "output_type": "stream",
     "text": [
      " 36%|███▌      | 474/1318 [05:21<09:28,  1.49it/s]"
     ]
    },
    {
     "name": "stdout",
     "output_type": "stream",
     "text": [
      "/home/lluis/histo_lung/data/Mask_PyHIST_v2/LungAOEC_List2/000033225200470151/tilecrossed_000033225200470151.png\n"
     ]
    },
    {
     "name": "stderr",
     "output_type": "stream",
     "text": [
      " 36%|███▌      | 475/1318 [05:22<08:48,  1.60it/s]"
     ]
    },
    {
     "name": "stdout",
     "output_type": "stream",
     "text": [
      "/home/lluis/histo_lung/data/Mask_PyHIST_v2/LungAOEC_List2/000031367000367332/tilecrossed_000031367000367332.png\n"
     ]
    },
    {
     "name": "stderr",
     "output_type": "stream",
     "text": [
      " 36%|███▌      | 476/1318 [05:23<09:59,  1.41it/s]"
     ]
    },
    {
     "name": "stdout",
     "output_type": "stream",
     "text": [
      "/home/lluis/histo_lung/data/Mask_PyHIST_v2/LungAOEC_List2/000032275100412373/tilecrossed_000032275100412373.png\n"
     ]
    },
    {
     "name": "stderr",
     "output_type": "stream",
     "text": [
      " 36%|███▋      | 478/1318 [05:24<07:40,  1.82it/s]"
     ]
    },
    {
     "name": "stdout",
     "output_type": "stream",
     "text": [
      "/home/lluis/histo_lung/data/Mask_PyHIST_v2/LungAOEC_List2/000031801900391056/tilecrossed_000031801900391056.png\n",
      "/home/lluis/histo_lung/data/Mask_PyHIST_v2/LungAOEC_List2/000031957900399085/tilecrossed_000031957900399085.png\n"
     ]
    },
    {
     "name": "stderr",
     "output_type": "stream",
     "text": [
      " 36%|███▋      | 479/1318 [05:24<07:55,  1.76it/s]"
     ]
    },
    {
     "name": "stdout",
     "output_type": "stream",
     "text": [
      "/home/lluis/histo_lung/data/Mask_PyHIST_v2/LungAOEC_List2/000034524300583595/tilecrossed_000034524300583595.png\n"
     ]
    },
    {
     "name": "stderr",
     "output_type": "stream",
     "text": [
      " 36%|███▋      | 480/1318 [05:25<07:43,  1.81it/s]"
     ]
    },
    {
     "name": "stdout",
     "output_type": "stream",
     "text": [
      "/home/lluis/histo_lung/data/Mask_PyHIST_v2/LungAOEC_List2/000034131800547409/tilecrossed_000034131800547409.png\n"
     ]
    },
    {
     "name": "stderr",
     "output_type": "stream",
     "text": [
      " 36%|███▋      | 481/1318 [05:25<06:38,  2.10it/s]"
     ]
    },
    {
     "name": "stdout",
     "output_type": "stream",
     "text": [
      "/home/lluis/histo_lung/data/Mask_PyHIST_v2/LungAOEC_List2/000031970300397167/tilecrossed_000031970300397167.png\n"
     ]
    },
    {
     "name": "stderr",
     "output_type": "stream",
     "text": [
      " 37%|███▋      | 482/1318 [05:26<07:46,  1.79it/s]"
     ]
    },
    {
     "name": "stdout",
     "output_type": "stream",
     "text": [
      "/home/lluis/histo_lung/data/Mask_PyHIST_v2/LungAOEC_List2/000030870900342379/tilecrossed_000030870900342379.png\n"
     ]
    },
    {
     "name": "stderr",
     "output_type": "stream",
     "text": [
      " 37%|███▋      | 483/1318 [05:27<08:48,  1.58it/s]"
     ]
    },
    {
     "name": "stdout",
     "output_type": "stream",
     "text": [
      "/home/lluis/histo_lung/data/Mask_PyHIST_v2/LungAOEC_List2/000030874300342419/tilecrossed_000030874300342419.png\n"
     ]
    },
    {
     "name": "stderr",
     "output_type": "stream",
     "text": [
      " 37%|███▋      | 484/1318 [05:28<11:05,  1.25it/s]"
     ]
    },
    {
     "name": "stdout",
     "output_type": "stream",
     "text": [
      "/home/lluis/histo_lung/data/Mask_PyHIST_v2/LungAOEC_List2/000035088200637665/tilecrossed_000035088200637665.png\n"
     ]
    },
    {
     "name": "stderr",
     "output_type": "stream",
     "text": [
      " 37%|███▋      | 485/1318 [05:29<13:11,  1.05it/s]"
     ]
    },
    {
     "name": "stdout",
     "output_type": "stream",
     "text": [
      "/home/lluis/histo_lung/data/Mask_PyHIST_v2/LungAOEC_List2/000035599100688212/tilecrossed_000035599100688212.png\n"
     ]
    },
    {
     "name": "stderr",
     "output_type": "stream",
     "text": [
      " 37%|███▋      | 486/1318 [05:30<11:48,  1.17it/s]"
     ]
    },
    {
     "name": "stdout",
     "output_type": "stream",
     "text": [
      "/home/lluis/histo_lung/data/Mask_PyHIST_v2/LungAOEC_List2/000031945100398111/tilecrossed_000031945100398111.png\n"
     ]
    },
    {
     "name": "stderr",
     "output_type": "stream",
     "text": [
      " 37%|███▋      | 488/1318 [05:31<10:02,  1.38it/s]"
     ]
    },
    {
     "name": "stdout",
     "output_type": "stream",
     "text": [
      "/home/lluis/histo_lung/data/Mask_PyHIST_v2/LungAOEC_List2/000031065100352633/tilecrossed_000031065100352633.png\n",
      "/home/lluis/histo_lung/data/Mask_PyHIST_v2/LungAOEC_List2/000035206200645890/tilecrossed_000035206200645890.png\n"
     ]
    },
    {
     "name": "stderr",
     "output_type": "stream",
     "text": [
      " 37%|███▋      | 489/1318 [05:32<08:19,  1.66it/s]"
     ]
    },
    {
     "name": "stdout",
     "output_type": "stream",
     "text": [
      "/home/lluis/histo_lung/data/Mask_PyHIST_v2/LungAOEC_List2/000032316200414465/tilecrossed_000032316200414465.png\n"
     ]
    },
    {
     "name": "stderr",
     "output_type": "stream",
     "text": [
      " 37%|███▋      | 490/1318 [05:32<09:32,  1.45it/s]"
     ]
    },
    {
     "name": "stdout",
     "output_type": "stream",
     "text": [
      "/home/lluis/histo_lung/data/Mask_PyHIST_v2/LungAOEC_List2/000034129600545513/tilecrossed_000034129600545513.png\n"
     ]
    },
    {
     "name": "stderr",
     "output_type": "stream",
     "text": [
      " 37%|███▋      | 491/1318 [05:33<09:43,  1.42it/s]"
     ]
    },
    {
     "name": "stdout",
     "output_type": "stream",
     "text": [
      "/home/lluis/histo_lung/data/Mask_PyHIST_v2/LungAOEC_List2/000031438500370536/tilecrossed_000031438500370536.png\n"
     ]
    },
    {
     "name": "stderr",
     "output_type": "stream",
     "text": [
      " 37%|███▋      | 492/1318 [05:34<09:52,  1.39it/s]"
     ]
    },
    {
     "name": "stdout",
     "output_type": "stream",
     "text": [
      "/home/lluis/histo_lung/data/Mask_PyHIST_v2/LungAOEC_List2/000030494900323686/tilecrossed_000030494900323686.png\n"
     ]
    },
    {
     "name": "stderr",
     "output_type": "stream",
     "text": [
      " 37%|███▋      | 493/1318 [05:34<08:05,  1.70it/s]"
     ]
    },
    {
     "name": "stdout",
     "output_type": "stream",
     "text": [
      "/home/lluis/histo_lung/data/Mask_PyHIST_v2/LungAOEC_List2/000033086200454471/tilecrossed_000033086200454471.png\n"
     ]
    },
    {
     "name": "stderr",
     "output_type": "stream",
     "text": [
      " 37%|███▋      | 494/1318 [05:36<11:25,  1.20it/s]"
     ]
    },
    {
     "name": "stdout",
     "output_type": "stream",
     "text": [
      "/home/lluis/histo_lung/data/Mask_PyHIST_v2/LungAOEC_List2/000031991400401021/tilecrossed_000031991400401021.png\n"
     ]
    },
    {
     "name": "stderr",
     "output_type": "stream",
     "text": [
      " 38%|███▊      | 495/1318 [05:36<09:11,  1.49it/s]"
     ]
    },
    {
     "name": "stdout",
     "output_type": "stream",
     "text": [
      "/home/lluis/histo_lung/data/Mask_PyHIST_v2/LungAOEC_List2/000035795500710707/tilecrossed_000035795500710707.png\n"
     ]
    },
    {
     "name": "stderr",
     "output_type": "stream",
     "text": [
      " 38%|███▊      | 497/1318 [05:37<06:32,  2.09it/s]"
     ]
    },
    {
     "name": "stdout",
     "output_type": "stream",
     "text": [
      "/home/lluis/histo_lung/data/Mask_PyHIST_v2/LungAOEC_List2/000035268600651337/tilecrossed_000035268600651337.png\n",
      "/home/lluis/histo_lung/data/Mask_PyHIST_v2/LungAOEC_List2/000033415800483727/tilecrossed_000033415800483727.png\n"
     ]
    },
    {
     "name": "stderr",
     "output_type": "stream",
     "text": [
      " 38%|███▊      | 498/1318 [05:37<05:28,  2.50it/s]"
     ]
    },
    {
     "name": "stdout",
     "output_type": "stream",
     "text": [
      "/home/lluis/histo_lung/data/Mask_PyHIST_v2/LungAOEC_List2/000031068400351367/tilecrossed_000031068400351367.png\n"
     ]
    },
    {
     "name": "stderr",
     "output_type": "stream",
     "text": [
      " 38%|███▊      | 499/1318 [05:38<08:33,  1.59it/s]"
     ]
    },
    {
     "name": "stdout",
     "output_type": "stream",
     "text": [
      "/home/lluis/histo_lung/data/Mask_PyHIST_v2/LungAOEC_List2/000036157800751811/tilecrossed_000036157800751811.png\n"
     ]
    },
    {
     "name": "stderr",
     "output_type": "stream",
     "text": [
      " 38%|███▊      | 500/1318 [05:39<10:25,  1.31it/s]"
     ]
    },
    {
     "name": "stdout",
     "output_type": "stream",
     "text": [
      "/home/lluis/histo_lung/data/Mask_PyHIST_v2/LungAOEC_List2/000035599100688216/tilecrossed_000035599100688216.png\n"
     ]
    },
    {
     "name": "stderr",
     "output_type": "stream",
     "text": [
      " 38%|███▊      | 501/1318 [05:40<10:16,  1.32it/s]"
     ]
    },
    {
     "name": "stdout",
     "output_type": "stream",
     "text": [
      "/home/lluis/histo_lung/data/Mask_PyHIST_v2/LungAOEC_List2/000034131800547423/tilecrossed_000034131800547423.png\n"
     ]
    },
    {
     "name": "stderr",
     "output_type": "stream",
     "text": [
      " 38%|███▊      | 502/1318 [05:41<11:52,  1.15it/s]"
     ]
    },
    {
     "name": "stdout",
     "output_type": "stream",
     "text": [
      "/home/lluis/histo_lung/data/Mask_PyHIST_v2/LungAOEC_List2/000034131800547427/tilecrossed_000034131800547427.png\n"
     ]
    },
    {
     "name": "stderr",
     "output_type": "stream",
     "text": [
      " 38%|███▊      | 503/1318 [05:42<11:34,  1.17it/s]"
     ]
    },
    {
     "name": "stdout",
     "output_type": "stream",
     "text": [
      "/home/lluis/histo_lung/data/Mask_PyHIST_v2/LungAOEC_List2/000035795500710705/tilecrossed_000035795500710705.png\n"
     ]
    },
    {
     "name": "stderr",
     "output_type": "stream",
     "text": [
      " 38%|███▊      | 504/1318 [05:42<09:46,  1.39it/s]"
     ]
    },
    {
     "name": "stdout",
     "output_type": "stream",
     "text": [
      "/home/lluis/histo_lung/data/Mask_PyHIST_v2/LungAOEC_List2/000034131800547421/tilecrossed_000034131800547421.png\n"
     ]
    },
    {
     "name": "stderr",
     "output_type": "stream",
     "text": [
      " 38%|███▊      | 505/1318 [05:43<09:32,  1.42it/s]"
     ]
    },
    {
     "name": "stdout",
     "output_type": "stream",
     "text": [
      "/home/lluis/histo_lung/data/Mask_PyHIST_v2/LungAOEC_List2/000031363500367027/tilecrossed_000031363500367027.png\n"
     ]
    },
    {
     "name": "stderr",
     "output_type": "stream",
     "text": [
      " 38%|███▊      | 506/1318 [05:44<09:59,  1.36it/s]"
     ]
    },
    {
     "name": "stdout",
     "output_type": "stream",
     "text": [
      "/home/lluis/histo_lung/data/Mask_PyHIST_v2/LungAOEC_List2/000031065100352639/tilecrossed_000031065100352639.png\n"
     ]
    },
    {
     "name": "stderr",
     "output_type": "stream",
     "text": [
      " 39%|███▊      | 508/1318 [05:44<06:18,  2.14it/s]"
     ]
    },
    {
     "name": "stdout",
     "output_type": "stream",
     "text": [
      "/home/lluis/histo_lung/data/Mask_PyHIST_v2/LungAOEC_List2/000031822600390268/tilecrossed_000031822600390268.png\n",
      "/home/lluis/histo_lung/data/Mask_PyHIST_v2/LungAOEC_List2/000031305400365417/tilecrossed_000031305400365417.png\n"
     ]
    },
    {
     "name": "stderr",
     "output_type": "stream",
     "text": [
      " 39%|███▊      | 509/1318 [05:45<08:58,  1.50it/s]"
     ]
    },
    {
     "name": "stdout",
     "output_type": "stream",
     "text": [
      "/home/lluis/histo_lung/data/Mask_PyHIST_v2/LungAOEC_List2/000031634500382125/tilecrossed_000031634500382125.png\n"
     ]
    },
    {
     "name": "stderr",
     "output_type": "stream",
     "text": [
      " 39%|███▊      | 510/1318 [05:46<07:37,  1.77it/s]"
     ]
    },
    {
     "name": "stdout",
     "output_type": "stream",
     "text": [
      "/home/lluis/histo_lung/data/Mask_PyHIST_v2/LungAOEC_List2/000036241700760951/tilecrossed_000036241700760951.png\n"
     ]
    },
    {
     "name": "stderr",
     "output_type": "stream",
     "text": [
      " 39%|███▉      | 511/1318 [05:46<08:13,  1.64it/s]"
     ]
    },
    {
     "name": "stdout",
     "output_type": "stream",
     "text": [
      "/home/lluis/histo_lung/data/Mask_PyHIST_v2/LungAOEC_List2/000033942700528909/tilecrossed_000033942700528909.png\n"
     ]
    },
    {
     "name": "stderr",
     "output_type": "stream",
     "text": [
      " 39%|███▉      | 512/1318 [05:47<07:25,  1.81it/s]"
     ]
    },
    {
     "name": "stdout",
     "output_type": "stream",
     "text": [
      "/home/lluis/histo_lung/data/Mask_PyHIST_v2/LungAOEC_List2/000030759100337120/tilecrossed_000030759100337120.png\n"
     ]
    },
    {
     "name": "stderr",
     "output_type": "stream",
     "text": [
      " 39%|███▉      | 513/1318 [05:47<07:03,  1.90it/s]"
     ]
    },
    {
     "name": "stdout",
     "output_type": "stream",
     "text": [
      "/home/lluis/histo_lung/data/Mask_PyHIST_v2/LungAOEC_List2/000031367000367333/tilecrossed_000031367000367333.png\n"
     ]
    },
    {
     "name": "stderr",
     "output_type": "stream",
     "text": [
      " 39%|███▉      | 515/1318 [05:48<05:16,  2.54it/s]"
     ]
    },
    {
     "name": "stdout",
     "output_type": "stream",
     "text": [
      "/home/lluis/histo_lung/data/Mask_PyHIST_v2/LungAOEC_List2/000035285400653212/tilecrossed_000035285400653212.png\n",
      "/home/lluis/histo_lung/data/Mask_PyHIST_v2/LungAOEC_List2/000033922900530140/tilecrossed_000033922900530140.png\n"
     ]
    },
    {
     "name": "stderr",
     "output_type": "stream",
     "text": [
      " 39%|███▉      | 516/1318 [05:49<07:22,  1.81it/s]"
     ]
    },
    {
     "name": "stdout",
     "output_type": "stream",
     "text": [
      "/home/lluis/histo_lung/data/Mask_PyHIST_v2/LungAOEC_List2/000034993200628309/tilecrossed_000034993200628309.png\n"
     ]
    },
    {
     "name": "stderr",
     "output_type": "stream",
     "text": [
      " 39%|███▉      | 517/1318 [05:49<08:26,  1.58it/s]"
     ]
    },
    {
     "name": "stdout",
     "output_type": "stream",
     "text": [
      "/home/lluis/histo_lung/data/Mask_PyHIST_v2/LungAOEC_List2/000033942700528911/tilecrossed_000033942700528911.png\n"
     ]
    },
    {
     "name": "stderr",
     "output_type": "stream",
     "text": [
      " 39%|███▉      | 518/1318 [05:50<07:40,  1.74it/s]"
     ]
    },
    {
     "name": "stdout",
     "output_type": "stream",
     "text": [
      "/home/lluis/histo_lung/data/Mask_PyHIST_v2/LungAOEC_List2/000033922900530142/tilecrossed_000033922900530142.png\n"
     ]
    },
    {
     "name": "stderr",
     "output_type": "stream",
     "text": [
      " 39%|███▉      | 519/1318 [05:51<10:32,  1.26it/s]"
     ]
    },
    {
     "name": "stdout",
     "output_type": "stream",
     "text": [
      "/home/lluis/histo_lung/data/Mask_PyHIST_v2/LungAOEC_List2/000032409600421181/tilecrossed_000032409600421181.png\n"
     ]
    },
    {
     "name": "stderr",
     "output_type": "stream",
     "text": [
      " 39%|███▉      | 520/1318 [05:52<08:54,  1.49it/s]"
     ]
    },
    {
     "name": "stdout",
     "output_type": "stream",
     "text": [
      "/home/lluis/histo_lung/data/Mask_PyHIST_v2/LungAOEC_List2/000034181300549775/tilecrossed_000034181300549775.png\n"
     ]
    },
    {
     "name": "stderr",
     "output_type": "stream",
     "text": [
      " 40%|███▉      | 522/1318 [05:53<07:33,  1.76it/s]"
     ]
    },
    {
     "name": "stdout",
     "output_type": "stream",
     "text": [
      "/home/lluis/histo_lung/data/Mask_PyHIST_v2/LungAOEC_List2/000033382400482077/tilecrossed_000033382400482077.png\n",
      "/home/lluis/histo_lung/data/Mask_PyHIST_v2/LungAOEC_List2/000036241700760941/tilecrossed_000036241700760941.png\n"
     ]
    },
    {
     "name": "stderr",
     "output_type": "stream",
     "text": [
      " 40%|███▉      | 524/1318 [05:54<06:50,  1.94it/s]"
     ]
    },
    {
     "name": "stdout",
     "output_type": "stream",
     "text": [
      "/home/lluis/histo_lung/data/Mask_PyHIST_v2/LungAOEC_List2/000030397000318685/tilecrossed_000030397000318685.png\n",
      "/home/lluis/histo_lung/data/Mask_PyHIST_v2/LungAOEC_List2/000034131800547411/tilecrossed_000034131800547411.png\n"
     ]
    },
    {
     "name": "stderr",
     "output_type": "stream",
     "text": [
      " 40%|███▉      | 525/1318 [05:55<08:09,  1.62it/s]"
     ]
    },
    {
     "name": "stdout",
     "output_type": "stream",
     "text": [
      "/home/lluis/histo_lung/data/Mask_PyHIST_v2/LungAOEC_List2/000035795500704958/tilecrossed_000035795500704958.png\n"
     ]
    },
    {
     "name": "stderr",
     "output_type": "stream",
     "text": [
      " 40%|███▉      | 527/1318 [05:55<05:42,  2.31it/s]"
     ]
    },
    {
     "name": "stdout",
     "output_type": "stream",
     "text": [
      "/home/lluis/histo_lung/data/Mask_PyHIST_v2/LungAOEC_List2/000030399700317760/tilecrossed_000030399700317760.png\n",
      "/home/lluis/histo_lung/data/Mask_PyHIST_v2/LungAOEC_List2/000031970300399674/tilecrossed_000031970300399674.png\n"
     ]
    },
    {
     "name": "stderr",
     "output_type": "stream",
     "text": [
      " 40%|████      | 528/1318 [05:55<04:45,  2.77it/s]"
     ]
    },
    {
     "name": "stdout",
     "output_type": "stream",
     "text": [
      "/home/lluis/histo_lung/data/Mask_PyHIST_v2/LungAOEC_List2/000035858400714851/tilecrossed_000035858400714851.png\n"
     ]
    },
    {
     "name": "stderr",
     "output_type": "stream",
     "text": [
      " 40%|████      | 530/1318 [05:56<03:59,  3.29it/s]"
     ]
    },
    {
     "name": "stdout",
     "output_type": "stream",
     "text": [
      "/home/lluis/histo_lung/data/Mask_PyHIST_v2/LungAOEC_List2/000033554700490209/tilecrossed_000033554700490209.png\n",
      "/home/lluis/histo_lung/data/Mask_PyHIST_v2/LungAOEC_List2/000035794800704828/tilecrossed_000035794800704828.png\n"
     ]
    },
    {
     "name": "stderr",
     "output_type": "stream",
     "text": [
      " 40%|████      | 531/1318 [05:57<05:33,  2.36it/s]"
     ]
    },
    {
     "name": "stdout",
     "output_type": "stream",
     "text": [
      "/home/lluis/histo_lung/data/Mask_PyHIST_v2/LungAOEC_List2/000035599100688218/tilecrossed_000035599100688218.png\n"
     ]
    },
    {
     "name": "stderr",
     "output_type": "stream",
     "text": [
      " 40%|████      | 532/1318 [05:58<07:38,  1.71it/s]"
     ]
    },
    {
     "name": "stdout",
     "output_type": "stream",
     "text": [
      "/home/lluis/histo_lung/data/Mask_PyHIST_v2/LungAOEC_List2/000033922900530154/tilecrossed_000033922900530154.png\n"
     ]
    },
    {
     "name": "stderr",
     "output_type": "stream",
     "text": [
      " 40%|████      | 533/1318 [05:59<10:01,  1.30it/s]"
     ]
    },
    {
     "name": "stdout",
     "output_type": "stream",
     "text": [
      "/home/lluis/histo_lung/data/Mask_PyHIST_v2/LungAOEC_List2/000036242800760971/tilecrossed_000036242800760971.png\n"
     ]
    },
    {
     "name": "stderr",
     "output_type": "stream",
     "text": [
      " 41%|████      | 534/1318 [06:00<10:31,  1.24it/s]"
     ]
    },
    {
     "name": "stdout",
     "output_type": "stream",
     "text": [
      "/home/lluis/histo_lung/data/Mask_PyHIST_v2/LungAOEC_List2/000035478000675914/tilecrossed_000035478000675914.png\n"
     ]
    },
    {
     "name": "stderr",
     "output_type": "stream",
     "text": [
      " 41%|████      | 535/1318 [06:01<10:46,  1.21it/s]"
     ]
    },
    {
     "name": "stdout",
     "output_type": "stream",
     "text": [
      "/home/lluis/histo_lung/data/Mask_PyHIST_v2/LungAOEC_List2/000034727200605351/tilecrossed_000034727200605351.png\n"
     ]
    },
    {
     "name": "stderr",
     "output_type": "stream",
     "text": [
      " 41%|████      | 536/1318 [06:01<10:28,  1.24it/s]"
     ]
    },
    {
     "name": "stdout",
     "output_type": "stream",
     "text": [
      "/home/lluis/histo_lung/data/Mask_PyHIST_v2/LungAOEC_List2/000035795500704964/tilecrossed_000035795500704964.png\n"
     ]
    },
    {
     "name": "stderr",
     "output_type": "stream",
     "text": [
      " 41%|████      | 537/1318 [06:02<10:44,  1.21it/s]"
     ]
    },
    {
     "name": "stdout",
     "output_type": "stream",
     "text": [
      "/home/lluis/histo_lung/data/Mask_PyHIST_v2/LungAOEC_List2/000031779700387880/tilecrossed_000031779700387880.png\n"
     ]
    },
    {
     "name": "stderr",
     "output_type": "stream",
     "text": [
      " 41%|████      | 538/1318 [06:03<10:38,  1.22it/s]"
     ]
    },
    {
     "name": "stdout",
     "output_type": "stream",
     "text": [
      "/home/lluis/histo_lung/data/Mask_PyHIST_v2/LungAOEC_List2/000031438500372498/tilecrossed_000031438500372498.png\n"
     ]
    },
    {
     "name": "stderr",
     "output_type": "stream",
     "text": [
      " 41%|████      | 539/1318 [06:03<09:15,  1.40it/s]"
     ]
    },
    {
     "name": "stdout",
     "output_type": "stream",
     "text": [
      "/home/lluis/histo_lung/data/Mask_PyHIST_v2/LungAOEC_List2/000033918800528761/tilecrossed_000033918800528761.png\n"
     ]
    },
    {
     "name": "stderr",
     "output_type": "stream",
     "text": [
      " 41%|████      | 540/1318 [06:04<09:42,  1.34it/s]"
     ]
    },
    {
     "name": "stdout",
     "output_type": "stream",
     "text": [
      "/home/lluis/histo_lung/data/Mask_PyHIST_v2/LungAOEC_List2/000036177600751596/tilecrossed_000036177600751596.png\n"
     ]
    },
    {
     "name": "stderr",
     "output_type": "stream",
     "text": [
      " 41%|████      | 541/1318 [06:05<08:04,  1.60it/s]"
     ]
    },
    {
     "name": "stdout",
     "output_type": "stream",
     "text": [
      "/home/lluis/histo_lung/data/Mask_PyHIST_v2/LungAOEC_List2/000031945100398122/tilecrossed_000031945100398122.png\n"
     ]
    },
    {
     "name": "stderr",
     "output_type": "stream",
     "text": [
      " 41%|████      | 542/1318 [06:05<08:47,  1.47it/s]"
     ]
    },
    {
     "name": "stdout",
     "output_type": "stream",
     "text": [
      "/home/lluis/histo_lung/data/Mask_PyHIST_v2/LungAOEC_List2/000031796600390254/tilecrossed_000031796600390254.png\n"
     ]
    },
    {
     "name": "stderr",
     "output_type": "stream",
     "text": [
      " 41%|████▏     | 544/1318 [06:06<06:50,  1.88it/s]"
     ]
    },
    {
     "name": "stdout",
     "output_type": "stream",
     "text": [
      "/home/lluis/histo_lung/data/Mask_PyHIST_v2/LungAOEC_List2/000035420000664957/tilecrossed_000035420000664957.png\n",
      "/home/lluis/histo_lung/data/Mask_PyHIST_v2/LungAOEC_List2/000035833500711217/tilecrossed_000035833500711217.png\n"
     ]
    },
    {
     "name": "stderr",
     "output_type": "stream",
     "text": [
      " 41%|████▏     | 545/1318 [06:07<08:18,  1.55it/s]"
     ]
    },
    {
     "name": "stdout",
     "output_type": "stream",
     "text": [
      "/home/lluis/histo_lung/data/Mask_PyHIST_v2/LungAOEC_List2/000031440600372577/tilecrossed_000031440600372577.png\n"
     ]
    },
    {
     "name": "stderr",
     "output_type": "stream",
     "text": [
      " 41%|████▏     | 546/1318 [06:08<08:04,  1.59it/s]"
     ]
    },
    {
     "name": "stdout",
     "output_type": "stream",
     "text": [
      "/home/lluis/histo_lung/data/Mask_PyHIST_v2/LungAOEC_List2/000031990700400981/tilecrossed_000031990700400981.png\n"
     ]
    },
    {
     "name": "stderr",
     "output_type": "stream",
     "text": [
      " 42%|████▏     | 547/1318 [06:09<09:22,  1.37it/s]"
     ]
    },
    {
     "name": "stdout",
     "output_type": "stream",
     "text": [
      "/home/lluis/histo_lung/data/Mask_PyHIST_v2/LungAOEC_List2/000031326800365853/tilecrossed_000031326800365853.png\n"
     ]
    },
    {
     "name": "stderr",
     "output_type": "stream",
     "text": [
      " 42%|████▏     | 548/1318 [06:10<10:06,  1.27it/s]"
     ]
    },
    {
     "name": "stdout",
     "output_type": "stream",
     "text": [
      "/home/lluis/histo_lung/data/Mask_PyHIST_v2/LungAOEC_List2/000030397000318689/tilecrossed_000030397000318689.png\n"
     ]
    },
    {
     "name": "stderr",
     "output_type": "stream",
     "text": [
      " 42%|████▏     | 549/1318 [06:10<08:18,  1.54it/s]"
     ]
    },
    {
     "name": "stdout",
     "output_type": "stream",
     "text": [
      "/home/lluis/histo_lung/data/Mask_PyHIST_v2/LungAOEC_List2/000034181300567876/tilecrossed_000034181300567876.png\n"
     ]
    },
    {
     "name": "stderr",
     "output_type": "stream",
     "text": [
      " 42%|████▏     | 550/1318 [06:10<07:38,  1.68it/s]"
     ]
    },
    {
     "name": "stdout",
     "output_type": "stream",
     "text": [
      "/home/lluis/histo_lung/data/Mask_PyHIST_v2/LungAOEC_List2/000035795500704968/tilecrossed_000035795500704968.png\n"
     ]
    },
    {
     "name": "stderr",
     "output_type": "stream",
     "text": [
      " 42%|████▏     | 551/1318 [06:11<07:17,  1.75it/s]"
     ]
    },
    {
     "name": "stdout",
     "output_type": "stream",
     "text": [
      "/home/lluis/histo_lung/data/Mask_PyHIST_v2/LungAOEC_List2/000030870900342371/tilecrossed_000030870900342371.png\n"
     ]
    },
    {
     "name": "stderr",
     "output_type": "stream",
     "text": [
      " 42%|████▏     | 552/1318 [06:12<07:59,  1.60it/s]"
     ]
    },
    {
     "name": "stdout",
     "output_type": "stream",
     "text": [
      "/home/lluis/histo_lung/data/Mask_PyHIST_v2/LungAOEC_List2/000031363500369022/tilecrossed_000031363500369022.png\n"
     ]
    },
    {
     "name": "stderr",
     "output_type": "stream",
     "text": [
      " 42%|████▏     | 553/1318 [06:13<11:06,  1.15it/s]"
     ]
    },
    {
     "name": "stdout",
     "output_type": "stream",
     "text": [
      "/home/lluis/histo_lung/data/Mask_PyHIST_v2/LungAOEC_List2/000031945100398126/tilecrossed_000031945100398126.png\n"
     ]
    },
    {
     "name": "stderr",
     "output_type": "stream",
     "text": [
      " 42%|████▏     | 554/1318 [06:14<09:59,  1.27it/s]"
     ]
    },
    {
     "name": "stdout",
     "output_type": "stream",
     "text": [
      "/home/lluis/histo_lung/data/Mask_PyHIST_v2/LungAOEC_List2/000033124800454345/tilecrossed_000033124800454345.png\n"
     ]
    },
    {
     "name": "stderr",
     "output_type": "stream",
     "text": [
      " 42%|████▏     | 555/1318 [06:14<09:07,  1.39it/s]"
     ]
    },
    {
     "name": "stdout",
     "output_type": "stream",
     "text": [
      "/home/lluis/histo_lung/data/Mask_PyHIST_v2/LungAOEC_List2/000031451200373386/tilecrossed_000031451200373386.png\n"
     ]
    },
    {
     "name": "stderr",
     "output_type": "stream",
     "text": [
      " 42%|████▏     | 556/1318 [06:15<08:06,  1.57it/s]"
     ]
    },
    {
     "name": "stdout",
     "output_type": "stream",
     "text": [
      "/home/lluis/histo_lung/data/Mask_PyHIST_v2/LungAOEC_List2/000034476800580883/tilecrossed_000034476800580883.png\n"
     ]
    },
    {
     "name": "stderr",
     "output_type": "stream",
     "text": [
      " 42%|████▏     | 557/1318 [06:15<08:00,  1.58it/s]"
     ]
    },
    {
     "name": "stdout",
     "output_type": "stream",
     "text": [
      "/home/lluis/histo_lung/data/Mask_PyHIST_v2/LungAOEC_List2/000034993200628307/tilecrossed_000034993200628307.png\n"
     ]
    },
    {
     "name": "stderr",
     "output_type": "stream",
     "text": [
      " 42%|████▏     | 558/1318 [06:16<09:02,  1.40it/s]"
     ]
    },
    {
     "name": "stdout",
     "output_type": "stream",
     "text": [
      "/home/lluis/histo_lung/data/Mask_PyHIST_v2/LungAOEC_List2/000034838900615675/tilecrossed_000034838900615675.png\n"
     ]
    },
    {
     "name": "stderr",
     "output_type": "stream",
     "text": [
      " 42%|████▏     | 559/1318 [06:17<09:58,  1.27it/s]"
     ]
    },
    {
     "name": "stdout",
     "output_type": "stream",
     "text": [
      "/home/lluis/histo_lung/data/Mask_PyHIST_v2/LungAOEC_List2/000030759100337124/tilecrossed_000030759100337124.png\n"
     ]
    },
    {
     "name": "stderr",
     "output_type": "stream",
     "text": [
      " 42%|████▏     | 560/1318 [06:18<09:41,  1.30it/s]"
     ]
    },
    {
     "name": "stdout",
     "output_type": "stream",
     "text": [
      "/home/lluis/histo_lung/data/Mask_PyHIST_v2/LungAOEC_List2/000036241700760959/tilecrossed_000036241700760959.png\n"
     ]
    },
    {
     "name": "stderr",
     "output_type": "stream",
     "text": [
      " 43%|████▎     | 561/1318 [06:18<08:18,  1.52it/s]"
     ]
    },
    {
     "name": "stdout",
     "output_type": "stream",
     "text": [
      "/home/lluis/histo_lung/data/Mask_PyHIST_v2/LungAOEC_List2/000035478000675918/tilecrossed_000035478000675918.png\n"
     ]
    },
    {
     "name": "stderr",
     "output_type": "stream",
     "text": [
      " 43%|████▎     | 562/1318 [06:19<08:32,  1.48it/s]"
     ]
    },
    {
     "name": "stdout",
     "output_type": "stream",
     "text": [
      "/home/lluis/histo_lung/data/Mask_PyHIST_v2/LungAOEC_List2/000032897900448068/tilecrossed_000032897900448068.png\n"
     ]
    },
    {
     "name": "stderr",
     "output_type": "stream",
     "text": [
      " 43%|████▎     | 563/1318 [06:20<09:29,  1.33it/s]"
     ]
    },
    {
     "name": "stdout",
     "output_type": "stream",
     "text": [
      "/home/lluis/histo_lung/data/Mask_PyHIST_v2/LungAOEC_List2/000035088200637667/tilecrossed_000035088200637667.png\n"
     ]
    },
    {
     "name": "stderr",
     "output_type": "stream",
     "text": [
      " 43%|████▎     | 565/1318 [06:21<06:57,  1.80it/s]"
     ]
    },
    {
     "name": "stdout",
     "output_type": "stream",
     "text": [
      "/home/lluis/histo_lung/data/Mask_PyHIST_v2/LungAOEC_List2/000035268600651335/tilecrossed_000035268600651335.png\n",
      "/home/lluis/histo_lung/data/Mask_PyHIST_v2/LungAOEC_List2/000036241700757634/tilecrossed_000036241700757634.png\n"
     ]
    },
    {
     "name": "stderr",
     "output_type": "stream",
     "text": [
      " 43%|████▎     | 567/1318 [06:22<05:35,  2.24it/s]"
     ]
    },
    {
     "name": "stdout",
     "output_type": "stream",
     "text": [
      "/home/lluis/histo_lung/data/Mask_PyHIST_v2/LungAOEC_List2/000030494900323689/tilecrossed_000030494900323689.png\n",
      "/home/lluis/histo_lung/data/Mask_PyHIST_v2/LungAOEC_List2/000030759100337121/tilecrossed_000030759100337121.png\n"
     ]
    },
    {
     "name": "stderr",
     "output_type": "stream",
     "text": [
      " 43%|████▎     | 570/1318 [06:22<03:43,  3.34it/s]"
     ]
    },
    {
     "name": "stdout",
     "output_type": "stream",
     "text": [
      "/home/lluis/histo_lung/data/Mask_PyHIST_v2/LungAOEC_List2/000031952100396247/tilecrossed_000031952100396247.png\n",
      "/home/lluis/histo_lung/data/Mask_PyHIST_v2/LungAOEC_List2/000031065100352637/tilecrossed_000031065100352637.png\n",
      "/home/lluis/histo_lung/data/Mask_PyHIST_v2/LungAOEC_List2/000033920400528797/tilecrossed_000033920400528797.png\n"
     ]
    },
    {
     "name": "stderr",
     "output_type": "stream",
     "text": [
      " 43%|████▎     | 571/1318 [06:23<04:34,  2.72it/s]"
     ]
    },
    {
     "name": "stdout",
     "output_type": "stream",
     "text": [
      "/home/lluis/histo_lung/data/Mask_PyHIST_v2/LungAOEC_List2/000035795500704976/tilecrossed_000035795500704976.png\n"
     ]
    },
    {
     "name": "stderr",
     "output_type": "stream",
     "text": [
      " 43%|████▎     | 572/1318 [06:24<06:09,  2.02it/s]"
     ]
    },
    {
     "name": "stdout",
     "output_type": "stream",
     "text": [
      "/home/lluis/histo_lung/data/Mask_PyHIST_v2/LungAOEC_List2/000034476800580887/tilecrossed_000034476800580887.png\n"
     ]
    },
    {
     "name": "stderr",
     "output_type": "stream",
     "text": [
      " 44%|████▎     | 574/1318 [06:24<04:51,  2.55it/s]"
     ]
    },
    {
     "name": "stdout",
     "output_type": "stream",
     "text": [
      "/home/lluis/histo_lung/data/Mask_PyHIST_v2/LungAOEC_List2/000030399700317761/tilecrossed_000030399700317761.png\n",
      "/home/lluis/histo_lung/data/Mask_PyHIST_v2/LungAOEC_List2/000033922800530592/tilecrossed_000033922800530592.png\n"
     ]
    },
    {
     "name": "stderr",
     "output_type": "stream",
     "text": [
      " 44%|████▎     | 575/1318 [06:26<07:30,  1.65it/s]"
     ]
    },
    {
     "name": "stdout",
     "output_type": "stream",
     "text": [
      "/home/lluis/histo_lung/data/Mask_PyHIST_v2/LungAOEC_List2/000032202000412395/tilecrossed_000032202000412395.png\n"
     ]
    },
    {
     "name": "stderr",
     "output_type": "stream",
     "text": [
      " 44%|████▎     | 576/1318 [06:26<07:40,  1.61it/s]"
     ]
    },
    {
     "name": "stdout",
     "output_type": "stream",
     "text": [
      "/home/lluis/histo_lung/data/Mask_PyHIST_v2/LungAOEC_List2/000030870900342377/tilecrossed_000030870900342377.png\n"
     ]
    },
    {
     "name": "stderr",
     "output_type": "stream",
     "text": [
      " 44%|████▍     | 577/1318 [06:27<09:55,  1.24it/s]"
     ]
    },
    {
     "name": "stdout",
     "output_type": "stream",
     "text": [
      "/home/lluis/histo_lung/data/Mask_PyHIST_v2/LungAOEC_List2/000035206200645872/tilecrossed_000035206200645872.png\n"
     ]
    },
    {
     "name": "stderr",
     "output_type": "stream",
     "text": [
      " 44%|████▍     | 578/1318 [06:28<09:52,  1.25it/s]"
     ]
    },
    {
     "name": "stdout",
     "output_type": "stream",
     "text": [
      "/home/lluis/histo_lung/data/Mask_PyHIST_v2/LungAOEC_List2/000034131800547417/tilecrossed_000034131800547417.png\n"
     ]
    },
    {
     "name": "stderr",
     "output_type": "stream",
     "text": [
      " 44%|████▍     | 579/1318 [06:29<08:19,  1.48it/s]"
     ]
    },
    {
     "name": "stdout",
     "output_type": "stream",
     "text": [
      "/home/lluis/histo_lung/data/Mask_PyHIST_v2/LungAOEC_List2/000035206200645886/tilecrossed_000035206200645886.png\n"
     ]
    },
    {
     "name": "stderr",
     "output_type": "stream",
     "text": [
      " 44%|████▍     | 580/1318 [06:29<06:52,  1.79it/s]"
     ]
    },
    {
     "name": "stdout",
     "output_type": "stream",
     "text": [
      "/home/lluis/histo_lung/data/Mask_PyHIST_v2/LungAOEC_List2/000033339900479394/tilecrossed_000033339900479394.png\n",
      "/home/lluis/histo_lung/data/Mask_PyHIST_v2/LungAOEC_List2/000035795500704970/tilecrossed_000035795500704970.png\n"
     ]
    },
    {
     "name": "stderr",
     "output_type": "stream",
     "text": [
      " 44%|████▍     | 582/1318 [06:30<06:30,  1.89it/s]"
     ]
    },
    {
     "name": "stdout",
     "output_type": "stream",
     "text": [
      "/home/lluis/histo_lung/data/Mask_PyHIST_v2/LungAOEC_List2/000036283000766197/tilecrossed_000036283000766197.png\n"
     ]
    },
    {
     "name": "stderr",
     "output_type": "stream",
     "text": [
      " 44%|████▍     | 583/1318 [06:30<05:42,  2.15it/s]"
     ]
    },
    {
     "name": "stdout",
     "output_type": "stream",
     "text": [
      "/home/lluis/histo_lung/data/Mask_PyHIST_v2/LungAOEC_List2/000033891700522696/tilecrossed_000033891700522696.png\n"
     ]
    },
    {
     "name": "stderr",
     "output_type": "stream",
     "text": [
      " 44%|████▍     | 584/1318 [06:31<06:42,  1.82it/s]"
     ]
    },
    {
     "name": "stdout",
     "output_type": "stream",
     "text": [
      "/home/lluis/histo_lung/data/Mask_PyHIST_v2/LungAOEC_List2/000033918800528773/tilecrossed_000033918800528773.png\n"
     ]
    },
    {
     "name": "stderr",
     "output_type": "stream",
     "text": [
      " 44%|████▍     | 585/1318 [06:32<08:13,  1.48it/s]"
     ]
    },
    {
     "name": "stdout",
     "output_type": "stream",
     "text": [
      "/home/lluis/histo_lung/data/Mask_PyHIST_v2/LungAOEC_List2/000035206200645882/tilecrossed_000035206200645882.png\n"
     ]
    },
    {
     "name": "stderr",
     "output_type": "stream",
     "text": [
      " 44%|████▍     | 586/1318 [06:33<10:12,  1.20it/s]"
     ]
    },
    {
     "name": "stdout",
     "output_type": "stream",
     "text": [
      "/home/lluis/histo_lung/data/Mask_PyHIST_v2/LungAOEC_List2/000031945100398117/tilecrossed_000031945100398117.png\n"
     ]
    },
    {
     "name": "stderr",
     "output_type": "stream",
     "text": [
      " 45%|████▍     | 587/1318 [06:34<10:24,  1.17it/s]"
     ]
    },
    {
     "name": "stdout",
     "output_type": "stream",
     "text": [
      "/home/lluis/histo_lung/data/Mask_PyHIST_v2/LungAOEC_List2/000036177600753266/tilecrossed_000036177600753266.png\n"
     ]
    },
    {
     "name": "stderr",
     "output_type": "stream",
     "text": [
      " 45%|████▍     | 588/1318 [06:35<09:59,  1.22it/s]"
     ]
    },
    {
     "name": "stdout",
     "output_type": "stream",
     "text": [
      "/home/lluis/histo_lung/data/Mask_PyHIST_v2/LungAOEC_List2/000032897900448069/tilecrossed_000032897900448069.png\n"
     ]
    },
    {
     "name": "stderr",
     "output_type": "stream",
     "text": [
      " 45%|████▍     | 589/1318 [06:36<09:42,  1.25it/s]"
     ]
    },
    {
     "name": "stdout",
     "output_type": "stream",
     "text": [
      "/home/lluis/histo_lung/data/Mask_PyHIST_v2/LungAOEC_List2/000034838900615682/tilecrossed_000034838900615682.png\n"
     ]
    },
    {
     "name": "stderr",
     "output_type": "stream",
     "text": [
      " 45%|████▍     | 590/1318 [06:36<10:02,  1.21it/s]"
     ]
    },
    {
     "name": "stdout",
     "output_type": "stream",
     "text": [
      "/home/lluis/histo_lung/data/Mask_PyHIST_v2/LungAOEC_List2/000035826400709913/tilecrossed_000035826400709913.png\n"
     ]
    },
    {
     "name": "stderr",
     "output_type": "stream",
     "text": [
      " 45%|████▍     | 591/1318 [06:37<09:18,  1.30it/s]"
     ]
    },
    {
     "name": "stdout",
     "output_type": "stream",
     "text": [
      "/home/lluis/histo_lung/data/Mask_PyHIST_v2/LungAOEC_List2/000030759100337122/tilecrossed_000030759100337122.png\n"
     ]
    },
    {
     "name": "stderr",
     "output_type": "stream",
     "text": [
      " 45%|████▍     | 592/1318 [06:38<09:32,  1.27it/s]"
     ]
    },
    {
     "name": "stdout",
     "output_type": "stream",
     "text": [
      "/home/lluis/histo_lung/data/Mask_PyHIST_v2/LungAOEC_List2/000030874300342417/tilecrossed_000030874300342417.png\n"
     ]
    },
    {
     "name": "stderr",
     "output_type": "stream",
     "text": [
      " 45%|████▍     | 593/1318 [06:38<07:52,  1.53it/s]"
     ]
    },
    {
     "name": "stdout",
     "output_type": "stream",
     "text": [
      "/home/lluis/histo_lung/data/Mask_PyHIST_v2/LungAOEC_List2/000031758200386507/tilecrossed_000031758200386507.png\n"
     ]
    },
    {
     "name": "stderr",
     "output_type": "stream",
     "text": [
      " 45%|████▌     | 594/1318 [06:39<09:42,  1.24it/s]"
     ]
    },
    {
     "name": "stdout",
     "output_type": "stream",
     "text": [
      "/home/lluis/histo_lung/data/Mask_PyHIST_v2/LungAOEC_List2/000031346200367700/tilecrossed_000031346200367700.png\n"
     ]
    },
    {
     "name": "stderr",
     "output_type": "stream",
     "text": [
      " 45%|████▌     | 596/1318 [06:41<07:46,  1.55it/s]"
     ]
    },
    {
     "name": "stdout",
     "output_type": "stream",
     "text": [
      "/home/lluis/histo_lung/data/Mask_PyHIST_v2/LungAOEC_List2/000031263900361782/tilecrossed_000031263900361782.png\n",
      "/home/lluis/histo_lung/data/Mask_PyHIST_v2/LungAOEC_List2/000031438500372493/tilecrossed_000031438500372493.png\n"
     ]
    },
    {
     "name": "stderr",
     "output_type": "stream",
     "text": [
      " 45%|████▌     | 597/1318 [06:41<07:17,  1.65it/s]"
     ]
    },
    {
     "name": "stdout",
     "output_type": "stream",
     "text": [
      "/home/lluis/histo_lung/data/Mask_PyHIST_v2/LungAOEC_List2/000030769200337779/tilecrossed_000030769200337779.png\n"
     ]
    },
    {
     "name": "stderr",
     "output_type": "stream",
     "text": [
      " 45%|████▌     | 598/1318 [06:42<07:27,  1.61it/s]"
     ]
    },
    {
     "name": "stdout",
     "output_type": "stream",
     "text": [
      "/home/lluis/histo_lung/data/Mask_PyHIST_v2/LungAOEC_List2/000031363500369024/tilecrossed_000031363500369024.png\n"
     ]
    },
    {
     "name": "stderr",
     "output_type": "stream",
     "text": [
      " 45%|████▌     | 599/1318 [06:43<08:12,  1.46it/s]"
     ]
    },
    {
     "name": "stdout",
     "output_type": "stream",
     "text": [
      "/home/lluis/histo_lung/data/Mask_PyHIST_v2/LungAOEC_List2/000031438500370535/tilecrossed_000031438500370535.png\n"
     ]
    },
    {
     "name": "stderr",
     "output_type": "stream",
     "text": [
      " 46%|████▌     | 600/1318 [06:43<07:31,  1.59it/s]"
     ]
    },
    {
     "name": "stdout",
     "output_type": "stream",
     "text": [
      "/home/lluis/histo_lung/data/Mask_PyHIST_v2/LungAOEC_List2/000034993200625796/tilecrossed_000034993200625796.png\n"
     ]
    },
    {
     "name": "stderr",
     "output_type": "stream",
     "text": [
      " 46%|████▌     | 601/1318 [06:44<08:05,  1.48it/s]"
     ]
    },
    {
     "name": "stdout",
     "output_type": "stream",
     "text": [
      "/home/lluis/histo_lung/data/Mask_PyHIST_v2/LungAOEC_List2/000036242800760973/tilecrossed_000036242800760973.png\n"
     ]
    },
    {
     "name": "stderr",
     "output_type": "stream",
     "text": [
      " 46%|████▌     | 602/1318 [06:44<07:21,  1.62it/s]"
     ]
    },
    {
     "name": "stdout",
     "output_type": "stream",
     "text": [
      "/home/lluis/histo_lung/data/Mask_PyHIST_v2/LungAOEC_List2/000030737800334725/tilecrossed_000030737800334725.png\n"
     ]
    },
    {
     "name": "stderr",
     "output_type": "stream",
     "text": [
      " 46%|████▌     | 603/1318 [06:45<06:20,  1.88it/s]"
     ]
    },
    {
     "name": "stdout",
     "output_type": "stream",
     "text": [
      "/home/lluis/histo_lung/data/Mask_PyHIST_v2/LungAOEC_List2/000034993200625798/tilecrossed_000034993200625798.png\n"
     ]
    },
    {
     "name": "stderr",
     "output_type": "stream",
     "text": [
      " 46%|████▌     | 604/1318 [06:46<07:47,  1.53it/s]"
     ]
    },
    {
     "name": "stdout",
     "output_type": "stream",
     "text": [
      "/home/lluis/histo_lung/data/Mask_PyHIST_v2/LungAOEC_List2/000035206200645870/tilecrossed_000035206200645870.png\n"
     ]
    },
    {
     "name": "stderr",
     "output_type": "stream",
     "text": [
      " 46%|████▌     | 605/1318 [06:47<08:55,  1.33it/s]"
     ]
    },
    {
     "name": "stdout",
     "output_type": "stream",
     "text": [
      "/home/lluis/histo_lung/data/Mask_PyHIST_v2/LungAOEC_List2/000036157800750333/tilecrossed_000036157800750333.png\n"
     ]
    },
    {
     "name": "stderr",
     "output_type": "stream",
     "text": [
      " 46%|████▌     | 606/1318 [06:48<10:02,  1.18it/s]"
     ]
    },
    {
     "name": "stdout",
     "output_type": "stream",
     "text": [
      "/home/lluis/histo_lung/data/Mask_PyHIST_v2/LungAOEC_List2/000031778700387297/tilecrossed_000031778700387297.png\n"
     ]
    },
    {
     "name": "stderr",
     "output_type": "stream",
     "text": [
      " 46%|████▌     | 607/1318 [06:48<08:16,  1.43it/s]"
     ]
    },
    {
     "name": "stdout",
     "output_type": "stream",
     "text": [
      "/home/lluis/histo_lung/data/Mask_PyHIST_v2/LungAOEC_List2/000034524300583747/tilecrossed_000034524300583747.png\n"
     ]
    },
    {
     "name": "stderr",
     "output_type": "stream",
     "text": [
      " 46%|████▌     | 608/1318 [06:49<08:07,  1.46it/s]"
     ]
    },
    {
     "name": "stdout",
     "output_type": "stream",
     "text": [
      "/home/lluis/histo_lung/data/Mask_PyHIST_v2/LungAOEC_List2/000030466600322332/tilecrossed_000030466600322332.png\n"
     ]
    },
    {
     "name": "stderr",
     "output_type": "stream",
     "text": [
      " 46%|████▌     | 609/1318 [06:49<06:30,  1.82it/s]"
     ]
    },
    {
     "name": "stdout",
     "output_type": "stream",
     "text": [
      "/home/lluis/histo_lung/data/Mask_PyHIST_v2/LungAOEC_List2/000036157800749642/tilecrossed_000036157800749642.png\n"
     ]
    },
    {
     "name": "stderr",
     "output_type": "stream",
     "text": [
      " 46%|████▋     | 610/1318 [06:50<07:03,  1.67it/s]"
     ]
    },
    {
     "name": "stdout",
     "output_type": "stream",
     "text": [
      "/home/lluis/histo_lung/data/Mask_PyHIST_v2/LungAOEC_List2/000034183600550196/tilecrossed_000034183600550196.png\n"
     ]
    },
    {
     "name": "stderr",
     "output_type": "stream",
     "text": [
      " 46%|████▋     | 611/1318 [06:51<08:39,  1.36it/s]"
     ]
    },
    {
     "name": "stdout",
     "output_type": "stream",
     "text": [
      "/home/lluis/histo_lung/data/Mask_PyHIST_v2/LungAOEC_List2/000034024600532104/tilecrossed_000034024600532104.png\n"
     ]
    },
    {
     "name": "stderr",
     "output_type": "stream",
     "text": [
      " 46%|████▋     | 612/1318 [06:51<09:01,  1.30it/s]"
     ]
    },
    {
     "name": "stdout",
     "output_type": "stream",
     "text": [
      "/home/lluis/histo_lung/data/Mask_PyHIST_v2/LungAOEC_List2/000030759100337119/tilecrossed_000030759100337119.png\n"
     ]
    },
    {
     "name": "stderr",
     "output_type": "stream",
     "text": [
      " 47%|████▋     | 613/1318 [06:52<09:06,  1.29it/s]"
     ]
    },
    {
     "name": "stdout",
     "output_type": "stream",
     "text": [
      "/home/lluis/histo_lung/data/Mask_PyHIST_v2/LungAOEC_List2/000031326800365852/tilecrossed_000031326800365852.png\n"
     ]
    },
    {
     "name": "stderr",
     "output_type": "stream",
     "text": [
      " 47%|████▋     | 614/1318 [06:53<08:13,  1.43it/s]"
     ]
    },
    {
     "name": "stdout",
     "output_type": "stream",
     "text": [
      "/home/lluis/histo_lung/data/Mask_PyHIST_v2/LungAOEC_List2/000034524300583739/tilecrossed_000034524300583739.png\n"
     ]
    },
    {
     "name": "stderr",
     "output_type": "stream",
     "text": [
      " 47%|████▋     | 615/1318 [06:53<07:12,  1.62it/s]"
     ]
    },
    {
     "name": "stdout",
     "output_type": "stream",
     "text": [
      "/home/lluis/histo_lung/data/Mask_PyHIST_v2/LungAOEC_List2/000033974700529006/tilecrossed_000033974700529006.png\n"
     ]
    },
    {
     "name": "stderr",
     "output_type": "stream",
     "text": [
      " 47%|████▋     | 616/1318 [06:53<05:46,  2.03it/s]"
     ]
    },
    {
     "name": "stdout",
     "output_type": "stream",
     "text": [
      "/home/lluis/histo_lung/data/Mask_PyHIST_v2/LungAOEC_List2/000035826400709901/tilecrossed_000035826400709901.png\n"
     ]
    },
    {
     "name": "stderr",
     "output_type": "stream",
     "text": [
      " 47%|████▋     | 617/1318 [06:54<06:24,  1.82it/s]"
     ]
    },
    {
     "name": "stdout",
     "output_type": "stream",
     "text": [
      "/home/lluis/histo_lung/data/Mask_PyHIST_v2/LungAOEC_List2/000035215500647270/tilecrossed_000035215500647270.png\n"
     ]
    },
    {
     "name": "stderr",
     "output_type": "stream",
     "text": [
      " 47%|████▋     | 619/1318 [06:55<06:36,  1.76it/s]"
     ]
    },
    {
     "name": "stdout",
     "output_type": "stream",
     "text": [
      "/home/lluis/histo_lung/data/Mask_PyHIST_v2/LungAOEC_List2/000031065100352640/tilecrossed_000031065100352640.png\n",
      "/home/lluis/histo_lung/data/Mask_PyHIST_v2/LungAOEC_List2/000035178700641697/tilecrossed_000035178700641697.png\n"
     ]
    },
    {
     "name": "stderr",
     "output_type": "stream",
     "text": [
      " 47%|████▋     | 620/1318 [06:56<05:54,  1.97it/s]"
     ]
    },
    {
     "name": "stdout",
     "output_type": "stream",
     "text": [
      "/home/lluis/histo_lung/data/Mask_PyHIST_v2/LungAOEC_List2/000034181300550452/tilecrossed_000034181300550452.png\n"
     ]
    },
    {
     "name": "stderr",
     "output_type": "stream",
     "text": [
      " 47%|████▋     | 621/1318 [06:56<06:15,  1.85it/s]"
     ]
    },
    {
     "name": "stdout",
     "output_type": "stream",
     "text": [
      "/home/lluis/histo_lung/data/Mask_PyHIST_v2/LungAOEC_List2/000031346200367697/tilecrossed_000031346200367697.png\n"
     ]
    },
    {
     "name": "stderr",
     "output_type": "stream",
     "text": [
      " 47%|████▋     | 622/1318 [06:57<06:13,  1.86it/s]"
     ]
    },
    {
     "name": "stdout",
     "output_type": "stream",
     "text": [
      "/home/lluis/histo_lung/data/Mask_PyHIST_v2/LungAOEC_List2/000034181300550450/tilecrossed_000034181300550450.png\n"
     ]
    },
    {
     "name": "stderr",
     "output_type": "stream",
     "text": [
      " 47%|████▋     | 623/1318 [06:58<07:30,  1.54it/s]"
     ]
    },
    {
     "name": "stdout",
     "output_type": "stream",
     "text": [
      "/home/lluis/histo_lung/data/Mask_PyHIST_v2/LungAOEC_List2/000036157800750307/tilecrossed_000036157800750307.png\n"
     ]
    },
    {
     "name": "stderr",
     "output_type": "stream",
     "text": [
      " 47%|████▋     | 625/1318 [06:59<06:12,  1.86it/s]"
     ]
    },
    {
     "name": "stdout",
     "output_type": "stream",
     "text": [
      "/home/lluis/histo_lung/data/Mask_PyHIST_v2/LungAOEC_List2/000030668300332606/tilecrossed_000030668300332606.png\n",
      "/home/lluis/histo_lung/data/Mask_PyHIST_v2/LungAOEC_List2/000033382400482079/tilecrossed_000033382400482079.png\n"
     ]
    },
    {
     "name": "stderr",
     "output_type": "stream",
     "text": [
      " 47%|████▋     | 626/1318 [06:59<05:21,  2.15it/s]"
     ]
    },
    {
     "name": "stdout",
     "output_type": "stream",
     "text": [
      "/home/lluis/histo_lung/data/Mask_PyHIST_v2/LungAOEC_List2/000031945100398112/tilecrossed_000031945100398112.png\n"
     ]
    },
    {
     "name": "stderr",
     "output_type": "stream",
     "text": [
      " 48%|████▊     | 627/1318 [07:00<07:06,  1.62it/s]"
     ]
    },
    {
     "name": "stdout",
     "output_type": "stream",
     "text": [
      "/home/lluis/histo_lung/data/Mask_PyHIST_v2/LungAOEC_List2/000031346200367699/tilecrossed_000031346200367699.png\n"
     ]
    },
    {
     "name": "stderr",
     "output_type": "stream",
     "text": [
      " 48%|████▊     | 628/1318 [07:01<08:15,  1.39it/s]"
     ]
    },
    {
     "name": "stdout",
     "output_type": "stream",
     "text": [
      "/home/lluis/histo_lung/data/Mask_PyHIST_v2/LungAOEC_List2/000033918800521827/tilecrossed_000033918800521827.png\n"
     ]
    },
    {
     "name": "stderr",
     "output_type": "stream",
     "text": [
      " 48%|████▊     | 629/1318 [07:02<07:38,  1.50it/s]"
     ]
    },
    {
     "name": "stdout",
     "output_type": "stream",
     "text": [
      "/home/lluis/histo_lung/data/Mask_PyHIST_v2/LungAOEC_List2/000033938300530895/tilecrossed_000033938300530895.png\n"
     ]
    },
    {
     "name": "stderr",
     "output_type": "stream",
     "text": [
      " 48%|████▊     | 630/1318 [07:03<09:49,  1.17it/s]"
     ]
    },
    {
     "name": "stdout",
     "output_type": "stream",
     "text": [
      "/home/lluis/histo_lung/data/Mask_PyHIST_v2/LungAOEC_List2/000034181300550458/tilecrossed_000034181300550458.png\n"
     ]
    },
    {
     "name": "stderr",
     "output_type": "stream",
     "text": [
      " 48%|████▊     | 631/1318 [07:04<09:01,  1.27it/s]"
     ]
    },
    {
     "name": "stdout",
     "output_type": "stream",
     "text": [
      "/home/lluis/histo_lung/data/Mask_PyHIST_v2/LungAOEC_List2/000030494900323691/tilecrossed_000030494900323691.png\n"
     ]
    },
    {
     "name": "stderr",
     "output_type": "stream",
     "text": [
      " 48%|████▊     | 632/1318 [07:04<07:14,  1.58it/s]"
     ]
    },
    {
     "name": "stdout",
     "output_type": "stream",
     "text": [
      "/home/lluis/histo_lung/data/Mask_PyHIST_v2/LungAOEC_List2/000033918800528771/tilecrossed_000033918800528771.png\n"
     ]
    },
    {
     "name": "stderr",
     "output_type": "stream",
     "text": [
      " 48%|████▊     | 633/1318 [07:05<07:31,  1.52it/s]"
     ]
    },
    {
     "name": "stdout",
     "output_type": "stream",
     "text": [
      "/home/lluis/histo_lung/data/Mask_PyHIST_v2/LungAOEC_List2/000030494900323690/tilecrossed_000030494900323690.png\n"
     ]
    },
    {
     "name": "stderr",
     "output_type": "stream",
     "text": [
      " 48%|████▊     | 634/1318 [07:05<06:12,  1.83it/s]"
     ]
    },
    {
     "name": "stdout",
     "output_type": "stream",
     "text": [
      "/home/lluis/histo_lung/data/Mask_PyHIST_v2/LungAOEC_List2/000035204500645844/tilecrossed_000035204500645844.png\n"
     ]
    },
    {
     "name": "stderr",
     "output_type": "stream",
     "text": [
      " 48%|████▊     | 635/1318 [07:06<09:01,  1.26it/s]"
     ]
    },
    {
     "name": "stdout",
     "output_type": "stream",
     "text": [
      "/home/lluis/histo_lung/data/Mask_PyHIST_v2/LungAOEC_List2/000035870700717723/tilecrossed_000035870700717723.png\n"
     ]
    },
    {
     "name": "stderr",
     "output_type": "stream",
     "text": [
      " 48%|████▊     | 636/1318 [07:07<08:33,  1.33it/s]"
     ]
    },
    {
     "name": "stdout",
     "output_type": "stream",
     "text": [
      "/home/lluis/histo_lung/data/Mask_PyHIST_v2/LungAOEC_List2/000036177600753275/tilecrossed_000036177600753275.png\n"
     ]
    },
    {
     "name": "stderr",
     "output_type": "stream",
     "text": [
      " 48%|████▊     | 637/1318 [07:08<09:24,  1.21it/s]"
     ]
    },
    {
     "name": "stdout",
     "output_type": "stream",
     "text": [
      "/home/lluis/histo_lung/data/Mask_PyHIST_v2/LungAOEC_List2/000031363500369023/tilecrossed_000031363500369023.png\n"
     ]
    },
    {
     "name": "stderr",
     "output_type": "stream",
     "text": [
      " 48%|████▊     | 638/1318 [07:09<11:13,  1.01it/s]"
     ]
    },
    {
     "name": "stdout",
     "output_type": "stream",
     "text": [
      "/home/lluis/histo_lung/data/Mask_PyHIST_v2/LungAOEC_List2/000032202000412407/tilecrossed_000032202000412407.png\n"
     ]
    },
    {
     "name": "stderr",
     "output_type": "stream",
     "text": [
      " 48%|████▊     | 639/1318 [07:10<11:15,  1.00it/s]"
     ]
    },
    {
     "name": "stdout",
     "output_type": "stream",
     "text": [
      "/home/lluis/histo_lung/data/Mask_PyHIST_v2/LungAOEC_List2/000035478000675910/tilecrossed_000035478000675910.png\n"
     ]
    },
    {
     "name": "stderr",
     "output_type": "stream",
     "text": [
      " 49%|████▊     | 640/1318 [07:11<10:21,  1.09it/s]"
     ]
    },
    {
     "name": "stdout",
     "output_type": "stream",
     "text": [
      "/home/lluis/histo_lung/data/Mask_PyHIST_v2/LungAOEC_List2/000030753300335824/tilecrossed_000030753300335824.png\n"
     ]
    },
    {
     "name": "stderr",
     "output_type": "stream",
     "text": [
      " 49%|████▊     | 641/1318 [07:11<08:26,  1.34it/s]"
     ]
    },
    {
     "name": "stdout",
     "output_type": "stream",
     "text": [
      "/home/lluis/histo_lung/data/Mask_PyHIST_v2/LungAOEC_List2/000033918800521829/tilecrossed_000033918800521829.png\n"
     ]
    },
    {
     "name": "stderr",
     "output_type": "stream",
     "text": [
      " 49%|████▊     | 642/1318 [07:12<07:08,  1.58it/s]"
     ]
    },
    {
     "name": "stdout",
     "output_type": "stream",
     "text": [
      "/home/lluis/histo_lung/data/Mask_PyHIST_v2/LungAOEC_List2/000030769200337772/tilecrossed_000030769200337772.png\n"
     ]
    },
    {
     "name": "stderr",
     "output_type": "stream",
     "text": [
      " 49%|████▉     | 643/1318 [07:12<06:15,  1.80it/s]"
     ]
    },
    {
     "name": "stdout",
     "output_type": "stream",
     "text": [
      "/home/lluis/histo_lung/data/Mask_PyHIST_v2/LungAOEC_List3/000035332500659462/tilecrossed_000035332500659462.png\n"
     ]
    },
    {
     "name": "stderr",
     "output_type": "stream",
     "text": [
      " 49%|████▉     | 644/1318 [07:12<05:08,  2.19it/s]"
     ]
    },
    {
     "name": "stdout",
     "output_type": "stream",
     "text": [
      "/home/lluis/histo_lung/data/Mask_PyHIST_v2/LungAOEC_List3/000035579700680012/tilecrossed_000035579700680012.png\n"
     ]
    },
    {
     "name": "stderr",
     "output_type": "stream",
     "text": [
      " 49%|████▉     | 646/1318 [07:13<03:54,  2.87it/s]"
     ]
    },
    {
     "name": "stdout",
     "output_type": "stream",
     "text": [
      "/home/lluis/histo_lung/data/Mask_PyHIST_v2/LungAOEC_List3/000035602300681008/tilecrossed_000035602300681008.png\n",
      "/home/lluis/histo_lung/data/Mask_PyHIST_v2/LungAOEC_List3/000035573600680034/tilecrossed_000035573600680034.png\n"
     ]
    },
    {
     "name": "stderr",
     "output_type": "stream",
     "text": [
      " 49%|████▉     | 648/1318 [07:14<03:50,  2.91it/s]"
     ]
    },
    {
     "name": "stdout",
     "output_type": "stream",
     "text": [
      "/home/lluis/histo_lung/data/Mask_PyHIST_v2/LungAOEC_List3/000035332500659464/tilecrossed_000035332500659464.png\n",
      "/home/lluis/histo_lung/data/Mask_PyHIST_v2/LungAOEC_List3/000035537900680108/tilecrossed_000035537900680108.png\n"
     ]
    },
    {
     "name": "stderr",
     "output_type": "stream",
     "text": [
      " 49%|████▉     | 649/1318 [07:14<04:54,  2.27it/s]"
     ]
    },
    {
     "name": "stdout",
     "output_type": "stream",
     "text": [
      "/home/lluis/histo_lung/data/Mask_PyHIST_v2/LungAOEC_List3/000035699000696984/tilecrossed_000035699000696984.png\n"
     ]
    },
    {
     "name": "stderr",
     "output_type": "stream",
     "text": [
      " 49%|████▉     | 650/1318 [07:15<04:53,  2.27it/s]"
     ]
    },
    {
     "name": "stdout",
     "output_type": "stream",
     "text": [
      "/home/lluis/histo_lung/data/Mask_PyHIST_v2/LungAOEC_List3/000035573600680038/tilecrossed_000035573600680038.png\n"
     ]
    },
    {
     "name": "stderr",
     "output_type": "stream",
     "text": [
      " 49%|████▉     | 651/1318 [07:15<05:50,  1.90it/s]"
     ]
    },
    {
     "name": "stdout",
     "output_type": "stream",
     "text": [
      "/home/lluis/histo_lung/data/Mask_PyHIST_v2/LungAOEC_List3/000035511100679041/tilecrossed_000035511100679041.png\n"
     ]
    },
    {
     "name": "stderr",
     "output_type": "stream",
     "text": [
      " 50%|████▉     | 653/1318 [07:16<04:52,  2.27it/s]"
     ]
    },
    {
     "name": "stdout",
     "output_type": "stream",
     "text": [
      "/home/lluis/histo_lung/data/Mask_PyHIST_v2/LungAOEC_List3/000035706800697732/tilecrossed_000035706800697732.png\n",
      "/home/lluis/histo_lung/data/Mask_PyHIST_v2/LungAOEC_List3/000035706800697704/tilecrossed_000035706800697704.png\n"
     ]
    },
    {
     "name": "stderr",
     "output_type": "stream",
     "text": [
      " 50%|████▉     | 654/1318 [07:16<03:53,  2.84it/s]"
     ]
    },
    {
     "name": "stdout",
     "output_type": "stream",
     "text": [
      "/home/lluis/histo_lung/data/Mask_PyHIST_v2/LungAOEC_List3/000035537900680110/tilecrossed_000035537900680110.png\n"
     ]
    },
    {
     "name": "stderr",
     "output_type": "stream",
     "text": [
      " 50%|████▉     | 655/1318 [07:17<05:28,  2.02it/s]"
     ]
    },
    {
     "name": "stdout",
     "output_type": "stream",
     "text": [
      "/home/lluis/histo_lung/data/Mask_PyHIST_v2/LungAOEC_List3/000035511100679059/tilecrossed_000035511100679059.png\n"
     ]
    },
    {
     "name": "stderr",
     "output_type": "stream",
     "text": [
      " 50%|████▉     | 656/1318 [07:18<05:10,  2.13it/s]"
     ]
    },
    {
     "name": "stdout",
     "output_type": "stream",
     "text": [
      "/home/lluis/histo_lung/data/Mask_PyHIST_v2/LungAOEC_List3/000035232400649797/tilecrossed_000035232400649797.png\n"
     ]
    },
    {
     "name": "stderr",
     "output_type": "stream",
     "text": [
      " 50%|████▉     | 657/1318 [07:19<06:56,  1.59it/s]"
     ]
    },
    {
     "name": "stdout",
     "output_type": "stream",
     "text": [
      "/home/lluis/histo_lung/data/Mask_PyHIST_v2/LungAOEC_List3/000035573600680032/tilecrossed_000035573600680032.png\n"
     ]
    },
    {
     "name": "stderr",
     "output_type": "stream",
     "text": [
      " 50%|████▉     | 658/1318 [07:20<08:51,  1.24it/s]"
     ]
    },
    {
     "name": "stdout",
     "output_type": "stream",
     "text": [
      "/home/lluis/histo_lung/data/Mask_PyHIST_v2/LungAOEC_List3/000035232400649795/tilecrossed_000035232400649795.png\n"
     ]
    },
    {
     "name": "stderr",
     "output_type": "stream",
     "text": [
      " 50%|█████     | 659/1318 [07:21<10:40,  1.03it/s]"
     ]
    },
    {
     "name": "stdout",
     "output_type": "stream",
     "text": [
      "/home/lluis/histo_lung/data/Mask_PyHIST_v2/LungAOEC_List3/000035765500702224/tilecrossed_000035765500702224.png\n"
     ]
    },
    {
     "name": "stderr",
     "output_type": "stream",
     "text": [
      " 50%|█████     | 660/1318 [07:22<10:17,  1.07it/s]"
     ]
    },
    {
     "name": "stdout",
     "output_type": "stream",
     "text": [
      "/home/lluis/histo_lung/data/Mask_PyHIST_v2/LungAOEC_List3/000035605100689383/tilecrossed_000035605100689383.png\n"
     ]
    },
    {
     "name": "stderr",
     "output_type": "stream",
     "text": [
      " 50%|█████     | 661/1318 [07:23<10:01,  1.09it/s]"
     ]
    },
    {
     "name": "stdout",
     "output_type": "stream",
     "text": [
      "/home/lluis/histo_lung/data/Mask_PyHIST_v2/LungAOEC_List3/000035324000659410/tilecrossed_000035324000659410.png\n"
     ]
    },
    {
     "name": "stderr",
     "output_type": "stream",
     "text": [
      " 50%|█████     | 662/1318 [07:23<07:47,  1.40it/s]"
     ]
    },
    {
     "name": "stdout",
     "output_type": "stream",
     "text": [
      "/home/lluis/histo_lung/data/Mask_PyHIST_v2/LungAOEC_List3/000035726800699095/tilecrossed_000035726800699095.png\n"
     ]
    },
    {
     "name": "stderr",
     "output_type": "stream",
     "text": [
      " 50%|█████     | 663/1318 [07:24<08:14,  1.32it/s]"
     ]
    },
    {
     "name": "stdout",
     "output_type": "stream",
     "text": [
      "/home/lluis/histo_lung/data/Mask_PyHIST_v2/LungAOEC_List3/000036211600754899/tilecrossed_000036211600754899.png\n"
     ]
    },
    {
     "name": "stderr",
     "output_type": "stream",
     "text": [
      " 50%|█████     | 665/1318 [07:24<05:11,  2.10it/s]"
     ]
    },
    {
     "name": "stdout",
     "output_type": "stream",
     "text": [
      "/home/lluis/histo_lung/data/Mask_PyHIST_v2/LungAOEC_List3/000035332500659460/tilecrossed_000035332500659460.png\n",
      "/home/lluis/histo_lung/data/Mask_PyHIST_v2/LungAOEC_List3/000035324000656408/tilecrossed_000035324000656408.png\n"
     ]
    },
    {
     "name": "stderr",
     "output_type": "stream",
     "text": [
      " 51%|█████     | 666/1318 [07:25<04:13,  2.57it/s]"
     ]
    },
    {
     "name": "stdout",
     "output_type": "stream",
     "text": [
      "/home/lluis/histo_lung/data/Mask_PyHIST_v2/LungAOEC_List3/000035726800699097/tilecrossed_000035726800699097.png\n"
     ]
    },
    {
     "name": "stderr",
     "output_type": "stream",
     "text": [
      " 51%|█████     | 667/1318 [07:25<04:26,  2.44it/s]"
     ]
    },
    {
     "name": "stdout",
     "output_type": "stream",
     "text": [
      "/home/lluis/histo_lung/data/Mask_PyHIST_v2/LungAOEC_List3/000035332500656828/tilecrossed_000035332500656828.png\n"
     ]
    },
    {
     "name": "stderr",
     "output_type": "stream",
     "text": [
      " 51%|█████     | 668/1318 [07:25<03:54,  2.77it/s]"
     ]
    },
    {
     "name": "stdout",
     "output_type": "stream",
     "text": [
      "/home/lluis/histo_lung/data/Mask_PyHIST_v2/LungAOEC_List3/000035511100679057/tilecrossed_000035511100679057.png\n"
     ]
    },
    {
     "name": "stderr",
     "output_type": "stream",
     "text": [
      " 51%|█████     | 669/1318 [07:26<04:08,  2.62it/s]"
     ]
    },
    {
     "name": "stdout",
     "output_type": "stream",
     "text": [
      "/home/lluis/histo_lung/data/Mask_PyHIST_v2/LungAOEC_List3/000035726800699099/tilecrossed_000035726800699099.png\n"
     ]
    },
    {
     "name": "stderr",
     "output_type": "stream",
     "text": [
      " 51%|█████     | 670/1318 [07:26<04:53,  2.21it/s]"
     ]
    },
    {
     "name": "stdout",
     "output_type": "stream",
     "text": [
      "/home/lluis/histo_lung/data/Mask_PyHIST_v2/LungAOEC_List3/000035511100672283/tilecrossed_000035511100672283.png\n"
     ]
    },
    {
     "name": "stderr",
     "output_type": "stream",
     "text": [
      " 51%|█████     | 672/1318 [07:27<04:55,  2.18it/s]"
     ]
    },
    {
     "name": "stdout",
     "output_type": "stream",
     "text": [
      "/home/lluis/histo_lung/data/Mask_PyHIST_v2/LungAOEC_List3/000035726800699101/tilecrossed_000035726800699101.png\n",
      "/home/lluis/histo_lung/data/Mask_PyHIST_v2/LungAOEC_List3/000035332500659466/tilecrossed_000035332500659466.png\n"
     ]
    },
    {
     "name": "stderr",
     "output_type": "stream",
     "text": [
      " 51%|█████     | 673/1318 [07:28<04:10,  2.57it/s]"
     ]
    },
    {
     "name": "stdout",
     "output_type": "stream",
     "text": [
      "/home/lluis/histo_lung/data/Mask_PyHIST_v2/LungAOEC_List3/000035706800697708/tilecrossed_000035706800697708.png\n"
     ]
    },
    {
     "name": "stderr",
     "output_type": "stream",
     "text": [
      " 51%|█████     | 674/1318 [07:28<04:15,  2.52it/s]"
     ]
    },
    {
     "name": "stdout",
     "output_type": "stream",
     "text": [
      "/home/lluis/histo_lung/data/Mask_PyHIST_v2/LungAOEC_List3/000035765500695490/tilecrossed_000035765500695490.png\n"
     ]
    },
    {
     "name": "stderr",
     "output_type": "stream",
     "text": [
      " 51%|█████     | 675/1318 [07:29<05:27,  1.96it/s]"
     ]
    },
    {
     "name": "stdout",
     "output_type": "stream",
     "text": [
      "/home/lluis/histo_lung/data/Mask_PyHIST_v2/LungAOEC_List3/000035765500702214/tilecrossed_000035765500702214.png\n"
     ]
    },
    {
     "name": "stderr",
     "output_type": "stream",
     "text": [
      " 51%|█████▏    | 676/1318 [07:30<07:09,  1.49it/s]"
     ]
    },
    {
     "name": "stdout",
     "output_type": "stream",
     "text": [
      "/home/lluis/histo_lung/data/Mask_PyHIST_v2/LungAOEC_List3/000035511100679039/tilecrossed_000035511100679039.png\n"
     ]
    },
    {
     "name": "stderr",
     "output_type": "stream",
     "text": [
      " 51%|█████▏    | 677/1318 [07:31<08:40,  1.23it/s]"
     ]
    },
    {
     "name": "stdout",
     "output_type": "stream",
     "text": [
      "/home/lluis/histo_lung/data/Mask_PyHIST_v2/LungAOEC_List3/000035332500659458/tilecrossed_000035332500659458.png\n"
     ]
    },
    {
     "name": "stderr",
     "output_type": "stream",
     "text": [
      " 51%|█████▏    | 678/1318 [07:31<06:42,  1.59it/s]"
     ]
    },
    {
     "name": "stdout",
     "output_type": "stream",
     "text": [
      "/home/lluis/histo_lung/data/Mask_PyHIST_v2/LungAOEC_List3/000035765500702212/tilecrossed_000035765500702212.png\n"
     ]
    },
    {
     "name": "stderr",
     "output_type": "stream",
     "text": [
      " 52%|█████▏    | 679/1318 [07:32<08:11,  1.30it/s]"
     ]
    },
    {
     "name": "stdout",
     "output_type": "stream",
     "text": [
      "/home/lluis/histo_lung/data/Mask_PyHIST_v2/LungAOEC_List3/000035573600678165/tilecrossed_000035573600678165.png\n"
     ]
    },
    {
     "name": "stderr",
     "output_type": "stream",
     "text": [
      " 52%|█████▏    | 680/1318 [07:33<07:00,  1.52it/s]"
     ]
    },
    {
     "name": "stdout",
     "output_type": "stream",
     "text": [
      "/home/lluis/histo_lung/data/Mask_PyHIST_v2/LungAOEC_List3/000036407700769713/tilecrossed_000036407700769713.png\n"
     ]
    },
    {
     "name": "stderr",
     "output_type": "stream",
     "text": [
      " 52%|█████▏    | 681/1318 [07:33<06:22,  1.67it/s]"
     ]
    },
    {
     "name": "stdout",
     "output_type": "stream",
     "text": [
      "/home/lluis/histo_lung/data/Mask_PyHIST_v2/LungAOEC_List3/000035605100680894/tilecrossed_000035605100680894.png\n"
     ]
    },
    {
     "name": "stderr",
     "output_type": "stream",
     "text": [
      " 52%|█████▏    | 682/1318 [07:34<06:34,  1.61it/s]"
     ]
    },
    {
     "name": "stdout",
     "output_type": "stream",
     "text": [
      "/home/lluis/histo_lung/data/Mask_PyHIST_v2/LungAOEC_List3/000036429900772923/tilecrossed_000036429900772923.png\n"
     ]
    },
    {
     "name": "stderr",
     "output_type": "stream",
     "text": [
      " 52%|█████▏    | 683/1318 [07:34<05:32,  1.91it/s]"
     ]
    },
    {
     "name": "stdout",
     "output_type": "stream",
     "text": [
      "/home/lluis/histo_lung/data/Mask_PyHIST_v2/LungAOEC_List3/000035232400649801/tilecrossed_000035232400649801.png\n"
     ]
    },
    {
     "name": "stderr",
     "output_type": "stream",
     "text": [
      " 52%|█████▏    | 684/1318 [07:35<07:50,  1.35it/s]"
     ]
    },
    {
     "name": "stdout",
     "output_type": "stream",
     "text": [
      "/home/lluis/histo_lung/data/Mask_PyHIST_v2/LungAOEC_List3/000035699000689069/tilecrossed_000035699000689069.png\n"
     ]
    },
    {
     "name": "stderr",
     "output_type": "stream",
     "text": [
      " 52%|█████▏    | 685/1318 [07:36<06:44,  1.57it/s]"
     ]
    },
    {
     "name": "stdout",
     "output_type": "stream",
     "text": [
      "/home/lluis/histo_lung/data/Mask_PyHIST_v2/LungAOEC_List3/000035706800697706/tilecrossed_000035706800697706.png\n"
     ]
    },
    {
     "name": "stderr",
     "output_type": "stream",
     "text": [
      " 52%|█████▏    | 686/1318 [07:36<05:36,  1.88it/s]"
     ]
    },
    {
     "name": "stdout",
     "output_type": "stream",
     "text": [
      "/home/lluis/histo_lung/data/Mask_PyHIST_v2/LungAOEC_List3/000035706800697696/tilecrossed_000035706800697696.png\n"
     ]
    },
    {
     "name": "stderr",
     "output_type": "stream",
     "text": [
      " 52%|█████▏    | 687/1318 [07:36<05:07,  2.05it/s]"
     ]
    },
    {
     "name": "stdout",
     "output_type": "stream",
     "text": [
      "/home/lluis/histo_lung/data/Mask_PyHIST_v2/LungAOEC_List3/000035232400649799/tilecrossed_000035232400649799.png\n"
     ]
    },
    {
     "name": "stderr",
     "output_type": "stream",
     "text": [
      " 52%|█████▏    | 688/1318 [07:38<07:12,  1.46it/s]"
     ]
    },
    {
     "name": "stdout",
     "output_type": "stream",
     "text": [
      "/home/lluis/histo_lung/data/Mask_PyHIST_v2/LungAOEC_List3/000036429900772921/tilecrossed_000036429900772921.png\n"
     ]
    },
    {
     "name": "stderr",
     "output_type": "stream",
     "text": [
      " 52%|█████▏    | 689/1318 [07:38<07:10,  1.46it/s]"
     ]
    },
    {
     "name": "stdout",
     "output_type": "stream",
     "text": [
      "/home/lluis/histo_lung/data/Mask_PyHIST_v2/LungAOEC_List3/000035765500702216/tilecrossed_000035765500702216.png\n"
     ]
    },
    {
     "name": "stderr",
     "output_type": "stream",
     "text": [
      " 52%|█████▏    | 690/1318 [07:39<08:08,  1.28it/s]"
     ]
    },
    {
     "name": "stdout",
     "output_type": "stream",
     "text": [
      "/home/lluis/histo_lung/data/Mask_PyHIST_v2/LungAOEC_List3/000035706800697717/tilecrossed_000035706800697717.png\n"
     ]
    },
    {
     "name": "stderr",
     "output_type": "stream",
     "text": [
      " 52%|█████▏    | 691/1318 [07:40<06:34,  1.59it/s]"
     ]
    },
    {
     "name": "stdout",
     "output_type": "stream",
     "text": [
      "/home/lluis/histo_lung/data/Mask_PyHIST_v2/LungAOEC_List3/000036429900770919/tilecrossed_000036429900770919.png\n"
     ]
    },
    {
     "name": "stderr",
     "output_type": "stream",
     "text": [
      " 53%|█████▎    | 693/1318 [07:41<06:55,  1.51it/s]"
     ]
    },
    {
     "name": "stdout",
     "output_type": "stream",
     "text": [
      "/home/lluis/histo_lung/data/Mask_PyHIST_v2/LungAOEC_List3/000035324000659402/tilecrossed_000035324000659402.png\n",
      "/home/lluis/histo_lung/data/Mask_PyHIST_v2/LungAOEC_List3/000035765500702226/tilecrossed_000035765500702226.png\n"
     ]
    },
    {
     "name": "stderr",
     "output_type": "stream",
     "text": [
      " 53%|█████▎    | 694/1318 [07:42<08:13,  1.27it/s]"
     ]
    },
    {
     "name": "stdout",
     "output_type": "stream",
     "text": [
      "/home/lluis/histo_lung/data/Mask_PyHIST_v2/LungAOEC_List3/000036214300757762/tilecrossed_000036214300757762.png\n"
     ]
    },
    {
     "name": "stderr",
     "output_type": "stream",
     "text": [
      " 53%|█████▎    | 695/1318 [07:43<07:48,  1.33it/s]"
     ]
    },
    {
     "name": "stdout",
     "output_type": "stream",
     "text": [
      "/home/lluis/histo_lung/data/Mask_PyHIST_v2/LungAOEC_List3/000036429900772922/tilecrossed_000036429900772922.png\n"
     ]
    },
    {
     "name": "stderr",
     "output_type": "stream",
     "text": [
      " 53%|█████▎    | 696/1318 [07:44<07:20,  1.41it/s]"
     ]
    },
    {
     "name": "stdout",
     "output_type": "stream",
     "text": [
      "/home/lluis/histo_lung/data/Mask_PyHIST_v2/LungAOEC_List3/000035511100679049/tilecrossed_000035511100679049.png\n"
     ]
    },
    {
     "name": "stderr",
     "output_type": "stream",
     "text": [
      " 53%|█████▎    | 697/1318 [07:44<07:42,  1.34it/s]"
     ]
    },
    {
     "name": "stdout",
     "output_type": "stream",
     "text": [
      "/home/lluis/histo_lung/data/Mask_PyHIST_v2/LungAOEC_List3/000035551900676147/tilecrossed_000035551900676147.png\n"
     ]
    },
    {
     "name": "stderr",
     "output_type": "stream",
     "text": [
      " 53%|█████▎    | 698/1318 [07:45<08:08,  1.27it/s]"
     ]
    },
    {
     "name": "stdout",
     "output_type": "stream",
     "text": [
      "/home/lluis/histo_lung/data/Mask_PyHIST_v2/LungAOEC_List3/000035551900676145/tilecrossed_000035551900676145.png\n"
     ]
    },
    {
     "name": "stderr",
     "output_type": "stream",
     "text": [
      " 53%|█████▎    | 699/1318 [07:46<08:37,  1.20it/s]"
     ]
    },
    {
     "name": "stdout",
     "output_type": "stream",
     "text": [
      "/home/lluis/histo_lung/data/Mask_PyHIST_v2/LungAOEC_List3/000035573600680030/tilecrossed_000035573600680030.png\n"
     ]
    },
    {
     "name": "stderr",
     "output_type": "stream",
     "text": [
      " 53%|█████▎    | 700/1318 [07:47<08:41,  1.18it/s]"
     ]
    },
    {
     "name": "stdout",
     "output_type": "stream",
     "text": [
      "/home/lluis/histo_lung/data/Mask_PyHIST_v2/LungAOEC_List3/000035726800691632/tilecrossed_000035726800691632.png\n"
     ]
    },
    {
     "name": "stderr",
     "output_type": "stream",
     "text": [
      " 53%|█████▎    | 701/1318 [07:48<08:40,  1.19it/s]"
     ]
    },
    {
     "name": "stdout",
     "output_type": "stream",
     "text": [
      "/home/lluis/histo_lung/data/Mask_PyHIST_v2/LungAOEC_List3/000035324000659400/tilecrossed_000035324000659400.png\n"
     ]
    },
    {
     "name": "stderr",
     "output_type": "stream",
     "text": [
      " 53%|█████▎    | 702/1318 [07:48<06:52,  1.49it/s]"
     ]
    },
    {
     "name": "stdout",
     "output_type": "stream",
     "text": [
      "/home/lluis/histo_lung/data/Mask_PyHIST_v2/LungAOEC_List3/000036407700772424/tilecrossed_000036407700772424.png\n"
     ]
    },
    {
     "name": "stderr",
     "output_type": "stream",
     "text": [
      " 53%|█████▎    | 703/1318 [07:49<07:22,  1.39it/s]"
     ]
    },
    {
     "name": "stdout",
     "output_type": "stream",
     "text": [
      "/home/lluis/histo_lung/data/Mask_PyHIST_v2/LungAOEC_List3/000036214500757879/tilecrossed_000036214500757879.png\n"
     ]
    },
    {
     "name": "stderr",
     "output_type": "stream",
     "text": [
      " 53%|█████▎    | 704/1318 [07:50<06:46,  1.51it/s]"
     ]
    },
    {
     "name": "stdout",
     "output_type": "stream",
     "text": [
      "/home/lluis/histo_lung/data/Mask_PyHIST_v2/LungAOEC_List3/000036323200765488/tilecrossed_000036323200765488.png\n"
     ]
    },
    {
     "name": "stderr",
     "output_type": "stream",
     "text": [
      " 53%|█████▎    | 705/1318 [07:50<07:10,  1.42it/s]"
     ]
    },
    {
     "name": "stdout",
     "output_type": "stream",
     "text": [
      "/home/lluis/histo_lung/data/Mask_PyHIST_v2/LungAOEC_List3/000035765500695488/tilecrossed_000035765500695488.png\n"
     ]
    },
    {
     "name": "stderr",
     "output_type": "stream",
     "text": [
      " 54%|█████▎    | 707/1318 [07:51<04:58,  2.05it/s]"
     ]
    },
    {
     "name": "stdout",
     "output_type": "stream",
     "text": [
      "/home/lluis/histo_lung/data/Mask_PyHIST_v2/LungAOEC_List3/000035324000659404/tilecrossed_000035324000659404.png\n",
      "/home/lluis/histo_lung/data/Mask_PyHIST_v2/LungAOEC_List3/000035324000656410/tilecrossed_000035324000656410.png\n"
     ]
    },
    {
     "name": "stderr",
     "output_type": "stream",
     "text": [
      " 54%|█████▍    | 709/1318 [07:51<03:14,  3.14it/s]"
     ]
    },
    {
     "name": "stdout",
     "output_type": "stream",
     "text": [
      "/home/lluis/histo_lung/data/Mask_PyHIST_v2/LungAOEC_List3/000035324000659398/tilecrossed_000035324000659398.png\n",
      "/home/lluis/histo_lung/data/Mask_PyHIST_v2/LungAOEC_List3/000035706800697694/tilecrossed_000035706800697694.png\n"
     ]
    },
    {
     "name": "stderr",
     "output_type": "stream",
     "text": [
      " 54%|█████▍    | 710/1318 [07:51<02:55,  3.47it/s]"
     ]
    },
    {
     "name": "stdout",
     "output_type": "stream",
     "text": [
      "/home/lluis/histo_lung/data/Mask_PyHIST_v2/LungAOEC_List3/000036434900773056/tilecrossed_000036434900773056.png\n"
     ]
    },
    {
     "name": "stderr",
     "output_type": "stream",
     "text": [
      " 54%|█████▍    | 711/1318 [07:52<03:20,  3.03it/s]"
     ]
    },
    {
     "name": "stdout",
     "output_type": "stream",
     "text": [
      "/home/lluis/histo_lung/data/Mask_PyHIST_v2/LungAOEC_List3/000036211600756590/tilecrossed_000036211600756590.png\n"
     ]
    },
    {
     "name": "stderr",
     "output_type": "stream",
     "text": [
      " 54%|█████▍    | 712/1318 [07:52<03:26,  2.93it/s]"
     ]
    },
    {
     "name": "stdout",
     "output_type": "stream",
     "text": [
      "/home/lluis/histo_lung/data/Mask_PyHIST_v2/LungAOEC_List3/000035232400647786/tilecrossed_000035232400647786.png\n"
     ]
    },
    {
     "name": "stderr",
     "output_type": "stream",
     "text": [
      " 54%|█████▍    | 713/1318 [07:53<04:35,  2.20it/s]"
     ]
    },
    {
     "name": "stdout",
     "output_type": "stream",
     "text": [
      "/home/lluis/histo_lung/data/Mask_PyHIST_v2/LungAOEC_List3/000035511100672259/tilecrossed_000035511100672259.png\n"
     ]
    },
    {
     "name": "stderr",
     "output_type": "stream",
     "text": [
      " 54%|█████▍    | 714/1318 [07:53<04:11,  2.40it/s]"
     ]
    },
    {
     "name": "stdout",
     "output_type": "stream",
     "text": [
      "/home/lluis/histo_lung/data/Mask_PyHIST_v2/LungAOEC_List3/000035605100689381/tilecrossed_000035605100689381.png\n"
     ]
    },
    {
     "name": "stderr",
     "output_type": "stream",
     "text": [
      " 54%|█████▍    | 715/1318 [07:54<05:13,  1.92it/s]"
     ]
    },
    {
     "name": "stdout",
     "output_type": "stream",
     "text": [
      "/home/lluis/histo_lung/data/Mask_PyHIST_v2/LungAOEC_List3/000035706800697698/tilecrossed_000035706800697698.png\n"
     ]
    },
    {
     "name": "stderr",
     "output_type": "stream",
     "text": [
      " 54%|█████▍    | 716/1318 [07:55<04:54,  2.04it/s]"
     ]
    },
    {
     "name": "stdout",
     "output_type": "stream",
     "text": [
      "/home/lluis/histo_lung/data/Mask_PyHIST_v2/LungAOEC_List3/000035511100679047/tilecrossed_000035511100679047.png\n"
     ]
    },
    {
     "name": "stderr",
     "output_type": "stream",
     "text": [
      " 54%|█████▍    | 717/1318 [07:55<05:49,  1.72it/s]"
     ]
    },
    {
     "name": "stdout",
     "output_type": "stream",
     "text": [
      "/home/lluis/histo_lung/data/Mask_PyHIST_v2/LungAOEC_List3/000036407700772425/tilecrossed_000036407700772425.png\n"
     ]
    },
    {
     "name": "stderr",
     "output_type": "stream",
     "text": [
      " 54%|█████▍    | 718/1318 [07:56<05:33,  1.80it/s]"
     ]
    },
    {
     "name": "stdout",
     "output_type": "stream",
     "text": [
      "/home/lluis/histo_lung/data/Mask_PyHIST_v2/LungAOEC_List3/000035706800697700/tilecrossed_000035706800697700.png\n"
     ]
    },
    {
     "name": "stderr",
     "output_type": "stream",
     "text": [
      " 55%|█████▍    | 719/1318 [07:56<04:52,  2.05it/s]"
     ]
    },
    {
     "name": "stdout",
     "output_type": "stream",
     "text": [
      "/home/lluis/histo_lung/data/Mask_PyHIST_v2/LungAOEC_List3/000035765500702230/tilecrossed_000035765500702230.png\n"
     ]
    },
    {
     "name": "stderr",
     "output_type": "stream",
     "text": [
      " 55%|█████▍    | 720/1318 [07:57<05:19,  1.87it/s]"
     ]
    },
    {
     "name": "stdout",
     "output_type": "stream",
     "text": [
      "/home/lluis/histo_lung/data/Mask_PyHIST_v2/LungAOEC_List3/000035765500702232/tilecrossed_000035765500702232.png\n"
     ]
    },
    {
     "name": "stderr",
     "output_type": "stream",
     "text": [
      " 55%|█████▍    | 721/1318 [07:57<05:43,  1.74it/s]"
     ]
    },
    {
     "name": "stdout",
     "output_type": "stream",
     "text": [
      "/home/lluis/histo_lung/data/Mask_PyHIST_v2/LungAOEC_List3/000035706800697702/tilecrossed_000035706800697702.png\n"
     ]
    },
    {
     "name": "stderr",
     "output_type": "stream",
     "text": [
      " 55%|█████▍    | 722/1318 [07:58<06:51,  1.45it/s]"
     ]
    },
    {
     "name": "stdout",
     "output_type": "stream",
     "text": [
      "/home/lluis/histo_lung/data/Mask_PyHIST_v2/LungAOEC_List3/000035324000659396/tilecrossed_000035324000659396.png\n"
     ]
    },
    {
     "name": "stderr",
     "output_type": "stream",
     "text": [
      " 55%|█████▍    | 723/1318 [07:59<05:24,  1.84it/s]"
     ]
    },
    {
     "name": "stdout",
     "output_type": "stream",
     "text": [
      "/home/lluis/histo_lung/data/Mask_PyHIST_v2/LungAOEC_List1/000031172000359336/tilecrossed_000031172000359336.png\n"
     ]
    },
    {
     "name": "stderr",
     "output_type": "stream",
     "text": [
      " 55%|█████▍    | 724/1318 [07:59<05:58,  1.66it/s]"
     ]
    },
    {
     "name": "stdout",
     "output_type": "stream",
     "text": [
      "/home/lluis/histo_lung/data/Mask_PyHIST_v2/LungAOEC_List1/000032301600414125/tilecrossed_000032301600414125.png\n"
     ]
    },
    {
     "name": "stderr",
     "output_type": "stream",
     "text": [
      " 55%|█████▌    | 725/1318 [08:00<05:22,  1.84it/s]"
     ]
    },
    {
     "name": "stdout",
     "output_type": "stream",
     "text": [
      "/home/lluis/histo_lung/data/Mask_PyHIST_v2/LungAOEC_List1/000030438500320103/tilecrossed_000030438500320103.png\n"
     ]
    },
    {
     "name": "stderr",
     "output_type": "stream",
     "text": [
      " 55%|█████▌    | 726/1318 [08:01<06:13,  1.59it/s]"
     ]
    },
    {
     "name": "stdout",
     "output_type": "stream",
     "text": [
      "/home/lluis/histo_lung/data/Mask_PyHIST_v2/LungAOEC_List1/000031340300367677/tilecrossed_000031340300367677.png\n"
     ]
    },
    {
     "name": "stderr",
     "output_type": "stream",
     "text": [
      " 55%|█████▌    | 727/1318 [08:02<07:20,  1.34it/s]"
     ]
    },
    {
     "name": "stdout",
     "output_type": "stream",
     "text": [
      "/home/lluis/histo_lung/data/Mask_PyHIST_v2/LungAOEC_List1/000030303300314209/tilecrossed_000030303300314209.png\n"
     ]
    },
    {
     "name": "stderr",
     "output_type": "stream",
     "text": [
      " 55%|█████▌    | 728/1318 [08:02<05:46,  1.70it/s]"
     ]
    },
    {
     "name": "stdout",
     "output_type": "stream",
     "text": [
      "/home/lluis/histo_lung/data/Mask_PyHIST_v2/LungAOEC_List1/000031913700394408/tilecrossed_000031913700394408.png\n"
     ]
    },
    {
     "name": "stderr",
     "output_type": "stream",
     "text": [
      " 55%|█████▌    | 729/1318 [08:03<06:47,  1.44it/s]"
     ]
    },
    {
     "name": "stdout",
     "output_type": "stream",
     "text": [
      "/home/lluis/histo_lung/data/Mask_PyHIST_v2/LungAOEC_List1/000031292100364431/tilecrossed_000031292100364431.png\n"
     ]
    },
    {
     "name": "stderr",
     "output_type": "stream",
     "text": [
      " 55%|█████▌    | 730/1318 [08:03<06:00,  1.63it/s]"
     ]
    },
    {
     "name": "stdout",
     "output_type": "stream",
     "text": [
      "/home/lluis/histo_lung/data/Mask_PyHIST_v2/LungAOEC_List1/000031962500399091/tilecrossed_000031962500399091.png\n"
     ]
    },
    {
     "name": "stderr",
     "output_type": "stream",
     "text": [
      " 55%|█████▌    | 731/1318 [08:04<06:10,  1.59it/s]"
     ]
    },
    {
     "name": "stdout",
     "output_type": "stream",
     "text": [
      "/home/lluis/histo_lung/data/Mask_PyHIST_v2/LungAOEC_List1/000035418500670513/tilecrossed_000035418500670513.png\n"
     ]
    },
    {
     "name": "stderr",
     "output_type": "stream",
     "text": [
      " 56%|█████▌    | 732/1318 [08:05<07:14,  1.35it/s]"
     ]
    },
    {
     "name": "stdout",
     "output_type": "stream",
     "text": [
      "/home/lluis/histo_lung/data/Mask_PyHIST_v2/LungAOEC_List1/000033629400505445/tilecrossed_000033629400505445.png\n"
     ]
    },
    {
     "name": "stderr",
     "output_type": "stream",
     "text": [
      " 56%|█████▌    | 733/1318 [08:06<07:19,  1.33it/s]"
     ]
    },
    {
     "name": "stdout",
     "output_type": "stream",
     "text": [
      "/home/lluis/histo_lung/data/Mask_PyHIST_v2/LungAOEC_List1/000035418500664290/tilecrossed_000035418500664290.png\n"
     ]
    },
    {
     "name": "stderr",
     "output_type": "stream",
     "text": [
      " 56%|█████▌    | 734/1318 [08:06<06:32,  1.49it/s]"
     ]
    },
    {
     "name": "stdout",
     "output_type": "stream",
     "text": [
      "/home/lluis/histo_lung/data/Mask_PyHIST_v2/LungAOEC_List1/000036434500773563/tilecrossed_000036434500773563.png\n"
     ]
    },
    {
     "name": "stderr",
     "output_type": "stream",
     "text": [
      " 56%|█████▌    | 735/1318 [08:07<07:21,  1.32it/s]"
     ]
    },
    {
     "name": "stdout",
     "output_type": "stream",
     "text": [
      "/home/lluis/histo_lung/data/Mask_PyHIST_v2/LungAOEC_List1/000033782700519217/tilecrossed_000033782700519217.png\n"
     ]
    },
    {
     "name": "stderr",
     "output_type": "stream",
     "text": [
      " 56%|█████▌    | 736/1318 [08:08<08:00,  1.21it/s]"
     ]
    },
    {
     "name": "stdout",
     "output_type": "stream",
     "text": [
      "/home/lluis/histo_lung/data/Mask_PyHIST_v2/LungAOEC_List1/000031542100377935/tilecrossed_000031542100377935.png\n"
     ]
    },
    {
     "name": "stderr",
     "output_type": "stream",
     "text": [
      " 56%|█████▌    | 737/1318 [08:09<09:42,  1.00s/it]"
     ]
    },
    {
     "name": "stdout",
     "output_type": "stream",
     "text": [
      "/home/lluis/histo_lung/data/Mask_PyHIST_v2/LungAOEC_List1/000031505500375294/tilecrossed_000031505500375294.png\n"
     ]
    },
    {
     "name": "stderr",
     "output_type": "stream",
     "text": [
      " 56%|█████▌    | 738/1318 [08:10<08:45,  1.10it/s]"
     ]
    },
    {
     "name": "stdout",
     "output_type": "stream",
     "text": [
      "/home/lluis/histo_lung/data/Mask_PyHIST_v2/LungAOEC_List1/000032368400420532/tilecrossed_000032368400420532.png\n"
     ]
    },
    {
     "name": "stderr",
     "output_type": "stream",
     "text": [
      " 56%|█████▌    | 739/1318 [08:11<08:42,  1.11it/s]"
     ]
    },
    {
     "name": "stdout",
     "output_type": "stream",
     "text": [
      "/home/lluis/histo_lung/data/Mask_PyHIST_v2/LungAOEC_List1/000032026400399851/tilecrossed_000032026400399851.png\n"
     ]
    },
    {
     "name": "stderr",
     "output_type": "stream",
     "text": [
      " 56%|█████▌    | 740/1318 [08:12<08:02,  1.20it/s]"
     ]
    },
    {
     "name": "stdout",
     "output_type": "stream",
     "text": [
      "/home/lluis/histo_lung/data/Mask_PyHIST_v2/LungAOEC_List1/000031839400392558/tilecrossed_000031839400392558.png\n"
     ]
    },
    {
     "name": "stderr",
     "output_type": "stream",
     "text": [
      " 56%|█████▌    | 741/1318 [08:12<07:02,  1.37it/s]"
     ]
    },
    {
     "name": "stdout",
     "output_type": "stream",
     "text": [
      "/home/lluis/histo_lung/data/Mask_PyHIST_v2/LungAOEC_List1/000031505500375292/tilecrossed_000031505500375292.png\n"
     ]
    },
    {
     "name": "stderr",
     "output_type": "stream",
     "text": [
      " 56%|█████▋    | 742/1318 [08:13<06:34,  1.46it/s]"
     ]
    },
    {
     "name": "stdout",
     "output_type": "stream",
     "text": [
      "/home/lluis/histo_lung/data/Mask_PyHIST_v2/LungAOEC_List1/000032368400420530/tilecrossed_000032368400420530.png\n"
     ]
    },
    {
     "name": "stderr",
     "output_type": "stream",
     "text": [
      " 56%|█████▋    | 743/1318 [08:14<07:12,  1.33it/s]"
     ]
    },
    {
     "name": "stdout",
     "output_type": "stream",
     "text": [
      "/home/lluis/histo_lung/data/Mask_PyHIST_v2/LungAOEC_List1/000030732500335034/tilecrossed_000030732500335034.png\n"
     ]
    },
    {
     "name": "stderr",
     "output_type": "stream",
     "text": [
      " 56%|█████▋    | 744/1318 [08:14<05:37,  1.70it/s]"
     ]
    },
    {
     "name": "stdout",
     "output_type": "stream",
     "text": [
      "/home/lluis/histo_lung/data/Mask_PyHIST_v2/LungAOEC_List1/000033782700519215/tilecrossed_000033782700519215.png\n"
     ]
    },
    {
     "name": "stderr",
     "output_type": "stream",
     "text": [
      " 57%|█████▋    | 745/1318 [08:15<06:55,  1.38it/s]"
     ]
    },
    {
     "name": "stdout",
     "output_type": "stream",
     "text": [
      "/home/lluis/histo_lung/data/Mask_PyHIST_v2/LungAOEC_List1/000031539500377278/tilecrossed_000031539500377278.png\n"
     ]
    },
    {
     "name": "stderr",
     "output_type": "stream",
     "text": [
      " 57%|█████▋    | 746/1318 [08:15<06:14,  1.53it/s]"
     ]
    },
    {
     "name": "stdout",
     "output_type": "stream",
     "text": [
      "/home/lluis/histo_lung/data/Mask_PyHIST_v2/LungAOEC_List1/000035418500670493/tilecrossed_000035418500670493.png\n"
     ]
    },
    {
     "name": "stderr",
     "output_type": "stream",
     "text": [
      " 57%|█████▋    | 747/1318 [08:16<06:12,  1.53it/s]"
     ]
    },
    {
     "name": "stdout",
     "output_type": "stream",
     "text": [
      "/home/lluis/histo_lung/data/Mask_PyHIST_v2/LungAOEC_List1/000030490000322447/tilecrossed_000030490000322447.png\n"
     ]
    },
    {
     "name": "stderr",
     "output_type": "stream",
     "text": [
      " 57%|█████▋    | 748/1318 [08:16<05:14,  1.81it/s]"
     ]
    },
    {
     "name": "stdout",
     "output_type": "stream",
     "text": [
      "/home/lluis/histo_lung/data/Mask_PyHIST_v2/LungAOEC_List1/000034458200578699/tilecrossed_000034458200578699.png\n"
     ]
    },
    {
     "name": "stderr",
     "output_type": "stream",
     "text": [
      " 57%|█████▋    | 749/1318 [08:17<06:41,  1.42it/s]"
     ]
    },
    {
     "name": "stdout",
     "output_type": "stream",
     "text": [
      "/home/lluis/histo_lung/data/Mask_PyHIST_v2/LungAOEC_List1/000032365400420389/tilecrossed_000032365400420389.png\n"
     ]
    },
    {
     "name": "stderr",
     "output_type": "stream",
     "text": [
      " 57%|█████▋    | 751/1318 [08:18<05:14,  1.80it/s]"
     ]
    },
    {
     "name": "stdout",
     "output_type": "stream",
     "text": [
      "/home/lluis/histo_lung/data/Mask_PyHIST_v2/LungAOEC_List1/000030508000324808/tilecrossed_000030508000324808.png\n",
      "/home/lluis/histo_lung/data/Mask_PyHIST_v2/LungAOEC_List1/000033646900506902/tilecrossed_000033646900506902.png\n"
     ]
    },
    {
     "name": "stderr",
     "output_type": "stream",
     "text": [
      " 57%|█████▋    | 752/1318 [08:19<05:47,  1.63it/s]"
     ]
    },
    {
     "name": "stdout",
     "output_type": "stream",
     "text": [
      "/home/lluis/histo_lung/data/Mask_PyHIST_v2/LungAOEC_List1/000030640600331515/tilecrossed_000030640600331515.png\n"
     ]
    },
    {
     "name": "stderr",
     "output_type": "stream",
     "text": [
      " 57%|█████▋    | 753/1318 [08:19<04:39,  2.02it/s]"
     ]
    },
    {
     "name": "stdout",
     "output_type": "stream",
     "text": [
      "/home/lluis/histo_lung/data/Mask_PyHIST_v2/LungAOEC_List1/000033377800482057/tilecrossed_000033377800482057.png\n"
     ]
    },
    {
     "name": "stderr",
     "output_type": "stream",
     "text": [
      " 57%|█████▋    | 754/1318 [08:20<03:50,  2.44it/s]"
     ]
    },
    {
     "name": "stdout",
     "output_type": "stream",
     "text": [
      "/home/lluis/histo_lung/data/Mask_PyHIST_v2/LungAOEC_List1/000030963300346648/tilecrossed_000030963300346648.png\n"
     ]
    },
    {
     "name": "stderr",
     "output_type": "stream",
     "text": [
      " 57%|█████▋    | 755/1318 [08:20<03:36,  2.60it/s]"
     ]
    },
    {
     "name": "stdout",
     "output_type": "stream",
     "text": [
      "/home/lluis/histo_lung/data/Mask_PyHIST_v2/LungAOEC_List1/000031340300367687/tilecrossed_000031340300367687.png\n"
     ]
    },
    {
     "name": "stderr",
     "output_type": "stream",
     "text": [
      " 57%|█████▋    | 756/1318 [08:21<05:34,  1.68it/s]"
     ]
    },
    {
     "name": "stdout",
     "output_type": "stream",
     "text": [
      "/home/lluis/histo_lung/data/Mask_PyHIST_v2/LungAOEC_List1/000030689500332895/tilecrossed_000030689500332895.png\n"
     ]
    },
    {
     "name": "stderr",
     "output_type": "stream",
     "text": [
      " 57%|█████▋    | 757/1318 [08:22<05:28,  1.71it/s]"
     ]
    },
    {
     "name": "stdout",
     "output_type": "stream",
     "text": [
      "/home/lluis/histo_lung/data/Mask_PyHIST_v2/LungAOEC_List1/000031548900378093/tilecrossed_000031548900378093.png\n"
     ]
    },
    {
     "name": "stderr",
     "output_type": "stream",
     "text": [
      " 58%|█████▊    | 758/1318 [08:22<04:30,  2.07it/s]"
     ]
    },
    {
     "name": "stdout",
     "output_type": "stream",
     "text": [
      "/home/lluis/histo_lung/data/Mask_PyHIST_v2/LungAOEC_List1/000031539500377448/tilecrossed_000031539500377448.png\n"
     ]
    },
    {
     "name": "stderr",
     "output_type": "stream",
     "text": [
      " 58%|█████▊    | 759/1318 [08:22<05:00,  1.86it/s]"
     ]
    },
    {
     "name": "stdout",
     "output_type": "stream",
     "text": [
      "/home/lluis/histo_lung/data/Mask_PyHIST_v2/LungAOEC_List1/000031106000354914/tilecrossed_000031106000354914.png\n"
     ]
    },
    {
     "name": "stderr",
     "output_type": "stream",
     "text": [
      " 58%|█████▊    | 760/1318 [08:24<06:50,  1.36it/s]"
     ]
    },
    {
     "name": "stdout",
     "output_type": "stream",
     "text": [
      "/home/lluis/histo_lung/data/Mask_PyHIST_v2/LungAOEC_List1/000034644700597065/tilecrossed_000034644700597065.png\n"
     ]
    },
    {
     "name": "stderr",
     "output_type": "stream",
     "text": [
      " 58%|█████▊    | 761/1318 [08:24<06:17,  1.47it/s]"
     ]
    },
    {
     "name": "stdout",
     "output_type": "stream",
     "text": [
      "/home/lluis/histo_lung/data/Mask_PyHIST_v2/LungAOEC_List1/000030689200333240/tilecrossed_000030689200333240.png\n"
     ]
    },
    {
     "name": "stderr",
     "output_type": "stream",
     "text": [
      " 58%|█████▊    | 762/1318 [08:24<04:59,  1.86it/s]"
     ]
    },
    {
     "name": "stdout",
     "output_type": "stream",
     "text": [
      "/home/lluis/histo_lung/data/Mask_PyHIST_v2/LungAOEC_List1/000034641300593451/tilecrossed_000034641300593451.png\n"
     ]
    },
    {
     "name": "stderr",
     "output_type": "stream",
     "text": [
      " 58%|█████▊    | 763/1318 [08:25<04:39,  1.99it/s]"
     ]
    },
    {
     "name": "stdout",
     "output_type": "stream",
     "text": [
      "/home/lluis/histo_lung/data/Mask_PyHIST_v2/LungAOEC_List1/000033646900506904/tilecrossed_000033646900506904.png\n"
     ]
    },
    {
     "name": "stderr",
     "output_type": "stream",
     "text": [
      " 58%|█████▊    | 764/1318 [08:26<05:40,  1.63it/s]"
     ]
    },
    {
     "name": "stdout",
     "output_type": "stream",
     "text": [
      "/home/lluis/histo_lung/data/Mask_PyHIST_v2/LungAOEC_List1/000031539500377447/tilecrossed_000031539500377447.png\n"
     ]
    },
    {
     "name": "stderr",
     "output_type": "stream",
     "text": [
      " 58%|█████▊    | 765/1318 [08:26<05:30,  1.67it/s]"
     ]
    },
    {
     "name": "stdout",
     "output_type": "stream",
     "text": [
      "/home/lluis/histo_lung/data/Mask_PyHIST_v2/LungAOEC_List1/000033990900529644/tilecrossed_000033990900529644.png\n"
     ]
    },
    {
     "name": "stderr",
     "output_type": "stream",
     "text": [
      " 58%|█████▊    | 766/1318 [08:27<05:38,  1.63it/s]"
     ]
    },
    {
     "name": "stdout",
     "output_type": "stream",
     "text": [
      "/home/lluis/histo_lung/data/Mask_PyHIST_v2/LungAOEC_List1/000030734200335038/tilecrossed_000030734200335038.png\n"
     ]
    },
    {
     "name": "stderr",
     "output_type": "stream",
     "text": [
      " 58%|█████▊    | 768/1318 [08:27<03:52,  2.37it/s]"
     ]
    },
    {
     "name": "stdout",
     "output_type": "stream",
     "text": [
      "/home/lluis/histo_lung/data/Mask_PyHIST_v2/LungAOEC_List1/000030487200323374/tilecrossed_000030487200323374.png\n",
      "/home/lluis/histo_lung/data/Mask_PyHIST_v2/LungAOEC_List1/000031888900393221/tilecrossed_000031888900393221.png\n"
     ]
    },
    {
     "name": "stderr",
     "output_type": "stream",
     "text": [
      " 58%|█████▊    | 769/1318 [08:28<04:01,  2.27it/s]"
     ]
    },
    {
     "name": "stdout",
     "output_type": "stream",
     "text": [
      "/home/lluis/histo_lung/data/Mask_PyHIST_v2/LungAOEC_List1/000030487200323369/tilecrossed_000030487200323369.png\n"
     ]
    },
    {
     "name": "stderr",
     "output_type": "stream",
     "text": [
      " 58%|█████▊    | 770/1318 [08:28<03:26,  2.66it/s]"
     ]
    },
    {
     "name": "stdout",
     "output_type": "stream",
     "text": [
      "/home/lluis/histo_lung/data/Mask_PyHIST_v2/LungAOEC_List1/000029496800270418/tilecrossed_000029496800270418.png\n",
      "/home/lluis/histo_lung/data/Mask_PyHIST_v2/LungAOEC_List1/000032209900409355/tilecrossed_000032209900409355.png\n"
     ]
    },
    {
     "name": "stderr",
     "output_type": "stream",
     "text": [
      " 59%|█████▊    | 772/1318 [08:29<03:13,  2.82it/s]"
     ]
    },
    {
     "name": "stdout",
     "output_type": "stream",
     "text": [
      "/home/lluis/histo_lung/data/Mask_PyHIST_v2/LungAOEC_List1/000032367300417340/tilecrossed_000032367300417340.png\n"
     ]
    },
    {
     "name": "stderr",
     "output_type": "stream",
     "text": [
      " 59%|█████▊    | 773/1318 [08:29<03:15,  2.79it/s]"
     ]
    },
    {
     "name": "stdout",
     "output_type": "stream",
     "text": [
      "/home/lluis/histo_lung/data/Mask_PyHIST_v2/LungAOEC_List1/000034261900559443/tilecrossed_000034261900559443.png\n"
     ]
    },
    {
     "name": "stderr",
     "output_type": "stream",
     "text": [
      " 59%|█████▊    | 774/1318 [08:29<02:53,  3.13it/s]"
     ]
    },
    {
     "name": "stdout",
     "output_type": "stream",
     "text": [
      "/home/lluis/histo_lung/data/Mask_PyHIST_v2/LungAOEC_List1/000031206300360817/tilecrossed_000031206300360817.png\n"
     ]
    },
    {
     "name": "stderr",
     "output_type": "stream",
     "text": [
      " 59%|█████▉    | 775/1318 [08:30<03:38,  2.48it/s]"
     ]
    },
    {
     "name": "stdout",
     "output_type": "stream",
     "text": [
      "/home/lluis/histo_lung/data/Mask_PyHIST_v2/LungAOEC_List1/000032365400420387/tilecrossed_000032365400420387.png\n"
     ]
    },
    {
     "name": "stderr",
     "output_type": "stream",
     "text": [
      " 59%|█████▉    | 776/1318 [08:31<04:46,  1.89it/s]"
     ]
    },
    {
     "name": "stdout",
     "output_type": "stream",
     "text": [
      "/home/lluis/histo_lung/data/Mask_PyHIST_v2/LungAOEC_List1/000032365400417201/tilecrossed_000032365400417201.png\n"
     ]
    },
    {
     "name": "stderr",
     "output_type": "stream",
     "text": [
      " 59%|█████▉    | 777/1318 [08:31<04:45,  1.90it/s]"
     ]
    },
    {
     "name": "stdout",
     "output_type": "stream",
     "text": [
      "/home/lluis/histo_lung/data/Mask_PyHIST_v2/LungAOEC_List1/000029488200270030/tilecrossed_000029488200270030.png\n"
     ]
    },
    {
     "name": "stderr",
     "output_type": "stream",
     "text": [
      " 59%|█████▉    | 778/1318 [08:32<04:03,  2.22it/s]"
     ]
    },
    {
     "name": "stdout",
     "output_type": "stream",
     "text": [
      "/home/lluis/histo_lung/data/Mask_PyHIST_v2/LungAOEC_List1/000030798000338238/tilecrossed_000030798000338238.png\n"
     ]
    },
    {
     "name": "stderr",
     "output_type": "stream",
     "text": [
      " 59%|█████▉    | 780/1318 [08:33<04:19,  2.07it/s]"
     ]
    },
    {
     "name": "stdout",
     "output_type": "stream",
     "text": [
      "/home/lluis/histo_lung/data/Mask_PyHIST_v2/LungAOEC_List1/000030303300314210/tilecrossed_000030303300314210.png\n",
      "/home/lluis/histo_lung/data/Mask_PyHIST_v2/LungAOEC_List1/000034259100558322/tilecrossed_000034259100558322.png\n"
     ]
    },
    {
     "name": "stderr",
     "output_type": "stream",
     "text": [
      " 59%|█████▉    | 781/1318 [08:34<05:58,  1.50it/s]"
     ]
    },
    {
     "name": "stdout",
     "output_type": "stream",
     "text": [
      "/home/lluis/histo_lung/data/Mask_PyHIST_v2/LungAOEC_List1/000032373100420775/tilecrossed_000032373100420775.png\n"
     ]
    },
    {
     "name": "stderr",
     "output_type": "stream",
     "text": [
      " 59%|█████▉    | 782/1318 [08:35<06:11,  1.44it/s]"
     ]
    },
    {
     "name": "stdout",
     "output_type": "stream",
     "text": [
      "/home/lluis/histo_lung/data/Mask_PyHIST_v2/LungAOEC_List1/000031505500375271/tilecrossed_000031505500375271.png\n"
     ]
    },
    {
     "name": "stderr",
     "output_type": "stream",
     "text": [
      " 59%|█████▉    | 783/1318 [08:35<06:17,  1.42it/s]"
     ]
    },
    {
     "name": "stdout",
     "output_type": "stream",
     "text": [
      "/home/lluis/histo_lung/data/Mask_PyHIST_v2/LungAOEC_List1/000030490100322319/tilecrossed_000030490100322319.png\n"
     ]
    },
    {
     "name": "stderr",
     "output_type": "stream",
     "text": [
      " 60%|█████▉    | 785/1318 [08:36<03:57,  2.25it/s]"
     ]
    },
    {
     "name": "stdout",
     "output_type": "stream",
     "text": [
      "/home/lluis/histo_lung/data/Mask_PyHIST_v2/LungAOEC_List1/000032835600440071/tilecrossed_000032835600440071.png\n",
      "/home/lluis/histo_lung/data/Mask_PyHIST_v2/LungAOEC_List1/000031226900361567/tilecrossed_000031226900361567.png\n"
     ]
    },
    {
     "name": "stderr",
     "output_type": "stream",
     "text": [
      " 60%|█████▉    | 786/1318 [08:36<04:01,  2.20it/s]"
     ]
    },
    {
     "name": "stdout",
     "output_type": "stream",
     "text": [
      "/home/lluis/histo_lung/data/Mask_PyHIST_v2/LungAOEC_List1/000030717900334729/tilecrossed_000030717900334729.png\n"
     ]
    },
    {
     "name": "stderr",
     "output_type": "stream",
     "text": [
      " 60%|█████▉    | 788/1318 [08:37<03:10,  2.78it/s]"
     ]
    },
    {
     "name": "stdout",
     "output_type": "stream",
     "text": [
      "/home/lluis/histo_lung/data/Mask_PyHIST_v2/LungAOEC_List1/000031292100364438/tilecrossed_000031292100364438.png\n",
      "/home/lluis/histo_lung/data/Mask_PyHIST_v2/LungAOEC_List1/000030508000324798/tilecrossed_000030508000324798.png\n"
     ]
    },
    {
     "name": "stderr",
     "output_type": "stream",
     "text": [
      " 60%|█████▉    | 789/1318 [08:37<02:46,  3.19it/s]"
     ]
    },
    {
     "name": "stdout",
     "output_type": "stream",
     "text": [
      "/home/lluis/histo_lung/data/Mask_PyHIST_v2/LungAOEC_List1/000030786300337665/tilecrossed_000030786300337665.png\n"
     ]
    },
    {
     "name": "stderr",
     "output_type": "stream",
     "text": [
      " 60%|██████    | 791/1318 [08:38<02:21,  3.72it/s]"
     ]
    },
    {
     "name": "stdout",
     "output_type": "stream",
     "text": [
      "/home/lluis/histo_lung/data/Mask_PyHIST_v2/LungAOEC_List1/000030689200333241/tilecrossed_000030689200333241.png\n",
      "/home/lluis/histo_lung/data/Mask_PyHIST_v2/LungAOEC_List1/000031206300360815/tilecrossed_000031206300360815.png\n"
     ]
    },
    {
     "name": "stderr",
     "output_type": "stream",
     "text": [
      " 60%|██████    | 792/1318 [08:38<03:18,  2.65it/s]"
     ]
    },
    {
     "name": "stdout",
     "output_type": "stream",
     "text": [
      "/home/lluis/histo_lung/data/Mask_PyHIST_v2/LungAOEC_List1/000030412700319322/tilecrossed_000030412700319322.png\n"
     ]
    },
    {
     "name": "stderr",
     "output_type": "stream",
     "text": [
      " 60%|██████    | 793/1318 [08:39<04:49,  1.82it/s]"
     ]
    },
    {
     "name": "stdout",
     "output_type": "stream",
     "text": [
      "/home/lluis/histo_lung/data/Mask_PyHIST_v2/LungAOEC_List1/000034644700597067/tilecrossed_000034644700597067.png\n"
     ]
    },
    {
     "name": "stderr",
     "output_type": "stream",
     "text": [
      " 60%|██████    | 794/1318 [08:40<04:45,  1.84it/s]"
     ]
    },
    {
     "name": "stdout",
     "output_type": "stream",
     "text": [
      "/home/lluis/histo_lung/data/Mask_PyHIST_v2/LungAOEC_List1/000032098600405771/tilecrossed_000032098600405771.png\n"
     ]
    },
    {
     "name": "stderr",
     "output_type": "stream",
     "text": [
      " 60%|██████    | 795/1318 [08:40<05:14,  1.66it/s]"
     ]
    },
    {
     "name": "stdout",
     "output_type": "stream",
     "text": [
      "/home/lluis/histo_lung/data/Mask_PyHIST_v2/LungAOEC_List1/000032373100420766/tilecrossed_000032373100420766.png\n"
     ]
    },
    {
     "name": "stderr",
     "output_type": "stream",
     "text": [
      " 60%|██████    | 796/1318 [08:41<05:23,  1.62it/s]"
     ]
    },
    {
     "name": "stdout",
     "output_type": "stream",
     "text": [
      "/home/lluis/histo_lung/data/Mask_PyHIST_v2/LungAOEC_List1/000035702200697040/tilecrossed_000035702200697040.png\n"
     ]
    },
    {
     "name": "stderr",
     "output_type": "stream",
     "text": [
      " 60%|██████    | 797/1318 [08:42<06:23,  1.36it/s]"
     ]
    },
    {
     "name": "stdout",
     "output_type": "stream",
     "text": [
      "/home/lluis/histo_lung/data/Mask_PyHIST_v2/LungAOEC_List1/000031860700393705/tilecrossed_000031860700393705.png\n"
     ]
    },
    {
     "name": "stderr",
     "output_type": "stream",
     "text": [
      " 61%|██████    | 798/1318 [08:43<06:12,  1.40it/s]"
     ]
    },
    {
     "name": "stdout",
     "output_type": "stream",
     "text": [
      "/home/lluis/histo_lung/data/Mask_PyHIST_v2/LungAOEC_List1/000030075400300796/tilecrossed_000030075400300796.png\n",
      "/home/lluis/histo_lung/data/Mask_PyHIST_v2/LungAOEC_List1/000034819700614021/tilecrossed_000034819700614021.png\n"
     ]
    },
    {
     "name": "stderr",
     "output_type": "stream",
     "text": [
      " 61%|██████    | 800/1318 [08:44<05:37,  1.54it/s]"
     ]
    },
    {
     "name": "stdout",
     "output_type": "stream",
     "text": [
      "/home/lluis/histo_lung/data/Mask_PyHIST_v2/LungAOEC_List1/000031779500387879/tilecrossed_000031779500387879.png\n"
     ]
    },
    {
     "name": "stderr",
     "output_type": "stream",
     "text": [
      " 61%|██████    | 801/1318 [08:45<06:13,  1.38it/s]"
     ]
    },
    {
     "name": "stdout",
     "output_type": "stream",
     "text": [
      "/home/lluis/histo_lung/data/Mask_PyHIST_v2/LungAOEC_List1/000031860700393702/tilecrossed_000031860700393702.png\n"
     ]
    },
    {
     "name": "stderr",
     "output_type": "stream",
     "text": [
      " 61%|██████    | 802/1318 [08:46<06:16,  1.37it/s]"
     ]
    },
    {
     "name": "stdout",
     "output_type": "stream",
     "text": [
      "/home/lluis/histo_lung/data/Mask_PyHIST_v2/LungAOEC_List1/000033629400505433/tilecrossed_000033629400505433.png\n"
     ]
    },
    {
     "name": "stderr",
     "output_type": "stream",
     "text": [
      " 61%|██████    | 803/1318 [08:46<05:04,  1.69it/s]"
     ]
    },
    {
     "name": "stdout",
     "output_type": "stream",
     "text": [
      "/home/lluis/histo_lung/data/Mask_PyHIST_v2/LungAOEC_List1/000032104600406370/tilecrossed_000032104600406370.png\n"
     ]
    },
    {
     "name": "stderr",
     "output_type": "stream",
     "text": [
      " 61%|██████    | 804/1318 [08:47<05:51,  1.46it/s]"
     ]
    },
    {
     "name": "stdout",
     "output_type": "stream",
     "text": [
      "/home/lluis/histo_lung/data/Mask_PyHIST_v2/LungAOEC_List1/000030438500320111/tilecrossed_000030438500320111.png\n"
     ]
    },
    {
     "name": "stderr",
     "output_type": "stream",
     "text": [
      " 61%|██████    | 805/1318 [08:48<07:53,  1.08it/s]"
     ]
    },
    {
     "name": "stdout",
     "output_type": "stream",
     "text": [
      "/home/lluis/histo_lung/data/Mask_PyHIST_v2/LungAOEC_List1/000032031400402946/tilecrossed_000032031400402946.png\n"
     ]
    },
    {
     "name": "stderr",
     "output_type": "stream",
     "text": [
      " 61%|██████    | 806/1318 [08:49<07:09,  1.19it/s]"
     ]
    },
    {
     "name": "stdout",
     "output_type": "stream",
     "text": [
      "/home/lluis/histo_lung/data/Mask_PyHIST_v2/LungAOEC_List1/000034458200578697/tilecrossed_000034458200578697.png\n"
     ]
    },
    {
     "name": "stderr",
     "output_type": "stream",
     "text": [
      " 61%|██████    | 807/1318 [08:50<07:39,  1.11it/s]"
     ]
    },
    {
     "name": "stdout",
     "output_type": "stream",
     "text": [
      "/home/lluis/histo_lung/data/Mask_PyHIST_v2/LungAOEC_List1/000036131400747838/tilecrossed_000036131400747838.png\n"
     ]
    },
    {
     "name": "stderr",
     "output_type": "stream",
     "text": [
      " 61%|██████▏   | 808/1318 [08:51<07:14,  1.17it/s]"
     ]
    },
    {
     "name": "stdout",
     "output_type": "stream",
     "text": [
      "/home/lluis/histo_lung/data/Mask_PyHIST_v2/LungAOEC_List1/000031539500380326/tilecrossed_000031539500380326.png\n"
     ]
    },
    {
     "name": "stderr",
     "output_type": "stream",
     "text": [
      " 61%|██████▏   | 809/1318 [08:51<05:35,  1.52it/s]"
     ]
    },
    {
     "name": "stdout",
     "output_type": "stream",
     "text": [
      "/home/lluis/histo_lung/data/Mask_PyHIST_v2/LungAOEC_List1/000032482000424760/tilecrossed_000032482000424760.png\n"
     ]
    },
    {
     "name": "stderr",
     "output_type": "stream",
     "text": [
      " 61%|██████▏   | 810/1318 [08:52<05:31,  1.53it/s]"
     ]
    },
    {
     "name": "stdout",
     "output_type": "stream",
     "text": [
      "/home/lluis/histo_lung/data/Mask_PyHIST_v2/LungAOEC_List1/000035702200697030/tilecrossed_000035702200697030.png\n"
     ]
    },
    {
     "name": "stderr",
     "output_type": "stream",
     "text": [
      " 62%|██████▏   | 811/1318 [08:52<04:44,  1.78it/s]"
     ]
    },
    {
     "name": "stdout",
     "output_type": "stream",
     "text": [
      "/home/lluis/histo_lung/data/Mask_PyHIST_v2/LungAOEC_List1/000029389200263815/tilecrossed_000029389200263815.png\n"
     ]
    },
    {
     "name": "stderr",
     "output_type": "stream",
     "text": [
      " 62%|██████▏   | 812/1318 [08:52<04:04,  2.07it/s]"
     ]
    },
    {
     "name": "stdout",
     "output_type": "stream",
     "text": [
      "/home/lluis/histo_lung/data/Mask_PyHIST_v2/LungAOEC_List1/000034458200578705/tilecrossed_000034458200578705.png\n"
     ]
    },
    {
     "name": "stderr",
     "output_type": "stream",
     "text": [
      " 62%|██████▏   | 813/1318 [08:53<04:31,  1.86it/s]"
     ]
    },
    {
     "name": "stdout",
     "output_type": "stream",
     "text": [
      "/home/lluis/histo_lung/data/Mask_PyHIST_v2/LungAOEC_List1/000030963300346651/tilecrossed_000030963300346651.png\n"
     ]
    },
    {
     "name": "stderr",
     "output_type": "stream",
     "text": [
      " 62%|██████▏   | 814/1318 [08:54<06:12,  1.35it/s]"
     ]
    },
    {
     "name": "stdout",
     "output_type": "stream",
     "text": [
      "/home/lluis/histo_lung/data/Mask_PyHIST_v2/LungAOEC_List1/000031913700394407/tilecrossed_000031913700394407.png\n"
     ]
    },
    {
     "name": "stderr",
     "output_type": "stream",
     "text": [
      " 62%|██████▏   | 815/1318 [08:55<05:58,  1.40it/s]"
     ]
    },
    {
     "name": "stdout",
     "output_type": "stream",
     "text": [
      "/home/lluis/histo_lung/data/Mask_PyHIST_v2/LungAOEC_List1/000030069800299917/tilecrossed_000030069800299917.png\n",
      "/home/lluis/histo_lung/data/Mask_PyHIST_v2/LungAOEC_List1/000036131400747862/tilecrossed_000036131400747862.png\n"
     ]
    },
    {
     "name": "stderr",
     "output_type": "stream",
     "text": [
      " 62%|██████▏   | 817/1318 [08:55<03:56,  2.12it/s]"
     ]
    },
    {
     "name": "stdout",
     "output_type": "stream",
     "text": [
      "/home/lluis/histo_lung/data/Mask_PyHIST_v2/LungAOEC_List1/000032347800419870/tilecrossed_000032347800419870.png\n"
     ]
    },
    {
     "name": "stderr",
     "output_type": "stream",
     "text": [
      " 62%|██████▏   | 818/1318 [08:56<04:38,  1.80it/s]"
     ]
    },
    {
     "name": "stdout",
     "output_type": "stream",
     "text": [
      "/home/lluis/histo_lung/data/Mask_PyHIST_v2/LungAOEC_List1/000031246500361725/tilecrossed_000031246500361725.png\n"
     ]
    },
    {
     "name": "stderr",
     "output_type": "stream",
     "text": [
      " 62%|██████▏   | 819/1318 [08:56<04:11,  1.98it/s]"
     ]
    },
    {
     "name": "stdout",
     "output_type": "stream",
     "text": [
      "/home/lluis/histo_lung/data/Mask_PyHIST_v2/LungAOEC_List1/000030487200323372/tilecrossed_000030487200323372.png\n"
     ]
    },
    {
     "name": "stderr",
     "output_type": "stream",
     "text": [
      " 62%|██████▏   | 820/1318 [08:57<03:43,  2.23it/s]"
     ]
    },
    {
     "name": "stdout",
     "output_type": "stream",
     "text": [
      "/home/lluis/histo_lung/data/Mask_PyHIST_v2/LungAOEC_List1/000034238100555881/tilecrossed_000034238100555881.png\n"
     ]
    },
    {
     "name": "stderr",
     "output_type": "stream",
     "text": [
      " 62%|██████▏   | 821/1318 [08:57<03:49,  2.17it/s]"
     ]
    },
    {
     "name": "stdout",
     "output_type": "stream",
     "text": [
      "/home/lluis/histo_lung/data/Mask_PyHIST_v2/LungAOEC_List1/000031839400390952/tilecrossed_000031839400390952.png\n"
     ]
    },
    {
     "name": "stderr",
     "output_type": "stream",
     "text": [
      " 62%|██████▏   | 822/1318 [08:58<04:20,  1.91it/s]"
     ]
    },
    {
     "name": "stdout",
     "output_type": "stream",
     "text": [
      "/home/lluis/histo_lung/data/Mask_PyHIST_v2/LungAOEC_List1/000029496800270416/tilecrossed_000029496800270416.png\n"
     ]
    },
    {
     "name": "stderr",
     "output_type": "stream",
     "text": [
      " 62%|██████▏   | 823/1318 [08:58<03:35,  2.30it/s]"
     ]
    },
    {
     "name": "stdout",
     "output_type": "stream",
     "text": [
      "/home/lluis/histo_lung/data/Mask_PyHIST_v2/LungAOEC_List1/000031866600392265/tilecrossed_000031866600392265.png\n"
     ]
    },
    {
     "name": "stderr",
     "output_type": "stream",
     "text": [
      " 63%|██████▎   | 825/1318 [08:59<03:06,  2.65it/s]"
     ]
    },
    {
     "name": "stdout",
     "output_type": "stream",
     "text": [
      "/home/lluis/histo_lung/data/Mask_PyHIST_v2/LungAOEC_List1/000033477900494769/tilecrossed_000033477900494769.png\n",
      "/home/lluis/histo_lung/data/Mask_PyHIST_v2/LungAOEC_List1/000033415400487550/tilecrossed_000033415400487550.png\n"
     ]
    },
    {
     "name": "stderr",
     "output_type": "stream",
     "text": [
      " 63%|██████▎   | 826/1318 [08:59<02:41,  3.04it/s]"
     ]
    },
    {
     "name": "stdout",
     "output_type": "stream",
     "text": [
      "/home/lluis/histo_lung/data/Mask_PyHIST_v2/LungAOEC_List1/000033415400487548/tilecrossed_000033415400487548.png\n"
     ]
    },
    {
     "name": "stderr",
     "output_type": "stream",
     "text": [
      " 63%|██████▎   | 827/1318 [08:59<02:25,  3.37it/s]"
     ]
    },
    {
     "name": "stdout",
     "output_type": "stream",
     "text": [
      "/home/lluis/histo_lung/data/Mask_PyHIST_v2/LungAOEC_List1/000036434500773561/tilecrossed_000036434500773561.png\n"
     ]
    },
    {
     "name": "stderr",
     "output_type": "stream",
     "text": [
      " 63%|██████▎   | 829/1318 [09:01<04:34,  1.78it/s]"
     ]
    },
    {
     "name": "stdout",
     "output_type": "stream",
     "text": [
      "/home/lluis/histo_lung/data/Mask_PyHIST_v2/LungAOEC_List1/000030507100323487/tilecrossed_000030507100323487.png\n",
      "/home/lluis/histo_lung/data/Mask_PyHIST_v2/LungAOEC_List1/000034641300596774/tilecrossed_000034641300596774.png\n"
     ]
    },
    {
     "name": "stderr",
     "output_type": "stream",
     "text": [
      " 63%|██████▎   | 830/1318 [09:02<05:40,  1.43it/s]"
     ]
    },
    {
     "name": "stdout",
     "output_type": "stream",
     "text": [
      "/home/lluis/histo_lung/data/Mask_PyHIST_v2/LungAOEC_List1/000033477400494763/tilecrossed_000033477400494763.png\n"
     ]
    },
    {
     "name": "stderr",
     "output_type": "stream",
     "text": [
      " 63%|██████▎   | 831/1318 [09:02<04:30,  1.80it/s]"
     ]
    },
    {
     "name": "stdout",
     "output_type": "stream",
     "text": [
      "/home/lluis/histo_lung/data/Mask_PyHIST_v2/LungAOEC_List1/000034812300609243/tilecrossed_000034812300609243.png\n"
     ]
    },
    {
     "name": "stderr",
     "output_type": "stream",
     "text": [
      " 63%|██████▎   | 832/1318 [09:02<03:39,  2.21it/s]"
     ]
    },
    {
     "name": "stdout",
     "output_type": "stream",
     "text": [
      "/home/lluis/histo_lung/data/Mask_PyHIST_v2/LungAOEC_List1/000032365400420392/tilecrossed_000032365400420392.png\n"
     ]
    },
    {
     "name": "stderr",
     "output_type": "stream",
     "text": [
      " 63%|██████▎   | 833/1318 [09:03<04:13,  1.91it/s]"
     ]
    },
    {
     "name": "stdout",
     "output_type": "stream",
     "text": [
      "/home/lluis/histo_lung/data/Mask_PyHIST_v2/LungAOEC_List1/000031799100390256/tilecrossed_000031799100390256.png\n"
     ]
    },
    {
     "name": "stderr",
     "output_type": "stream",
     "text": [
      " 63%|██████▎   | 834/1318 [09:04<04:59,  1.61it/s]"
     ]
    },
    {
     "name": "stdout",
     "output_type": "stream",
     "text": [
      "/home/lluis/histo_lung/data/Mask_PyHIST_v2/LungAOEC_List1/000035865700716622/tilecrossed_000035865700716622.png\n"
     ]
    },
    {
     "name": "stderr",
     "output_type": "stream",
     "text": [
      " 63%|██████▎   | 835/1318 [09:05<04:56,  1.63it/s]"
     ]
    },
    {
     "name": "stdout",
     "output_type": "stream",
     "text": [
      "/home/lluis/histo_lung/data/Mask_PyHIST_v2/LungAOEC_List1/000031292100364440/tilecrossed_000031292100364440.png\n"
     ]
    },
    {
     "name": "stderr",
     "output_type": "stream",
     "text": [
      " 63%|██████▎   | 836/1318 [09:06<05:34,  1.44it/s]"
     ]
    },
    {
     "name": "stdout",
     "output_type": "stream",
     "text": [
      "/home/lluis/histo_lung/data/Mask_PyHIST_v2/LungAOEC_List1/000032301600413396/tilecrossed_000032301600413396.png\n"
     ]
    },
    {
     "name": "stderr",
     "output_type": "stream",
     "text": [
      " 64%|██████▎   | 837/1318 [09:06<05:59,  1.34it/s]"
     ]
    },
    {
     "name": "stdout",
     "output_type": "stream",
     "text": [
      "/home/lluis/histo_lung/data/Mask_PyHIST_v2/LungAOEC_List1/000029496800270409/tilecrossed_000029496800270409.png\n"
     ]
    },
    {
     "name": "stderr",
     "output_type": "stream",
     "text": [
      " 64%|██████▎   | 838/1318 [09:07<04:47,  1.67it/s]"
     ]
    },
    {
     "name": "stdout",
     "output_type": "stream",
     "text": [
      "/home/lluis/histo_lung/data/Mask_PyHIST_v2/LungAOEC_List1/000033807100521353/tilecrossed_000033807100521353.png\n"
     ]
    },
    {
     "name": "stderr",
     "output_type": "stream",
     "text": [
      " 64%|██████▎   | 839/1318 [09:07<04:58,  1.60it/s]"
     ]
    },
    {
     "name": "stdout",
     "output_type": "stream",
     "text": [
      "/home/lluis/histo_lung/data/Mask_PyHIST_v2/LungAOEC_List1/000029496800270412/tilecrossed_000029496800270412.png\n"
     ]
    },
    {
     "name": "stderr",
     "output_type": "stream",
     "text": [
      " 64%|██████▎   | 840/1318 [09:08<04:01,  1.98it/s]"
     ]
    },
    {
     "name": "stdout",
     "output_type": "stream",
     "text": [
      "/home/lluis/histo_lung/data/Mask_PyHIST_v2/LungAOEC_List1/000030508000324790/tilecrossed_000030508000324790.png\n"
     ]
    },
    {
     "name": "stderr",
     "output_type": "stream",
     "text": [
      " 64%|██████▍   | 842/1318 [09:08<02:52,  2.76it/s]"
     ]
    },
    {
     "name": "stdout",
     "output_type": "stream",
     "text": [
      "/home/lluis/histo_lung/data/Mask_PyHIST_v2/LungAOEC_List1/000030438500320109/tilecrossed_000030438500320109.png\n",
      "/home/lluis/histo_lung/data/Mask_PyHIST_v2/LungAOEC_List1/000031802200391071/tilecrossed_000031802200391071.png\n"
     ]
    },
    {
     "name": "stderr",
     "output_type": "stream",
     "text": [
      " 64%|██████▍   | 844/1318 [09:09<03:17,  2.40it/s]"
     ]
    },
    {
     "name": "stdout",
     "output_type": "stream",
     "text": [
      "/home/lluis/histo_lung/data/Mask_PyHIST_v2/LungAOEC_List1/000033377800482045/tilecrossed_000033377800482045.png\n",
      "/home/lluis/histo_lung/data/Mask_PyHIST_v2/LungAOEC_List1/000030907600344595/tilecrossed_000030907600344595.png\n"
     ]
    },
    {
     "name": "stderr",
     "output_type": "stream",
     "text": [
      " 64%|██████▍   | 846/1318 [09:10<03:36,  2.18it/s]"
     ]
    },
    {
     "name": "stdout",
     "output_type": "stream",
     "text": [
      "/home/lluis/histo_lung/data/Mask_PyHIST_v2/LungAOEC_List1/000030734600335053/tilecrossed_000030734600335053.png\n",
      "/home/lluis/histo_lung/data/Mask_PyHIST_v2/LungAOEC_List1/000032005900401453/tilecrossed_000032005900401453.png\n"
     ]
    },
    {
     "name": "stderr",
     "output_type": "stream",
     "text": [
      " 64%|██████▍   | 847/1318 [09:11<03:22,  2.32it/s]"
     ]
    },
    {
     "name": "stdout",
     "output_type": "stream",
     "text": [
      "/home/lluis/histo_lung/data/Mask_PyHIST_v2/LungAOEC_List1/000034819700614035/tilecrossed_000034819700614035.png\n"
     ]
    },
    {
     "name": "stderr",
     "output_type": "stream",
     "text": [
      " 64%|██████▍   | 848/1318 [09:11<03:59,  1.97it/s]"
     ]
    },
    {
     "name": "stdout",
     "output_type": "stream",
     "text": [
      "/home/lluis/histo_lung/data/Mask_PyHIST_v2/LungAOEC_List1/000036131400747886/tilecrossed_000036131400747886.png\n"
     ]
    },
    {
     "name": "stderr",
     "output_type": "stream",
     "text": [
      " 64%|██████▍   | 849/1318 [09:12<03:41,  2.12it/s]"
     ]
    },
    {
     "name": "stdout",
     "output_type": "stream",
     "text": [
      "/home/lluis/histo_lung/data/Mask_PyHIST_v2/LungAOEC_List1/000031725000384434/tilecrossed_000031725000384434.png\n"
     ]
    },
    {
     "name": "stderr",
     "output_type": "stream",
     "text": [
      " 64%|██████▍   | 850/1318 [09:12<03:07,  2.50it/s]"
     ]
    },
    {
     "name": "stdout",
     "output_type": "stream",
     "text": [
      "/home/lluis/histo_lung/data/Mask_PyHIST_v2/LungAOEC_List1/000033377800482061/tilecrossed_000033377800482061.png\n"
     ]
    },
    {
     "name": "stderr",
     "output_type": "stream",
     "text": [
      " 65%|██████▍   | 851/1318 [09:12<02:46,  2.80it/s]"
     ]
    },
    {
     "name": "stdout",
     "output_type": "stream",
     "text": [
      "/home/lluis/histo_lung/data/Mask_PyHIST_v2/LungAOEC_List1/000031183700359386/tilecrossed_000031183700359386.png\n"
     ]
    },
    {
     "name": "stderr",
     "output_type": "stream",
     "text": [
      " 65%|██████▍   | 852/1318 [09:13<04:03,  1.91it/s]"
     ]
    },
    {
     "name": "stdout",
     "output_type": "stream",
     "text": [
      "/home/lluis/histo_lung/data/Mask_PyHIST_v2/LungAOEC_List1/000031891500397272/tilecrossed_000031891500397272.png\n"
     ]
    },
    {
     "name": "stderr",
     "output_type": "stream",
     "text": [
      " 65%|██████▍   | 853/1318 [09:14<05:07,  1.51it/s]"
     ]
    },
    {
     "name": "stdout",
     "output_type": "stream",
     "text": [
      "/home/lluis/histo_lung/data/Mask_PyHIST_v2/LungAOEC_List1/000031913700397359/tilecrossed_000031913700397359.png\n"
     ]
    },
    {
     "name": "stderr",
     "output_type": "stream",
     "text": [
      " 65%|██████▍   | 854/1318 [09:15<06:18,  1.23it/s]"
     ]
    },
    {
     "name": "stdout",
     "output_type": "stream",
     "text": [
      "/home/lluis/histo_lung/data/Mask_PyHIST_v2/LungAOEC_List1/000031206300360813/tilecrossed_000031206300360813.png\n"
     ]
    },
    {
     "name": "stderr",
     "output_type": "stream",
     "text": [
      " 65%|██████▍   | 855/1318 [09:16<06:50,  1.13it/s]"
     ]
    },
    {
     "name": "stdout",
     "output_type": "stream",
     "text": [
      "/home/lluis/histo_lung/data/Mask_PyHIST_v2/LungAOEC_List1/000032365400417200/tilecrossed_000032365400417200.png\n"
     ]
    },
    {
     "name": "stderr",
     "output_type": "stream",
     "text": [
      " 65%|██████▍   | 856/1318 [09:17<05:40,  1.36it/s]"
     ]
    },
    {
     "name": "stdout",
     "output_type": "stream",
     "text": [
      "/home/lluis/histo_lung/data/Mask_PyHIST_v2/LungAOEC_List1/000031891500393317/tilecrossed_000031891500393317.png\n"
     ]
    },
    {
     "name": "stderr",
     "output_type": "stream",
     "text": [
      " 65%|██████▌   | 857/1318 [09:17<04:50,  1.59it/s]"
     ]
    },
    {
     "name": "stdout",
     "output_type": "stream",
     "text": [
      "/home/lluis/histo_lung/data/Mask_PyHIST_v2/LungAOEC_List1/000034259100558314/tilecrossed_000034259100558314.png\n"
     ]
    },
    {
     "name": "stderr",
     "output_type": "stream",
     "text": [
      " 65%|██████▌   | 858/1318 [09:18<05:28,  1.40it/s]"
     ]
    },
    {
     "name": "stdout",
     "output_type": "stream",
     "text": [
      "/home/lluis/histo_lung/data/Mask_PyHIST_v2/LungAOEC_List1/000034043200533631/tilecrossed_000034043200533631.png\n"
     ]
    },
    {
     "name": "stderr",
     "output_type": "stream",
     "text": [
      " 65%|██████▌   | 859/1318 [09:19<05:23,  1.42it/s]"
     ]
    },
    {
     "name": "stdout",
     "output_type": "stream",
     "text": [
      "/home/lluis/histo_lung/data/Mask_PyHIST_v2/LungAOEC_List1/000030490100322318/tilecrossed_000030490100322318.png\n"
     ]
    },
    {
     "name": "stderr",
     "output_type": "stream",
     "text": [
      " 65%|██████▌   | 860/1318 [09:19<04:14,  1.80it/s]"
     ]
    },
    {
     "name": "stdout",
     "output_type": "stream",
     "text": [
      "/home/lluis/histo_lung/data/Mask_PyHIST_v2/LungAOEC_List1/000032347800416312/tilecrossed_000032347800416312.png\n"
     ]
    },
    {
     "name": "stderr",
     "output_type": "stream",
     "text": [
      " 65%|██████▌   | 861/1318 [09:19<03:57,  1.92it/s]"
     ]
    },
    {
     "name": "stdout",
     "output_type": "stream",
     "text": [
      "/home/lluis/histo_lung/data/Mask_PyHIST_v2/LungAOEC_List1/000031913700397358/tilecrossed_000031913700397358.png\n"
     ]
    },
    {
     "name": "stderr",
     "output_type": "stream",
     "text": [
      " 65%|██████▌   | 862/1318 [09:20<05:16,  1.44it/s]"
     ]
    },
    {
     "name": "stdout",
     "output_type": "stream",
     "text": [
      "/home/lluis/histo_lung/data/Mask_PyHIST_v2/LungAOEC_List1/000032373100420767/tilecrossed_000032373100420767.png\n"
     ]
    },
    {
     "name": "stderr",
     "output_type": "stream",
     "text": [
      " 65%|██████▌   | 863/1318 [09:21<04:57,  1.53it/s]"
     ]
    },
    {
     "name": "stdout",
     "output_type": "stream",
     "text": [
      "/home/lluis/histo_lung/data/Mask_PyHIST_v2/LungAOEC_List1/000036131400747820/tilecrossed_000036131400747820.png\n"
     ]
    },
    {
     "name": "stderr",
     "output_type": "stream",
     "text": [
      " 66%|██████▌   | 865/1318 [09:22<03:23,  2.22it/s]"
     ]
    },
    {
     "name": "stdout",
     "output_type": "stream",
     "text": [
      "/home/lluis/histo_lung/data/Mask_PyHIST_v2/LungAOEC_List1/000030688300333997/tilecrossed_000030688300333997.png\n",
      "/home/lluis/histo_lung/data/Mask_PyHIST_v2/LungAOEC_List1/000031799100390258/tilecrossed_000031799100390258.png\n"
     ]
    },
    {
     "name": "stderr",
     "output_type": "stream",
     "text": [
      " 66%|██████▌   | 866/1318 [09:22<03:29,  2.15it/s]"
     ]
    },
    {
     "name": "stdout",
     "output_type": "stream",
     "text": [
      "/home/lluis/histo_lung/data/Mask_PyHIST_v2/LungAOEC_List1/000032104600406368/tilecrossed_000032104600406368.png\n"
     ]
    },
    {
     "name": "stderr",
     "output_type": "stream",
     "text": [
      " 66%|██████▌   | 867/1318 [09:23<04:04,  1.84it/s]"
     ]
    },
    {
     "name": "stdout",
     "output_type": "stream",
     "text": [
      "/home/lluis/histo_lung/data/Mask_PyHIST_v2/LungAOEC_List1/000033629400505443/tilecrossed_000033629400505443.png\n"
     ]
    },
    {
     "name": "stderr",
     "output_type": "stream",
     "text": [
      " 66%|██████▌   | 868/1318 [09:23<03:46,  1.99it/s]"
     ]
    },
    {
     "name": "stdout",
     "output_type": "stream",
     "text": [
      "/home/lluis/histo_lung/data/Mask_PyHIST_v2/LungAOEC_List1/000032269300415943/tilecrossed_000032269300415943.png\n"
     ]
    },
    {
     "name": "stderr",
     "output_type": "stream",
     "text": [
      " 66%|██████▌   | 869/1318 [09:24<03:54,  1.92it/s]"
     ]
    },
    {
     "name": "stdout",
     "output_type": "stream",
     "text": [
      "/home/lluis/histo_lung/data/Mask_PyHIST_v2/LungAOEC_List1/000031799100388683/tilecrossed_000031799100388683.png\n"
     ]
    },
    {
     "name": "stderr",
     "output_type": "stream",
     "text": [
      " 66%|██████▌   | 870/1318 [09:24<03:58,  1.88it/s]"
     ]
    },
    {
     "name": "stdout",
     "output_type": "stream",
     "text": [
      "/home/lluis/histo_lung/data/Mask_PyHIST_v2/LungAOEC_List1/000030688300332961/tilecrossed_000030688300332961.png\n"
     ]
    },
    {
     "name": "stderr",
     "output_type": "stream",
     "text": [
      " 66%|██████▌   | 871/1318 [09:25<04:01,  1.85it/s]"
     ]
    },
    {
     "name": "stdout",
     "output_type": "stream",
     "text": [
      "/home/lluis/histo_lung/data/Mask_PyHIST_v2/LungAOEC_List1/000030508000324807/tilecrossed_000030508000324807.png\n"
     ]
    },
    {
     "name": "stderr",
     "output_type": "stream",
     "text": [
      " 66%|██████▌   | 872/1318 [09:25<03:16,  2.26it/s]"
     ]
    },
    {
     "name": "stdout",
     "output_type": "stream",
     "text": [
      "/home/lluis/histo_lung/data/Mask_PyHIST_v2/LungAOEC_List1/000033385000484310/tilecrossed_000033385000484310.png\n",
      "/home/lluis/histo_lung/data/Mask_PyHIST_v2/LungAOEC_List1/000031505500375770/tilecrossed_000031505500375770.png\n"
     ]
    },
    {
     "name": "stderr",
     "output_type": "stream",
     "text": [
      " 66%|██████▋   | 874/1318 [09:26<03:21,  2.20it/s]"
     ]
    },
    {
     "name": "stdout",
     "output_type": "stream",
     "text": [
      "/home/lluis/histo_lung/data/Mask_PyHIST_v2/LungAOEC_List1/000033807100521359/tilecrossed_000033807100521359.png\n"
     ]
    },
    {
     "name": "stderr",
     "output_type": "stream",
     "text": [
      " 66%|██████▋   | 875/1318 [09:26<03:24,  2.17it/s]"
     ]
    },
    {
     "name": "stdout",
     "output_type": "stream",
     "text": [
      "/home/lluis/histo_lung/data/Mask_PyHIST_v2/LungAOEC_List1/000032521900425761/tilecrossed_000032521900425761.png\n"
     ]
    },
    {
     "name": "stderr",
     "output_type": "stream",
     "text": [
      " 66%|██████▋   | 876/1318 [09:27<02:58,  2.47it/s]"
     ]
    },
    {
     "name": "stdout",
     "output_type": "stream",
     "text": [
      "/home/lluis/histo_lung/data/Mask_PyHIST_v2/LungAOEC_List1/000031425300370432/tilecrossed_000031425300370432.png\n"
     ]
    },
    {
     "name": "stderr",
     "output_type": "stream",
     "text": [
      " 67%|██████▋   | 877/1318 [09:27<02:45,  2.66it/s]"
     ]
    },
    {
     "name": "stdout",
     "output_type": "stream",
     "text": [
      "/home/lluis/histo_lung/data/Mask_PyHIST_v2/LungAOEC_List1/000030487200323373/tilecrossed_000030487200323373.png\n",
      "/home/lluis/histo_lung/data/Mask_PyHIST_v2/LungAOEC_List1/000032269300415946/tilecrossed_000032269300415946.png\n"
     ]
    },
    {
     "name": "stderr",
     "output_type": "stream",
     "text": [
      " 67%|██████▋   | 879/1318 [09:28<02:46,  2.63it/s]"
     ]
    },
    {
     "name": "stdout",
     "output_type": "stream",
     "text": [
      "/home/lluis/histo_lung/data/Mask_PyHIST_v2/LungAOEC_List1/000030487200323370/tilecrossed_000030487200323370.png\n"
     ]
    },
    {
     "name": "stderr",
     "output_type": "stream",
     "text": [
      " 67%|██████▋   | 881/1318 [09:28<02:03,  3.54it/s]"
     ]
    },
    {
     "name": "stdout",
     "output_type": "stream",
     "text": [
      "/home/lluis/histo_lung/data/Mask_PyHIST_v2/LungAOEC_List1/000033385000484312/tilecrossed_000033385000484312.png\n",
      "/home/lluis/histo_lung/data/Mask_PyHIST_v2/LungAOEC_List1/000031206300360819/tilecrossed_000031206300360819.png\n"
     ]
    },
    {
     "name": "stderr",
     "output_type": "stream",
     "text": [
      " 67%|██████▋   | 882/1318 [09:29<02:31,  2.88it/s]"
     ]
    },
    {
     "name": "stdout",
     "output_type": "stream",
     "text": [
      "/home/lluis/histo_lung/data/Mask_PyHIST_v2/LungAOEC_List1/000030734600335051/tilecrossed_000030734600335051.png\n",
      "/home/lluis/histo_lung/data/Mask_PyHIST_v2/LungAOEC_List1/000034261900559457/tilecrossed_000034261900559457.png\n"
     ]
    },
    {
     "name": "stderr",
     "output_type": "stream",
     "text": [
      " 67%|██████▋   | 884/1318 [09:29<02:01,  3.56it/s]"
     ]
    },
    {
     "name": "stdout",
     "output_type": "stream",
     "text": [
      "/home/lluis/histo_lung/data/Mask_PyHIST_v2/LungAOEC_List1/000032302500414881/tilecrossed_000032302500414881.png\n"
     ]
    },
    {
     "name": "stderr",
     "output_type": "stream",
     "text": [
      " 67%|██████▋   | 885/1318 [09:29<02:08,  3.36it/s]"
     ]
    },
    {
     "name": "stdout",
     "output_type": "stream",
     "text": [
      "/home/lluis/histo_lung/data/Mask_PyHIST_v2/LungAOEC_List1/000031505500375293/tilecrossed_000031505500375293.png\n"
     ]
    },
    {
     "name": "stderr",
     "output_type": "stream",
     "text": [
      " 67%|██████▋   | 887/1318 [09:30<02:36,  2.75it/s]"
     ]
    },
    {
     "name": "stdout",
     "output_type": "stream",
     "text": [
      "/home/lluis/histo_lung/data/Mask_PyHIST_v2/LungAOEC_List1/000033385000484314/tilecrossed_000033385000484314.png\n",
      "/home/lluis/histo_lung/data/Mask_PyHIST_v2/LungAOEC_List1/000031913700397357/tilecrossed_000031913700397357.png\n"
     ]
    },
    {
     "name": "stderr",
     "output_type": "stream",
     "text": [
      " 67%|██████▋   | 888/1318 [09:31<03:23,  2.12it/s]"
     ]
    },
    {
     "name": "stdout",
     "output_type": "stream",
     "text": [
      "/home/lluis/histo_lung/data/Mask_PyHIST_v2/LungAOEC_List1/000031340300367678/tilecrossed_000031340300367678.png\n"
     ]
    },
    {
     "name": "stderr",
     "output_type": "stream",
     "text": [
      " 67%|██████▋   | 889/1318 [09:32<03:09,  2.27it/s]"
     ]
    },
    {
     "name": "stdout",
     "output_type": "stream",
     "text": [
      "/home/lluis/histo_lung/data/Mask_PyHIST_v2/LungAOEC_List1/000030412700319323/tilecrossed_000030412700319323.png\n"
     ]
    },
    {
     "name": "stderr",
     "output_type": "stream",
     "text": [
      " 68%|██████▊   | 890/1318 [09:32<02:59,  2.38it/s]"
     ]
    },
    {
     "name": "stdout",
     "output_type": "stream",
     "text": [
      "/home/lluis/histo_lung/data/Mask_PyHIST_v2/LungAOEC_List1/000030804000338850/tilecrossed_000030804000338850.png\n"
     ]
    },
    {
     "name": "stderr",
     "output_type": "stream",
     "text": [
      " 68%|██████▊   | 891/1318 [09:32<03:02,  2.33it/s]"
     ]
    },
    {
     "name": "stdout",
     "output_type": "stream",
     "text": [
      "/home/lluis/histo_lung/data/Mask_PyHIST_v2/LungAOEC_List1/000035865700716624/tilecrossed_000035865700716624.png\n"
     ]
    },
    {
     "name": "stderr",
     "output_type": "stream",
     "text": [
      " 68%|██████▊   | 892/1318 [09:33<03:39,  1.94it/s]"
     ]
    },
    {
     "name": "stdout",
     "output_type": "stream",
     "text": [
      "/home/lluis/histo_lung/data/Mask_PyHIST_v2/LungAOEC_List1/000031172000363427/tilecrossed_000031172000363427.png\n"
     ]
    },
    {
     "name": "stderr",
     "output_type": "stream",
     "text": [
      " 68%|██████▊   | 893/1318 [09:34<04:54,  1.44it/s]"
     ]
    },
    {
     "name": "stdout",
     "output_type": "stream",
     "text": [
      "/home/lluis/histo_lung/data/Mask_PyHIST_v2/LungAOEC_List1/000032365400420388/tilecrossed_000032365400420388.png\n"
     ]
    },
    {
     "name": "stderr",
     "output_type": "stream",
     "text": [
      " 68%|██████▊   | 894/1318 [09:35<05:39,  1.25it/s]"
     ]
    },
    {
     "name": "stdout",
     "output_type": "stream",
     "text": [
      "/home/lluis/histo_lung/data/Mask_PyHIST_v2/LungAOEC_List1/000031016200349368/tilecrossed_000031016200349368.png\n"
     ]
    },
    {
     "name": "stderr",
     "output_type": "stream",
     "text": [
      " 68%|██████▊   | 895/1318 [09:36<05:10,  1.36it/s]"
     ]
    },
    {
     "name": "stdout",
     "output_type": "stream",
     "text": [
      "/home/lluis/histo_lung/data/Mask_PyHIST_v2/LungAOEC_List1/000031305500363714/tilecrossed_000031305500363714.png\n",
      "/home/lluis/histo_lung/data/Mask_PyHIST_v2/LungAOEC_List1/000030689200333242/tilecrossed_000030689200333242.png\n"
     ]
    },
    {
     "name": "stderr",
     "output_type": "stream",
     "text": [
      " 68%|██████▊   | 897/1318 [09:36<03:12,  2.19it/s]"
     ]
    },
    {
     "name": "stdout",
     "output_type": "stream",
     "text": [
      "/home/lluis/histo_lung/data/Mask_PyHIST_v2/LungAOEC_List1/000032031400402958/tilecrossed_000032031400402958.png\n"
     ]
    },
    {
     "name": "stderr",
     "output_type": "stream",
     "text": [
      " 68%|██████▊   | 898/1318 [09:36<02:57,  2.36it/s]"
     ]
    },
    {
     "name": "stdout",
     "output_type": "stream",
     "text": [
      "/home/lluis/histo_lung/data/Mask_PyHIST_v2/LungAOEC_List1/000032368400420533/tilecrossed_000032368400420533.png\n"
     ]
    },
    {
     "name": "stderr",
     "output_type": "stream",
     "text": [
      " 68%|██████▊   | 899/1318 [09:37<04:04,  1.71it/s]"
     ]
    },
    {
     "name": "stdout",
     "output_type": "stream",
     "text": [
      "/home/lluis/histo_lung/data/Mask_PyHIST_v2/LungAOEC_List1/000031172000359337/tilecrossed_000031172000359337.png\n"
     ]
    },
    {
     "name": "stderr",
     "output_type": "stream",
     "text": [
      " 68%|██████▊   | 900/1318 [09:39<05:10,  1.34it/s]"
     ]
    },
    {
     "name": "stdout",
     "output_type": "stream",
     "text": [
      "/home/lluis/histo_lung/data/Mask_PyHIST_v2/LungAOEC_List1/000031292100364437/tilecrossed_000031292100364437.png\n"
     ]
    },
    {
     "name": "stderr",
     "output_type": "stream",
     "text": [
      " 68%|██████▊   | 901/1318 [09:40<05:38,  1.23it/s]"
     ]
    },
    {
     "name": "stdout",
     "output_type": "stream",
     "text": [
      "/home/lluis/histo_lung/data/Mask_PyHIST_v2/LungAOEC_List1/000034644700597069/tilecrossed_000034644700597069.png\n"
     ]
    },
    {
     "name": "stderr",
     "output_type": "stream",
     "text": [
      " 69%|██████▊   | 903/1318 [09:41<04:21,  1.59it/s]"
     ]
    },
    {
     "name": "stdout",
     "output_type": "stream",
     "text": [
      "/home/lluis/histo_lung/data/Mask_PyHIST_v2/LungAOEC_List1/000030689200333237/tilecrossed_000030689200333237.png\n",
      "/home/lluis/histo_lung/data/Mask_PyHIST_v2/LungAOEC_List1/000031102600354896/tilecrossed_000031102600354896.png\n"
     ]
    },
    {
     "name": "stderr",
     "output_type": "stream",
     "text": [
      " 69%|██████▊   | 904/1318 [09:41<04:49,  1.43it/s]"
     ]
    },
    {
     "name": "stdout",
     "output_type": "stream",
     "text": [
      "/home/lluis/histo_lung/data/Mask_PyHIST_v2/LungAOEC_List1/000031779000387363/tilecrossed_000031779000387363.png\n"
     ]
    },
    {
     "name": "stderr",
     "output_type": "stream",
     "text": [
      " 69%|██████▊   | 905/1318 [09:42<04:42,  1.46it/s]"
     ]
    },
    {
     "name": "stdout",
     "output_type": "stream",
     "text": [
      "/home/lluis/histo_lung/data/Mask_PyHIST_v2/LungAOEC_List1/000032368400420527/tilecrossed_000032368400420527.png\n"
     ]
    },
    {
     "name": "stderr",
     "output_type": "stream",
     "text": [
      " 69%|██████▊   | 906/1318 [09:43<04:18,  1.60it/s]"
     ]
    },
    {
     "name": "stdout",
     "output_type": "stream",
     "text": [
      "/home/lluis/histo_lung/data/Mask_PyHIST_v2/LungAOEC_List1/000036131400747868/tilecrossed_000036131400747868.png\n"
     ]
    },
    {
     "name": "stderr",
     "output_type": "stream",
     "text": [
      " 69%|██████▉   | 907/1318 [09:44<04:53,  1.40it/s]"
     ]
    },
    {
     "name": "stdout",
     "output_type": "stream",
     "text": [
      "/home/lluis/histo_lung/data/Mask_PyHIST_v2/LungAOEC_List1/000036434500771223/tilecrossed_000036434500771223.png\n"
     ]
    },
    {
     "name": "stderr",
     "output_type": "stream",
     "text": [
      " 69%|██████▉   | 908/1318 [09:44<04:21,  1.57it/s]"
     ]
    },
    {
     "name": "stdout",
     "output_type": "stream",
     "text": [
      "/home/lluis/histo_lung/data/Mask_PyHIST_v2/LungAOEC_List1/000033985600532761/tilecrossed_000033985600532761.png\n"
     ]
    },
    {
     "name": "stderr",
     "output_type": "stream",
     "text": [
      " 69%|██████▉   | 909/1318 [09:45<04:49,  1.41it/s]"
     ]
    },
    {
     "name": "stdout",
     "output_type": "stream",
     "text": [
      "/home/lluis/histo_lung/data/Mask_PyHIST_v2/LungAOEC_List1/000034644700597063/tilecrossed_000034644700597063.png\n"
     ]
    },
    {
     "name": "stderr",
     "output_type": "stream",
     "text": [
      " 69%|██████▉   | 910/1318 [09:45<04:20,  1.57it/s]"
     ]
    },
    {
     "name": "stdout",
     "output_type": "stream",
     "text": [
      "/home/lluis/histo_lung/data/Mask_PyHIST_v2/LungAOEC_List1/000032373100420768/tilecrossed_000032373100420768.png\n"
     ]
    },
    {
     "name": "stderr",
     "output_type": "stream",
     "text": [
      " 69%|██████▉   | 912/1318 [09:46<02:58,  2.27it/s]"
     ]
    },
    {
     "name": "stdout",
     "output_type": "stream",
     "text": [
      "/home/lluis/histo_lung/data/Mask_PyHIST_v2/LungAOEC_List1/000032368200420417/tilecrossed_000032368200420417.png\n",
      "/home/lluis/histo_lung/data/Mask_PyHIST_v2/LungAOEC_List1/000033646900506900/tilecrossed_000033646900506900.png\n"
     ]
    },
    {
     "name": "stderr",
     "output_type": "stream",
     "text": [
      " 69%|██████▉   | 913/1318 [09:47<03:35,  1.88it/s]"
     ]
    },
    {
     "name": "stdout",
     "output_type": "stream",
     "text": [
      "/home/lluis/histo_lung/data/Mask_PyHIST_v2/LungAOEC_List1/000032347800419868/tilecrossed_000032347800419868.png\n"
     ]
    },
    {
     "name": "stderr",
     "output_type": "stream",
     "text": [
      " 69%|██████▉   | 915/1318 [09:47<03:04,  2.19it/s]"
     ]
    },
    {
     "name": "stdout",
     "output_type": "stream",
     "text": [
      "/home/lluis/histo_lung/data/Mask_PyHIST_v2/LungAOEC_List1/000030689200333243/tilecrossed_000030689200333243.png\n",
      "/home/lluis/histo_lung/data/Mask_PyHIST_v2/LungAOEC_List1/000031292100364433/tilecrossed_000031292100364433.png\n"
     ]
    },
    {
     "name": "stderr",
     "output_type": "stream",
     "text": [
      " 69%|██████▉   | 916/1318 [09:48<03:52,  1.73it/s]"
     ]
    },
    {
     "name": "stdout",
     "output_type": "stream",
     "text": [
      "/home/lluis/histo_lung/data/Mask_PyHIST_v2/LungAOEC_List1/000031542100377941/tilecrossed_000031542100377941.png\n"
     ]
    },
    {
     "name": "stderr",
     "output_type": "stream",
     "text": [
      " 70%|██████▉   | 917/1318 [09:49<03:48,  1.76it/s]"
     ]
    },
    {
     "name": "stdout",
     "output_type": "stream",
     "text": [
      "/home/lluis/histo_lung/data/Mask_PyHIST_v2/LungAOEC_List1/000034261900559453/tilecrossed_000034261900559453.png\n"
     ]
    },
    {
     "name": "stderr",
     "output_type": "stream",
     "text": [
      " 70%|██████▉   | 918/1318 [09:50<04:06,  1.62it/s]"
     ]
    },
    {
     "name": "stdout",
     "output_type": "stream",
     "text": [
      "/home/lluis/histo_lung/data/Mask_PyHIST_v2/LungAOEC_List1/000031799100388684/tilecrossed_000031799100388684.png\n"
     ]
    },
    {
     "name": "stderr",
     "output_type": "stream",
     "text": [
      " 70%|██████▉   | 919/1318 [09:50<03:42,  1.79it/s]"
     ]
    },
    {
     "name": "stdout",
     "output_type": "stream",
     "text": [
      "/home/lluis/histo_lung/data/Mask_PyHIST_v2/LungAOEC_List1/000032524100428266/tilecrossed_000032524100428266.png\n"
     ]
    },
    {
     "name": "stderr",
     "output_type": "stream",
     "text": [
      " 70%|██████▉   | 920/1318 [09:51<03:40,  1.81it/s]"
     ]
    },
    {
     "name": "stdout",
     "output_type": "stream",
     "text": [
      "/home/lluis/histo_lung/data/Mask_PyHIST_v2/LungAOEC_List1/000032031400402952/tilecrossed_000032031400402952.png\n"
     ]
    },
    {
     "name": "stderr",
     "output_type": "stream",
     "text": [
      " 70%|██████▉   | 921/1318 [09:52<04:39,  1.42it/s]"
     ]
    },
    {
     "name": "stdout",
     "output_type": "stream",
     "text": [
      "/home/lluis/histo_lung/data/Mask_PyHIST_v2/LungAOEC_List1/000032269300415942/tilecrossed_000032269300415942.png\n"
     ]
    },
    {
     "name": "stderr",
     "output_type": "stream",
     "text": [
      " 70%|██████▉   | 922/1318 [09:53<05:31,  1.19it/s]"
     ]
    },
    {
     "name": "stdout",
     "output_type": "stream",
     "text": [
      "/home/lluis/histo_lung/data/Mask_PyHIST_v2/LungAOEC_List1/000031725000387183/tilecrossed_000031725000387183.png\n"
     ]
    },
    {
     "name": "stderr",
     "output_type": "stream",
     "text": [
      " 70%|███████   | 923/1318 [09:53<04:33,  1.44it/s]"
     ]
    },
    {
     "name": "stdout",
     "output_type": "stream",
     "text": [
      "/home/lluis/histo_lung/data/Mask_PyHIST_v2/LungAOEC_List1/000031860700393703/tilecrossed_000031860700393703.png\n"
     ]
    },
    {
     "name": "stderr",
     "output_type": "stream",
     "text": [
      " 70%|███████   | 924/1318 [09:54<04:22,  1.50it/s]"
     ]
    },
    {
     "name": "stdout",
     "output_type": "stream",
     "text": [
      "/home/lluis/histo_lung/data/Mask_PyHIST_v2/LungAOEC_List1/000034933900624080/tilecrossed_000034933900624080.png\n"
     ]
    },
    {
     "name": "stderr",
     "output_type": "stream",
     "text": [
      " 70%|███████   | 925/1318 [09:55<05:25,  1.21it/s]"
     ]
    },
    {
     "name": "stdout",
     "output_type": "stream",
     "text": [
      "/home/lluis/histo_lung/data/Mask_PyHIST_v2/LungAOEC_List1/000033629400496218/tilecrossed_000033629400496218.png\n"
     ]
    },
    {
     "name": "stderr",
     "output_type": "stream",
     "text": [
      " 70%|███████   | 926/1318 [09:56<05:08,  1.27it/s]"
     ]
    },
    {
     "name": "stdout",
     "output_type": "stream",
     "text": [
      "/home/lluis/histo_lung/data/Mask_PyHIST_v2/LungAOEC_List1/000033646900506898/tilecrossed_000033646900506898.png\n"
     ]
    },
    {
     "name": "stderr",
     "output_type": "stream",
     "text": [
      " 70%|███████   | 927/1318 [09:56<05:12,  1.25it/s]"
     ]
    },
    {
     "name": "stdout",
     "output_type": "stream",
     "text": [
      "/home/lluis/histo_lung/data/Mask_PyHIST_v2/LungAOEC_List1/000034641300593449/tilecrossed_000034641300593449.png\n"
     ]
    },
    {
     "name": "stderr",
     "output_type": "stream",
     "text": [
      " 70%|███████   | 929/1318 [09:57<03:42,  1.74it/s]"
     ]
    },
    {
     "name": "stdout",
     "output_type": "stream",
     "text": [
      "/home/lluis/histo_lung/data/Mask_PyHIST_v2/LungAOEC_List1/000033385500476542/tilecrossed_000033385500476542.png\n",
      "/home/lluis/histo_lung/data/Mask_PyHIST_v2/LungAOEC_List1/000030907600344597/tilecrossed_000030907600344597.png\n"
     ]
    },
    {
     "name": "stderr",
     "output_type": "stream",
     "text": [
      " 71%|███████   | 930/1318 [09:58<04:47,  1.35it/s]"
     ]
    },
    {
     "name": "stdout",
     "output_type": "stream",
     "text": [
      "/home/lluis/histo_lung/data/Mask_PyHIST_v2/LungAOEC_List1/000030712700334672/tilecrossed_000030712700334672.png\n"
     ]
    },
    {
     "name": "stderr",
     "output_type": "stream",
     "text": [
      " 71%|███████   | 931/1318 [09:59<04:57,  1.30it/s]"
     ]
    },
    {
     "name": "stdout",
     "output_type": "stream",
     "text": [
      "/home/lluis/histo_lung/data/Mask_PyHIST_v2/LungAOEC_List1/000031891500393316/tilecrossed_000031891500393316.png\n"
     ]
    },
    {
     "name": "stderr",
     "output_type": "stream",
     "text": [
      " 71%|███████   | 932/1318 [10:00<04:41,  1.37it/s]"
     ]
    },
    {
     "name": "stdout",
     "output_type": "stream",
     "text": [
      "/home/lluis/histo_lung/data/Mask_PyHIST_v2/LungAOEC_List1/000030487200323363/tilecrossed_000030487200323363.png\n"
     ]
    },
    {
     "name": "stderr",
     "output_type": "stream",
     "text": [
      " 71%|███████   | 933/1318 [10:00<03:48,  1.69it/s]"
     ]
    },
    {
     "name": "stdout",
     "output_type": "stream",
     "text": [
      "/home/lluis/histo_lung/data/Mask_PyHIST_v2/LungAOEC_List1/000029919100292999/tilecrossed_000029919100292999.png\n",
      "/home/lluis/histo_lung/data/Mask_PyHIST_v2/LungAOEC_List1/000031292100364441/tilecrossed_000031292100364441.png\n"
     ]
    },
    {
     "name": "stderr",
     "output_type": "stream",
     "text": [
      " 71%|███████   | 935/1318 [10:01<03:29,  1.83it/s]"
     ]
    },
    {
     "name": "stdout",
     "output_type": "stream",
     "text": [
      "/home/lluis/histo_lung/data/Mask_PyHIST_v2/LungAOEC_List1/000032269300415945/tilecrossed_000032269300415945.png\n"
     ]
    },
    {
     "name": "stderr",
     "output_type": "stream",
     "text": [
      " 71%|███████   | 936/1318 [10:02<04:01,  1.58it/s]"
     ]
    },
    {
     "name": "stdout",
     "output_type": "stream",
     "text": [
      "/home/lluis/histo_lung/data/Mask_PyHIST_v2/LungAOEC_List1/000034939400624572/tilecrossed_000034939400624572.png\n"
     ]
    },
    {
     "name": "stderr",
     "output_type": "stream",
     "text": [
      " 71%|███████   | 937/1318 [10:03<04:00,  1.58it/s]"
     ]
    },
    {
     "name": "stdout",
     "output_type": "stream",
     "text": [
      "/home/lluis/histo_lung/data/Mask_PyHIST_v2/LungAOEC_List1/000031172000359335/tilecrossed_000031172000359335.png\n"
     ]
    },
    {
     "name": "stderr",
     "output_type": "stream",
     "text": [
      " 71%|███████   | 938/1318 [10:03<04:09,  1.52it/s]"
     ]
    },
    {
     "name": "stdout",
     "output_type": "stream",
     "text": [
      "/home/lluis/histo_lung/data/Mask_PyHIST_v2/LungAOEC_List1/000034238100556681/tilecrossed_000034238100556681.png\n"
     ]
    },
    {
     "name": "stderr",
     "output_type": "stream",
     "text": [
      " 71%|███████▏  | 940/1318 [10:04<03:19,  1.89it/s]"
     ]
    },
    {
     "name": "stdout",
     "output_type": "stream",
     "text": [
      "/home/lluis/histo_lung/data/Mask_PyHIST_v2/LungAOEC_List1/000030734600335054/tilecrossed_000030734600335054.png\n",
      "/home/lluis/histo_lung/data/Mask_PyHIST_v2/LungAOEC_List1/000030907600344599/tilecrossed_000030907600344599.png\n"
     ]
    },
    {
     "name": "stderr",
     "output_type": "stream",
     "text": [
      " 71%|███████▏  | 941/1318 [10:05<03:45,  1.67it/s]"
     ]
    },
    {
     "name": "stdout",
     "output_type": "stream",
     "text": [
      "/home/lluis/histo_lung/data/Mask_PyHIST_v2/LungAOEC_List1/000036131400747848/tilecrossed_000036131400747848.png\n"
     ]
    },
    {
     "name": "stderr",
     "output_type": "stream",
     "text": [
      " 71%|███████▏  | 942/1318 [10:05<03:27,  1.81it/s]"
     ]
    },
    {
     "name": "stdout",
     "output_type": "stream",
     "text": [
      "/home/lluis/histo_lung/data/Mask_PyHIST_v2/LungAOEC_List1/000032347800416313/tilecrossed_000032347800416313.png\n"
     ]
    },
    {
     "name": "stderr",
     "output_type": "stream",
     "text": [
      " 72%|███████▏  | 943/1318 [10:07<05:17,  1.18it/s]"
     ]
    },
    {
     "name": "stdout",
     "output_type": "stream",
     "text": [
      "/home/lluis/histo_lung/data/Mask_PyHIST_v2/LungAOEC_List1/000031246500361724/tilecrossed_000031246500361724.png\n"
     ]
    },
    {
     "name": "stderr",
     "output_type": "stream",
     "text": [
      " 72%|███████▏  | 944/1318 [10:08<05:08,  1.21it/s]"
     ]
    },
    {
     "name": "stdout",
     "output_type": "stream",
     "text": [
      "/home/lluis/histo_lung/data/Mask_PyHIST_v2/LungAOEC_List1/000030804000341016/tilecrossed_000030804000341016.png\n",
      "/home/lluis/histo_lung/data/Mask_PyHIST_v2/LungAOEC_List1/000032269300415944/tilecrossed_000032269300415944.png\n"
     ]
    },
    {
     "name": "stderr",
     "output_type": "stream",
     "text": [
      " 72%|███████▏  | 946/1318 [10:09<04:07,  1.51it/s]"
     ]
    },
    {
     "name": "stdout",
     "output_type": "stream",
     "text": [
      "/home/lluis/histo_lung/data/Mask_PyHIST_v2/LungAOEC_List1/000034238100555879/tilecrossed_000034238100555879.png\n"
     ]
    },
    {
     "name": "stderr",
     "output_type": "stream",
     "text": [
      " 72%|███████▏  | 947/1318 [10:09<04:12,  1.47it/s]"
     ]
    },
    {
     "name": "stdout",
     "output_type": "stream",
     "text": [
      "/home/lluis/histo_lung/data/Mask_PyHIST_v2/LungAOEC_List1/000034939400624566/tilecrossed_000034939400624566.png\n"
     ]
    },
    {
     "name": "stderr",
     "output_type": "stream",
     "text": [
      " 72%|███████▏  | 948/1318 [10:10<03:43,  1.66it/s]"
     ]
    },
    {
     "name": "stdout",
     "output_type": "stream",
     "text": [
      "/home/lluis/histo_lung/data/Mask_PyHIST_v2/LungAOEC_List1/000032365400420393/tilecrossed_000032365400420393.png\n"
     ]
    },
    {
     "name": "stderr",
     "output_type": "stream",
     "text": [
      " 72%|███████▏  | 949/1318 [10:11<04:13,  1.46it/s]"
     ]
    },
    {
     "name": "stdout",
     "output_type": "stream",
     "text": [
      "/home/lluis/histo_lung/data/Mask_PyHIST_v2/LungAOEC_List1/000030804000340330/tilecrossed_000030804000340330.png\n"
     ]
    },
    {
     "name": "stderr",
     "output_type": "stream",
     "text": [
      " 72%|███████▏  | 950/1318 [10:11<03:39,  1.68it/s]"
     ]
    },
    {
     "name": "stdout",
     "output_type": "stream",
     "text": [
      "/home/lluis/histo_lung/data/Mask_PyHIST_v2/LungAOEC_List1/000031183700359375/tilecrossed_000031183700359375.png\n"
     ]
    },
    {
     "name": "stderr",
     "output_type": "stream",
     "text": [
      " 72%|███████▏  | 951/1318 [10:12<04:02,  1.51it/s]"
     ]
    },
    {
     "name": "stdout",
     "output_type": "stream",
     "text": [
      "/home/lluis/histo_lung/data/Mask_PyHIST_v2/LungAOEC_List1/000036131400747850/tilecrossed_000036131400747850.png\n"
     ]
    },
    {
     "name": "stderr",
     "output_type": "stream",
     "text": [
      " 72%|███████▏  | 952/1318 [10:13<03:58,  1.54it/s]"
     ]
    },
    {
     "name": "stdout",
     "output_type": "stream",
     "text": [
      "/home/lluis/histo_lung/data/Mask_PyHIST_v2/LungAOEC_List1/000034933900620240/tilecrossed_000034933900620240.png\n"
     ]
    },
    {
     "name": "stderr",
     "output_type": "stream",
     "text": [
      " 72%|███████▏  | 953/1318 [10:13<03:56,  1.54it/s]"
     ]
    },
    {
     "name": "stdout",
     "output_type": "stream",
     "text": [
      "/home/lluis/histo_lung/data/Mask_PyHIST_v2/LungAOEC_List1/000036131400747846/tilecrossed_000036131400747846.png\n"
     ]
    },
    {
     "name": "stderr",
     "output_type": "stream",
     "text": [
      " 72%|███████▏  | 954/1318 [10:14<04:09,  1.46it/s]"
     ]
    },
    {
     "name": "stdout",
     "output_type": "stream",
     "text": [
      "/home/lluis/histo_lung/data/Mask_PyHIST_v2/LungAOEC_List1/000031542100377937/tilecrossed_000031542100377937.png\n"
     ]
    },
    {
     "name": "stderr",
     "output_type": "stream",
     "text": [
      " 72%|███████▏  | 955/1318 [10:15<04:26,  1.36it/s]"
     ]
    },
    {
     "name": "stdout",
     "output_type": "stream",
     "text": [
      "/home/lluis/histo_lung/data/Mask_PyHIST_v2/LungAOEC_List1/000029709100281888/tilecrossed_000029709100281888.png\n",
      "/home/lluis/histo_lung/data/Mask_PyHIST_v2/LungAOEC_List1/000031542100377931/tilecrossed_000031542100377931.png\n"
     ]
    },
    {
     "name": "stderr",
     "output_type": "stream",
     "text": [
      " 73%|███████▎  | 957/1318 [10:15<03:07,  1.92it/s]"
     ]
    },
    {
     "name": "stdout",
     "output_type": "stream",
     "text": [
      "/home/lluis/histo_lung/data/Mask_PyHIST_v2/LungAOEC_List1/000034458200578693/tilecrossed_000034458200578693.png\n"
     ]
    },
    {
     "name": "stderr",
     "output_type": "stream",
     "text": [
      " 73%|███████▎  | 958/1318 [10:16<02:43,  2.21it/s]"
     ]
    },
    {
     "name": "stdout",
     "output_type": "stream",
     "text": [
      "/home/lluis/histo_lung/data/Mask_PyHIST_v2/LungAOEC_List1/000034259100558318/tilecrossed_000034259100558318.png\n"
     ]
    },
    {
     "name": "stderr",
     "output_type": "stream",
     "text": [
      " 73%|███████▎  | 959/1318 [10:17<03:44,  1.60it/s]"
     ]
    },
    {
     "name": "stdout",
     "output_type": "stream",
     "text": [
      "/home/lluis/histo_lung/data/Mask_PyHIST_v2/LungAOEC_List1/000030689500332894/tilecrossed_000030689500332894.png\n"
     ]
    },
    {
     "name": "stderr",
     "output_type": "stream",
     "text": [
      " 73%|███████▎  | 961/1318 [10:18<03:41,  1.61it/s]"
     ]
    },
    {
     "name": "stdout",
     "output_type": "stream",
     "text": [
      "/home/lluis/histo_lung/data/Mask_PyHIST_v2/LungAOEC_List1/000029496800270410/tilecrossed_000029496800270410.png\n",
      "/home/lluis/histo_lung/data/Mask_PyHIST_v2/LungAOEC_List1/000030963300346647/tilecrossed_000030963300346647.png\n"
     ]
    },
    {
     "name": "stderr",
     "output_type": "stream",
     "text": [
      " 73%|███████▎  | 962/1318 [10:19<04:01,  1.47it/s]"
     ]
    },
    {
     "name": "stdout",
     "output_type": "stream",
     "text": [
      "/home/lluis/histo_lung/data/Mask_PyHIST_v2/LungAOEC_List1/000032365400420385/tilecrossed_000032365400420385.png\n"
     ]
    },
    {
     "name": "stderr",
     "output_type": "stream",
     "text": [
      " 73%|███████▎  | 963/1318 [10:20<04:17,  1.38it/s]"
     ]
    },
    {
     "name": "stdout",
     "output_type": "stream",
     "text": [
      "/home/lluis/histo_lung/data/Mask_PyHIST_v2/LungAOEC_List1/000034101000544511/tilecrossed_000034101000544511.png\n"
     ]
    },
    {
     "name": "stderr",
     "output_type": "stream",
     "text": [
      " 73%|███████▎  | 964/1318 [10:21<04:14,  1.39it/s]"
     ]
    },
    {
     "name": "stdout",
     "output_type": "stream",
     "text": [
      "/home/lluis/histo_lung/data/Mask_PyHIST_v2/LungAOEC_List1/000032031400402949/tilecrossed_000032031400402949.png\n"
     ]
    },
    {
     "name": "stderr",
     "output_type": "stream",
     "text": [
      " 73%|███████▎  | 965/1318 [10:22<04:58,  1.18it/s]"
     ]
    },
    {
     "name": "stdout",
     "output_type": "stream",
     "text": [
      "/home/lluis/histo_lung/data/Mask_PyHIST_v2/LungAOEC_List1/000032098600405772/tilecrossed_000032098600405772.png\n"
     ]
    },
    {
     "name": "stderr",
     "output_type": "stream",
     "text": [
      " 73%|███████▎  | 966/1318 [10:22<04:34,  1.28it/s]"
     ]
    },
    {
     "name": "stdout",
     "output_type": "stream",
     "text": [
      "/home/lluis/histo_lung/data/Mask_PyHIST_v2/LungAOEC_List1/000035702200697032/tilecrossed_000035702200697032.png\n"
     ]
    },
    {
     "name": "stderr",
     "output_type": "stream",
     "text": [
      " 73%|███████▎  | 967/1318 [10:23<04:49,  1.21it/s]"
     ]
    },
    {
     "name": "stdout",
     "output_type": "stream",
     "text": [
      "/home/lluis/histo_lung/data/Mask_PyHIST_v2/LungAOEC_List1/000033610500503868/tilecrossed_000033610500503868.png\n"
     ]
    },
    {
     "name": "stderr",
     "output_type": "stream",
     "text": [
      " 73%|███████▎  | 968/1318 [10:24<04:43,  1.23it/s]"
     ]
    },
    {
     "name": "stdout",
     "output_type": "stream",
     "text": [
      "/home/lluis/histo_lung/data/Mask_PyHIST_v2/LungAOEC_List1/000031340300367683/tilecrossed_000031340300367683.png\n"
     ]
    },
    {
     "name": "stderr",
     "output_type": "stream",
     "text": [
      " 74%|███████▎  | 969/1318 [10:25<04:36,  1.26it/s]"
     ]
    },
    {
     "name": "stdout",
     "output_type": "stream",
     "text": [
      "/home/lluis/histo_lung/data/Mask_PyHIST_v2/LungAOEC_List1/000032130200405362/tilecrossed_000032130200405362.png\n"
     ]
    },
    {
     "name": "stderr",
     "output_type": "stream",
     "text": [
      " 74%|███████▎  | 970/1318 [10:25<04:08,  1.40it/s]"
     ]
    },
    {
     "name": "stdout",
     "output_type": "stream",
     "text": [
      "/home/lluis/histo_lung/data/Mask_PyHIST_v2/LungAOEC_List1/000032347800419866/tilecrossed_000032347800419866.png\n"
     ]
    },
    {
     "name": "stderr",
     "output_type": "stream",
     "text": [
      " 74%|███████▎  | 971/1318 [10:26<03:51,  1.50it/s]"
     ]
    },
    {
     "name": "stdout",
     "output_type": "stream",
     "text": [
      "/home/lluis/histo_lung/data/Mask_PyHIST_v2/LungAOEC_List1/000031102600354894/tilecrossed_000031102600354894.png\n"
     ]
    },
    {
     "name": "stderr",
     "output_type": "stream",
     "text": [
      " 74%|███████▎  | 972/1318 [10:27<04:10,  1.38it/s]"
     ]
    },
    {
     "name": "stdout",
     "output_type": "stream",
     "text": [
      "/home/lluis/histo_lung/data/Mask_PyHIST_v2/LungAOEC_List1/000032269300412032/tilecrossed_000032269300412032.png\n"
     ]
    },
    {
     "name": "stderr",
     "output_type": "stream",
     "text": [
      " 74%|███████▍  | 973/1318 [10:28<04:46,  1.21it/s]"
     ]
    },
    {
     "name": "stdout",
     "output_type": "stream",
     "text": [
      "/home/lluis/histo_lung/data/Mask_PyHIST_v2/LungAOEC_List1/000034458200578703/tilecrossed_000034458200578703.png\n"
     ]
    },
    {
     "name": "stderr",
     "output_type": "stream",
     "text": [
      " 74%|███████▍  | 974/1318 [10:29<04:43,  1.21it/s]"
     ]
    },
    {
     "name": "stdout",
     "output_type": "stream",
     "text": [
      "/home/lluis/histo_lung/data/Mask_PyHIST_v2/LungAOEC_List1/000031962500396775/tilecrossed_000031962500396775.png\n"
     ]
    },
    {
     "name": "stderr",
     "output_type": "stream",
     "text": [
      " 74%|███████▍  | 975/1318 [10:29<04:18,  1.33it/s]"
     ]
    },
    {
     "name": "stdout",
     "output_type": "stream",
     "text": [
      "/home/lluis/histo_lung/data/Mask_PyHIST_v2/LungAOEC_List1/000030717900334726/tilecrossed_000030717900334726.png\n"
     ]
    },
    {
     "name": "stderr",
     "output_type": "stream",
     "text": [
      " 74%|███████▍  | 976/1318 [10:30<04:00,  1.42it/s]"
     ]
    },
    {
     "name": "stdout",
     "output_type": "stream",
     "text": [
      "/home/lluis/histo_lung/data/Mask_PyHIST_v2/LungAOEC_List1/000031263700363389/tilecrossed_000031263700363389.png\n"
     ]
    },
    {
     "name": "stderr",
     "output_type": "stream",
     "text": [
      " 74%|███████▍  | 977/1318 [10:30<03:41,  1.54it/s]"
     ]
    },
    {
     "name": "stdout",
     "output_type": "stream",
     "text": [
      "/home/lluis/histo_lung/data/Mask_PyHIST_v2/LungAOEC_List1/000032104600406366/tilecrossed_000032104600406366.png\n"
     ]
    },
    {
     "name": "stderr",
     "output_type": "stream",
     "text": [
      " 74%|███████▍  | 978/1318 [10:31<04:06,  1.38it/s]"
     ]
    },
    {
     "name": "stdout",
     "output_type": "stream",
     "text": [
      "/home/lluis/histo_lung/data/Mask_PyHIST_v2/LungAOEC_List1/000033807100512038/tilecrossed_000033807100512038.png\n"
     ]
    },
    {
     "name": "stderr",
     "output_type": "stream",
     "text": [
      " 74%|███████▍  | 979/1318 [10:32<03:34,  1.58it/s]"
     ]
    },
    {
     "name": "stdout",
     "output_type": "stream",
     "text": [
      "/home/lluis/histo_lung/data/Mask_PyHIST_v2/LungAOEC_List1/000031425300370433/tilecrossed_000031425300370433.png\n"
     ]
    },
    {
     "name": "stderr",
     "output_type": "stream",
     "text": [
      " 74%|███████▍  | 980/1318 [10:32<03:21,  1.68it/s]"
     ]
    },
    {
     "name": "stdout",
     "output_type": "stream",
     "text": [
      "/home/lluis/histo_lung/data/Mask_PyHIST_v2/LungAOEC_List1/000030963300346650/tilecrossed_000030963300346650.png\n"
     ]
    },
    {
     "name": "stderr",
     "output_type": "stream",
     "text": [
      " 74%|███████▍  | 981/1318 [10:34<05:11,  1.08it/s]"
     ]
    },
    {
     "name": "stdout",
     "output_type": "stream",
     "text": [
      "/home/lluis/histo_lung/data/Mask_PyHIST_v2/LungAOEC_List1/000031505500375771/tilecrossed_000031505500375771.png\n"
     ]
    },
    {
     "name": "stderr",
     "output_type": "stream",
     "text": [
      " 75%|███████▍  | 982/1318 [10:34<04:01,  1.39it/s]"
     ]
    },
    {
     "name": "stdout",
     "output_type": "stream",
     "text": [
      "/home/lluis/histo_lung/data/Mask_PyHIST_v2/LungAOEC_List1/000034641300596778/tilecrossed_000034641300596778.png\n"
     ]
    },
    {
     "name": "stderr",
     "output_type": "stream",
     "text": [
      " 75%|███████▍  | 983/1318 [10:35<03:45,  1.49it/s]"
     ]
    },
    {
     "name": "stdout",
     "output_type": "stream",
     "text": [
      "/home/lluis/histo_lung/data/Mask_PyHIST_v2/LungAOEC_List1/000031799100390263/tilecrossed_000031799100390263.png\n"
     ]
    },
    {
     "name": "stderr",
     "output_type": "stream",
     "text": [
      " 75%|███████▍  | 984/1318 [10:35<03:42,  1.50it/s]"
     ]
    },
    {
     "name": "stdout",
     "output_type": "stream",
     "text": [
      "/home/lluis/histo_lung/data/Mask_PyHIST_v2/LungAOEC_List1/000032368400420529/tilecrossed_000032368400420529.png\n"
     ]
    },
    {
     "name": "stderr",
     "output_type": "stream",
     "text": [
      " 75%|███████▍  | 985/1318 [10:36<03:07,  1.77it/s]"
     ]
    },
    {
     "name": "stdout",
     "output_type": "stream",
     "text": [
      "/home/lluis/histo_lung/data/Mask_PyHIST_v2/LungAOEC_List1/000031340300367688/tilecrossed_000031340300367688.png\n"
     ]
    },
    {
     "name": "stderr",
     "output_type": "stream",
     "text": [
      " 75%|███████▍  | 986/1318 [10:36<03:29,  1.58it/s]"
     ]
    },
    {
     "name": "stdout",
     "output_type": "stream",
     "text": [
      "/home/lluis/histo_lung/data/Mask_PyHIST_v2/LungAOEC_List1/000031172000359343/tilecrossed_000031172000359343.png\n"
     ]
    },
    {
     "name": "stderr",
     "output_type": "stream",
     "text": [
      " 75%|███████▍  | 988/1318 [10:38<03:37,  1.52it/s]"
     ]
    },
    {
     "name": "stdout",
     "output_type": "stream",
     "text": [
      "/home/lluis/histo_lung/data/Mask_PyHIST_v2/LungAOEC_List1/000029488200270028/tilecrossed_000029488200270028.png\n",
      "/home/lluis/histo_lung/data/Mask_PyHIST_v2/LungAOEC_List1/000030734200335037/tilecrossed_000030734200335037.png\n"
     ]
    },
    {
     "name": "stderr",
     "output_type": "stream",
     "text": [
      " 75%|███████▌  | 989/1318 [10:38<02:42,  2.02it/s]"
     ]
    },
    {
     "name": "stdout",
     "output_type": "stream",
     "text": [
      "/home/lluis/histo_lung/data/Mask_PyHIST_v2/LungAOEC_List1/000031172000363426/tilecrossed_000031172000363426.png\n"
     ]
    },
    {
     "name": "stderr",
     "output_type": "stream",
     "text": [
      " 75%|███████▌  | 990/1318 [10:39<03:02,  1.80it/s]"
     ]
    },
    {
     "name": "stdout",
     "output_type": "stream",
     "text": [
      "/home/lluis/histo_lung/data/Mask_PyHIST_v2/LungAOEC_List1/000034259100557564/tilecrossed_000034259100557564.png\n"
     ]
    },
    {
     "name": "stderr",
     "output_type": "stream",
     "text": [
      " 75%|███████▌  | 991/1318 [10:40<03:32,  1.54it/s]"
     ]
    },
    {
     "name": "stdout",
     "output_type": "stream",
     "text": [
      "/home/lluis/histo_lung/data/Mask_PyHIST_v2/LungAOEC_List1/000032365400420391/tilecrossed_000032365400420391.png\n"
     ]
    },
    {
     "name": "stderr",
     "output_type": "stream",
     "text": [
      " 75%|███████▌  | 992/1318 [10:40<03:25,  1.59it/s]"
     ]
    },
    {
     "name": "stdout",
     "output_type": "stream",
     "text": [
      "/home/lluis/histo_lung/data/Mask_PyHIST_v2/LungAOEC_List1/000031340300367679/tilecrossed_000031340300367679.png\n"
     ]
    },
    {
     "name": "stderr",
     "output_type": "stream",
     "text": [
      " 75%|███████▌  | 993/1318 [10:41<04:19,  1.25it/s]"
     ]
    },
    {
     "name": "stdout",
     "output_type": "stream",
     "text": [
      "/home/lluis/histo_lung/data/Mask_PyHIST_v2/LungAOEC_List1/000030508000324791/tilecrossed_000030508000324791.png\n"
     ]
    },
    {
     "name": "stderr",
     "output_type": "stream",
     "text": [
      " 75%|███████▌  | 994/1318 [10:42<03:28,  1.55it/s]"
     ]
    },
    {
     "name": "stdout",
     "output_type": "stream",
     "text": [
      "/home/lluis/histo_lung/data/Mask_PyHIST_v2/LungAOEC_List1/000035864200716339/tilecrossed_000035864200716339.png\n"
     ]
    },
    {
     "name": "stderr",
     "output_type": "stream",
     "text": [
      " 75%|███████▌  | 995/1318 [10:43<03:57,  1.36it/s]"
     ]
    },
    {
     "name": "stdout",
     "output_type": "stream",
     "text": [
      "/home/lluis/histo_lung/data/Mask_PyHIST_v2/LungAOEC_List1/000032104600406369/tilecrossed_000032104600406369.png\n"
     ]
    },
    {
     "name": "stderr",
     "output_type": "stream",
     "text": [
      " 76%|███████▌  | 997/1318 [10:43<02:48,  1.90it/s]"
     ]
    },
    {
     "name": "stdout",
     "output_type": "stream",
     "text": [
      "/home/lluis/histo_lung/data/Mask_PyHIST_v2/LungAOEC_List1/000030640600331516/tilecrossed_000030640600331516.png\n",
      "/home/lluis/histo_lung/data/Mask_PyHIST_v2/LungAOEC_List1/000031183700359376/tilecrossed_000031183700359376.png\n"
     ]
    },
    {
     "name": "stderr",
     "output_type": "stream",
     "text": [
      " 76%|███████▌  | 998/1318 [10:44<03:31,  1.51it/s]"
     ]
    },
    {
     "name": "stdout",
     "output_type": "stream",
     "text": [
      "/home/lluis/histo_lung/data/Mask_PyHIST_v2/LungAOEC_List1/000035418500670525/tilecrossed_000035418500670525.png\n"
     ]
    },
    {
     "name": "stderr",
     "output_type": "stream",
     "text": [
      " 76%|███████▌  | 999/1318 [10:45<03:36,  1.48it/s]"
     ]
    },
    {
     "name": "stdout",
     "output_type": "stream",
     "text": [
      "/home/lluis/histo_lung/data/Mask_PyHIST_v2/LungAOEC_List1/000033629400505441/tilecrossed_000033629400505441.png\n"
     ]
    },
    {
     "name": "stderr",
     "output_type": "stream",
     "text": [
      " 76%|███████▌  | 1000/1318 [10:46<03:14,  1.63it/s]"
     ]
    },
    {
     "name": "stdout",
     "output_type": "stream",
     "text": [
      "/home/lluis/histo_lung/data/Mask_PyHIST_v2/LungAOEC_List1/000031891500397273/tilecrossed_000031891500397273.png\n"
     ]
    },
    {
     "name": "stderr",
     "output_type": "stream",
     "text": [
      " 76%|███████▌  | 1001/1318 [10:46<03:08,  1.68it/s]"
     ]
    },
    {
     "name": "stdout",
     "output_type": "stream",
     "text": [
      "/home/lluis/histo_lung/data/Mask_PyHIST_v2/LungAOEC_List1/000033780900509842/tilecrossed_000033780900509842.png\n"
     ]
    },
    {
     "name": "stderr",
     "output_type": "stream",
     "text": [
      " 76%|███████▌  | 1002/1318 [10:47<03:08,  1.67it/s]"
     ]
    },
    {
     "name": "stdout",
     "output_type": "stream",
     "text": [
      "/home/lluis/histo_lung/data/Mask_PyHIST_v2/LungAOEC_List1/000036131400747818/tilecrossed_000036131400747818.png\n"
     ]
    },
    {
     "name": "stderr",
     "output_type": "stream",
     "text": [
      " 76%|███████▌  | 1003/1318 [10:47<02:51,  1.84it/s]"
     ]
    },
    {
     "name": "stdout",
     "output_type": "stream",
     "text": [
      "/home/lluis/histo_lung/data/Mask_PyHIST_v2/LungAOEC_List1/000032365400422627/tilecrossed_000032365400422627.png\n"
     ]
    },
    {
     "name": "stderr",
     "output_type": "stream",
     "text": [
      " 76%|███████▌  | 1004/1318 [10:48<02:59,  1.75it/s]"
     ]
    },
    {
     "name": "stdout",
     "output_type": "stream",
     "text": [
      "/home/lluis/histo_lung/data/Mask_PyHIST_v2/LungAOEC_List1/000032128000404968/tilecrossed_000032128000404968.png\n"
     ]
    },
    {
     "name": "stderr",
     "output_type": "stream",
     "text": [
      " 76%|███████▋  | 1005/1318 [10:48<03:17,  1.59it/s]"
     ]
    },
    {
     "name": "stdout",
     "output_type": "stream",
     "text": [
      "/home/lluis/histo_lung/data/Mask_PyHIST_v2/LungAOEC_List1/000035865700716616/tilecrossed_000035865700716616.png\n"
     ]
    },
    {
     "name": "stderr",
     "output_type": "stream",
     "text": [
      " 76%|███████▋  | 1006/1318 [10:49<03:09,  1.65it/s]"
     ]
    },
    {
     "name": "stdout",
     "output_type": "stream",
     "text": [
      "/home/lluis/histo_lung/data/Mask_PyHIST_v2/LungAOEC_List1/000030490000322446/tilecrossed_000030490000322446.png\n"
     ]
    },
    {
     "name": "stderr",
     "output_type": "stream",
     "text": [
      " 76%|███████▋  | 1007/1318 [10:49<02:48,  1.84it/s]"
     ]
    },
    {
     "name": "stdout",
     "output_type": "stream",
     "text": [
      "/home/lluis/histo_lung/data/Mask_PyHIST_v2/LungAOEC_List1/000029496800270417/tilecrossed_000029496800270417.png\n",
      "/home/lluis/histo_lung/data/Mask_PyHIST_v2/LungAOEC_List1/000032031400402951/tilecrossed_000032031400402951.png\n"
     ]
    },
    {
     "name": "stderr",
     "output_type": "stream",
     "text": [
      " 77%|███████▋  | 1010/1318 [10:50<02:03,  2.49it/s]"
     ]
    },
    {
     "name": "stdout",
     "output_type": "stream",
     "text": [
      "/home/lluis/histo_lung/data/Mask_PyHIST_v2/LungAOEC_List1/000029488200270027/tilecrossed_000029488200270027.png\n",
      "/home/lluis/histo_lung/data/Mask_PyHIST_v2/LungAOEC_List1/000030717900334730/tilecrossed_000030717900334730.png\n"
     ]
    },
    {
     "name": "stderr",
     "output_type": "stream",
     "text": [
      " 77%|███████▋  | 1011/1318 [10:52<03:19,  1.54it/s]"
     ]
    },
    {
     "name": "stdout",
     "output_type": "stream",
     "text": [
      "/home/lluis/histo_lung/data/Mask_PyHIST_v2/LungAOEC_List1/000033990600532773/tilecrossed_000033990600532773.png\n"
     ]
    },
    {
     "name": "stderr",
     "output_type": "stream",
     "text": [
      " 77%|███████▋  | 1012/1318 [10:52<03:25,  1.49it/s]"
     ]
    },
    {
     "name": "stdout",
     "output_type": "stream",
     "text": [
      "/home/lluis/histo_lung/data/Mask_PyHIST_v2/LungAOEC_List1/000031802200391073/tilecrossed_000031802200391073.png\n"
     ]
    },
    {
     "name": "stderr",
     "output_type": "stream",
     "text": [
      " 77%|███████▋  | 1013/1318 [10:53<03:37,  1.40it/s]"
     ]
    },
    {
     "name": "stdout",
     "output_type": "stream",
     "text": [
      "/home/lluis/histo_lung/data/Mask_PyHIST_v2/LungAOEC_List1/000032104600406367/tilecrossed_000032104600406367.png\n"
     ]
    },
    {
     "name": "stderr",
     "output_type": "stream",
     "text": [
      " 77%|███████▋  | 1014/1318 [10:54<03:48,  1.33it/s]"
     ]
    },
    {
     "name": "stdout",
     "output_type": "stream",
     "text": [
      "/home/lluis/histo_lung/data/Mask_PyHIST_v2/LungAOEC_List1/000032031400402957/tilecrossed_000032031400402957.png\n"
     ]
    },
    {
     "name": "stderr",
     "output_type": "stream",
     "text": [
      " 77%|███████▋  | 1015/1318 [10:55<04:14,  1.19it/s]"
     ]
    },
    {
     "name": "stdout",
     "output_type": "stream",
     "text": [
      "/home/lluis/histo_lung/data/Mask_PyHIST_v2/LungAOEC_List1/000033385000484318/tilecrossed_000033385000484318.png\n"
     ]
    },
    {
     "name": "stderr",
     "output_type": "stream",
     "text": [
      " 77%|███████▋  | 1016/1318 [10:55<03:17,  1.53it/s]"
     ]
    },
    {
     "name": "stdout",
     "output_type": "stream",
     "text": [
      "/home/lluis/histo_lung/data/Mask_PyHIST_v2/LungAOEC_List1/000030963300346645/tilecrossed_000030963300346645.png\n"
     ]
    },
    {
     "name": "stderr",
     "output_type": "stream",
     "text": [
      " 77%|███████▋  | 1017/1318 [10:56<03:06,  1.61it/s]"
     ]
    },
    {
     "name": "stdout",
     "output_type": "stream",
     "text": [
      "/home/lluis/histo_lung/data/Mask_PyHIST_v2/LungAOEC_List1/000032031400402947/tilecrossed_000032031400402947.png\n"
     ]
    },
    {
     "name": "stderr",
     "output_type": "stream",
     "text": [
      " 77%|███████▋  | 1018/1318 [10:57<03:26,  1.46it/s]"
     ]
    },
    {
     "name": "stdout",
     "output_type": "stream",
     "text": [
      "/home/lluis/histo_lung/data/Mask_PyHIST_v2/LungAOEC_List1/000030961000347399/tilecrossed_000030961000347399.png\n"
     ]
    },
    {
     "name": "stderr",
     "output_type": "stream",
     "text": [
      " 77%|███████▋  | 1019/1318 [10:57<03:10,  1.57it/s]"
     ]
    },
    {
     "name": "stdout",
     "output_type": "stream",
     "text": [
      "/home/lluis/histo_lung/data/Mask_PyHIST_v2/LungAOEC_List1/000031542100377929/tilecrossed_000031542100377929.png\n"
     ]
    },
    {
     "name": "stderr",
     "output_type": "stream",
     "text": [
      " 77%|███████▋  | 1020/1318 [10:58<03:22,  1.47it/s]"
     ]
    },
    {
     "name": "stdout",
     "output_type": "stream",
     "text": [
      "/home/lluis/histo_lung/data/Mask_PyHIST_v2/LungAOEC_List1/000032373100420764/tilecrossed_000032373100420764.png\n"
     ]
    },
    {
     "name": "stderr",
     "output_type": "stream",
     "text": [
      " 77%|███████▋  | 1021/1318 [10:59<04:25,  1.12it/s]"
     ]
    },
    {
     "name": "stdout",
     "output_type": "stream",
     "text": [
      "/home/lluis/histo_lung/data/Mask_PyHIST_v2/LungAOEC_List1/000030907600344596/tilecrossed_000030907600344596.png\n"
     ]
    },
    {
     "name": "stderr",
     "output_type": "stream",
     "text": [
      " 78%|███████▊  | 1022/1318 [11:01<04:55,  1.00it/s]"
     ]
    },
    {
     "name": "stdout",
     "output_type": "stream",
     "text": [
      "/home/lluis/histo_lung/data/Mask_PyHIST_v2/LungAOEC_List1/000034259100558312/tilecrossed_000034259100558312.png\n"
     ]
    },
    {
     "name": "stderr",
     "output_type": "stream",
     "text": [
      " 78%|███████▊  | 1023/1318 [11:02<04:46,  1.03it/s]"
     ]
    },
    {
     "name": "stdout",
     "output_type": "stream",
     "text": [
      "/home/lluis/histo_lung/data/Mask_PyHIST_v2/LungAOEC_List1/000031542100377936/tilecrossed_000031542100377936.png\n"
     ]
    },
    {
     "name": "stderr",
     "output_type": "stream",
     "text": [
      " 78%|███████▊  | 1024/1318 [11:02<03:45,  1.31it/s]"
     ]
    },
    {
     "name": "stdout",
     "output_type": "stream",
     "text": [
      "/home/lluis/histo_lung/data/Mask_PyHIST_v2/LungAOEC_List1/000030508000324799/tilecrossed_000030508000324799.png\n"
     ]
    },
    {
     "name": "stderr",
     "output_type": "stream",
     "text": [
      " 78%|███████▊  | 1026/1318 [11:02<02:16,  2.13it/s]"
     ]
    },
    {
     "name": "stdout",
     "output_type": "stream",
     "text": [
      "/home/lluis/histo_lung/data/Mask_PyHIST_v2/LungAOEC_List1/000030487200323371/tilecrossed_000030487200323371.png\n",
      "/home/lluis/histo_lung/data/Mask_PyHIST_v2/LungAOEC_List1/000032031400402953/tilecrossed_000032031400402953.png\n"
     ]
    },
    {
     "name": "stderr",
     "output_type": "stream",
     "text": [
      " 78%|███████▊  | 1027/1318 [11:03<02:36,  1.86it/s]"
     ]
    },
    {
     "name": "stdout",
     "output_type": "stream",
     "text": [
      "/home/lluis/histo_lung/data/Mask_PyHIST_v2/LungAOEC_List1/000030640600331513/tilecrossed_000030640600331513.png\n"
     ]
    },
    {
     "name": "stderr",
     "output_type": "stream",
     "text": [
      " 78%|███████▊  | 1028/1318 [11:03<02:10,  2.22it/s]"
     ]
    },
    {
     "name": "stdout",
     "output_type": "stream",
     "text": [
      "/home/lluis/histo_lung/data/Mask_PyHIST_v2/LungAOEC_List1/000031106000354917/tilecrossed_000031106000354917.png\n"
     ]
    },
    {
     "name": "stderr",
     "output_type": "stream",
     "text": [
      " 78%|███████▊  | 1029/1318 [11:05<03:21,  1.44it/s]"
     ]
    },
    {
     "name": "stdout",
     "output_type": "stream",
     "text": [
      "/home/lluis/histo_lung/data/Mask_PyHIST_v2/LungAOEC_List1/000031725000384433/tilecrossed_000031725000384433.png\n"
     ]
    },
    {
     "name": "stderr",
     "output_type": "stream",
     "text": [
      " 78%|███████▊  | 1030/1318 [11:05<02:46,  1.73it/s]"
     ]
    },
    {
     "name": "stdout",
     "output_type": "stream",
     "text": [
      "/home/lluis/histo_lung/data/Mask_PyHIST_v2/LungAOEC_List1/000031340300367686/tilecrossed_000031340300367686.png\n"
     ]
    },
    {
     "name": "stderr",
     "output_type": "stream",
     "text": [
      " 78%|███████▊  | 1031/1318 [11:06<03:04,  1.55it/s]"
     ]
    },
    {
     "name": "stdout",
     "output_type": "stream",
     "text": [
      "/home/lluis/histo_lung/data/Mask_PyHIST_v2/LungAOEC_List1/000036434500773564/tilecrossed_000036434500773564.png\n"
     ]
    },
    {
     "name": "stderr",
     "output_type": "stream",
     "text": [
      " 78%|███████▊  | 1032/1318 [11:06<03:08,  1.52it/s]"
     ]
    },
    {
     "name": "stdout",
     "output_type": "stream",
     "text": [
      "/home/lluis/histo_lung/data/Mask_PyHIST_v2/LungAOEC_List1/000031913700397354/tilecrossed_000031913700397354.png\n"
     ]
    },
    {
     "name": "stderr",
     "output_type": "stream",
     "text": [
      " 78%|███████▊  | 1034/1318 [11:07<02:29,  1.91it/s]"
     ]
    },
    {
     "name": "stdout",
     "output_type": "stream",
     "text": [
      "/home/lluis/histo_lung/data/Mask_PyHIST_v2/LungAOEC_List1/000033477900494771/tilecrossed_000033477900494771.png\n",
      "/home/lluis/histo_lung/data/Mask_PyHIST_v2/LungAOEC_List1/000035702200697020/tilecrossed_000035702200697020.png\n"
     ]
    },
    {
     "name": "stderr",
     "output_type": "stream",
     "text": [
      " 79%|███████▊  | 1035/1318 [11:08<02:41,  1.76it/s]"
     ]
    },
    {
     "name": "stdout",
     "output_type": "stream",
     "text": [
      "/home/lluis/histo_lung/data/Mask_PyHIST_v2/LungAOEC_List1/000031016200565066/tilecrossed_000031016200565066.png\n"
     ]
    },
    {
     "name": "stderr",
     "output_type": "stream",
     "text": [
      " 79%|███████▊  | 1036/1318 [11:08<02:39,  1.77it/s]"
     ]
    },
    {
     "name": "stdout",
     "output_type": "stream",
     "text": [
      "/home/lluis/histo_lung/data/Mask_PyHIST_v2/LungAOEC_List1/000033807100521355/tilecrossed_000033807100521355.png\n"
     ]
    },
    {
     "name": "stderr",
     "output_type": "stream",
     "text": [
      " 79%|███████▉  | 1038/1318 [11:09<02:14,  2.08it/s]"
     ]
    },
    {
     "name": "stdout",
     "output_type": "stream",
     "text": [
      "/home/lluis/histo_lung/data/Mask_PyHIST_v2/LungAOEC_List1/000030734600335050/tilecrossed_000030734600335050.png\n",
      "/home/lluis/histo_lung/data/Mask_PyHIST_v2/LungAOEC_List1/000031542100377930/tilecrossed_000031542100377930.png\n"
     ]
    },
    {
     "name": "stderr",
     "output_type": "stream",
     "text": [
      " 79%|███████▉  | 1039/1318 [11:10<02:27,  1.89it/s]"
     ]
    },
    {
     "name": "stdout",
     "output_type": "stream",
     "text": [
      "/home/lluis/histo_lung/data/Mask_PyHIST_v2/LungAOEC_List1/000030412700319321/tilecrossed_000030412700319321.png\n"
     ]
    },
    {
     "name": "stderr",
     "output_type": "stream",
     "text": [
      " 79%|███████▉  | 1040/1318 [11:10<02:13,  2.09it/s]"
     ]
    },
    {
     "name": "stdout",
     "output_type": "stream",
     "text": [
      "/home/lluis/histo_lung/data/Mask_PyHIST_v2/LungAOEC_List1/000035702200697024/tilecrossed_000035702200697024.png\n"
     ]
    },
    {
     "name": "stderr",
     "output_type": "stream",
     "text": [
      " 79%|███████▉  | 1041/1318 [11:11<02:38,  1.74it/s]"
     ]
    },
    {
     "name": "stdout",
     "output_type": "stream",
     "text": [
      "/home/lluis/histo_lung/data/Mask_PyHIST_v2/LungAOEC_List1/000034259100557566/tilecrossed_000034259100557566.png\n"
     ]
    },
    {
     "name": "stderr",
     "output_type": "stream",
     "text": [
      " 79%|███████▉  | 1042/1318 [11:12<02:43,  1.69it/s]"
     ]
    },
    {
     "name": "stdout",
     "output_type": "stream",
     "text": [
      "/home/lluis/histo_lung/data/Mask_PyHIST_v2/LungAOEC_List1/000034043200539958/tilecrossed_000034043200539958.png\n"
     ]
    },
    {
     "name": "stderr",
     "output_type": "stream",
     "text": [
      " 79%|███████▉  | 1043/1318 [11:13<03:01,  1.51it/s]"
     ]
    },
    {
     "name": "stdout",
     "output_type": "stream",
     "text": [
      "/home/lluis/histo_lung/data/Mask_PyHIST_v2/LungAOEC_List1/000031542100377939/tilecrossed_000031542100377939.png\n"
     ]
    },
    {
     "name": "stderr",
     "output_type": "stream",
     "text": [
      " 79%|███████▉  | 1044/1318 [11:13<03:13,  1.41it/s]"
     ]
    },
    {
     "name": "stdout",
     "output_type": "stream",
     "text": [
      "/home/lluis/histo_lung/data/Mask_PyHIST_v2/LungAOEC_List1/000029269500258388/tilecrossed_000029269500258388.png\n",
      "/home/lluis/histo_lung/data/Mask_PyHIST_v2/LungAOEC_List1/000031542100377944/tilecrossed_000031542100377944.png\n"
     ]
    },
    {
     "name": "stderr",
     "output_type": "stream",
     "text": [
      " 79%|███████▉  | 1046/1318 [11:14<02:36,  1.74it/s]"
     ]
    },
    {
     "name": "stdout",
     "output_type": "stream",
     "text": [
      "/home/lluis/histo_lung/data/Mask_PyHIST_v2/LungAOEC_List1/000034939400624568/tilecrossed_000034939400624568.png\n"
     ]
    },
    {
     "name": "stderr",
     "output_type": "stream",
     "text": [
      " 79%|███████▉  | 1047/1318 [11:15<02:20,  1.93it/s]"
     ]
    },
    {
     "name": "stdout",
     "output_type": "stream",
     "text": [
      "/home/lluis/histo_lung/data/Mask_PyHIST_v2/LungAOEC_List1/000030412700319319/tilecrossed_000030412700319319.png\n"
     ]
    },
    {
     "name": "stderr",
     "output_type": "stream",
     "text": [
      " 80%|███████▉  | 1048/1318 [11:16<03:12,  1.40it/s]"
     ]
    },
    {
     "name": "stdout",
     "output_type": "stream",
     "text": [
      "/home/lluis/histo_lung/data/Mask_PyHIST_v2/LungAOEC_List1/000031224800361423/tilecrossed_000031224800361423.png\n"
     ]
    },
    {
     "name": "stderr",
     "output_type": "stream",
     "text": [
      " 80%|███████▉  | 1049/1318 [11:17<03:09,  1.42it/s]"
     ]
    },
    {
     "name": "stdout",
     "output_type": "stream",
     "text": [
      "/home/lluis/histo_lung/data/Mask_PyHIST_v2/LungAOEC_List1/000031206300360816/tilecrossed_000031206300360816.png\n"
     ]
    },
    {
     "name": "stderr",
     "output_type": "stream",
     "text": [
      " 80%|███████▉  | 1051/1318 [11:17<02:26,  1.82it/s]"
     ]
    },
    {
     "name": "stdout",
     "output_type": "stream",
     "text": [
      "/home/lluis/histo_lung/data/Mask_PyHIST_v2/LungAOEC_List1/000030734600335049/tilecrossed_000030734600335049.png\n",
      "/home/lluis/histo_lung/data/Mask_PyHIST_v2/LungAOEC_List1/000031172000359338/tilecrossed_000031172000359338.png\n"
     ]
    },
    {
     "name": "stderr",
     "output_type": "stream",
     "text": [
      " 80%|███████▉  | 1052/1318 [11:18<02:34,  1.73it/s]"
     ]
    },
    {
     "name": "stdout",
     "output_type": "stream",
     "text": [
      "/home/lluis/histo_lung/data/Mask_PyHIST_v2/LungAOEC_List1/000031340300367689/tilecrossed_000031340300367689.png\n"
     ]
    },
    {
     "name": "stderr",
     "output_type": "stream",
     "text": [
      " 80%|███████▉  | 1053/1318 [11:18<02:04,  2.12it/s]"
     ]
    },
    {
     "name": "stdout",
     "output_type": "stream",
     "text": [
      "/home/lluis/histo_lung/data/Mask_PyHIST_v2/LungAOEC_List1/000036131400747834/tilecrossed_000036131400747834.png\n"
     ]
    },
    {
     "name": "stderr",
     "output_type": "stream",
     "text": [
      " 80%|███████▉  | 1054/1318 [11:19<02:09,  2.04it/s]"
     ]
    },
    {
     "name": "stdout",
     "output_type": "stream",
     "text": [
      "/home/lluis/histo_lung/data/Mask_PyHIST_v2/LungAOEC_List1/000031891500397270/tilecrossed_000031891500397270.png\n"
     ]
    },
    {
     "name": "stderr",
     "output_type": "stream",
     "text": [
      " 80%|████████  | 1055/1318 [11:19<02:07,  2.07it/s]"
     ]
    },
    {
     "name": "stdout",
     "output_type": "stream",
     "text": [
      "/home/lluis/histo_lung/data/Mask_PyHIST_v2/LungAOEC_List1/000034641300596766/tilecrossed_000034641300596766.png\n"
     ]
    },
    {
     "name": "stderr",
     "output_type": "stream",
     "text": [
      " 80%|████████  | 1056/1318 [11:20<02:24,  1.81it/s]"
     ]
    },
    {
     "name": "stdout",
     "output_type": "stream",
     "text": [
      "/home/lluis/histo_lung/data/Mask_PyHIST_v2/LungAOEC_List1/000031340300367680/tilecrossed_000031340300367680.png\n"
     ]
    },
    {
     "name": "stderr",
     "output_type": "stream",
     "text": [
      " 80%|████████  | 1057/1318 [11:21<02:55,  1.48it/s]"
     ]
    },
    {
     "name": "stdout",
     "output_type": "stream",
     "text": [
      "/home/lluis/histo_lung/data/Mask_PyHIST_v2/LungAOEC_List1/000031913700397360/tilecrossed_000031913700397360.png\n"
     ]
    },
    {
     "name": "stderr",
     "output_type": "stream",
     "text": [
      " 80%|████████  | 1058/1318 [11:22<02:55,  1.48it/s]"
     ]
    },
    {
     "name": "stdout",
     "output_type": "stream",
     "text": [
      "/home/lluis/histo_lung/data/Mask_PyHIST_v2/LungAOEC_List1/000033610500503864/tilecrossed_000033610500503864.png\n"
     ]
    },
    {
     "name": "stderr",
     "output_type": "stream",
     "text": [
      " 80%|████████  | 1059/1318 [11:22<02:33,  1.69it/s]"
     ]
    },
    {
     "name": "stdout",
     "output_type": "stream",
     "text": [
      "/home/lluis/histo_lung/data/Mask_PyHIST_v2/LungAOEC_List1/000036131400747884/tilecrossed_000036131400747884.png\n"
     ]
    },
    {
     "name": "stderr",
     "output_type": "stream",
     "text": [
      " 81%|████████  | 1061/1318 [11:23<01:56,  2.21it/s]"
     ]
    },
    {
     "name": "stdout",
     "output_type": "stream",
     "text": [
      "/home/lluis/histo_lung/data/Mask_PyHIST_v2/LungAOEC_List1/000030689200333244/tilecrossed_000030689200333244.png\n",
      "/home/lluis/histo_lung/data/Mask_PyHIST_v2/LungAOEC_List1/000032269300412031/tilecrossed_000032269300412031.png\n"
     ]
    },
    {
     "name": "stderr",
     "output_type": "stream",
     "text": [
      " 81%|████████  | 1062/1318 [11:23<02:22,  1.80it/s]"
     ]
    },
    {
     "name": "stdout",
     "output_type": "stream",
     "text": [
      "/home/lluis/histo_lung/data/Mask_PyHIST_v2/LungAOEC_List1/000031263700363386/tilecrossed_000031263700363386.png\n"
     ]
    },
    {
     "name": "stderr",
     "output_type": "stream",
     "text": [
      " 81%|████████  | 1063/1318 [11:24<02:46,  1.53it/s]"
     ]
    },
    {
     "name": "stdout",
     "output_type": "stream",
     "text": [
      "/home/lluis/histo_lung/data/Mask_PyHIST_v2/LungAOEC_List1/000033610500503866/tilecrossed_000033610500503866.png\n"
     ]
    },
    {
     "name": "stderr",
     "output_type": "stream",
     "text": [
      " 81%|████████  | 1064/1318 [11:25<02:36,  1.62it/s]"
     ]
    },
    {
     "name": "stdout",
     "output_type": "stream",
     "text": [
      "/home/lluis/histo_lung/data/Mask_PyHIST_v2/LungAOEC_List1/000032347800419867/tilecrossed_000032347800419867.png\n"
     ]
    },
    {
     "name": "stderr",
     "output_type": "stream",
     "text": [
      " 81%|████████  | 1066/1318 [11:26<02:11,  1.91it/s]"
     ]
    },
    {
     "name": "stdout",
     "output_type": "stream",
     "text": [
      "/home/lluis/histo_lung/data/Mask_PyHIST_v2/LungAOEC_List1/000030473100323233/tilecrossed_000030473100323233.png\n",
      "/home/lluis/histo_lung/data/Mask_PyHIST_v2/LungAOEC_List1/000030961000347404/tilecrossed_000030961000347404.png\n"
     ]
    },
    {
     "name": "stderr",
     "output_type": "stream",
     "text": [
      " 81%|████████  | 1067/1318 [11:27<03:00,  1.39it/s]"
     ]
    },
    {
     "name": "stdout",
     "output_type": "stream",
     "text": [
      "/home/lluis/histo_lung/data/Mask_PyHIST_v2/LungAOEC_List1/000033990600532779/tilecrossed_000033990600532779.png\n"
     ]
    },
    {
     "name": "stderr",
     "output_type": "stream",
     "text": [
      " 81%|████████  | 1068/1318 [11:28<02:46,  1.50it/s]"
     ]
    },
    {
     "name": "stdout",
     "output_type": "stream",
     "text": [
      "/home/lluis/histo_lung/data/Mask_PyHIST_v2/LungAOEC_List1/000032005900398894/tilecrossed_000032005900398894.png\n"
     ]
    },
    {
     "name": "stderr",
     "output_type": "stream",
     "text": [
      " 81%|████████  | 1069/1318 [11:28<02:21,  1.76it/s]"
     ]
    },
    {
     "name": "stdout",
     "output_type": "stream",
     "text": [
      "/home/lluis/histo_lung/data/Mask_PyHIST_v2/LungAOEC_List1/000031292100364432/tilecrossed_000031292100364432.png\n"
     ]
    },
    {
     "name": "stderr",
     "output_type": "stream",
     "text": [
      " 81%|████████  | 1070/1318 [11:29<02:28,  1.67it/s]"
     ]
    },
    {
     "name": "stdout",
     "output_type": "stream",
     "text": [
      "/home/lluis/histo_lung/data/Mask_PyHIST_v2/LungAOEC_List1/000033990600532771/tilecrossed_000033990600532771.png\n"
     ]
    },
    {
     "name": "stderr",
     "output_type": "stream",
     "text": [
      " 81%|████████▏ | 1071/1318 [11:29<02:27,  1.67it/s]"
     ]
    },
    {
     "name": "stdout",
     "output_type": "stream",
     "text": [
      "/home/lluis/histo_lung/data/Mask_PyHIST_v2/LungAOEC_List1/000034933900624076/tilecrossed_000034933900624076.png\n"
     ]
    },
    {
     "name": "stderr",
     "output_type": "stream",
     "text": [
      " 81%|████████▏ | 1072/1318 [11:30<02:15,  1.81it/s]"
     ]
    },
    {
     "name": "stdout",
     "output_type": "stream",
     "text": [
      "/home/lluis/histo_lung/data/Mask_PyHIST_v2/LungAOEC_List1/000031102600354895/tilecrossed_000031102600354895.png\n"
     ]
    },
    {
     "name": "stderr",
     "output_type": "stream",
     "text": [
      " 81%|████████▏ | 1073/1318 [11:30<02:31,  1.62it/s]"
     ]
    },
    {
     "name": "stdout",
     "output_type": "stream",
     "text": [
      "/home/lluis/histo_lung/data/Mask_PyHIST_v2/LungAOEC_List1/000034238100556679/tilecrossed_000034238100556679.png\n"
     ]
    },
    {
     "name": "stderr",
     "output_type": "stream",
     "text": [
      " 81%|████████▏ | 1074/1318 [11:31<02:45,  1.47it/s]"
     ]
    },
    {
     "name": "stdout",
     "output_type": "stream",
     "text": [
      "/home/lluis/histo_lung/data/Mask_PyHIST_v2/LungAOEC_List1/000034101300540428/tilecrossed_000034101300540428.png\n"
     ]
    },
    {
     "name": "stderr",
     "output_type": "stream",
     "text": [
      " 82%|████████▏ | 1075/1318 [11:32<02:53,  1.40it/s]"
     ]
    },
    {
     "name": "stdout",
     "output_type": "stream",
     "text": [
      "/home/lluis/histo_lung/data/Mask_PyHIST_v2/LungAOEC_List1/000033990600532777/tilecrossed_000033990600532777.png\n"
     ]
    },
    {
     "name": "stderr",
     "output_type": "stream",
     "text": [
      " 82%|████████▏ | 1076/1318 [11:33<02:36,  1.55it/s]"
     ]
    },
    {
     "name": "stdout",
     "output_type": "stream",
     "text": [
      "/home/lluis/histo_lung/data/Mask_PyHIST_v2/LungAOEC_List1/000035864200715849/tilecrossed_000035864200715849.png\n"
     ]
    },
    {
     "name": "stderr",
     "output_type": "stream",
     "text": [
      " 82%|████████▏ | 1077/1318 [11:33<02:16,  1.77it/s]"
     ]
    },
    {
     "name": "stdout",
     "output_type": "stream",
     "text": [
      "/home/lluis/histo_lung/data/Mask_PyHIST_v2/LungAOEC_List1/000029496800270408/tilecrossed_000029496800270408.png\n"
     ]
    },
    {
     "name": "stderr",
     "output_type": "stream",
     "text": [
      " 82%|████████▏ | 1078/1318 [11:33<01:49,  2.18it/s]"
     ]
    },
    {
     "name": "stdout",
     "output_type": "stream",
     "text": [
      "/home/lluis/histo_lung/data/Mask_PyHIST_v2/LungAOEC_List1/000032031400402950/tilecrossed_000032031400402950.png\n"
     ]
    },
    {
     "name": "stderr",
     "output_type": "stream",
     "text": [
      " 82%|████████▏ | 1080/1318 [11:34<01:50,  2.15it/s]"
     ]
    },
    {
     "name": "stdout",
     "output_type": "stream",
     "text": [
      "/home/lluis/histo_lung/data/Mask_PyHIST_v2/LungAOEC_List1/000029496800270407/tilecrossed_000029496800270407.png\n",
      "/home/lluis/histo_lung/data/Mask_PyHIST_v2/LungAOEC_List1/000031505500375769/tilecrossed_000031505500375769.png\n"
     ]
    },
    {
     "name": "stderr",
     "output_type": "stream",
     "text": [
      " 82%|████████▏ | 1081/1318 [11:35<02:24,  1.64it/s]"
     ]
    },
    {
     "name": "stdout",
     "output_type": "stream",
     "text": [
      "/home/lluis/histo_lung/data/Mask_PyHIST_v2/LungAOEC_List1/000030689600333377/tilecrossed_000030689600333377.png\n",
      "/home/lluis/histo_lung/data/Mask_PyHIST_v2/LungAOEC_List1/000036131400747832/tilecrossed_000036131400747832.png\n"
     ]
    },
    {
     "name": "stderr",
     "output_type": "stream",
     "text": [
      " 82%|████████▏ | 1083/1318 [11:36<01:49,  2.15it/s]"
     ]
    },
    {
     "name": "stdout",
     "output_type": "stream",
     "text": [
      "/home/lluis/histo_lung/data/Mask_PyHIST_v2/LungAOEC_List1/000033807100521351/tilecrossed_000033807100521351.png\n"
     ]
    },
    {
     "name": "stderr",
     "output_type": "stream",
     "text": [
      " 82%|████████▏ | 1084/1318 [11:36<01:48,  2.17it/s]"
     ]
    },
    {
     "name": "stdout",
     "output_type": "stream",
     "text": [
      "/home/lluis/histo_lung/data/Mask_PyHIST_v2/LungAOEC_List1/000030438500320112/tilecrossed_000030438500320112.png\n"
     ]
    },
    {
     "name": "stderr",
     "output_type": "stream",
     "text": [
      " 82%|████████▏ | 1085/1318 [11:37<01:57,  1.99it/s]"
     ]
    },
    {
     "name": "stdout",
     "output_type": "stream",
     "text": [
      "/home/lluis/histo_lung/data/Mask_PyHIST_v2/LungAOEC_List1/000029488200270022/tilecrossed_000029488200270022.png\n",
      "/home/lluis/histo_lung/data/Mask_PyHIST_v2/LungAOEC_List1/000031891500397269/tilecrossed_000031891500397269.png\n"
     ]
    },
    {
     "name": "stderr",
     "output_type": "stream",
     "text": [
      " 82%|████████▏ | 1087/1318 [11:37<01:38,  2.34it/s]"
     ]
    },
    {
     "name": "stdout",
     "output_type": "stream",
     "text": [
      "/home/lluis/histo_lung/data/Mask_PyHIST_v2/LungAOEC_List1/000031172000363425/tilecrossed_000031172000363425.png\n"
     ]
    },
    {
     "name": "stderr",
     "output_type": "stream",
     "text": [
      " 83%|████████▎ | 1089/1318 [11:38<01:30,  2.54it/s]"
     ]
    },
    {
     "name": "stdout",
     "output_type": "stream",
     "text": [
      "/home/lluis/histo_lung/data/Mask_PyHIST_v2/LungAOEC_List1/000029488200270029/tilecrossed_000029488200270029.png\n",
      "/home/lluis/histo_lung/data/Mask_PyHIST_v2/LungAOEC_List1/000035702200689393/tilecrossed_000035702200689393.png\n"
     ]
    },
    {
     "name": "stderr",
     "output_type": "stream",
     "text": [
      " 83%|████████▎ | 1090/1318 [11:39<01:45,  2.17it/s]"
     ]
    },
    {
     "name": "stdout",
     "output_type": "stream",
     "text": [
      "/home/lluis/histo_lung/data/Mask_PyHIST_v2/LungAOEC_List1/000031340300367685/tilecrossed_000031340300367685.png\n"
     ]
    },
    {
     "name": "stderr",
     "output_type": "stream",
     "text": [
      " 83%|████████▎ | 1091/1318 [11:39<01:37,  2.32it/s]"
     ]
    },
    {
     "name": "stdout",
     "output_type": "stream",
     "text": [
      "/home/lluis/histo_lung/data/Mask_PyHIST_v2/LungAOEC_List1/000031548900378094/tilecrossed_000031548900378094.png\n"
     ]
    },
    {
     "name": "stderr",
     "output_type": "stream",
     "text": [
      " 83%|████████▎ | 1092/1318 [11:39<01:25,  2.63it/s]"
     ]
    },
    {
     "name": "stdout",
     "output_type": "stream",
     "text": [
      "/home/lluis/histo_lung/data/Mask_PyHIST_v2/LungAOEC_List1/000035702200697028/tilecrossed_000035702200697028.png\n"
     ]
    },
    {
     "name": "stderr",
     "output_type": "stream",
     "text": [
      " 83%|████████▎ | 1094/1318 [11:40<01:23,  2.69it/s]"
     ]
    },
    {
     "name": "stdout",
     "output_type": "stream",
     "text": [
      "/home/lluis/histo_lung/data/Mask_PyHIST_v2/LungAOEC_List1/000029496800270413/tilecrossed_000029496800270413.png\n",
      "/home/lluis/histo_lung/data/Mask_PyHIST_v2/LungAOEC_List1/000031542100377945/tilecrossed_000031542100377945.png\n"
     ]
    },
    {
     "name": "stderr",
     "output_type": "stream",
     "text": [
      " 83%|████████▎ | 1095/1318 [11:41<01:49,  2.04it/s]"
     ]
    },
    {
     "name": "stdout",
     "output_type": "stream",
     "text": [
      "/home/lluis/histo_lung/data/Mask_PyHIST_v2/LungAOEC_List1/000036434500773566/tilecrossed_000036434500773566.png\n"
     ]
    },
    {
     "name": "stderr",
     "output_type": "stream",
     "text": [
      " 83%|████████▎ | 1096/1318 [11:42<02:08,  1.73it/s]"
     ]
    },
    {
     "name": "stdout",
     "output_type": "stream",
     "text": [
      "/home/lluis/histo_lung/data/Mask_PyHIST_v2/LungAOEC_List1/000030689200333238/tilecrossed_000030689200333238.png\n",
      "/home/lluis/histo_lung/data/Mask_PyHIST_v2/LungAOEC_List1/000030691500333350/tilecrossed_000030691500333350.png\n"
     ]
    },
    {
     "name": "stderr",
     "output_type": "stream",
     "text": [
      " 83%|████████▎ | 1098/1318 [11:42<01:23,  2.64it/s]"
     ]
    },
    {
     "name": "stdout",
     "output_type": "stream",
     "text": [
      "/home/lluis/histo_lung/data/Mask_PyHIST_v2/LungAOEC_List1/000031542100377932/tilecrossed_000031542100377932.png\n"
     ]
    },
    {
     "name": "stderr",
     "output_type": "stream",
     "text": [
      " 83%|████████▎ | 1099/1318 [11:42<01:18,  2.79it/s]"
     ]
    },
    {
     "name": "stdout",
     "output_type": "stream",
     "text": [
      "/home/lluis/histo_lung/data/Mask_PyHIST_v2/LungAOEC_List1/000034819700614007/tilecrossed_000034819700614007.png\n"
     ]
    },
    {
     "name": "stderr",
     "output_type": "stream",
     "text": [
      " 83%|████████▎ | 1100/1318 [11:43<01:13,  2.98it/s]"
     ]
    },
    {
     "name": "stdout",
     "output_type": "stream",
     "text": [
      "/home/lluis/histo_lung/data/Mask_PyHIST_v2/LungAOEC_List1/000033629400505437/tilecrossed_000033629400505437.png\n"
     ]
    },
    {
     "name": "stderr",
     "output_type": "stream",
     "text": [
      " 84%|████████▎ | 1102/1318 [11:43<00:56,  3.79it/s]"
     ]
    },
    {
     "name": "stdout",
     "output_type": "stream",
     "text": [
      "/home/lluis/histo_lung/data/Mask_PyHIST_v2/LungAOEC_List1/000033477900494767/tilecrossed_000033477900494767.png\n",
      "/home/lluis/histo_lung/data/Mask_PyHIST_v2/LungAOEC_List1/000030963300346649/tilecrossed_000030963300346649.png\n"
     ]
    },
    {
     "name": "stderr",
     "output_type": "stream",
     "text": [
      " 84%|████████▎ | 1103/1318 [11:44<01:18,  2.74it/s]"
     ]
    },
    {
     "name": "stdout",
     "output_type": "stream",
     "text": [
      "/home/lluis/histo_lung/data/Mask_PyHIST_v2/LungAOEC_List1/000032202100409318/tilecrossed_000032202100409318.png\n"
     ]
    },
    {
     "name": "stderr",
     "output_type": "stream",
     "text": [
      " 84%|████████▍ | 1104/1318 [11:44<01:24,  2.53it/s]"
     ]
    },
    {
     "name": "stdout",
     "output_type": "stream",
     "text": [
      "/home/lluis/histo_lung/data/Mask_PyHIST_v2/LungAOEC_List1/000035702200697026/tilecrossed_000035702200697026.png\n"
     ]
    },
    {
     "name": "stderr",
     "output_type": "stream",
     "text": [
      " 84%|████████▍ | 1105/1318 [11:45<01:27,  2.44it/s]"
     ]
    },
    {
     "name": "stdout",
     "output_type": "stream",
     "text": [
      "/home/lluis/histo_lung/data/Mask_PyHIST_v2/LungAOEC_List1/000032373100420776/tilecrossed_000032373100420776.png\n"
     ]
    },
    {
     "name": "stderr",
     "output_type": "stream",
     "text": [
      " 84%|████████▍ | 1106/1318 [11:45<01:33,  2.26it/s]"
     ]
    },
    {
     "name": "stdout",
     "output_type": "stream",
     "text": [
      "/home/lluis/histo_lung/data/Mask_PyHIST_v2/LungAOEC_List1/000031016200350116/tilecrossed_000031016200350116.png\n",
      "/home/lluis/histo_lung/data/Mask_PyHIST_v2/LungAOEC_List1/000031802200391070/tilecrossed_000031802200391070.png\n"
     ]
    },
    {
     "name": "stderr",
     "output_type": "stream",
     "text": [
      " 84%|████████▍ | 1108/1318 [11:46<01:30,  2.31it/s]"
     ]
    },
    {
     "name": "stdout",
     "output_type": "stream",
     "text": [
      "/home/lluis/histo_lung/data/Mask_PyHIST_v2/LungAOEC_List1/000032482000424761/tilecrossed_000032482000424761.png\n"
     ]
    },
    {
     "name": "stderr",
     "output_type": "stream",
     "text": [
      " 84%|████████▍ | 1109/1318 [11:46<01:26,  2.42it/s]"
     ]
    },
    {
     "name": "stdout",
     "output_type": "stream",
     "text": [
      "/home/lluis/histo_lung/data/Mask_PyHIST_v2/LungAOEC_List1/000032031400402942/tilecrossed_000032031400402942.png\n"
     ]
    },
    {
     "name": "stderr",
     "output_type": "stream",
     "text": [
      " 84%|████████▍ | 1110/1318 [11:47<01:24,  2.47it/s]"
     ]
    },
    {
     "name": "stdout",
     "output_type": "stream",
     "text": [
      "/home/lluis/histo_lung/data/Mask_PyHIST_v2/LungAOEC_List1/000035418500670511/tilecrossed_000035418500670511.png\n"
     ]
    },
    {
     "name": "stderr",
     "output_type": "stream",
     "text": [
      " 84%|████████▍ | 1111/1318 [11:47<01:29,  2.30it/s]"
     ]
    },
    {
     "name": "stdout",
     "output_type": "stream",
     "text": [
      "/home/lluis/histo_lung/data/Mask_PyHIST_v2/LungAOEC_List1/000031725000387182/tilecrossed_000031725000387182.png\n"
     ]
    },
    {
     "name": "stderr",
     "output_type": "stream",
     "text": [
      " 84%|████████▍ | 1112/1318 [11:48<01:32,  2.23it/s]"
     ]
    },
    {
     "name": "stdout",
     "output_type": "stream",
     "text": [
      "/home/lluis/histo_lung/data/Mask_PyHIST_v2/LungAOEC_List1/000034641300596764/tilecrossed_000034641300596764.png\n"
     ]
    },
    {
     "name": "stderr",
     "output_type": "stream",
     "text": [
      " 84%|████████▍ | 1113/1318 [11:48<01:47,  1.91it/s]"
     ]
    },
    {
     "name": "stdout",
     "output_type": "stream",
     "text": [
      "/home/lluis/histo_lung/data/Mask_PyHIST_v2/LungAOEC_List1/000031891500397271/tilecrossed_000031891500397271.png\n"
     ]
    },
    {
     "name": "stderr",
     "output_type": "stream",
     "text": [
      " 85%|████████▍ | 1114/1318 [11:49<01:49,  1.87it/s]"
     ]
    },
    {
     "name": "stdout",
     "output_type": "stream",
     "text": [
      "/home/lluis/histo_lung/data/Mask_PyHIST_v2/LungAOEC_List1/000031505500375768/tilecrossed_000031505500375768.png\n"
     ]
    },
    {
     "name": "stderr",
     "output_type": "stream",
     "text": [
      " 85%|████████▍ | 1115/1318 [11:50<02:15,  1.50it/s]"
     ]
    },
    {
     "name": "stdout",
     "output_type": "stream",
     "text": [
      "/home/lluis/histo_lung/data/Mask_PyHIST_v2/LungAOEC_List1/000031206300360810/tilecrossed_000031206300360810.png\n"
     ]
    },
    {
     "name": "stderr",
     "output_type": "stream",
     "text": [
      " 85%|████████▍ | 1117/1318 [11:50<01:29,  2.26it/s]"
     ]
    },
    {
     "name": "stdout",
     "output_type": "stream",
     "text": [
      "/home/lluis/histo_lung/data/Mask_PyHIST_v2/LungAOEC_List1/000033385000484308/tilecrossed_000033385000484308.png\n",
      "/home/lluis/histo_lung/data/Mask_PyHIST_v2/LungAOEC_List1/000033478000483965/tilecrossed_000033478000483965.png\n"
     ]
    },
    {
     "name": "stderr",
     "output_type": "stream",
     "text": [
      " 85%|████████▍ | 1118/1318 [11:51<01:08,  2.90it/s]"
     ]
    },
    {
     "name": "stdout",
     "output_type": "stream",
     "text": [
      "/home/lluis/histo_lung/data/Mask_PyHIST_v2/LungAOEC_List1/000034641300596772/tilecrossed_000034641300596772.png\n"
     ]
    },
    {
     "name": "stderr",
     "output_type": "stream",
     "text": [
      " 85%|████████▍ | 1119/1318 [11:51<01:36,  2.06it/s]"
     ]
    },
    {
     "name": "stdout",
     "output_type": "stream",
     "text": [
      "/home/lluis/histo_lung/data/Mask_PyHIST_v2/LungAOEC_List1/000034261900559455/tilecrossed_000034261900559455.png\n"
     ]
    },
    {
     "name": "stderr",
     "output_type": "stream",
     "text": [
      " 85%|████████▌ | 1121/1318 [11:52<01:14,  2.63it/s]"
     ]
    },
    {
     "name": "stdout",
     "output_type": "stream",
     "text": [
      "/home/lluis/histo_lung/data/Mask_PyHIST_v2/LungAOEC_List1/000033385000484316/tilecrossed_000033385000484316.png\n",
      "/home/lluis/histo_lung/data/Mask_PyHIST_v2/LungAOEC_List1/000032098600403170/tilecrossed_000032098600403170.png\n"
     ]
    },
    {
     "name": "stderr",
     "output_type": "stream",
     "text": [
      " 85%|████████▌ | 1122/1318 [11:52<01:18,  2.50it/s]"
     ]
    },
    {
     "name": "stdout",
     "output_type": "stream",
     "text": [
      "/home/lluis/histo_lung/data/Mask_PyHIST_v2/LungAOEC_List1/000031172000360619/tilecrossed_000031172000360619.png\n"
     ]
    },
    {
     "name": "stderr",
     "output_type": "stream",
     "text": [
      " 85%|████████▌ | 1123/1318 [11:53<01:28,  2.20it/s]"
     ]
    },
    {
     "name": "stdout",
     "output_type": "stream",
     "text": [
      "/home/lluis/histo_lung/data/Mask_PyHIST_v2/LungAOEC_List1/000029496800270414/tilecrossed_000029496800270414.png\n",
      "/home/lluis/histo_lung/data/Mask_PyHIST_v2/LungAOEC_List1/000030961000347401/tilecrossed_000030961000347401.png\n"
     ]
    },
    {
     "name": "stderr",
     "output_type": "stream",
     "text": [
      " 85%|████████▌ | 1126/1318 [11:54<01:10,  2.71it/s]"
     ]
    },
    {
     "name": "stdout",
     "output_type": "stream",
     "text": [
      "/home/lluis/histo_lung/data/Mask_PyHIST_v2/LungAOEC_List1/000031542100377928/tilecrossed_000031542100377928.png\n",
      "/home/lluis/histo_lung/data/Mask_PyHIST_v2/LungAOEC_List1/000032031400402944/tilecrossed_000032031400402944.png\n"
     ]
    },
    {
     "name": "stderr",
     "output_type": "stream",
     "text": [
      " 86%|████████▌ | 1127/1318 [11:55<01:30,  2.11it/s]"
     ]
    },
    {
     "name": "stdout",
     "output_type": "stream",
     "text": [
      "/home/lluis/histo_lung/data/Mask_PyHIST_v2/LungAOEC_List1/000034819700614009/tilecrossed_000034819700614009.png\n"
     ]
    },
    {
     "name": "stderr",
     "output_type": "stream",
     "text": [
      " 86%|████████▌ | 1128/1318 [11:55<01:29,  2.13it/s]"
     ]
    },
    {
     "name": "stdout",
     "output_type": "stream",
     "text": [
      "/home/lluis/histo_lung/data/Mask_PyHIST_v2/LungAOEC_List1/000031542100377940/tilecrossed_000031542100377940.png\n"
     ]
    },
    {
     "name": "stderr",
     "output_type": "stream",
     "text": [
      " 86%|████████▌ | 1129/1318 [11:55<01:19,  2.39it/s]"
     ]
    },
    {
     "name": "stdout",
     "output_type": "stream",
     "text": [
      "/home/lluis/histo_lung/data/Mask_PyHIST_v2/LungAOEC_List1/000034819700614013/tilecrossed_000034819700614013.png\n"
     ]
    },
    {
     "name": "stderr",
     "output_type": "stream",
     "text": [
      " 86%|████████▌ | 1130/1318 [11:56<01:42,  1.84it/s]"
     ]
    },
    {
     "name": "stdout",
     "output_type": "stream",
     "text": [
      "/home/lluis/histo_lung/data/Mask_PyHIST_v2/LungAOEC_List1/000030734600335056/tilecrossed_000030734600335056.png\n"
     ]
    },
    {
     "name": "stderr",
     "output_type": "stream",
     "text": [
      " 86%|████████▌ | 1131/1318 [11:58<03:01,  1.03it/s]"
     ]
    },
    {
     "name": "stdout",
     "output_type": "stream",
     "text": [
      "/home/lluis/histo_lung/data/Mask_PyHIST_v2/LungAOEC_List1/000030438500320110/tilecrossed_000030438500320110.png\n"
     ]
    },
    {
     "name": "stderr",
     "output_type": "stream",
     "text": [
      " 86%|████████▌ | 1133/1318 [11:59<02:14,  1.37it/s]"
     ]
    },
    {
     "name": "stdout",
     "output_type": "stream",
     "text": [
      "/home/lluis/histo_lung/data/Mask_PyHIST_v2/LungAOEC_List1/000030303300314207/tilecrossed_000030303300314207.png\n",
      "/home/lluis/histo_lung/data/Mask_PyHIST_v2/LungAOEC_List1/000032368400425973/tilecrossed_000032368400425973.png\n"
     ]
    },
    {
     "name": "stderr",
     "output_type": "stream",
     "text": [
      " 86%|████████▌ | 1134/1318 [12:00<01:55,  1.60it/s]"
     ]
    },
    {
     "name": "stdout",
     "output_type": "stream",
     "text": [
      "/home/lluis/histo_lung/data/Mask_PyHIST_v2/LungAOEC_List1/000031839400392559/tilecrossed_000031839400392559.png\n"
     ]
    },
    {
     "name": "stderr",
     "output_type": "stream",
     "text": [
      " 86%|████████▌ | 1135/1318 [12:01<01:59,  1.54it/s]"
     ]
    },
    {
     "name": "stdout",
     "output_type": "stream",
     "text": [
      "/home/lluis/histo_lung/data/Mask_PyHIST_v2/LungAOEC_List1/000034261900559449/tilecrossed_000034261900559449.png\n"
     ]
    },
    {
     "name": "stderr",
     "output_type": "stream",
     "text": [
      " 86%|████████▌ | 1136/1318 [12:01<01:41,  1.79it/s]"
     ]
    },
    {
     "name": "stdout",
     "output_type": "stream",
     "text": [
      "/home/lluis/histo_lung/data/Mask_PyHIST_v2/LungAOEC_List1/000031542100377933/tilecrossed_000031542100377933.png\n"
     ]
    },
    {
     "name": "stderr",
     "output_type": "stream",
     "text": [
      " 86%|████████▋ | 1137/1318 [12:01<01:43,  1.75it/s]"
     ]
    },
    {
     "name": "stdout",
     "output_type": "stream",
     "text": [
      "/home/lluis/histo_lung/data/Mask_PyHIST_v2/LungAOEC_List1/000034045000540010/tilecrossed_000034045000540010.png\n"
     ]
    },
    {
     "name": "stderr",
     "output_type": "stream",
     "text": [
      " 86%|████████▋ | 1138/1318 [12:02<01:41,  1.77it/s]"
     ]
    },
    {
     "name": "stdout",
     "output_type": "stream",
     "text": [
      "/home/lluis/histo_lung/data/Mask_PyHIST_v2/LungAOEC_List1/000032368400420526/tilecrossed_000032368400420526.png\n"
     ]
    },
    {
     "name": "stderr",
     "output_type": "stream",
     "text": [
      " 86%|████████▋ | 1139/1318 [12:03<01:40,  1.78it/s]"
     ]
    },
    {
     "name": "stdout",
     "output_type": "stream",
     "text": [
      "/home/lluis/histo_lung/data/Mask_PyHIST_v2/LungAOEC_List1/000032367300418953/tilecrossed_000032367300418953.png\n"
     ]
    },
    {
     "name": "stderr",
     "output_type": "stream",
     "text": [
      " 86%|████████▋ | 1140/1318 [12:03<01:38,  1.81it/s]"
     ]
    },
    {
     "name": "stdout",
     "output_type": "stream",
     "text": [
      "/home/lluis/histo_lung/data/Mask_PyHIST_v2/LungAOEC_List1/000031725000384435/tilecrossed_000031725000384435.png\n"
     ]
    },
    {
     "name": "stderr",
     "output_type": "stream",
     "text": [
      " 87%|████████▋ | 1141/1318 [12:04<01:31,  1.94it/s]"
     ]
    },
    {
     "name": "stdout",
     "output_type": "stream",
     "text": [
      "/home/lluis/histo_lung/data/Mask_PyHIST_v2/LungAOEC_List1/000031224800361422/tilecrossed_000031224800361422.png\n"
     ]
    },
    {
     "name": "stderr",
     "output_type": "stream",
     "text": [
      " 87%|████████▋ | 1142/1318 [12:05<02:15,  1.30it/s]"
     ]
    },
    {
     "name": "stdout",
     "output_type": "stream",
     "text": [
      "/home/lluis/histo_lung/data/Mask_PyHIST_v2/LungAOEC_List1/000031206300360818/tilecrossed_000031206300360818.png\n"
     ]
    },
    {
     "name": "stderr",
     "output_type": "stream",
     "text": [
      " 87%|████████▋ | 1143/1318 [12:06<02:33,  1.14it/s]"
     ]
    },
    {
     "name": "stdout",
     "output_type": "stream",
     "text": [
      "/home/lluis/histo_lung/data/Mask_PyHIST_v2/LungAOEC_List1/000032365400420386/tilecrossed_000032365400420386.png\n"
     ]
    },
    {
     "name": "stderr",
     "output_type": "stream",
     "text": [
      " 87%|████████▋ | 1144/1318 [12:07<02:33,  1.13it/s]"
     ]
    },
    {
     "name": "stdout",
     "output_type": "stream",
     "text": [
      "/home/lluis/histo_lung/data/Mask_PyHIST_v2/LungAOEC_List1/000030303300314205/tilecrossed_000030303300314205.png\n"
     ]
    },
    {
     "name": "stderr",
     "output_type": "stream",
     "text": [
      " 87%|████████▋ | 1145/1318 [12:07<02:00,  1.44it/s]"
     ]
    },
    {
     "name": "stdout",
     "output_type": "stream",
     "text": [
      "/home/lluis/histo_lung/data/Mask_PyHIST_v2/LungAOEC_List1/000030961000347403/tilecrossed_000030961000347403.png\n"
     ]
    },
    {
     "name": "stderr",
     "output_type": "stream",
     "text": [
      " 87%|████████▋ | 1146/1318 [12:08<02:14,  1.28it/s]"
     ]
    },
    {
     "name": "stdout",
     "output_type": "stream",
     "text": [
      "/home/lluis/histo_lung/data/Mask_PyHIST_v2/LungAOEC_List1/000034641300596768/tilecrossed_000034641300596768.png\n"
     ]
    },
    {
     "name": "stderr",
     "output_type": "stream",
     "text": [
      " 87%|████████▋ | 1147/1318 [12:09<02:07,  1.35it/s]"
     ]
    },
    {
     "name": "stdout",
     "output_type": "stream",
     "text": [
      "/home/lluis/histo_lung/data/Mask_PyHIST_v2/LungAOEC_List1/000031802200391072/tilecrossed_000031802200391072.png\n"
     ]
    },
    {
     "name": "stderr",
     "output_type": "stream",
     "text": [
      " 87%|████████▋ | 1148/1318 [12:09<02:00,  1.42it/s]"
     ]
    },
    {
     "name": "stdout",
     "output_type": "stream",
     "text": [
      "/home/lluis/histo_lung/data/Mask_PyHIST_v2/LungAOEC_List1/000034025900534170/tilecrossed_000034025900534170.png\n"
     ]
    },
    {
     "name": "stderr",
     "output_type": "stream",
     "text": [
      " 87%|████████▋ | 1150/1318 [12:10<01:16,  2.20it/s]"
     ]
    },
    {
     "name": "stdout",
     "output_type": "stream",
     "text": [
      "/home/lluis/histo_lung/data/Mask_PyHIST_v2/LungAOEC_List1/000031822500390267/tilecrossed_000031822500390267.png\n",
      "/home/lluis/histo_lung/data/Mask_PyHIST_v2/LungAOEC_List1/000035865700716618/tilecrossed_000035865700716618.png\n"
     ]
    },
    {
     "name": "stderr",
     "output_type": "stream",
     "text": [
      " 87%|████████▋ | 1151/1318 [12:10<01:13,  2.27it/s]"
     ]
    },
    {
     "name": "stdout",
     "output_type": "stream",
     "text": [
      "/home/lluis/histo_lung/data/Mask_PyHIST_v2/LungAOEC_List1/000036131400747866/tilecrossed_000036131400747866.png\n"
     ]
    },
    {
     "name": "stderr",
     "output_type": "stream",
     "text": [
      " 87%|████████▋ | 1152/1318 [12:11<01:07,  2.46it/s]"
     ]
    },
    {
     "name": "stdout",
     "output_type": "stream",
     "text": [
      "/home/lluis/histo_lung/data/Mask_PyHIST_v2/LungAOEC_List1/000030412700319320/tilecrossed_000030412700319320.png\n"
     ]
    },
    {
     "name": "stderr",
     "output_type": "stream",
     "text": [
      " 88%|████████▊ | 1154/1318 [12:11<01:01,  2.65it/s]"
     ]
    },
    {
     "name": "stdout",
     "output_type": "stream",
     "text": [
      "/home/lluis/histo_lung/data/Mask_PyHIST_v2/LungAOEC_List1/000034939400624578/tilecrossed_000034939400624578.png\n",
      "/home/lluis/histo_lung/data/Mask_PyHIST_v2/LungAOEC_List1/000034939400624570/tilecrossed_000034939400624570.png\n"
     ]
    },
    {
     "name": "stderr",
     "output_type": "stream",
     "text": [
      " 88%|████████▊ | 1155/1318 [12:12<01:09,  2.36it/s]"
     ]
    },
    {
     "name": "stdout",
     "output_type": "stream",
     "text": [
      "/home/lluis/histo_lung/data/Mask_PyHIST_v2/LungAOEC_List1/000030689500332896/tilecrossed_000030689500332896.png\n"
     ]
    },
    {
     "name": "stderr",
     "output_type": "stream",
     "text": [
      " 88%|████████▊ | 1156/1318 [12:13<01:37,  1.66it/s]"
     ]
    },
    {
     "name": "stdout",
     "output_type": "stream",
     "text": [
      "/home/lluis/histo_lung/data/Mask_PyHIST_v2/LungAOEC_List1/000030274100310453/tilecrossed_000030274100310453.png\n"
     ]
    },
    {
     "name": "stderr",
     "output_type": "stream",
     "text": [
      " 88%|████████▊ | 1157/1318 [12:13<01:19,  2.03it/s]"
     ]
    },
    {
     "name": "stdout",
     "output_type": "stream",
     "text": [
      "/home/lluis/histo_lung/data/Mask_PyHIST_v2/LungAOEC_List1/000035418500670495/tilecrossed_000035418500670495.png\n"
     ]
    },
    {
     "name": "stderr",
     "output_type": "stream",
     "text": [
      " 88%|████████▊ | 1158/1318 [12:14<01:21,  1.96it/s]"
     ]
    },
    {
     "name": "stdout",
     "output_type": "stream",
     "text": [
      "/home/lluis/histo_lung/data/Mask_PyHIST_v2/LungAOEC_List1/000031962500399092/tilecrossed_000031962500399092.png\n"
     ]
    },
    {
     "name": "stderr",
     "output_type": "stream",
     "text": [
      " 88%|████████▊ | 1159/1318 [12:14<01:30,  1.75it/s]"
     ]
    },
    {
     "name": "stdout",
     "output_type": "stream",
     "text": [
      "/home/lluis/histo_lung/data/Mask_PyHIST_v2/LungAOEC_List1/000030467500322347/tilecrossed_000030467500322347.png\n"
     ]
    },
    {
     "name": "stderr",
     "output_type": "stream",
     "text": [
      " 88%|████████▊ | 1161/1318 [12:15<01:13,  2.14it/s]"
     ]
    },
    {
     "name": "stdout",
     "output_type": "stream",
     "text": [
      "/home/lluis/histo_lung/data/Mask_PyHIST_v2/LungAOEC_List1/000033377800482053/tilecrossed_000033377800482053.png\n",
      "/home/lluis/histo_lung/data/Mask_PyHIST_v2/LungAOEC_List1/000030508000324792/tilecrossed_000030508000324792.png\n"
     ]
    },
    {
     "name": "stderr",
     "output_type": "stream",
     "text": [
      " 88%|████████▊ | 1163/1318 [12:16<00:48,  3.20it/s]"
     ]
    },
    {
     "name": "stdout",
     "output_type": "stream",
     "text": [
      "/home/lluis/histo_lung/data/Mask_PyHIST_v2/LungAOEC_List1/000036131400747864/tilecrossed_000036131400747864.png\n",
      "/home/lluis/histo_lung/data/Mask_PyHIST_v2/LungAOEC_List1/000032176800408619/tilecrossed_000032176800408619.png\n"
     ]
    },
    {
     "name": "stderr",
     "output_type": "stream",
     "text": [
      " 88%|████████▊ | 1164/1318 [12:16<01:03,  2.43it/s]"
     ]
    },
    {
     "name": "stdout",
     "output_type": "stream",
     "text": [
      "/home/lluis/histo_lung/data/Mask_PyHIST_v2/LungAOEC_List1/000032104600406371/tilecrossed_000032104600406371.png\n"
     ]
    },
    {
     "name": "stderr",
     "output_type": "stream",
     "text": [
      " 88%|████████▊ | 1165/1318 [12:17<01:07,  2.25it/s]"
     ]
    },
    {
     "name": "stdout",
     "output_type": "stream",
     "text": [
      "/home/lluis/histo_lung/data/Mask_PyHIST_v2/LungAOEC_List1/000031172000359345/tilecrossed_000031172000359345.png\n"
     ]
    },
    {
     "name": "stderr",
     "output_type": "stream",
     "text": [
      " 88%|████████▊ | 1166/1318 [12:17<01:09,  2.20it/s]"
     ]
    },
    {
     "name": "stdout",
     "output_type": "stream",
     "text": [
      "/home/lluis/histo_lung/data/Mask_PyHIST_v2/LungAOEC_List1/000032365400420390/tilecrossed_000032365400420390.png\n"
     ]
    },
    {
     "name": "stderr",
     "output_type": "stream",
     "text": [
      " 89%|████████▊ | 1168/1318 [12:18<01:04,  2.31it/s]"
     ]
    },
    {
     "name": "stdout",
     "output_type": "stream",
     "text": [
      "/home/lluis/histo_lung/data/Mask_PyHIST_v2/LungAOEC_List1/000030734600335057/tilecrossed_000030734600335057.png\n",
      "/home/lluis/histo_lung/data/Mask_PyHIST_v2/LungAOEC_List1/000036131400747840/tilecrossed_000036131400747840.png\n"
     ]
    },
    {
     "name": "stderr",
     "output_type": "stream",
     "text": [
      " 89%|████████▊ | 1169/1318 [12:19<01:12,  2.06it/s]"
     ]
    },
    {
     "name": "stdout",
     "output_type": "stream",
     "text": [
      "/home/lluis/histo_lung/data/Mask_PyHIST_v2/LungAOEC_List1/000036434500773562/tilecrossed_000036434500773562.png\n"
     ]
    },
    {
     "name": "stderr",
     "output_type": "stream",
     "text": [
      " 89%|████████▉ | 1170/1318 [12:20<01:23,  1.78it/s]"
     ]
    },
    {
     "name": "stdout",
     "output_type": "stream",
     "text": [
      "/home/lluis/histo_lung/data/Mask_PyHIST_v2/LungAOEC_List1/000033807100521357/tilecrossed_000033807100521357.png\n"
     ]
    },
    {
     "name": "stderr",
     "output_type": "stream",
     "text": [
      " 89%|████████▉ | 1171/1318 [12:20<01:21,  1.81it/s]"
     ]
    },
    {
     "name": "stdout",
     "output_type": "stream",
     "text": [
      "/home/lluis/histo_lung/data/Mask_PyHIST_v2/LungAOEC_List1/000031183700359377/tilecrossed_000031183700359377.png\n"
     ]
    },
    {
     "name": "stderr",
     "output_type": "stream",
     "text": [
      " 89%|████████▉ | 1172/1318 [12:21<01:28,  1.64it/s]"
     ]
    },
    {
     "name": "stdout",
     "output_type": "stream",
     "text": [
      "/home/lluis/histo_lung/data/Mask_PyHIST_v2/LungAOEC_List1/000031150900355936/tilecrossed_000031150900355936.png\n"
     ]
    },
    {
     "name": "stderr",
     "output_type": "stream",
     "text": [
      " 89%|████████▉ | 1174/1318 [12:22<01:13,  1.97it/s]"
     ]
    },
    {
     "name": "stdout",
     "output_type": "stream",
     "text": [
      "/home/lluis/histo_lung/data/Mask_PyHIST_v2/LungAOEC_List1/000033415100478754/tilecrossed_000033415100478754.png\n",
      "/home/lluis/histo_lung/data/Mask_PyHIST_v2/LungAOEC_List1/000034812300613580/tilecrossed_000034812300613580.png\n"
     ]
    },
    {
     "name": "stderr",
     "output_type": "stream",
     "text": [
      " 89%|████████▉ | 1175/1318 [12:22<01:05,  2.19it/s]"
     ]
    },
    {
     "name": "stdout",
     "output_type": "stream",
     "text": [
      "/home/lluis/histo_lung/data/Mask_PyHIST_v2/LungAOEC_List1/000030438500320108/tilecrossed_000030438500320108.png\n"
     ]
    },
    {
     "name": "stderr",
     "output_type": "stream",
     "text": [
      " 89%|████████▉ | 1176/1318 [12:23<01:35,  1.48it/s]"
     ]
    },
    {
     "name": "stdout",
     "output_type": "stream",
     "text": [
      "/home/lluis/histo_lung/data/Mask_PyHIST_v2/LungAOEC_List1/000034101000539241/tilecrossed_000034101000539241.png\n"
     ]
    },
    {
     "name": "stderr",
     "output_type": "stream",
     "text": [
      " 89%|████████▉ | 1178/1318 [12:24<01:05,  2.12it/s]"
     ]
    },
    {
     "name": "stdout",
     "output_type": "stream",
     "text": [
      "/home/lluis/histo_lung/data/Mask_PyHIST_v2/LungAOEC_List1/000030732500335033/tilecrossed_000030732500335033.png\n",
      "/home/lluis/histo_lung/data/Mask_PyHIST_v2/LungAOEC_List1/000034939400624576/tilecrossed_000034939400624576.png\n"
     ]
    },
    {
     "name": "stderr",
     "output_type": "stream",
     "text": [
      " 89%|████████▉ | 1179/1318 [12:24<01:05,  2.12it/s]"
     ]
    },
    {
     "name": "stdout",
     "output_type": "stream",
     "text": [
      "/home/lluis/histo_lung/data/Mask_PyHIST_v2/LungAOEC_List1/000036128600746528/tilecrossed_000036128600746528.png\n"
     ]
    },
    {
     "name": "stderr",
     "output_type": "stream",
     "text": [
      " 90%|████████▉ | 1180/1318 [12:25<01:17,  1.79it/s]"
     ]
    },
    {
     "name": "stdout",
     "output_type": "stream",
     "text": [
      "/home/lluis/histo_lung/data/Mask_PyHIST_v2/LungAOEC_List1/000033807100521361/tilecrossed_000033807100521361.png\n"
     ]
    },
    {
     "name": "stderr",
     "output_type": "stream",
     "text": [
      " 90%|████████▉ | 1181/1318 [12:25<01:05,  2.10it/s]"
     ]
    },
    {
     "name": "stdout",
     "output_type": "stream",
     "text": [
      "/home/lluis/histo_lung/data/Mask_PyHIST_v2/LungAOEC_List1/000036131400747888/tilecrossed_000036131400747888.png\n"
     ]
    },
    {
     "name": "stderr",
     "output_type": "stream",
     "text": [
      " 90%|████████▉ | 1182/1318 [12:26<01:09,  1.97it/s]"
     ]
    },
    {
     "name": "stdout",
     "output_type": "stream",
     "text": [
      "/home/lluis/histo_lung/data/Mask_PyHIST_v2/LungAOEC_List1/000032368200418955/tilecrossed_000032368200418955.png\n"
     ]
    },
    {
     "name": "stderr",
     "output_type": "stream",
     "text": [
      " 90%|████████▉ | 1183/1318 [12:27<01:19,  1.70it/s]"
     ]
    },
    {
     "name": "stdout",
     "output_type": "stream",
     "text": [
      "/home/lluis/histo_lung/data/Mask_PyHIST_v2/LungAOEC_List1/000033807100512036/tilecrossed_000033807100512036.png\n"
     ]
    },
    {
     "name": "stderr",
     "output_type": "stream",
     "text": [
      " 90%|████████▉ | 1184/1318 [12:27<01:11,  1.87it/s]"
     ]
    },
    {
     "name": "stdout",
     "output_type": "stream",
     "text": [
      "/home/lluis/histo_lung/data/Mask_PyHIST_v2/LungAOEC_List1/000031799100390259/tilecrossed_000031799100390259.png\n"
     ]
    },
    {
     "name": "stderr",
     "output_type": "stream",
     "text": [
      " 90%|████████▉ | 1185/1318 [12:28<01:35,  1.39it/s]"
     ]
    },
    {
     "name": "stdout",
     "output_type": "stream",
     "text": [
      "/home/lluis/histo_lung/data/Mask_PyHIST_v2/LungAOEC_List1/000036434500773567/tilecrossed_000036434500773567.png\n"
     ]
    },
    {
     "name": "stderr",
     "output_type": "stream",
     "text": [
      " 90%|████████▉ | 1186/1318 [12:29<01:43,  1.27it/s]"
     ]
    },
    {
     "name": "stdout",
     "output_type": "stream",
     "text": [
      "/home/lluis/histo_lung/data/Mask_PyHIST_v2/LungAOEC_List1/000031206300360814/tilecrossed_000031206300360814.png\n"
     ]
    },
    {
     "name": "stderr",
     "output_type": "stream",
     "text": [
      " 90%|█████████ | 1187/1318 [12:30<01:49,  1.20it/s]"
     ]
    },
    {
     "name": "stdout",
     "output_type": "stream",
     "text": [
      "/home/lluis/histo_lung/data/Mask_PyHIST_v2/LungAOEC_List1/000032373100420774/tilecrossed_000032373100420774.png\n"
     ]
    },
    {
     "name": "stderr",
     "output_type": "stream",
     "text": [
      " 90%|█████████ | 1188/1318 [12:31<01:42,  1.27it/s]"
     ]
    },
    {
     "name": "stdout",
     "output_type": "stream",
     "text": [
      "/home/lluis/histo_lung/data/Mask_PyHIST_v2/LungAOEC_List1/000031249800362957/tilecrossed_000031249800362957.png\n"
     ]
    },
    {
     "name": "stderr",
     "output_type": "stream",
     "text": [
      " 90%|█████████ | 1190/1318 [12:31<01:09,  1.85it/s]"
     ]
    },
    {
     "name": "stdout",
     "output_type": "stream",
     "text": [
      "/home/lluis/histo_lung/data/Mask_PyHIST_v2/LungAOEC_List1/000031802200391069/tilecrossed_000031802200391069.png\n",
      "/home/lluis/histo_lung/data/Mask_PyHIST_v2/LungAOEC_List1/000030717900334728/tilecrossed_000030717900334728.png\n"
     ]
    },
    {
     "name": "stderr",
     "output_type": "stream",
     "text": [
      " 90%|█████████ | 1191/1318 [12:32<01:07,  1.88it/s]"
     ]
    },
    {
     "name": "stdout",
     "output_type": "stream",
     "text": [
      "/home/lluis/histo_lung/data/Mask_PyHIST_v2/LungAOEC_List1/000030961000347408/tilecrossed_000030961000347408.png\n"
     ]
    },
    {
     "name": "stderr",
     "output_type": "stream",
     "text": [
      " 90%|█████████ | 1192/1318 [12:33<01:22,  1.54it/s]"
     ]
    },
    {
     "name": "stdout",
     "output_type": "stream",
     "text": [
      "/home/lluis/histo_lung/data/Mask_PyHIST_v2/LungAOEC_List1/000034458200578701/tilecrossed_000034458200578701.png\n"
     ]
    },
    {
     "name": "stderr",
     "output_type": "stream",
     "text": [
      " 91%|█████████ | 1193/1318 [12:34<01:20,  1.55it/s]"
     ]
    },
    {
     "name": "stdout",
     "output_type": "stream",
     "text": [
      "/home/lluis/histo_lung/data/Mask_PyHIST_v2/LungAOEC_List1/000031292100364439/tilecrossed_000031292100364439.png\n"
     ]
    },
    {
     "name": "stderr",
     "output_type": "stream",
     "text": [
      " 91%|█████████ | 1194/1318 [12:34<01:17,  1.59it/s]"
     ]
    },
    {
     "name": "stdout",
     "output_type": "stream",
     "text": [
      "/home/lluis/histo_lung/data/Mask_PyHIST_v2/LungAOEC_List1/000031860700391868/tilecrossed_000031860700391868.png\n"
     ]
    },
    {
     "name": "stderr",
     "output_type": "stream",
     "text": [
      " 91%|█████████ | 1195/1318 [12:35<01:13,  1.67it/s]"
     ]
    },
    {
     "name": "stdout",
     "output_type": "stream",
     "text": [
      "/home/lluis/histo_lung/data/Mask_PyHIST_v2/LungAOEC_List1/000031172000359344/tilecrossed_000031172000359344.png\n"
     ]
    },
    {
     "name": "stderr",
     "output_type": "stream",
     "text": [
      " 91%|█████████ | 1196/1318 [12:35<01:18,  1.55it/s]"
     ]
    },
    {
     "name": "stdout",
     "output_type": "stream",
     "text": [
      "/home/lluis/histo_lung/data/Mask_PyHIST_v2/LungAOEC_List1/000035865700716626/tilecrossed_000035865700716626.png\n"
     ]
    },
    {
     "name": "stderr",
     "output_type": "stream",
     "text": [
      " 91%|█████████ | 1197/1318 [12:36<01:12,  1.67it/s]"
     ]
    },
    {
     "name": "stdout",
     "output_type": "stream",
     "text": [
      "/home/lluis/histo_lung/data/Mask_PyHIST_v2/LungAOEC_List1/000035864200716341/tilecrossed_000035864200716341.png\n"
     ]
    },
    {
     "name": "stderr",
     "output_type": "stream",
     "text": [
      " 91%|█████████ | 1198/1318 [12:36<01:08,  1.74it/s]"
     ]
    },
    {
     "name": "stdout",
     "output_type": "stream",
     "text": [
      "/home/lluis/histo_lung/data/Mask_PyHIST_v2/LungAOEC_List1/000030734600335052/tilecrossed_000030734600335052.png\n",
      "/home/lluis/histo_lung/data/Mask_PyHIST_v2/LungAOEC_List1/000031891500397268/tilecrossed_000031891500397268.png\n"
     ]
    },
    {
     "name": "stderr",
     "output_type": "stream",
     "text": [
      " 91%|█████████ | 1200/1318 [12:37<00:55,  2.11it/s]"
     ]
    },
    {
     "name": "stdout",
     "output_type": "stream",
     "text": [
      "/home/lluis/histo_lung/data/Mask_PyHIST_v2/LungAOEC_List1/000032130200405361/tilecrossed_000032130200405361.png\n"
     ]
    },
    {
     "name": "stderr",
     "output_type": "stream",
     "text": [
      " 91%|█████████ | 1201/1318 [12:38<00:59,  1.97it/s]"
     ]
    },
    {
     "name": "stdout",
     "output_type": "stream",
     "text": [
      "/home/lluis/histo_lung/data/Mask_PyHIST_v2/LungAOEC_List1/000033629400496216/tilecrossed_000033629400496216.png\n"
     ]
    },
    {
     "name": "stderr",
     "output_type": "stream",
     "text": [
      " 91%|█████████ | 1202/1318 [12:38<01:00,  1.92it/s]"
     ]
    },
    {
     "name": "stdout",
     "output_type": "stream",
     "text": [
      "/home/lluis/histo_lung/data/Mask_PyHIST_v2/LungAOEC_List1/000031411300369843/tilecrossed_000031411300369843.png\n"
     ]
    },
    {
     "name": "stderr",
     "output_type": "stream",
     "text": [
      " 91%|█████████▏| 1203/1318 [12:39<00:59,  1.95it/s]"
     ]
    },
    {
     "name": "stdout",
     "output_type": "stream",
     "text": [
      "/home/lluis/histo_lung/data/Mask_PyHIST_v2/LungAOEC_List1/000030961000347400/tilecrossed_000030961000347400.png\n"
     ]
    },
    {
     "name": "stderr",
     "output_type": "stream",
     "text": [
      " 91%|█████████▏| 1205/1318 [12:40<00:51,  2.17it/s]"
     ]
    },
    {
     "name": "stdout",
     "output_type": "stream",
     "text": [
      "/home/lluis/histo_lung/data/Mask_PyHIST_v2/LungAOEC_List1/000030508000324800/tilecrossed_000030508000324800.png\n",
      "/home/lluis/histo_lung/data/Mask_PyHIST_v2/LungAOEC_List1/000032373100420765/tilecrossed_000032373100420765.png\n"
     ]
    },
    {
     "name": "stderr",
     "output_type": "stream",
     "text": [
      " 92%|█████████▏| 1206/1318 [12:41<01:04,  1.73it/s]"
     ]
    },
    {
     "name": "stdout",
     "output_type": "stream",
     "text": [
      "/home/lluis/histo_lung/data/Mask_PyHIST_v2/LungAOEC_List1/000031119900354404/tilecrossed_000031119900354404.png\n"
     ]
    },
    {
     "name": "stderr",
     "output_type": "stream",
     "text": [
      " 92%|█████████▏| 1208/1318 [12:41<00:42,  2.61it/s]"
     ]
    },
    {
     "name": "stdout",
     "output_type": "stream",
     "text": [
      "/home/lluis/histo_lung/data/Mask_PyHIST_v2/LungAOEC_List1/000030734600335055/tilecrossed_000030734600335055.png\n",
      "/home/lluis/histo_lung/data/Mask_PyHIST_v2/LungAOEC_List1/000036131400747836/tilecrossed_000036131400747836.png\n"
     ]
    },
    {
     "name": "stderr",
     "output_type": "stream",
     "text": [
      " 92%|█████████▏| 1209/1318 [12:42<00:51,  2.13it/s]"
     ]
    },
    {
     "name": "stdout",
     "output_type": "stream",
     "text": [
      "/home/lluis/histo_lung/data/Mask_PyHIST_v2/LungAOEC_List1/000031197100358911/tilecrossed_000031197100358911.png\n"
     ]
    },
    {
     "name": "stderr",
     "output_type": "stream",
     "text": [
      " 92%|█████████▏| 1210/1318 [12:42<00:50,  2.12it/s]"
     ]
    },
    {
     "name": "stdout",
     "output_type": "stream",
     "text": [
      "/home/lluis/histo_lung/data/Mask_PyHIST_v2/LungAOEC_List1/000034933900624082/tilecrossed_000034933900624082.png\n"
     ]
    },
    {
     "name": "stderr",
     "output_type": "stream",
     "text": [
      " 92%|█████████▏| 1212/1318 [12:43<00:42,  2.51it/s]"
     ]
    },
    {
     "name": "stdout",
     "output_type": "stream",
     "text": [
      "/home/lluis/histo_lung/data/Mask_PyHIST_v2/LungAOEC_List1/000030487200323365/tilecrossed_000030487200323365.png\n",
      "/home/lluis/histo_lung/data/Mask_PyHIST_v2/LungAOEC_List1/000031839400392557/tilecrossed_000031839400392557.png\n"
     ]
    },
    {
     "name": "stderr",
     "output_type": "stream",
     "text": [
      " 92%|█████████▏| 1213/1318 [12:43<00:48,  2.17it/s]"
     ]
    },
    {
     "name": "stdout",
     "output_type": "stream",
     "text": [
      "/home/lluis/histo_lung/data/Mask_PyHIST_v2/LungAOEC_List1/000032269300415947/tilecrossed_000032269300415947.png\n"
     ]
    },
    {
     "name": "stderr",
     "output_type": "stream",
     "text": [
      " 92%|█████████▏| 1214/1318 [12:44<00:59,  1.75it/s]"
     ]
    },
    {
     "name": "stdout",
     "output_type": "stream",
     "text": [
      "/home/lluis/histo_lung/data/Mask_PyHIST_v2/LungAOEC_List1/000030907600344598/tilecrossed_000030907600344598.png\n"
     ]
    },
    {
     "name": "stderr",
     "output_type": "stream",
     "text": [
      " 92%|█████████▏| 1215/1318 [12:45<01:08,  1.51it/s]"
     ]
    },
    {
     "name": "stdout",
     "output_type": "stream",
     "text": [
      "/home/lluis/histo_lung/data/Mask_PyHIST_v2/LungAOEC_List1/000035864200716337/tilecrossed_000035864200716337.png\n"
     ]
    },
    {
     "name": "stderr",
     "output_type": "stream",
     "text": [
      " 92%|█████████▏| 1216/1318 [12:45<00:57,  1.79it/s]"
     ]
    },
    {
     "name": "stdout",
     "output_type": "stream",
     "text": [
      "/home/lluis/histo_lung/data/Mask_PyHIST_v2/LungAOEC_List1/000030717900334732/tilecrossed_000030717900334732.png\n"
     ]
    },
    {
     "name": "stderr",
     "output_type": "stream",
     "text": [
      " 92%|█████████▏| 1217/1318 [12:46<00:51,  1.98it/s]"
     ]
    },
    {
     "name": "stdout",
     "output_type": "stream",
     "text": [
      "/home/lluis/histo_lung/data/Mask_PyHIST_v2/LungAOEC_List1/000031799100390262/tilecrossed_000031799100390262.png\n"
     ]
    },
    {
     "name": "stderr",
     "output_type": "stream",
     "text": [
      " 92%|█████████▏| 1219/1318 [12:47<00:42,  2.35it/s]"
     ]
    },
    {
     "name": "stdout",
     "output_type": "stream",
     "text": [
      "/home/lluis/histo_lung/data/Mask_PyHIST_v2/LungAOEC_List1/000033415100486634/tilecrossed_000033415100486634.png\n",
      "/home/lluis/histo_lung/data/Mask_PyHIST_v2/LungAOEC_List1/000034933900624078/tilecrossed_000034933900624078.png\n"
     ]
    },
    {
     "name": "stderr",
     "output_type": "stream",
     "text": [
      " 93%|█████████▎| 1220/1318 [12:47<00:41,  2.38it/s]"
     ]
    },
    {
     "name": "stdout",
     "output_type": "stream",
     "text": [
      "/home/lluis/histo_lung/data/Mask_PyHIST_v2/LungAOEC_List1/000031106000354915/tilecrossed_000031106000354915.png\n"
     ]
    },
    {
     "name": "stderr",
     "output_type": "stream",
     "text": [
      " 93%|█████████▎| 1221/1318 [12:48<00:50,  1.93it/s]"
     ]
    },
    {
     "name": "stdout",
     "output_type": "stream",
     "text": [
      "/home/lluis/histo_lung/data/Mask_PyHIST_v2/LungAOEC_List1/000034819700614011/tilecrossed_000034819700614011.png\n"
     ]
    },
    {
     "name": "stderr",
     "output_type": "stream",
     "text": [
      " 93%|█████████▎| 1222/1318 [12:48<00:53,  1.78it/s]"
     ]
    },
    {
     "name": "stdout",
     "output_type": "stream",
     "text": [
      "/home/lluis/histo_lung/data/Mask_PyHIST_v2/LungAOEC_List1/000032130200405360/tilecrossed_000032130200405360.png\n"
     ]
    },
    {
     "name": "stderr",
     "output_type": "stream",
     "text": [
      " 93%|█████████▎| 1224/1318 [12:49<00:36,  2.55it/s]"
     ]
    },
    {
     "name": "stdout",
     "output_type": "stream",
     "text": [
      "/home/lluis/histo_lung/data/Mask_PyHIST_v2/LungAOEC_List1/000033477400483505/tilecrossed_000033477400483505.png\n",
      "/home/lluis/histo_lung/data/Mask_PyHIST_v2/LungAOEC_List1/000031860700393704/tilecrossed_000031860700393704.png\n"
     ]
    },
    {
     "name": "stderr",
     "output_type": "stream",
     "text": [
      " 93%|█████████▎| 1225/1318 [12:50<01:05,  1.41it/s]"
     ]
    },
    {
     "name": "stdout",
     "output_type": "stream",
     "text": [
      "/home/lluis/histo_lung/data/Mask_PyHIST_v2/LungAOEC_List1/000035418500664288/tilecrossed_000035418500664288.png\n"
     ]
    },
    {
     "name": "stderr",
     "output_type": "stream",
     "text": [
      " 93%|█████████▎| 1226/1318 [12:51<01:15,  1.22it/s]"
     ]
    },
    {
     "name": "stdout",
     "output_type": "stream",
     "text": [
      "/home/lluis/histo_lung/data/Mask_PyHIST_v2/LungAOEC_List1/000033985600528741/tilecrossed_000033985600528741.png\n"
     ]
    },
    {
     "name": "stderr",
     "output_type": "stream",
     "text": [
      " 93%|█████████▎| 1227/1318 [12:52<01:06,  1.37it/s]"
     ]
    },
    {
     "name": "stdout",
     "output_type": "stream",
     "text": [
      "/home/lluis/histo_lung/data/Mask_PyHIST_v2/LungAOEC_List1/000033867200518850/tilecrossed_000033867200518850.png\n"
     ]
    },
    {
     "name": "stderr",
     "output_type": "stream",
     "text": [
      " 93%|█████████▎| 1228/1318 [12:52<00:57,  1.56it/s]"
     ]
    },
    {
     "name": "stdout",
     "output_type": "stream",
     "text": [
      "/home/lluis/histo_lung/data/Mask_PyHIST_v2/LungAOEC_List1/000032368200418954/tilecrossed_000032368200418954.png\n"
     ]
    },
    {
     "name": "stderr",
     "output_type": "stream",
     "text": [
      " 93%|█████████▎| 1229/1318 [12:53<00:51,  1.74it/s]"
     ]
    },
    {
     "name": "stdout",
     "output_type": "stream",
     "text": [
      "/home/lluis/histo_lung/data/Mask_PyHIST_v2/LungAOEC_List1/000033646900498300/tilecrossed_000033646900498300.png\n"
     ]
    },
    {
     "name": "stderr",
     "output_type": "stream",
     "text": [
      " 93%|█████████▎| 1230/1318 [12:53<00:42,  2.06it/s]"
     ]
    },
    {
     "name": "stdout",
     "output_type": "stream",
     "text": [
      "/home/lluis/histo_lung/data/Mask_PyHIST_v2/LungAOEC_List1/000030717900334727/tilecrossed_000030717900334727.png\n"
     ]
    },
    {
     "name": "stderr",
     "output_type": "stream",
     "text": [
      " 93%|█████████▎| 1231/1318 [12:54<00:40,  2.14it/s]"
     ]
    },
    {
     "name": "stdout",
     "output_type": "stream",
     "text": [
      "/home/lluis/histo_lung/data/Mask_PyHIST_v2/LungAOEC_List1/000033990600532775/tilecrossed_000033990600532775.png\n"
     ]
    },
    {
     "name": "stderr",
     "output_type": "stream",
     "text": [
      " 93%|█████████▎| 1232/1318 [12:54<00:41,  2.05it/s]"
     ]
    },
    {
     "name": "stdout",
     "output_type": "stream",
     "text": [
      "/home/lluis/histo_lung/data/Mask_PyHIST_v2/LungAOEC_List1/000034933900624084/tilecrossed_000034933900624084.png\n"
     ]
    },
    {
     "name": "stderr",
     "output_type": "stream",
     "text": [
      " 94%|█████████▎| 1233/1318 [12:55<00:42,  1.99it/s]"
     ]
    },
    {
     "name": "stdout",
     "output_type": "stream",
     "text": [
      "/home/lluis/histo_lung/data/Mask_PyHIST_v2/LungAOEC_List1/000030689600333376/tilecrossed_000030689600333376.png\n",
      "/home/lluis/histo_lung/data/Mask_PyHIST_v2/LungAOEC_List1/000031183700359385/tilecrossed_000031183700359385.png\n"
     ]
    },
    {
     "name": "stderr",
     "output_type": "stream",
     "text": [
      " 94%|█████████▍| 1236/1318 [12:55<00:29,  2.78it/s]"
     ]
    },
    {
     "name": "stdout",
     "output_type": "stream",
     "text": [
      "/home/lluis/histo_lung/data/Mask_PyHIST_v2/LungAOEC_List1/000035865700716620/tilecrossed_000035865700716620.png\n",
      "/home/lluis/histo_lung/data/Mask_PyHIST_v2/LungAOEC_List1/000035864200715851/tilecrossed_000035864200715851.png\n"
     ]
    },
    {
     "name": "stderr",
     "output_type": "stream",
     "text": [
      " 94%|█████████▍| 1238/1318 [12:56<00:26,  3.00it/s]"
     ]
    },
    {
     "name": "stdout",
     "output_type": "stream",
     "text": [
      "/home/lluis/histo_lung/data/Mask_PyHIST_v2/LungAOEC_List1/000030689200333236/tilecrossed_000030689200333236.png\n",
      "/home/lluis/histo_lung/data/Mask_PyHIST_v2/LungAOEC_List1/000030734600335058/tilecrossed_000030734600335058.png\n"
     ]
    },
    {
     "name": "stderr",
     "output_type": "stream",
     "text": [
      " 94%|█████████▍| 1239/1318 [12:56<00:24,  3.27it/s]"
     ]
    },
    {
     "name": "stdout",
     "output_type": "stream",
     "text": [
      "/home/lluis/histo_lung/data/Mask_PyHIST_v2/LungAOEC_List1/000033629400505447/tilecrossed_000033629400505447.png\n"
     ]
    },
    {
     "name": "stderr",
     "output_type": "stream",
     "text": [
      " 94%|█████████▍| 1240/1318 [12:57<00:33,  2.30it/s]"
     ]
    },
    {
     "name": "stdout",
     "output_type": "stream",
     "text": [
      "/home/lluis/histo_lung/data/Mask_PyHIST_v2/LungAOEC_List1/000032104600403540/tilecrossed_000032104600403540.png\n"
     ]
    },
    {
     "name": "stderr",
     "output_type": "stream",
     "text": [
      " 94%|█████████▍| 1241/1318 [12:58<00:36,  2.10it/s]"
     ]
    },
    {
     "name": "stdout",
     "output_type": "stream",
     "text": [
      "/home/lluis/histo_lung/data/Mask_PyHIST_v2/LungAOEC_List1/000031292100364434/tilecrossed_000031292100364434.png\n"
     ]
    },
    {
     "name": "stderr",
     "output_type": "stream",
     "text": [
      " 94%|█████████▍| 1242/1318 [12:59<00:46,  1.63it/s]"
     ]
    },
    {
     "name": "stdout",
     "output_type": "stream",
     "text": [
      "/home/lluis/histo_lung/data/Mask_PyHIST_v2/LungAOEC_List1/000031233700359943/tilecrossed_000031233700359943.png\n"
     ]
    },
    {
     "name": "stderr",
     "output_type": "stream",
     "text": [
      " 94%|█████████▍| 1244/1318 [12:59<00:35,  2.07it/s]"
     ]
    },
    {
     "name": "stdout",
     "output_type": "stream",
     "text": [
      "/home/lluis/histo_lung/data/Mask_PyHIST_v2/LungAOEC_List1/000029536100271824/tilecrossed_000029536100271824.png\n",
      "/home/lluis/histo_lung/data/Mask_PyHIST_v2/LungAOEC_List1/000032368400420528/tilecrossed_000032368400420528.png\n"
     ]
    },
    {
     "name": "stderr",
     "output_type": "stream",
     "text": [
      " 94%|█████████▍| 1245/1318 [13:00<00:40,  1.80it/s]"
     ]
    },
    {
     "name": "stdout",
     "output_type": "stream",
     "text": [
      "/home/lluis/histo_lung/data/Mask_PyHIST_v2/LungAOEC_List1/000032365400422626/tilecrossed_000032365400422626.png\n"
     ]
    },
    {
     "name": "stderr",
     "output_type": "stream",
     "text": [
      " 95%|█████████▍| 1246/1318 [13:01<00:38,  1.88it/s]"
     ]
    },
    {
     "name": "stdout",
     "output_type": "stream",
     "text": [
      "/home/lluis/histo_lung/data/Mask_PyHIST_v2/LungAOEC_List1/000033780900519195/tilecrossed_000033780900519195.png\n"
     ]
    },
    {
     "name": "stderr",
     "output_type": "stream",
     "text": [
      " 95%|█████████▍| 1247/1318 [13:01<00:38,  1.83it/s]"
     ]
    },
    {
     "name": "stdout",
     "output_type": "stream",
     "text": [
      "/home/lluis/histo_lung/data/Mask_PyHIST_v2/LungAOEC_List1/000032269300415948/tilecrossed_000032269300415948.png\n"
     ]
    },
    {
     "name": "stderr",
     "output_type": "stream",
     "text": [
      " 95%|█████████▍| 1248/1318 [13:02<00:43,  1.60it/s]"
     ]
    },
    {
     "name": "stdout",
     "output_type": "stream",
     "text": [
      "/home/lluis/histo_lung/data/Mask_PyHIST_v2/LungAOEC_List1/000031913700397355/tilecrossed_000031913700397355.png\n"
     ]
    },
    {
     "name": "stderr",
     "output_type": "stream",
     "text": [
      " 95%|█████████▍| 1249/1318 [13:03<00:45,  1.52it/s]"
     ]
    },
    {
     "name": "stdout",
     "output_type": "stream",
     "text": [
      "/home/lluis/histo_lung/data/Mask_PyHIST_v2/LungAOEC_List1/000032031400402948/tilecrossed_000032031400402948.png\n"
     ]
    },
    {
     "name": "stderr",
     "output_type": "stream",
     "text": [
      " 95%|█████████▍| 1250/1318 [13:04<00:48,  1.41it/s]"
     ]
    },
    {
     "name": "stdout",
     "output_type": "stream",
     "text": [
      "/home/lluis/histo_lung/data/Mask_PyHIST_v2/LungAOEC_List1/000033990600532769/tilecrossed_000033990600532769.png\n"
     ]
    },
    {
     "name": "stderr",
     "output_type": "stream",
     "text": [
      " 95%|█████████▍| 1251/1318 [13:04<00:42,  1.58it/s]"
     ]
    },
    {
     "name": "stdout",
     "output_type": "stream",
     "text": [
      "/home/lluis/histo_lung/data/Mask_PyHIST_v2/LungAOEC_List1/000030443200320380/tilecrossed_000030443200320380.png\n",
      "/home/lluis/histo_lung/data/Mask_PyHIST_v2/LungAOEC_List1/000031542100377934/tilecrossed_000031542100377934.png\n"
     ]
    },
    {
     "name": "stderr",
     "output_type": "stream",
     "text": [
      " 95%|█████████▌| 1253/1318 [13:04<00:25,  2.52it/s]"
     ]
    },
    {
     "name": "stdout",
     "output_type": "stream",
     "text": [
      "/home/lluis/histo_lung/data/Mask_PyHIST_v2/LungAOEC_List1/000030961000347402/tilecrossed_000030961000347402.png\n"
     ]
    },
    {
     "name": "stderr",
     "output_type": "stream",
     "text": [
      " 95%|█████████▌| 1254/1318 [13:05<00:30,  2.09it/s]"
     ]
    },
    {
     "name": "stdout",
     "output_type": "stream",
     "text": [
      "/home/lluis/histo_lung/data/Mask_PyHIST_v2/LungAOEC_List1/000030689500332893/tilecrossed_000030689500332893.png\n"
     ]
    },
    {
     "name": "stderr",
     "output_type": "stream",
     "text": [
      " 95%|█████████▌| 1255/1318 [13:05<00:27,  2.29it/s]"
     ]
    },
    {
     "name": "stdout",
     "output_type": "stream",
     "text": [
      "/home/lluis/histo_lung/data/Mask_PyHIST_v2/LungAOEC_List1/000030303300314206/tilecrossed_000030303300314206.png\n",
      "/home/lluis/histo_lung/data/Mask_PyHIST_v2/LungAOEC_List1/000029496800270411/tilecrossed_000029496800270411.png\n"
     ]
    },
    {
     "name": "stderr",
     "output_type": "stream",
     "text": [
      " 95%|█████████▌| 1257/1318 [13:06<00:18,  3.29it/s]"
     ]
    },
    {
     "name": "stdout",
     "output_type": "stream",
     "text": [
      "/home/lluis/histo_lung/data/Mask_PyHIST_v2/LungAOEC_List1/000031172000359339/tilecrossed_000031172000359339.png\n"
     ]
    },
    {
     "name": "stderr",
     "output_type": "stream",
     "text": [
      " 95%|█████████▌| 1258/1318 [13:06<00:24,  2.42it/s]"
     ]
    },
    {
     "name": "stdout",
     "output_type": "stream",
     "text": [
      "/home/lluis/histo_lung/data/Mask_PyHIST_v2/LungAOEC_List1/000032347800419869/tilecrossed_000032347800419869.png\n"
     ]
    },
    {
     "name": "stderr",
     "output_type": "stream",
     "text": [
      " 96%|█████████▌| 1260/1318 [13:07<00:22,  2.56it/s]"
     ]
    },
    {
     "name": "stdout",
     "output_type": "stream",
     "text": [
      "/home/lluis/histo_lung/data/Mask_PyHIST_v2/LungAOEC_List1/000030689200333239/tilecrossed_000030689200333239.png\n",
      "/home/lluis/histo_lung/data/Mask_PyHIST_v2/LungAOEC_List1/000035418500670491/tilecrossed_000035418500670491.png\n"
     ]
    },
    {
     "name": "stderr",
     "output_type": "stream",
     "text": [
      " 96%|█████████▌| 1261/1318 [13:08<00:24,  2.29it/s]"
     ]
    },
    {
     "name": "stdout",
     "output_type": "stream",
     "text": [
      "/home/lluis/histo_lung/data/Mask_PyHIST_v2/LungAOEC_List1/000030907600344594/tilecrossed_000030907600344594.png\n"
     ]
    },
    {
     "name": "stderr",
     "output_type": "stream",
     "text": [
      " 96%|█████████▌| 1262/1318 [13:08<00:27,  2.01it/s]"
     ]
    },
    {
     "name": "stdout",
     "output_type": "stream",
     "text": [
      "/home/lluis/histo_lung/data/Mask_PyHIST_v2/LungAOEC_List1/000034458200577773/tilecrossed_000034458200577773.png\n"
     ]
    },
    {
     "name": "stderr",
     "output_type": "stream",
     "text": [
      " 96%|█████████▌| 1263/1318 [13:09<00:28,  1.95it/s]"
     ]
    },
    {
     "name": "stdout",
     "output_type": "stream",
     "text": [
      "/home/lluis/histo_lung/data/Mask_PyHIST_v2/LungAOEC_List1/000034641300596776/tilecrossed_000034641300596776.png\n"
     ]
    },
    {
     "name": "stderr",
     "output_type": "stream",
     "text": [
      " 96%|█████████▌| 1264/1318 [13:10<00:28,  1.88it/s]"
     ]
    },
    {
     "name": "stdout",
     "output_type": "stream",
     "text": [
      "/home/lluis/histo_lung/data/Mask_PyHIST_v2/LungAOEC_List1/000031505500375272/tilecrossed_000031505500375272.png\n"
     ]
    },
    {
     "name": "stderr",
     "output_type": "stream",
     "text": [
      " 96%|█████████▌| 1265/1318 [13:10<00:25,  2.09it/s]"
     ]
    },
    {
     "name": "stdout",
     "output_type": "stream",
     "text": [
      "/home/lluis/histo_lung/data/Mask_PyHIST_v2/LungAOEC_List1/000031799100390257/tilecrossed_000031799100390257.png\n"
     ]
    },
    {
     "name": "stderr",
     "output_type": "stream",
     "text": [
      " 96%|█████████▌| 1266/1318 [13:10<00:25,  2.07it/s]"
     ]
    },
    {
     "name": "stdout",
     "output_type": "stream",
     "text": [
      "/home/lluis/histo_lung/data/Mask_PyHIST_v2/LungAOEC_List1/000032269300415949/tilecrossed_000032269300415949.png\n"
     ]
    },
    {
     "name": "stderr",
     "output_type": "stream",
     "text": [
      " 96%|█████████▌| 1268/1318 [13:11<00:20,  2.44it/s]"
     ]
    },
    {
     "name": "stdout",
     "output_type": "stream",
     "text": [
      "/home/lluis/histo_lung/data/Mask_PyHIST_v2/LungAOEC_List1/000033377800482055/tilecrossed_000033377800482055.png\n",
      "/home/lluis/histo_lung/data/Mask_PyHIST_v2/LungAOEC_List1/000030487200323364/tilecrossed_000030487200323364.png\n"
     ]
    },
    {
     "name": "stderr",
     "output_type": "stream",
     "text": [
      " 96%|█████████▋| 1269/1318 [13:11<00:16,  2.90it/s]"
     ]
    },
    {
     "name": "stdout",
     "output_type": "stream",
     "text": [
      "/home/lluis/histo_lung/data/Mask_PyHIST_v2/LungAOEC_List1/000035864200716343/tilecrossed_000035864200716343.png\n"
     ]
    },
    {
     "name": "stderr",
     "output_type": "stream",
     "text": [
      " 96%|█████████▋| 1270/1318 [13:12<00:17,  2.67it/s]"
     ]
    },
    {
     "name": "stdout",
     "output_type": "stream",
     "text": [
      "/home/lluis/histo_lung/data/Mask_PyHIST_v2/LungAOEC_List1/000031172000359340/tilecrossed_000031172000359340.png\n"
     ]
    },
    {
     "name": "stderr",
     "output_type": "stream",
     "text": [
      " 97%|█████████▋| 1272/1318 [13:13<00:16,  2.72it/s]"
     ]
    },
    {
     "name": "stdout",
     "output_type": "stream",
     "text": [
      "/home/lluis/histo_lung/data/Mask_PyHIST_v2/LungAOEC_List1/000033415100486632/tilecrossed_000033415100486632.png\n",
      "/home/lluis/histo_lung/data/Mask_PyHIST_v2/LungAOEC_List1/000034259100558324/tilecrossed_000034259100558324.png\n"
     ]
    },
    {
     "name": "stderr",
     "output_type": "stream",
     "text": [
      " 97%|█████████▋| 1273/1318 [13:13<00:21,  2.13it/s]"
     ]
    },
    {
     "name": "stdout",
     "output_type": "stream",
     "text": [
      "/home/lluis/histo_lung/data/Mask_PyHIST_v2/LungAOEC_List1/000033780900519197/tilecrossed_000033780900519197.png\n"
     ]
    },
    {
     "name": "stderr",
     "output_type": "stream",
     "text": [
      " 97%|█████████▋| 1274/1318 [13:14<00:22,  1.93it/s]"
     ]
    },
    {
     "name": "stdout",
     "output_type": "stream",
     "text": [
      "/home/lluis/histo_lung/data/Mask_PyHIST_v2/LungAOEC_List1/000034933900620242/tilecrossed_000034933900620242.png\n"
     ]
    },
    {
     "name": "stderr",
     "output_type": "stream",
     "text": [
      " 97%|█████████▋| 1275/1318 [13:15<00:23,  1.84it/s]"
     ]
    },
    {
     "name": "stdout",
     "output_type": "stream",
     "text": [
      "/home/lluis/histo_lung/data/Mask_PyHIST_v2/LungAOEC_List1/000032031400402945/tilecrossed_000032031400402945.png\n"
     ]
    },
    {
     "name": "stderr",
     "output_type": "stream",
     "text": [
      " 97%|█████████▋| 1276/1318 [13:15<00:18,  2.24it/s]"
     ]
    },
    {
     "name": "stdout",
     "output_type": "stream",
     "text": [
      "/home/lluis/histo_lung/data/Mask_PyHIST_v2/LungAOEC_List1/000030412700319318/tilecrossed_000030412700319318.png\n"
     ]
    },
    {
     "name": "stderr",
     "output_type": "stream",
     "text": [
      " 97%|█████████▋| 1277/1318 [13:15<00:21,  1.92it/s]"
     ]
    },
    {
     "name": "stdout",
     "output_type": "stream",
     "text": [
      "/home/lluis/histo_lung/data/Mask_PyHIST_v2/LungAOEC_List1/000031029700349801/tilecrossed_000031029700349801.png\n"
     ]
    },
    {
     "name": "stderr",
     "output_type": "stream",
     "text": [
      " 97%|█████████▋| 1278/1318 [13:16<00:17,  2.22it/s]"
     ]
    },
    {
     "name": "stdout",
     "output_type": "stream",
     "text": [
      "/home/lluis/histo_lung/data/Mask_PyHIST_v2/LungAOEC_List1/000034259100558310/tilecrossed_000034259100558310.png\n"
     ]
    },
    {
     "name": "stderr",
     "output_type": "stream",
     "text": [
      " 97%|█████████▋| 1279/1318 [13:16<00:17,  2.19it/s]"
     ]
    },
    {
     "name": "stdout",
     "output_type": "stream",
     "text": [
      "/home/lluis/histo_lung/data/Mask_PyHIST_v2/LungAOEC_List1/000032031400402943/tilecrossed_000032031400402943.png\n"
     ]
    },
    {
     "name": "stderr",
     "output_type": "stream",
     "text": [
      " 97%|█████████▋| 1281/1318 [13:17<00:11,  3.17it/s]"
     ]
    },
    {
     "name": "stdout",
     "output_type": "stream",
     "text": [
      "/home/lluis/histo_lung/data/Mask_PyHIST_v2/LungAOEC_List1/000034101000539243/tilecrossed_000034101000539243.png\n",
      "/home/lluis/histo_lung/data/Mask_PyHIST_v2/LungAOEC_List1/000030734600335059/tilecrossed_000030734600335059.png\n"
     ]
    },
    {
     "name": "stderr",
     "output_type": "stream",
     "text": [
      " 97%|█████████▋| 1283/1318 [13:17<00:08,  4.23it/s]"
     ]
    },
    {
     "name": "stdout",
     "output_type": "stream",
     "text": [
      "/home/lluis/histo_lung/data/Mask_PyHIST_v2/LungAOEC_List1/000030490000322448/tilecrossed_000030490000322448.png\n",
      "/home/lluis/histo_lung/data/Mask_PyHIST_v2/LungAOEC_List1/000034238100556677/tilecrossed_000034238100556677.png\n"
     ]
    },
    {
     "name": "stderr",
     "output_type": "stream",
     "text": [
      " 97%|█████████▋| 1284/1318 [13:17<00:11,  2.84it/s]"
     ]
    },
    {
     "name": "stdout",
     "output_type": "stream",
     "text": [
      "/home/lluis/histo_lung/data/Mask_PyHIST_v2/LungAOEC_List1/000030717900334731/tilecrossed_000030717900334731.png\n"
     ]
    },
    {
     "name": "stderr",
     "output_type": "stream",
     "text": [
      " 97%|█████████▋| 1285/1318 [13:18<00:12,  2.56it/s]"
     ]
    },
    {
     "name": "stdout",
     "output_type": "stream",
     "text": [
      "/home/lluis/histo_lung/data/Mask_PyHIST_v2/LungAOEC_List1/000034261900559459/tilecrossed_000034261900559459.png\n"
     ]
    },
    {
     "name": "stderr",
     "output_type": "stream",
     "text": [
      " 98%|█████████▊| 1286/1318 [13:18<00:13,  2.33it/s]"
     ]
    },
    {
     "name": "stdout",
     "output_type": "stream",
     "text": [
      "/home/lluis/histo_lung/data/Mask_PyHIST_v2/LungAOEC_List1/000031172000363428/tilecrossed_000031172000363428.png\n"
     ]
    },
    {
     "name": "stderr",
     "output_type": "stream",
     "text": [
      " 98%|█████████▊| 1287/1318 [13:19<00:13,  2.37it/s]"
     ]
    },
    {
     "name": "stdout",
     "output_type": "stream",
     "text": [
      "/home/lluis/histo_lung/data/Mask_PyHIST_v2/LungAOEC_List1/000030412700319317/tilecrossed_000030412700319317.png\n"
     ]
    },
    {
     "name": "stderr",
     "output_type": "stream",
     "text": [
      " 98%|█████████▊| 1288/1318 [13:20<00:17,  1.75it/s]"
     ]
    },
    {
     "name": "stdout",
     "output_type": "stream",
     "text": [
      "/home/lluis/histo_lung/data/Mask_PyHIST_v2/LungAOEC_List1/000032373100420773/tilecrossed_000032373100420773.png\n"
     ]
    },
    {
     "name": "stderr",
     "output_type": "stream",
     "text": [
      " 98%|█████████▊| 1289/1318 [13:21<00:19,  1.50it/s]"
     ]
    },
    {
     "name": "stdout",
     "output_type": "stream",
     "text": [
      "/home/lluis/histo_lung/data/Mask_PyHIST_v2/LungAOEC_List1/000031150900357659/tilecrossed_000031150900357659.png\n"
     ]
    },
    {
     "name": "stderr",
     "output_type": "stream",
     "text": [
      " 98%|█████████▊| 1290/1318 [13:21<00:15,  1.82it/s]"
     ]
    },
    {
     "name": "stdout",
     "output_type": "stream",
     "text": [
      "/home/lluis/histo_lung/data/Mask_PyHIST_v2/LungAOEC_List1/000031206300360812/tilecrossed_000031206300360812.png\n"
     ]
    },
    {
     "name": "stderr",
     "output_type": "stream",
     "text": [
      " 98%|█████████▊| 1291/1318 [13:22<00:16,  1.61it/s]"
     ]
    },
    {
     "name": "stdout",
     "output_type": "stream",
     "text": [
      "/home/lluis/histo_lung/data/Mask_PyHIST_v2/LungAOEC_List1/000031016200565072/tilecrossed_000031016200565072.png\n"
     ]
    },
    {
     "name": "stderr",
     "output_type": "stream",
     "text": [
      " 98%|█████████▊| 1292/1318 [13:22<00:15,  1.66it/s]"
     ]
    },
    {
     "name": "stdout",
     "output_type": "stream",
     "text": [
      "/home/lluis/histo_lung/data/Mask_PyHIST_v2/LungAOEC_List1/000033604300493894/tilecrossed_000033604300493894.png\n"
     ]
    },
    {
     "name": "stderr",
     "output_type": "stream",
     "text": [
      " 98%|█████████▊| 1293/1318 [13:23<00:13,  1.89it/s]"
     ]
    },
    {
     "name": "stdout",
     "output_type": "stream",
     "text": [
      "/home/lluis/histo_lung/data/Mask_PyHIST_v2/LungAOEC_List1/000030438500320102/tilecrossed_000030438500320102.png\n"
     ]
    },
    {
     "name": "stderr",
     "output_type": "stream",
     "text": [
      " 98%|█████████▊| 1294/1318 [13:24<00:16,  1.42it/s]"
     ]
    },
    {
     "name": "stdout",
     "output_type": "stream",
     "text": [
      "/home/lluis/histo_lung/data/Mask_PyHIST_v2/LungAOEC_List1/000032513500425531/tilecrossed_000032513500425531.png\n"
     ]
    },
    {
     "name": "stderr",
     "output_type": "stream",
     "text": [
      " 98%|█████████▊| 1295/1318 [13:25<00:17,  1.34it/s]"
     ]
    },
    {
     "name": "stdout",
     "output_type": "stream",
     "text": [
      "/home/lluis/histo_lung/data/Mask_PyHIST_v2/LungAOEC_List1/000031249800362956/tilecrossed_000031249800362956.png\n"
     ]
    },
    {
     "name": "stderr",
     "output_type": "stream",
     "text": [
      " 98%|█████████▊| 1296/1318 [13:25<00:13,  1.58it/s]"
     ]
    },
    {
     "name": "stdout",
     "output_type": "stream",
     "text": [
      "/home/lluis/histo_lung/data/Mask_PyHIST_v2/LungAOEC_List1/000031292100364435/tilecrossed_000031292100364435.png\n"
     ]
    },
    {
     "name": "stderr",
     "output_type": "stream",
     "text": [
      " 98%|█████████▊| 1298/1318 [13:26<00:09,  2.16it/s]"
     ]
    },
    {
     "name": "stdout",
     "output_type": "stream",
     "text": [
      "/home/lluis/histo_lung/data/Mask_PyHIST_v2/LungAOEC_List1/000030640600331514/tilecrossed_000030640600331514.png\n",
      "/home/lluis/histo_lung/data/Mask_PyHIST_v2/LungAOEC_List1/000031183700359374/tilecrossed_000031183700359374.png\n"
     ]
    },
    {
     "name": "stderr",
     "output_type": "stream",
     "text": [
      " 99%|█████████▊| 1299/1318 [13:26<00:08,  2.34it/s]"
     ]
    },
    {
     "name": "stdout",
     "output_type": "stream",
     "text": [
      "/home/lluis/histo_lung/data/Mask_PyHIST_v2/LungAOEC_List1/000031292100364436/tilecrossed_000031292100364436.png\n"
     ]
    },
    {
     "name": "stderr",
     "output_type": "stream",
     "text": [
      " 99%|█████████▊| 1301/1318 [13:27<00:06,  2.69it/s]"
     ]
    },
    {
     "name": "stdout",
     "output_type": "stream",
     "text": [
      "/home/lluis/histo_lung/data/Mask_PyHIST_v2/LungAOEC_List1/000030734600335060/tilecrossed_000030734600335060.png\n",
      "/home/lluis/histo_lung/data/Mask_PyHIST_v2/LungAOEC_List1/000034025900540935/tilecrossed_000034025900540935.png\n"
     ]
    },
    {
     "name": "stderr",
     "output_type": "stream",
     "text": [
      " 99%|█████████▉| 1302/1318 [13:27<00:05,  3.05it/s]"
     ]
    },
    {
     "name": "stdout",
     "output_type": "stream",
     "text": [
      "/home/lluis/histo_lung/data/Mask_PyHIST_v2/LungAOEC_List1/000032368400420531/tilecrossed_000032368400420531.png\n"
     ]
    },
    {
     "name": "stderr",
     "output_type": "stream",
     "text": [
      " 99%|█████████▉| 1303/1318 [13:27<00:05,  2.61it/s]"
     ]
    },
    {
     "name": "stdout",
     "output_type": "stream",
     "text": [
      "/home/lluis/histo_lung/data/Mask_PyHIST_v2/LungAOEC_List1/000034458200578695/tilecrossed_000034458200578695.png\n"
     ]
    },
    {
     "name": "stderr",
     "output_type": "stream",
     "text": [
      " 99%|█████████▉| 1304/1318 [13:28<00:05,  2.38it/s]"
     ]
    },
    {
     "name": "stdout",
     "output_type": "stream",
     "text": [
      "/home/lluis/histo_lung/data/Mask_PyHIST_v2/LungAOEC_List1/000029832000288268/tilecrossed_000029832000288268.png\n",
      "/home/lluis/histo_lung/data/Mask_PyHIST_v2/LungAOEC_List1/000030734200335036/tilecrossed_000030734200335036.png\n"
     ]
    },
    {
     "name": "stderr",
     "output_type": "stream",
     "text": [
      " 99%|█████████▉| 1306/1318 [13:28<00:03,  3.34it/s]"
     ]
    },
    {
     "name": "stdout",
     "output_type": "stream",
     "text": [
      "/home/lluis/histo_lung/data/Mask_PyHIST_v2/LungAOEC_List1/000030963300346652/tilecrossed_000030963300346652.png\n"
     ]
    },
    {
     "name": "stderr",
     "output_type": "stream",
     "text": [
      " 99%|█████████▉| 1307/1318 [13:29<00:03,  3.35it/s]"
     ]
    },
    {
     "name": "stdout",
     "output_type": "stream",
     "text": [
      "/home/lluis/histo_lung/data/Mask_PyHIST_v2/LungAOEC_List1/000034819700614033/tilecrossed_000034819700614033.png\n"
     ]
    },
    {
     "name": "stderr",
     "output_type": "stream",
     "text": [
      " 99%|█████████▉| 1308/1318 [13:29<00:03,  2.81it/s]"
     ]
    },
    {
     "name": "stdout",
     "output_type": "stream",
     "text": [
      "/home/lluis/histo_lung/data/Mask_PyHIST_v2/LungAOEC_List1/000031860700393706/tilecrossed_000031860700393706.png\n"
     ]
    },
    {
     "name": "stderr",
     "output_type": "stream",
     "text": [
      " 99%|█████████▉| 1309/1318 [13:30<00:03,  2.28it/s]"
     ]
    },
    {
     "name": "stdout",
     "output_type": "stream",
     "text": [
      "/home/lluis/histo_lung/data/Mask_PyHIST_v2/LungAOEC_List1/000033209500460318/tilecrossed_000033209500460318.png\n"
     ]
    },
    {
     "name": "stderr",
     "output_type": "stream",
     "text": [
      " 99%|█████████▉| 1310/1318 [13:30<00:03,  2.19it/s]"
     ]
    },
    {
     "name": "stdout",
     "output_type": "stream",
     "text": [
      "/home/lluis/histo_lung/data/Mask_PyHIST_v2/LungAOEC_List1/000034043200539960/tilecrossed_000034043200539960.png\n"
     ]
    },
    {
     "name": "stderr",
     "output_type": "stream",
     "text": [
      " 99%|█████████▉| 1311/1318 [13:31<00:03,  2.23it/s]"
     ]
    },
    {
     "name": "stdout",
     "output_type": "stream",
     "text": [
      "/home/lluis/histo_lung/data/Mask_PyHIST_v2/LungAOEC_List1/000032031400402954/tilecrossed_000032031400402954.png\n"
     ]
    },
    {
     "name": "stderr",
     "output_type": "stream",
     "text": [
      "100%|█████████▉| 1313/1318 [13:32<00:02,  2.35it/s]"
     ]
    },
    {
     "name": "stdout",
     "output_type": "stream",
     "text": [
      "/home/lluis/histo_lung/data/Mask_PyHIST_v2/LungAOEC_List1/000034121200542997/tilecrossed_000034121200542997.png\n",
      "/home/lluis/histo_lung/data/Mask_PyHIST_v2/LungAOEC_List1/000034641300596770/tilecrossed_000034641300596770.png\n"
     ]
    },
    {
     "name": "stderr",
     "output_type": "stream",
     "text": [
      "100%|█████████▉| 1314/1318 [13:32<00:01,  2.17it/s]"
     ]
    },
    {
     "name": "stdout",
     "output_type": "stream",
     "text": [
      "/home/lluis/histo_lung/data/Mask_PyHIST_v2/LungAOEC_List1/000033807100521349/tilecrossed_000033807100521349.png\n"
     ]
    },
    {
     "name": "stderr",
     "output_type": "stream",
     "text": [
      "100%|█████████▉| 1315/1318 [13:32<00:01,  2.40it/s]"
     ]
    },
    {
     "name": "stdout",
     "output_type": "stream",
     "text": [
      "/home/lluis/histo_lung/data/Mask_PyHIST_v2/LungAOEC_List1/000036434500773565/tilecrossed_000036434500773565.png\n"
     ]
    },
    {
     "name": "stderr",
     "output_type": "stream",
     "text": [
      "100%|█████████▉| 1317/1318 [13:33<00:00,  3.18it/s]"
     ]
    },
    {
     "name": "stdout",
     "output_type": "stream",
     "text": [
      "/home/lluis/histo_lung/data/Mask_PyHIST_v2/LungAOEC_List1/000029496800270415/tilecrossed_000029496800270415.png\n",
      "/home/lluis/histo_lung/data/Mask_PyHIST_v2/LungAOEC_List1/000031340300367684/tilecrossed_000031340300367684.png\n"
     ]
    },
    {
     "name": "stderr",
     "output_type": "stream",
     "text": [
      "100%|██████████| 1318/1318 [13:34<00:00,  1.62it/s]\n"
     ]
    }
   ],
   "source": [
    "\n",
    "datadir = Path(\"/mnt/nas4/datasets/ToReadme/ExaMode_Dataset1/AOEC\")\n",
    "\n",
    "# for i in range(3):\n",
    "maskdir = Path(thispath.parent / \"data\" / \"Mask_PyHIST_v2\" / f\"LungAOEC_List1\")\n",
    "\n",
    "image = \"000030734600335058\"\n",
    "\n",
    "svs_file = [i for i in datadir.rglob(\"*.svs\") if \"LungAOEC\" in str(i) and image in str(i)]\n",
    "\n",
    "histo_mask = cv.imread(str(Path(maskdir / image / f\"segmented_{image}.ppm\")))\n",
    "print(svs_file[0])\n",
    "slide = openslide.OpenSlide(str(svs_file[0]))\n",
    "print(slide.level_dimensions)\n",
    "mpp = slide.properties['openslide.mpp-x']\n",
    "print(mpp)\n",
    "\n",
    "level_downsamples = slide.level_downsamples\n",
    "mags = available_magnifications(mpp, level_downsamples)\n",
    "print(mags)\n",
    "\n",
    "# Mask from PyHIST to binary mask\n",
    "copy = histo_mask.copy()\n",
    "\n",
    "most_frequnt = check_corners(copy)\n",
    "print(most_frequnt)\n",
    "copy[(copy != most_frequnt).any(axis=-1)] = 1\n",
    "copy[(copy == most_frequnt).all(axis=-1)] = 0\n",
    "binary_mask = copy[:, :, 0]\n",
    "\n",
    "plt.imshow(color_mask)\n",
    "plt.title(\"PyHIST mask\")\n",
    "plt.show()\n",
    "\n",
    "\n",
    "plt.imshow(binary_mask)\n",
    "plt.title(\"Binary mask\")\n",
    "plt.show()\n"
   ]
  }
 ],
 "metadata": {
  "kernelspec": {
   "display_name": "lung_env",
   "language": "python",
   "name": "python3"
  },
  "language_info": {
   "codemirror_mode": {
    "name": "ipython",
    "version": 3
   },
   "file_extension": ".py",
   "mimetype": "text/x-python",
   "name": "python",
   "nbconvert_exporter": "python",
   "pygments_lexer": "ipython3",
   "version": "3.9.16"
  },
  "orig_nbformat": 4,
  "vscode": {
   "interpreter": {
    "hash": "6158f16043df0ed03e0f0bf66374ee44ce8098f515735805958080d32960790b"
   }
  }
 },
 "nbformat": 4,
 "nbformat_minor": 2
}

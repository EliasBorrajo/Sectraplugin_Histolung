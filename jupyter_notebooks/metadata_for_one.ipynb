{
 "cells": [
  {
   "cell_type": "code",
   "execution_count": 2,
   "metadata": {},
   "outputs": [
    {
     "name": "stdout",
     "output_type": "stream",
     "text": [
      "                                                     level_dimensions  \\\n",
      "000030870900342376  ((147408, 82667), (36852, 20666), (9213, 5166)...   \n",
      "\n",
      "                                                    level_downsamples  \\\n",
      "000030870900342376  (1.0, 4.000072582986547, 16.001064653503676, 6...   \n",
      "\n",
      "                                                       magnifications  \\\n",
      "000030870900342376  [40.0, 9.999818545826253, 2.499833658958524, 0...   \n",
      "\n",
      "                                    mpp  number_patches_pyhist    patch_shape  \\\n",
      "000030870900342376  0.25180000000000002                   5064  (224, 224, 3)   \n",
      "\n",
      "                      center  \n",
      "000030870900342376  LungAOEC  \n"
     ]
    }
   ],
   "source": [
    "from pathlib import Path\n",
    "import os\n",
    "import pandas as pd\n",
    "import numpy as np\n",
    "import openslide\n",
    "from tqdm import tqdm\n",
    "import cv2 as cv\n",
    "from natsort import natsorted\n",
    "\n",
    "thispath = Path.cwd().resolve()\n",
    "\n",
    "image_index = \"000030870900342376\"\n",
    "\n",
    "def available_magnifications(mpp, level_downsamples):\n",
    "\tmpp = float(mpp)\n",
    "\tif (mpp<0.26):\n",
    "\t\tmagnification = 40\n",
    "\telse:\n",
    "\t\tmagnification = 20\n",
    "\t\n",
    "\tmags = []\n",
    "\tfor l in level_downsamples:\n",
    "\t\tmags.append(magnification/l)\n",
    "\t\n",
    "\treturn mags\n",
    "\n",
    "datadir = Path(\"/mnt/nas4/datasets/ToReadme/ExaMode_Dataset1/AOEC\")\n",
    "maskdir = Path(thispath.parent / \"data\" / \"Mask_PyHIST\")\n",
    "\n",
    "svs_files = [i for i in datadir.rglob(\"*.svs\") if \"LungAOEC\" in str(i) and image_index in str(i)]\n",
    "svs_file = svs_files[0]\n",
    "\n",
    "header = [\"level_dimensions\", \"level_downsamples\", \"magnifications\", \"mpp\",\n",
    "              \"number_patches_pyhist\", \"patch_shape\", \"center\"]\n",
    "metadata = pd.DataFrame(columns=header)\n",
    "\n",
    "patchdir = Path(maskdir / svs_file.parent.stem / svs_file.stem / f\"{svs_file.stem}_tiles\")\n",
    "    \n",
    "number_patches = len(os.listdir(Path(maskdir / svs_file.parent.stem / svs_file.stem / f\"{svs_file.stem}_tiles\")))\n",
    "\n",
    "patch = cv.imread(str(Path(patchdir / os.listdir(patchdir)[0] )))\n",
    "patch_shape = patch.shape\n",
    "\n",
    "center = svs_file.parent.stem.split(\"_\")[0]\n",
    "\n",
    "slide = openslide.OpenSlide(str(svs_file))\n",
    "\n",
    "level_dimensions = slide.level_dimensions\n",
    "mpp = slide.properties['openslide.mpp-x']\n",
    "level_downsamples = slide.level_downsamples\n",
    "mags = available_magnifications(mpp, level_downsamples)\n",
    "metadata.loc[svs_file.stem] = [level_dimensions, level_downsamples, mags,\n",
    "                               mpp, number_patches, patch_shape, center]\n",
    "\n",
    "print(metadata)"
   ]
  }
 ],
 "metadata": {
  "kernelspec": {
   "display_name": "lung_env",
   "language": "python",
   "name": "python3"
  },
  "language_info": {
   "codemirror_mode": {
    "name": "ipython",
    "version": 3
   },
   "file_extension": ".py",
   "mimetype": "text/x-python",
   "name": "python",
   "nbconvert_exporter": "python",
   "pygments_lexer": "ipython3",
   "version": "3.8.16"
  },
  "orig_nbformat": 4,
  "vscode": {
   "interpreter": {
    "hash": "6158f16043df0ed03e0f0bf66374ee44ce8098f515735805958080d32960790b"
   }
  }
 },
 "nbformat": 4,
 "nbformat_minor": 2
}

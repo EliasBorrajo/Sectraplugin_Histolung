{
 "cells": [
  {
   "cell_type": "code",
   "execution_count": 3,
   "metadata": {},
   "outputs": [
    {
     "name": "stdout",
     "output_type": "stream",
     "text": [
      "== 000033352100479581 ==\n"
     ]
    }
   ],
   "source": [
    "from pathlib import Path\n",
    "import os\n",
    "import pandas as pd\n",
    "import numpy as np\n",
    "import openslide\n",
    "from tqdm import tqdm\n",
    "import cv2 as cv\n",
    "from natsort import natsorted\n",
    "\n",
    "thispath = Path.cwd().resolve()\n",
    "\n",
    "\n",
    "def available_magnifications(mpp, level_downsamples):\n",
    "\tmpp = float(mpp)\n",
    "\tif (mpp<0.26):\n",
    "\t\tmagnification = 40\n",
    "\telse:\n",
    "\t\tmagnification = 20\n",
    "\t\n",
    "\tmags = []\n",
    "\tfor l in level_downsamples:\n",
    "\t\tmags.append(magnification/l)\n",
    "\t\n",
    "\treturn mags\n",
    "\n",
    "\n",
    "image_index = \"000033352100479581\"\n",
    "\n",
    "datadir = Path(\"/mnt/nas4/datasets/ToReadme/ExaMode_Dataset1/AOEC\")\n",
    "maskdir = Path(thispath.parent / \"data\" / \"Mask_PyHIST\")\n",
    "\n",
    "svs_file = [i for i in datadir.rglob(\"*.svs\") if \"LungAOEC\" in str(i) and image_index in str(i)][0]\n",
    "\n",
    "\n",
    "header = [\"level_dimensions\", \"level_downsamples\", \"magnifications\", \"mpp\",\n",
    "\t\t\t\"number_patches_pyhist\", \"patch_shape\", \"center\", \"mean\", \"std\", \"mask_shape_stadistics\"]\n",
    "\n",
    "metadata = pd.DataFrame(columns=header)\n",
    "\n",
    "\n",
    "print(f\"== {svs_file.stem} ==\")\n",
    "patchdir = Path(maskdir / svs_file.parent.stem / svs_file.stem / f\"{svs_file.stem}_tiles\")\n",
    "resultdir = Path(maskdir / svs_file.parent.stem / svs_file.stem)\n",
    "\n",
    "number_patches = len(os.listdir(patchdir))\n",
    "\n",
    "patches_metadata = pd.read_csv(Path(resultdir / \"tile_selection.tsv\"), sep='\\t').set_index(\"Tile\")\n",
    "patch_shape = patches_metadata.iloc[0][\"Width\"]\n",
    "\n",
    "center = svs_file.parent.stem.split(\"_\")[0]\n",
    "\n",
    "slide = openslide.OpenSlide(str(svs_file))\n",
    "\n",
    "level_dimensions = slide.level_dimensions\n",
    "mpp = slide.properties['openslide.mpp-x']\n",
    "level_downsamples = slide.level_downsamples\n",
    "mags = available_magnifications(mpp, level_downsamples)\n",
    "\n",
    "binary_mask = cv.imread(str(resultdir / f\"binary_{svs_file.stem}.png\"))\n",
    "binary_mask[binary_mask == 255] = 1\n",
    "\n",
    "thumbnail = slide.get_thumbnail(level_dimensions[0])\n",
    "\n",
    "thumbnail_data = np.array(thumbnail)\n",
    "thumbnail_shape = thumbnail_data.shape\n",
    "\n",
    "binary_mask = cv.resize(binary_mask, (thumbnail_shape[1], thumbnail_shape[0]))\n",
    "\n",
    "thumb_data_masked = np.ma.array(thumbnail_data, mask=np.logical_not(binary_mask))\n",
    "mean_thumb_data = np.mean(thumb_data_masked, axis=(0, 1))\n",
    "std_thumb_data = np.std(thumb_data_masked, axis=(0, 1))\n",
    "\n",
    "metadata.loc[svs_file.stem] = [level_dimensions, level_downsamples, mags,\n",
    "\t\t\t\t\t\t\t\tmpp, number_patches, patch_shape, center,\n",
    "\t\t\t\t\t\t\t\tmean_thumb_data, std_thumb_data, thumbnail_shape]\n",
    "\n",
    "outputdir = Path(maskdir.parent / \"metadata_for_one_big_000033352100479581.csv\")\n",
    "metadata.to_csv(outputdir)"
   ]
  }
 ],
 "metadata": {
  "kernelspec": {
   "display_name": "lung_env",
   "language": "python",
   "name": "python3"
  },
  "language_info": {
   "codemirror_mode": {
    "name": "ipython",
    "version": 3
   },
   "file_extension": ".py",
   "mimetype": "text/x-python",
   "name": "python",
   "nbconvert_exporter": "python",
   "pygments_lexer": "ipython3",
   "version": "3.8.16"
  },
  "orig_nbformat": 4,
  "vscode": {
   "interpreter": {
    "hash": "6158f16043df0ed03e0f0bf66374ee44ce8098f515735805958080d32960790b"
   }
  }
 },
 "nbformat": 4,
 "nbformat_minor": 2
}

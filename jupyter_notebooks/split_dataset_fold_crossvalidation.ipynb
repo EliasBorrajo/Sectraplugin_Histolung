{
 "cells": [
  {
   "cell_type": "code",
   "execution_count": 1,
   "metadata": {},
   "outputs": [
    {
     "name": "stdout",
     "output_type": "stream",
     "text": [
      "Nº scc: 232\n",
      "Nº nscc_adeno: 690\n",
      "Nº nscc_squamous: 251\n",
      "Nº nscc_large: 0\n",
      "Nº no_cancer: 339\n",
      "WSI with more than one label\n",
      "SCC and Adeno: 13\n",
      "SCC and Squamous: 180\n",
      "Adeno and Squamous: 12\n",
      "SCC, Adeno and Squamous: 11\n"
     ]
    }
   ],
   "source": [
    "from pathlib import Path\n",
    "import pandas as pd\n",
    "import numpy as np\n",
    "from iterstrat.ml_stratifiers import MultilabelStratifiedKFold\n",
    "\n",
    "thispath = Path.cwd().resolve()\n",
    "\n",
    "datadir = Path(thispath.parent / \"data\")\n",
    "\n",
    "labels = pd.read_csv(Path(datadir / \"labels.csv\"), index_col='image_num')\n",
    "\n",
    "count_scc = (labels['cancer_scc'] == 1).sum()\n",
    "count_nscc_adeno = (labels['cancer_nscc_adeno'] == 1).sum()\n",
    "count_nscc_squamous = (labels['cancer_nscc_squamous'] == 1).sum()\n",
    "count_nscc_large = (labels['cancer_nscc_large'] == 1).sum()\n",
    "count_no_cancer = (labels['no_cancer'] == 1).sum()\n",
    "\n",
    "print(f\"Nº scc: {count_scc}\")\n",
    "print(f\"Nº nscc_adeno: {count_nscc_adeno}\")\n",
    "print(f\"Nº nscc_squamous: {count_nscc_squamous}\")\n",
    "print(f\"Nº nscc_large: {count_nscc_large}\")\n",
    "print(f\"Nº no_cancer: {count_no_cancer}\")\n",
    "\n",
    "wsi_scc = labels.index[labels['cancer_scc'] == 1].tolist()\n",
    "wsi_nscc_adeno = labels.index[labels['cancer_nscc_adeno'] == 1].tolist()\n",
    "wsi_nscc_squamous = labels.index[labels['cancer_nscc_squamous'] == 1].tolist()\n",
    "wsi_nscc_large = labels.index[labels['cancer_nscc_large'] == 1].tolist()\n",
    "wsi_no_cancer = labels.index[labels['no_cancer'] == 1].tolist()\n",
    "\n",
    "scc_nscc_adeno = []\n",
    "scc_nscc_squamous = []\n",
    "scc_no_cancer = []\n",
    "nscc_adeno_squamous = []\n",
    "scc_nscc_adeno_squamous = []\n",
    "nscc_adeno_no_cancer = []\n",
    "nscc_squamous_no_cancer = []\n",
    "\n",
    "\n",
    "for scc in wsi_scc:\n",
    "    \n",
    "    for nscc_adeno in wsi_nscc_adeno:\n",
    "        if scc == nscc_adeno and nscc_adeno not in scc_nscc_adeno:\n",
    "            scc_nscc_adeno.append(nscc_adeno)\n",
    "\n",
    "        for nscc_squamous in wsi_nscc_squamous:\n",
    "            if scc == nscc_squamous and nscc_squamous not in scc_nscc_squamous:\n",
    "                scc_nscc_squamous.append(nscc_squamous)\n",
    "\n",
    "            if nscc_adeno == nscc_squamous and nscc_squamous not in nscc_adeno_squamous:\n",
    "                nscc_adeno_squamous.append(nscc_squamous)\n",
    "            \n",
    "            if scc == nscc_adeno == nscc_squamous and nscc_squamous not in scc_nscc_adeno_squamous:\n",
    "                scc_nscc_adeno_squamous.append(nscc_squamous)\n",
    "\n",
    "\n",
    "print(\"WSI with more than one label\")\n",
    "print(f\"SCC and Adeno: {len(scc_nscc_adeno)}\")\n",
    "print(f\"SCC and Squamous: {len(scc_nscc_squamous)}\")\n",
    "print(f\"Adeno and Squamous: {len(nscc_adeno_squamous)}\")\n",
    "print(f\"SCC, Adeno and Squamous: {len(scc_nscc_adeno_squamous)}\")"
   ]
  },
  {
   "cell_type": "code",
   "execution_count": 2,
   "metadata": {},
   "outputs": [
    {
     "name": "stdout",
     "output_type": "stream",
     "text": [
      "Datasplit labels TRAIN: [209 621 226 0 305]Datasplit labels TEST: [23 69 25 0 34]\n",
      "Datasplit labels TRAIN: [209 621 226 0 305]Datasplit labels TEST: [23 69 25 0 34]\n",
      "Datasplit labels TRAIN: [209 621 226 0 305]Datasplit labels TEST: [23 69 25 0 34]\n",
      "Datasplit labels TRAIN: [209 621 226 0 305]Datasplit labels TEST: [23 69 25 0 34]\n",
      "Datasplit labels TRAIN: [209 621 226 0 305]Datasplit labels TEST: [23 69 25 0 34]\n",
      "Datasplit labels TRAIN: [208 621 226 0 306]Datasplit labels TEST: [24 69 25 0 33]\n",
      "Datasplit labels TRAIN: [209 621 225 0 305]Datasplit labels TEST: [23 69 26 0 34]\n",
      "Datasplit labels TRAIN: [209 621 226 0 305]Datasplit labels TEST: [23 69 25 0 34]\n",
      "Datasplit labels TRAIN: [209 621 226 0 305]Datasplit labels TEST: [23 69 25 0 34]\n",
      "Datasplit labels TRAIN: [208 621 226 0 305]Datasplit labels TEST: [24 69 25 0 34]\n"
     ]
    }
   ],
   "source": [
    "\n",
    "k = 10\n",
    "\n",
    "datadir = Path(thispath.parent / \"data\")\n",
    "\n",
    "csv_filename_training_AOEC = Path(datadir / \"labels.csv\")\n",
    "\n",
    "#read data\n",
    "train_dataset_AOEC = pd.read_csv(csv_filename_training_AOEC, sep=',', header=0).values\n",
    "\n",
    "valid_fnames = train_dataset_AOEC[:,0]\n",
    "\n",
    "mskf = MultilabelStratifiedKFold(n_splits=k, shuffle=True, random_state=33)\n",
    "\n",
    "images = train_dataset_AOEC[:, 0]\n",
    "\n",
    "labels = train_dataset_AOEC[:, 1:]\n",
    "header = [\"images_train\", \"images_test\", \"labels_train\", \"labels_test\"]\n",
    "folds = pd.DataFrame(columns=header)\n",
    "i = 0\n",
    "\n",
    "for train_index, test_index in mskf.split(images, labels):\n",
    "   images_train, images_test = images[train_index], images[test_index]\n",
    "   labels_train, labels_test = labels[train_index], labels[test_index] \n",
    "   folds.loc[i] = [images_train, images_test, labels_train, labels_test]\n",
    "   i += 1\n",
    "\n",
    "   print(f\"Datasplit labels TRAIN: {np.sum(labels_train, axis=0)}\"\n",
    "         f\"Datasplit labels TEST: {np.sum(labels_test, axis=0)}\")\n",
    "   \n",
    "folds.to_csv(Path(datadir / f\"{k}_fold_crossvalidation_data_split.csv\"))\n"
   ]
  }
 ],
 "metadata": {
  "kernelspec": {
   "display_name": "lung_env",
   "language": "python",
   "name": "python3"
  },
  "language_info": {
   "codemirror_mode": {
    "name": "ipython",
    "version": 3
   },
   "file_extension": ".py",
   "mimetype": "text/x-python",
   "name": "python",
   "nbconvert_exporter": "python",
   "pygments_lexer": "ipython3",
   "version": "3.9.16"
  },
  "orig_nbformat": 4
 },
 "nbformat": 4,
 "nbformat_minor": 2
}

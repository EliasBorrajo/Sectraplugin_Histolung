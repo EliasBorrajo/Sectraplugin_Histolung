{
 "cells": [
  {
   "cell_type": "code",
   "execution_count": 2,
   "metadata": {},
   "outputs": [
    {
     "name": "stderr",
     "output_type": "stream",
     "text": [
      "100%|██████████| 5/5 [00:00<00:00, 28036.79it/s]\n"
     ]
    }
   ],
   "source": [
    "from pathlib import Path\n",
    "from tqdm import tqdm\n",
    "from natsort import natsorted\n",
    "\n",
    "thispath = Path.cwd().resolve()\n",
    "\n",
    "modeldir = Path(thispath.parent / \"trained_models\" / \"MIL\")\n",
    "\n",
    "\n",
    "subdirs = natsorted([e.stem for e in modeldir.iterdir() if e.is_dir()])\n",
    "\n",
    "with open(\n",
    "            Path(thispath.parent / Path(\n",
    "                f\"bash_files/bash_MIL_all.sh\")), 'w') as f:\n",
    "        f.write(\n",
    "            f\"#!/bin/bash \\n\\n\" \n",
    "        )\n",
    "\n",
    "        for dir in tqdm(subdirs):\n",
    "            \n",
    "            bash_line = f\"python3 -m training.test_MIL --experiment_name {dir} --dataset test\\n\"\n",
    "            f.write(bash_line)"
   ]
  }
 ],
 "metadata": {
  "kernelspec": {
   "display_name": "hlung",
   "language": "python",
   "name": "python3"
  },
  "language_info": {
   "codemirror_mode": {
    "name": "ipython",
    "version": 3
   },
   "file_extension": ".py",
   "mimetype": "text/x-python",
   "name": "python",
   "nbconvert_exporter": "python",
   "pygments_lexer": "ipython3",
   "version": "3.9.16"
  },
  "orig_nbformat": 4
 },
 "nbformat": 4,
 "nbformat_minor": 2
}

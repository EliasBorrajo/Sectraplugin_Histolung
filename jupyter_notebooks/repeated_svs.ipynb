{
 "cells": [
  {
   "cell_type": "code",
   "execution_count": 1,
   "metadata": {},
   "outputs": [
    {
     "name": "stdout",
     "output_type": "stream",
     "text": [
      "/home/lluis/histo_lung/jupyter_notebooks\n",
      "/mnt/nas4/datasets/ToReadme/ExaMode_Dataset1/AOEC\n",
      "2024\n"
     ]
    }
   ],
   "source": [
    "from pathlib import Path\n",
    "import numpy as np\n",
    "import os\n",
    "\n",
    "thispath = Path.cwd().resolve()\n",
    "print(thispath)\n",
    "\n",
    "datadir = Path(\"/mnt/nas4/datasets/ToReadme/ExaMode_Dataset1/AOEC\")\n",
    "print(datadir)\n",
    "\n",
    "# Opening JSON file\n",
    "svs_files = [i for i in datadir.rglob(\"*.svs\") if \"LungAOEC\" in str(i)]\n",
    "\n",
    "\n",
    "names_svs = [i.stem for i in svs_files]\n",
    "names_svs = np.array(names_svs)\n",
    "print(len(names_svs))"
   ]
  },
  {
   "cell_type": "code",
   "execution_count": 18,
   "metadata": {},
   "outputs": [],
   "source": [
    "import csv\n",
    "\n",
    "def csv_writer(file_path, name, action, data):\n",
    "    \"\"\"\n",
    "    Parameters\n",
    "    ----------\n",
    "    file_path (Path from pathlib): path where to save the csv file\n",
    "    name (string): csv name\n",
    "    action (char): Either 'w' to write a new csv file or 'a' to append a new row\n",
    "    data (list): Data to be appended to new row\n",
    "\n",
    "    Returns\n",
    "    -------\n",
    "    \"\"\"\n",
    "    absolute_path = file_path / name\n",
    "    with open(absolute_path, action, encoding='UTF8', newline='') as f:  # 'a' to append row\n",
    "        writer = csv.writer(f)\n",
    "        writer.writerow(data)\n",
    "        f.close()"
   ]
  },
  {
   "cell_type": "code",
   "execution_count": 2,
   "metadata": {},
   "outputs": [
    {
     "name": "stdout",
     "output_type": "stream",
     "text": [
      "Not repeated values\n"
     ]
    }
   ],
   "source": [
    "if len(names_svs) > len(np.unique(names_svs)):\n",
    "    m = np.zeros_like(names_svs, dtype=bool)\n",
    "    m[np.unique(names_svs, return_index=True)[1]] = True\n",
    "\n",
    "    header = [\"This images are repeated in 3 List folders of LungAOEC SVS files\"]\n",
    "    csv_writer(thispath.parent, \"repeated_in_svs.csv\", \"w\", header)\n",
    "    for a, num in zip(m, names_svs):\n",
    "        if a == False:\n",
    "            print(num)\n",
    "            csv_writer(thispath.parent, \"repeated_in_svs.csv\", \"a\", [num])\n",
    "    print(f\"Found repeated values in JSON files. Saved in .csv file in {thispath.parent}\")\n",
    "else:\n",
    "    print(\"Not repeated values\")"
   ]
  },
  {
   "cell_type": "code",
   "execution_count": 72,
   "metadata": {},
   "outputs": [
    {
     "name": "stdout",
     "output_type": "stream",
     "text": [
      "[[PosixPath('/mnt/nas4/datasets/ToReadme/ExaMode_Dataset1/AOEC/LungAOEC_List2/000030473100323233.svs')], [PosixPath('/mnt/nas4/datasets/ToReadme/ExaMode_Dataset1/AOEC/LungAOEC_List2/000030473100324697.svs')], [PosixPath('/mnt/nas4/datasets/ToReadme/ExaMode_Dataset1/AOEC/LungAOEC_List2/000030473100324701.svs')], [PosixPath('/mnt/nas4/datasets/ToReadme/ExaMode_Dataset1/AOEC/LungAOEC_List2/000031119900354404.svs')], [PosixPath('/mnt/nas4/datasets/ToReadme/ExaMode_Dataset1/AOEC/LungAOEC_List2/000031119900356171.svs')], [PosixPath('/mnt/nas4/datasets/ToReadme/ExaMode_Dataset1/AOEC/LungAOEC_List2/000031119900356173.svs')], [PosixPath('/mnt/nas4/datasets/ToReadme/ExaMode_Dataset1/AOEC/LungAOEC_List2/000031119900357254.svs')], [PosixPath('/mnt/nas4/datasets/ToReadme/ExaMode_Dataset1/AOEC/LungAOEC_List2/000031119900357256.svs')], [PosixPath('/mnt/nas4/datasets/ToReadme/ExaMode_Dataset1/AOEC/LungAOEC_List2/000031119900357258.svs')], [PosixPath('/mnt/nas4/datasets/ToReadme/ExaMode_Dataset1/AOEC/LungAOEC_List2/000031206300360810.svs')], [PosixPath('/mnt/nas4/datasets/ToReadme/ExaMode_Dataset1/AOEC/LungAOEC_List2/000031206300360812.svs')], [PosixPath('/mnt/nas4/datasets/ToReadme/ExaMode_Dataset1/AOEC/LungAOEC_List2/000031206300360813.svs')], [PosixPath('/mnt/nas4/datasets/ToReadme/ExaMode_Dataset1/AOEC/LungAOEC_List2/000031206300360814.svs')], [PosixPath('/mnt/nas4/datasets/ToReadme/ExaMode_Dataset1/AOEC/LungAOEC_List2/000031206300360815.svs')], [PosixPath('/mnt/nas4/datasets/ToReadme/ExaMode_Dataset1/AOEC/LungAOEC_List2/000031206300360816.svs')], [PosixPath('/mnt/nas4/datasets/ToReadme/ExaMode_Dataset1/AOEC/LungAOEC_List2/000031206300360817.svs')], [PosixPath('/mnt/nas4/datasets/ToReadme/ExaMode_Dataset1/AOEC/LungAOEC_List2/000031206300360819.svs')], [PosixPath('/mnt/nas4/datasets/ToReadme/ExaMode_Dataset1/AOEC/LungAOEC_List2/000031206300363470.svs')], [PosixPath('/mnt/nas4/datasets/ToReadme/ExaMode_Dataset1/AOEC/LungAOEC_List2/000031206300363472.svs')], [PosixPath('/mnt/nas4/datasets/ToReadme/ExaMode_Dataset1/AOEC/LungAOEC_List2/000031206300363476.svs')], [PosixPath('/mnt/nas4/datasets/ToReadme/ExaMode_Dataset1/AOEC/LungAOEC_List2/000031233700359943.svs')], [PosixPath('/mnt/nas4/datasets/ToReadme/ExaMode_Dataset1/AOEC/LungAOEC_List2/000031233700361346.svs')], [PosixPath('/mnt/nas4/datasets/ToReadme/ExaMode_Dataset1/AOEC/LungAOEC_List2/000031233700361348.svs')], [PosixPath('/mnt/nas4/datasets/ToReadme/ExaMode_Dataset1/AOEC/LungAOEC_List2/000031233700362906.svs')], [PosixPath('/mnt/nas4/datasets/ToReadme/ExaMode_Dataset1/AOEC/LungAOEC_List2/000031233700362908.svs')], [PosixPath('/mnt/nas4/datasets/ToReadme/ExaMode_Dataset1/AOEC/LungAOEC_List2/000033990900529644.svs')], [PosixPath('/mnt/nas4/datasets/ToReadme/ExaMode_Dataset1/AOEC/LungAOEC_List2/000033990900530520.svs')], [PosixPath('/mnt/nas4/datasets/ToReadme/ExaMode_Dataset1/AOEC/LungAOEC_List2/000033990900530522.svs')], [PosixPath('/mnt/nas4/datasets/ToReadme/ExaMode_Dataset1/AOEC/LungAOEC_List2/000033990900533284.svs')], [PosixPath('/mnt/nas4/datasets/ToReadme/ExaMode_Dataset1/AOEC/LungAOEC_List2/000033990900533771.svs')], [PosixPath('/mnt/nas4/datasets/ToReadme/ExaMode_Dataset1/AOEC/LungAOEC_List2/000033990900533779.svs')], [PosixPath('/mnt/nas4/datasets/ToReadme/ExaMode_Dataset1/AOEC/LungAOEC_List3/000035418500670493.svs')], [PosixPath('/mnt/nas4/datasets/ToReadme/ExaMode_Dataset1/AOEC/LungAOEC_List3/000036434500773562.svs')], [PosixPath('/mnt/nas4/datasets/ToReadme/ExaMode_Dataset1/AOEC/LungAOEC_List3/000035418500670491.svs')], [PosixPath('/mnt/nas4/datasets/ToReadme/ExaMode_Dataset1/AOEC/LungAOEC_List3/000035418500670513.svs')], [PosixPath('/mnt/nas4/datasets/ToReadme/ExaMode_Dataset1/AOEC/LungAOEC_List3/000035418500664288.svs')], [PosixPath('/mnt/nas4/datasets/ToReadme/ExaMode_Dataset1/AOEC/LungAOEC_List3/000036434500773566.svs')], [PosixPath('/mnt/nas4/datasets/ToReadme/ExaMode_Dataset1/AOEC/LungAOEC_List3/000036434500773563.svs')], [PosixPath('/mnt/nas4/datasets/ToReadme/ExaMode_Dataset1/AOEC/LungAOEC_List3/000035418500664290.svs')], [PosixPath('/mnt/nas4/datasets/ToReadme/ExaMode_Dataset1/AOEC/LungAOEC_List3/000036434500773567.svs')], [PosixPath('/mnt/nas4/datasets/ToReadme/ExaMode_Dataset1/AOEC/LungAOEC_List3/000035702200697020.svs')], [PosixPath('/mnt/nas4/datasets/ToReadme/ExaMode_Dataset1/AOEC/LungAOEC_List3/000035702200697032.svs')], [PosixPath('/mnt/nas4/datasets/ToReadme/ExaMode_Dataset1/AOEC/LungAOEC_List3/000035418500670525.svs')], [PosixPath('/mnt/nas4/datasets/ToReadme/ExaMode_Dataset1/AOEC/LungAOEC_List3/000036434500773564.svs')], [PosixPath('/mnt/nas4/datasets/ToReadme/ExaMode_Dataset1/AOEC/LungAOEC_List3/000035418500673893.svs')], [PosixPath('/mnt/nas4/datasets/ToReadme/ExaMode_Dataset1/AOEC/LungAOEC_List3/000035702200705316.svs')], [PosixPath('/mnt/nas4/datasets/ToReadme/ExaMode_Dataset1/AOEC/LungAOEC_List3/000036434500773561.svs')], [PosixPath('/mnt/nas4/datasets/ToReadme/ExaMode_Dataset1/AOEC/LungAOEC_List3/000035418500670495.svs')], [PosixPath('/mnt/nas4/datasets/ToReadme/ExaMode_Dataset1/AOEC/LungAOEC_List3/000035418500673889.svs')], [PosixPath('/mnt/nas4/datasets/ToReadme/ExaMode_Dataset1/AOEC/LungAOEC_List3/000035418500673891.svs')], [PosixPath('/mnt/nas4/datasets/ToReadme/ExaMode_Dataset1/AOEC/LungAOEC_List3/000035702200697024.svs')], [PosixPath('/mnt/nas4/datasets/ToReadme/ExaMode_Dataset1/AOEC/LungAOEC_List3/000036434500773565.svs')], [PosixPath('/mnt/nas4/datasets/ToReadme/ExaMode_Dataset1/AOEC/LungAOEC_List3/000035702200689393.svs')], [PosixPath('/mnt/nas4/datasets/ToReadme/ExaMode_Dataset1/AOEC/LungAOEC_List3/000035702200697040.svs')], [PosixPath('/mnt/nas4/datasets/ToReadme/ExaMode_Dataset1/AOEC/LungAOEC_List3/000035702200697028.svs')], [PosixPath('/mnt/nas4/datasets/ToReadme/ExaMode_Dataset1/AOEC/LungAOEC_List3/000035418500670511.svs')], [PosixPath('/mnt/nas4/datasets/ToReadme/ExaMode_Dataset1/AOEC/LungAOEC_List3/000035702200697026.svs')], [PosixPath('/mnt/nas4/datasets/ToReadme/ExaMode_Dataset1/AOEC/LungAOEC_List3/000035702200697030.svs')], [PosixPath('/mnt/nas4/datasets/ToReadme/ExaMode_Dataset1/AOEC/LungAOEC_List3/000035702200705314.svs')], [PosixPath('/mnt/nas4/datasets/ToReadme/ExaMode_Dataset1/AOEC/LungAOEC_List3/000036434500771223.svs')]]\n"
     ]
    }
   ],
   "source": [
    "import pandas as pd\n",
    "repeated_svs = pd.read_csv(thispath.parent / \"repeated_in_svs.csv\", names=[\"images\"], header=0)\n",
    "repeated_svs.rename(columns = {'Date' :'stock_date',})\n",
    "images_num = repeated_svs[\"images\"].values\n",
    "svs_path_repeated = []\n",
    "for image in images_num:\n",
    "    svs_path = [i for i in datadir.rglob(\"*.svs\") if str(image) in str(i) and \"LungAOEC_List1\" not in str(i)]\n",
    "    svs_path_repeated.append(svs_path)\n",
    "print(svs_path_repeated)"
   ]
  },
  {
   "cell_type": "code",
   "execution_count": 74,
   "metadata": {},
   "outputs": [],
   "source": [
    "header = [\"Repeated .svs in LungAOEC Lists\"]\n",
    "csv_writer(thispath.parent, \"repeated_in_svs_path.csv\", \"w\", header)\n",
    "for path in svs_path_repeated:\n",
    "    csv_writer(thispath.parent, \"repeated_in_svs_path.csv\", \"a\", path)"
   ]
  }
 ],
 "metadata": {
  "kernelspec": {
   "display_name": "lung_env",
   "language": "python",
   "name": "python3"
  },
  "language_info": {
   "codemirror_mode": {
    "name": "ipython",
    "version": 3
   },
   "file_extension": ".py",
   "mimetype": "text/x-python",
   "name": "python",
   "nbconvert_exporter": "python",
   "pygments_lexer": "ipython3",
   "version": "3.10.8"
  },
  "orig_nbformat": 4,
  "vscode": {
   "interpreter": {
    "hash": "6158f16043df0ed03e0f0bf66374ee44ce8098f515735805958080d32960790b"
   }
  }
 },
 "nbformat": 4,
 "nbformat_minor": 2
}

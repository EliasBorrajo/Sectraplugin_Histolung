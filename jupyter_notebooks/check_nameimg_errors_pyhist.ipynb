{
 "cells": [
  {
   "cell_type": "code",
   "execution_count": 1,
   "metadata": {},
   "outputs": [
    {
     "name": "stdout",
     "output_type": "stream",
     "text": [
      "Errors on PyHIST missing Segmentation, .ppm file\n"
     ]
    }
   ],
   "source": [
    "from pathlib import Path\n",
    "import pandas as pd\n",
    "import numpy as np\n",
    "\n",
    "thispath = Path.cwd().resolve()\n",
    "    \n",
    "maskdir = Path(thispath.parent / \"data\" / \"Mask_PyHIST_v2\")\n",
    "\n",
    "colorful_masks = [i for i in maskdir.rglob(\"*.ppm\")]\n",
    "\n",
    "names_mask = []\n",
    "for mask in colorful_masks:\n",
    "    names_mask.append((mask.stem.split(\".\")[0]).split(\"_\")[1])\n",
    "\n",
    "names_mask = np.array(names_mask, dtype=str)\n",
    "\n",
    "labels = pd.read_csv(Path(thispath.parent / \"data\" / \"lung_data\" / \"he_images.csv\"))\n",
    "names = labels[\"file_name\"].values\n",
    "\n",
    "names = names.astype(str)\n",
    "\n",
    "# m = np.zeros_like(he_json, dtype=bool)\n",
    "# m[np.unique(he_json, return_index=True)[1]] = True\n",
    "\n",
    "# header = [\"This images are repeated in JSON files\"]\n",
    "# csv_writer(datadir, \"repeated_in_json.csv\", \"w\", header)\n",
    "print(\"Errors on PyHIST missing Segmentation, .ppm file\")\n",
    "for name in names:\n",
    "    name = name.split(\".\")[0]\n",
    "    if name not in names_mask:\n",
    "        print(f\"{name}.svs\")\n",
    "        # print(name)\n"
   ]
  }
 ],
 "metadata": {
  "kernelspec": {
   "display_name": "lung_env",
   "language": "python",
   "name": "python3"
  },
  "language_info": {
   "codemirror_mode": {
    "name": "ipython",
    "version": 3
   },
   "file_extension": ".py",
   "mimetype": "text/x-python",
   "name": "python",
   "nbconvert_exporter": "python",
   "pygments_lexer": "ipython3",
   "version": "3.9.16"
  },
  "orig_nbformat": 4
 },
 "nbformat": 4,
 "nbformat_minor": 2
}

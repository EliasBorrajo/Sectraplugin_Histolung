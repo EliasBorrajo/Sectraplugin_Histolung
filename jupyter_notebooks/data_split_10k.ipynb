{
 "cells": [
  {
   "cell_type": "code",
   "execution_count": 1,
   "metadata": {},
   "outputs": [
    {
     "name": "stdout",
     "output_type": "stream",
     "text": [
      "Datasplit labels TRAIN: [185 550 201 271]Datasplit labels TEST: [ 47 138  50  68]\n",
      "10_fold_crossvalidation_data_split.csv in /home/lluis/histo_lung/data\n"
     ]
    }
   ],
   "source": [
    "from pathlib import Path\n",
    "import pandas as pd\n",
    "import numpy as np\n",
    "import click\n",
    "from iterstrat.ml_stratifiers import MultilabelStratifiedShuffleSplit\n",
    "\n",
    "thispath = Path.cwd().resolve()\n",
    "\n",
    "\n",
    "\"\"\"Performs k-fold-crossvalidation on the LungAOEC dataset with a desired\n",
    "number of folds (k).\n",
    "\n",
    "Parameters\n",
    "----------\n",
    "k : int\n",
    "    Number of folds\n",
    "test_size : float\n",
    "    Percentage of images that belongs to the test set, rest of images\n",
    "    will go to the train set (from 0 to 1)\n",
    "\"\"\"\n",
    "k = 10\n",
    "test_size = 0.2\n",
    "datadir = Path(thispath.parent / \"data\")\n",
    "\n",
    "csv_dataset_AOEC = Path(datadir / \"labels.csv\")\n",
    "\n",
    "# read data\n",
    "dataset_AOEC = pd.read_csv(csv_dataset_AOEC,\n",
    "                            sep=',', \n",
    "                            header=0, \n",
    "                            index_col=0, \n",
    "                            dtype={'image_num':str})\n",
    "\n",
    "mskf = MultilabelStratifiedShuffleSplit(n_splits=k,\n",
    "                                        test_size=test_size,\n",
    "                                        random_state=33)\n",
    "\n",
    "images = dataset_AOEC.index\n",
    "labels = dataset_AOEC.values\n",
    "\n",
    "header = [\"images_train\", \"images_validation\", \"labels_train\", \"labels_validation\"]\n",
    "folds = pd.DataFrame(columns=header)\n",
    "i = 0\n",
    "\n",
    "for train_index, test_index in mskf.split(images, labels):\n",
    "    images_train, images_test = images[train_index], images[test_index]\n",
    "    labels_train, labels_test = labels[train_index], labels[test_index]\n",
    "    folds.loc[i] = [images_train.tolist(), images_test.tolist(),\n",
    "                    labels_train.tolist(), labels_test.tolist()]\n",
    "    i += 1\n",
    "\n",
    "print(f\"Datasplit labels TRAIN: {np.sum(labels_train, axis=0)}\"\n",
    "        f\"Datasplit labels TEST: {np.sum(labels_test, axis=0)}\")\n",
    "\n",
    "folds.index.name = \"fold\"\n",
    "folds.to_csv(Path(datadir / f\"{k}_fold_crossvalidation_data_split.csv\"))\n",
    "\n",
    "print(f\"{k}_fold_crossvalidation_data_split.csv in {datadir}\")"
   ]
  }
 ],
 "metadata": {
  "kernelspec": {
   "display_name": "hlung",
   "language": "python",
   "name": "python3"
  },
  "language_info": {
   "codemirror_mode": {
    "name": "ipython",
    "version": 3
   },
   "file_extension": ".py",
   "mimetype": "text/x-python",
   "name": "python",
   "nbconvert_exporter": "python",
   "pygments_lexer": "ipython3",
   "version": "3.9.16"
  },
  "orig_nbformat": 4
 },
 "nbformat": 4,
 "nbformat_minor": 2
}

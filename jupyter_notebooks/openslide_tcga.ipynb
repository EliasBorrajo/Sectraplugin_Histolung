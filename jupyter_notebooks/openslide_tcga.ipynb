{
 "cells": [
  {
   "cell_type": "code",
   "execution_count": 2,
   "metadata": {},
   "outputs": [
    {
     "name": "stderr",
     "output_type": "stream",
     "text": [
      "100%|██████████| 1/1 [00:00<00:00, 61.88it/s]"
     ]
    },
    {
     "name": "stdout",
     "output_type": "stream",
     "text": [
      "<_PropertyMap {'aperio.AppMag': '20', 'aperio.DSR ID': 'aperio04', 'aperio.Date': '07/06/16', 'aperio.DisplayColor': '0', 'aperio.Exposure Scale': '0.000001', 'aperio.Exposure Time': '109', 'aperio.Filename': '98057', 'aperio.Focus Offset': '-0.000500', 'aperio.ICC Profile': 'ScanScope v1', 'aperio.ImageID': '98057', 'aperio.Left': '20.928213', 'aperio.LineAreaXOffset': '0.023001', 'aperio.LineAreaYOffset': '-0.006920', 'aperio.LineCameraSkew': '0.001659', 'aperio.MPP': '0.4942', 'aperio.OriginalHeight': '24745', 'aperio.OriginalWidth': '26416', 'aperio.ScanScope ID': 'SS1553', 'aperio.StripeWidth': '2032', 'aperio.Time': '15:12:49', 'aperio.Time Zone': 'GMT-04:00', 'aperio.Top': '15.958431', 'aperio.User': '70abd19d-ff94-4884-b621-3f18637afc97', 'openslide.comment': 'Aperio Image Library v12.0.11 \\r\\n26416x24745 [0,100 25895x24645] (240x240) JPEG/RGB Q=70|AppMag = 20|StripeWidth = 2032|ScanScope ID = SS1553|Filename = 98057|Date = 07/06/16|Time = 15:12:49|Time Zone = GMT-04:00|User = 70abd19d-ff94-4884-b621-3f18637afc97|MPP = 0.4942|Left = 20.928213|Top = 15.958431|LineCameraSkew = 0.001659|LineAreaXOffset = 0.023001|LineAreaYOffset = -0.006920|Focus Offset = -0.000500|DSR ID = aperio04|ImageID = 98057|Exposure Time = 109|Exposure Scale = 0.000001|DisplayColor = 0|OriginalWidth = 26416|OriginalHeight = 24745|ICC Profile = ScanScope v1', 'openslide.level-count': '3', 'openslide.level[0].downsample': '1', 'openslide.level[0].height': '24645', 'openslide.level[0].tile-height': '240', 'openslide.level[0].tile-width': '240', 'openslide.level[0].width': '25895', 'openslide.level[1].downsample': '4.0003128874656024', 'openslide.level[1].height': '6161', 'openslide.level[1].tile-height': '240', 'openslide.level[1].tile-width': '240', 'openslide.level[1].width': '6473', 'openslide.level[2].downsample': '16.003786541023871', 'openslide.level[2].height': '1540', 'openslide.level[2].tile-height': '240', 'openslide.level[2].tile-width': '240', 'openslide.level[2].width': '1618', 'openslide.mpp-x': '0.49419999999999997', 'openslide.mpp-y': '0.49419999999999997', 'openslide.objective-power': '20', 'openslide.quickhash-1': 'a6e8a43fb0191d928264c637d9f50c0467c7ab2998e4b1fdd106ee6c215b9873', 'openslide.vendor': 'aperio', 'tiff.ImageDescription': 'Aperio Image Library v12.0.11 \\r\\n26416x24745 [0,100 25895x24645] (240x240) JPEG/RGB Q=70|AppMag = 20|StripeWidth = 2032|ScanScope ID = SS1553|Filename = 98057|Date = 07/06/16|Time = 15:12:49|Time Zone = GMT-04:00|User = 70abd19d-ff94-4884-b621-3f18637afc97|MPP = 0.4942|Left = 20.928213|Top = 15.958431|LineCameraSkew = 0.001659|LineAreaXOffset = 0.023001|LineAreaYOffset = -0.006920|Focus Offset = -0.000500|DSR ID = aperio04|ImageID = 98057|Exposure Time = 109|Exposure Scale = 0.000001|DisplayColor = 0|OriginalWidth = 26416|OriginalHeight = 24745|ICC Profile = ScanScope v1', 'tiff.ResolutionUnit': 'inch'}>\n"
     ]
    },
    {
     "name": "stderr",
     "output_type": "stream",
     "text": [
      "\n"
     ]
    }
   ],
   "source": [
    "from pathlib import Path\n",
    "import pandas as pd\n",
    "import openslide\n",
    "from tqdm import tqdm\n",
    "\n",
    "def available_magnifications(mpp, level_downsamples):\n",
    "    mpp = float(mpp)\n",
    "    if (mpp<0.26):\n",
    "        magnification = 40\n",
    "    else:\n",
    "        magnification = 20\n",
    "\n",
    "    mags = []\n",
    "    for level in level_downsamples:\n",
    "        mags.append(magnification/level)\n",
    "\n",
    "    return mags\n",
    "\n",
    "datadir = Path(\"/mnt/nas6/data/cptac\")\n",
    "\n",
    "svs_files = [i for i in datadir.rglob(\"*.svs\") if \"C3L-00081-21\" in str(i)]\n",
    "\n",
    "for file in tqdm(svs_files):\n",
    "    slide = openslide.OpenSlide(str(file))\n",
    "    mpp = slide.properties[\"openslide.mpp-x\"]\n",
    "    print(slide.properties)\n",
    "\n",
    "    level_downsamples = slide.level_downsamples\n",
    "    mags = available_magnifications(mpp, level_downsamples)\n",
    "    if mags[0] == 40:\n",
    "        downsample = 4\n",
    "    elif mags[0] == 20:\n",
    "        downsample = 2"
   ]
  },
  {
   "cell_type": "markdown",
   "metadata": {},
   "source": []
  }
 ],
 "metadata": {
  "kernelspec": {
   "display_name": "hlung",
   "language": "python",
   "name": "python3"
  },
  "language_info": {
   "codemirror_mode": {
    "name": "ipython",
    "version": 3
   },
   "file_extension": ".py",
   "mimetype": "text/x-python",
   "name": "python",
   "nbconvert_exporter": "python",
   "pygments_lexer": "ipython3",
   "version": "3.9.16"
  },
  "orig_nbformat": 4
 },
 "nbformat": 4,
 "nbformat_minor": 2
}

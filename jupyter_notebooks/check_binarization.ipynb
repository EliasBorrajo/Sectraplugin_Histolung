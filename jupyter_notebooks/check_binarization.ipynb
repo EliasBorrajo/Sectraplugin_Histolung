{
 "cells": [
  {
   "cell_type": "code",
   "execution_count": 2,
   "metadata": {},
   "outputs": [
    {
     "name": "stdout",
     "output_type": "stream",
     "text": [
      "1368\n"
     ]
    },
    {
     "name": "stderr",
     "output_type": "stream",
     "text": [
      "100%|██████████| 1368/1368 [18:26<00:00,  1.24it/s]\n"
     ]
    }
   ],
   "source": [
    "from pathlib import Path\n",
    "import pandas as pd\n",
    "import numpy as np\n",
    "import cv2 as cv\n",
    "from tqdm import tqdm\n",
    "\n",
    "\n",
    "thispath = Path.cwd().resolve()\n",
    "\n",
    "maskdir = Path(thispath.parent / \"data\" / \"Mask_PyHIST_v2\")\n",
    "\n",
    "binaryfiles = [i for i in maskdir.rglob(\"*.png\") if \"binary_\" in str(i)]\n",
    "print(len(binaryfiles))\n",
    "\n",
    "whity = []\n",
    "for file in tqdm(binaryfiles):\n",
    "\n",
    "    binary_mask = cv.imread(str(file))\n",
    "    binary_shape = binary_mask.shape\n",
    "    binary_mask = cv.resize(binary_mask, (int(binary_shape[1]*0.25), int(binary_shape[0]*0.25)))\n",
    "    mean_mask = np.mean(binary_mask)\n",
    "    if mean_mask > 200:\n",
    "        whity.append(file.parent.stem)"
   ]
  },
  {
   "cell_type": "code",
   "execution_count": 4,
   "metadata": {},
   "outputs": [
    {
     "name": "stdout",
     "output_type": "stream",
     "text": [
      "['000031065100352636', '000031990500400767', '000030490100322318', '000033477900494771', '000030734600335057', '000030734600335058']\n"
     ]
    }
   ],
   "source": [
    "print(whity)"
   ]
  }
 ],
 "metadata": {
  "kernelspec": {
   "display_name": "lung_env",
   "language": "python",
   "name": "python3"
  },
  "language_info": {
   "codemirror_mode": {
    "name": "ipython",
    "version": 3
   },
   "file_extension": ".py",
   "mimetype": "text/x-python",
   "name": "python",
   "nbconvert_exporter": "python",
   "pygments_lexer": "ipython3",
   "version": "3.9.16"
  },
  "orig_nbformat": 4
 },
 "nbformat": 4,
 "nbformat_minor": 2
}

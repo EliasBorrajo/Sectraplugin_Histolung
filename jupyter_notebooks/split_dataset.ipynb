{
 "cells": [
  {
   "cell_type": "code",
   "execution_count": 12,
   "metadata": {},
   "outputs": [
    {
     "name": "stdout",
     "output_type": "stream",
     "text": [
      "Nº scc: 232\n",
      "Nº nscc_adeno: 692\n",
      "Nº nscc_squamous: 251\n",
      "Nº nscc_large: 2\n",
      "Nº no_cancer: 339\n"
     ]
    }
   ],
   "source": [
    "from pathlib import Path\n",
    "import pandas as pd\n",
    "\n",
    "thispath = Path.cwd().resolve()\n",
    "\n",
    "datadir = Path(thispath.parent / \"data\")\n",
    "\n",
    "labels = pd.read_csv(Path(datadir / \"labels.csv\"), index_col='image_num')\n",
    "\n",
    "count_scc = (labels['cancer_scc'] == 1).sum()\n",
    "count_nscc_adeno = (labels['cancer_nscc_adeno'] == 1).sum()\n",
    "count_nscc_squamous = (labels['cancer_nscc_squamous'] == 1).sum()\n",
    "count_nscc_large = (labels['cancer_nscc_large'] == 1).sum()\n",
    "count_no_cancer = (labels['no_cancer'] == 1).sum()\n",
    "\n",
    "print(f\"Nº scc: {count_scc}\")\n",
    "print(f\"Nº nscc_adeno: {count_nscc_adeno}\")\n",
    "print(f\"Nº nscc_squamous: {count_nscc_squamous}\")\n",
    "print(f\"Nº nscc_large: {count_nscc_large}\")\n",
    "print(f\"Nº no_cancer: {count_no_cancer}\")\n",
    "\n",
    "wsi_scc = labels.index[labels['cancer_scc'] == 1].tolist()\n",
    "wsi_nscc_adeno = labels.index[labels['cancer_nscc_adeno'] == 1].tolist()\n",
    "wsi_nscc_squamous = labels.index[labels['cancer_nscc_squamous'] == 1].tolist()\n",
    "wsi_nscc_large = labels.index[labels['cancer_nscc_large'] == 1].tolist()\n",
    "wsi_no_cancer = labels.index[labels['no_cancer'] == 1].tolist()\n",
    "\n",
    "scc_nscc_adeno = []\n",
    "scc_nscc_squamous = []\n",
    "scc_no_cancer = []\n",
    "nscc_adeno_squamous = []\n",
    "scc_nscc_adeno_squamous = []\n",
    "nscc_adeno_no_cancer = []\n",
    "nscc_squamous_no_cancer = []\n",
    "\n",
    "\n",
    "for scc in wsi_scc:\n",
    "    \n",
    "    for nscc_adeno in wsi_nscc_adeno:\n",
    "        if scc == nscc_adeno and nscc_adeno not in scc_nscc_adeno:\n",
    "            scc_nscc_adeno.append(nscc_adeno)\n",
    "\n",
    "        for nscc_squamous in wsi_nscc_squamous:\n",
    "            if scc == nscc_squamous and nscc_squamous not in scc_nscc_squamous:\n",
    "                scc_nscc_squamous.append(nscc_squamous)\n",
    "\n",
    "            if nscc_adeno == nscc_squamous and nscc_squamous not in nscc_adeno_squamous:\n",
    "                nscc_adeno_squamous.append(nscc_squamous)\n",
    "            \n",
    "            if scc == nscc_adeno == nscc_squamous and nscc_squamous not in scc_nscc_adeno_squamous:\n",
    "                scc_nscc_adeno_squamous.append(nscc_squamous)\n",
    "\n"
   ]
  },
  {
   "cell_type": "code",
   "execution_count": 13,
   "metadata": {},
   "outputs": [
    {
     "name": "stdout",
     "output_type": "stream",
     "text": [
      "13\n",
      "180\n",
      "12\n",
      "11\n"
     ]
    }
   ],
   "source": [
    "print(len(scc_nscc_adeno))\n",
    "print(len(scc_nscc_squamous))\n",
    "print(len(nscc_adeno_squamous))\n",
    "print(len(scc_nscc_adeno_squamous))\n"
   ]
  }
 ],
 "metadata": {
  "kernelspec": {
   "display_name": "lung_env",
   "language": "python",
   "name": "python3"
  },
  "language_info": {
   "codemirror_mode": {
    "name": "ipython",
    "version": 3
   },
   "file_extension": ".py",
   "mimetype": "text/x-python",
   "name": "python",
   "nbconvert_exporter": "python",
   "pygments_lexer": "ipython3",
   "version": "3.8.16"
  },
  "orig_nbformat": 4
 },
 "nbformat": 4,
 "nbformat_minor": 2
}
